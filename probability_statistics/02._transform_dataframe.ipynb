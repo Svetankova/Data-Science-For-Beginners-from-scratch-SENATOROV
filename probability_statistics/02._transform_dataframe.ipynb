{
 "cells": [
  {
   "cell_type": "code",
   "execution_count": null,
   "metadata": {},
   "outputs": [
    {
     "data": {
      "text/plain": [
       "'DataFrame.'"
      ]
     },
     "execution_count": 4,
     "metadata": {},
     "output_type": "execute_result"
    }
   ],
   "source": [
    "\"\"\"2. Библиотека Pandas. Преобразование DataFrame.\"\"\""
   ]
  },
  {
   "cell_type": "code",
   "execution_count": 1,
   "metadata": {
    "id": "R05H8j-Udib2"
   },
   "outputs": [],
   "source": [
    "import numpy as np\n",
    "import pandas as pd\n",
    "\n",
    "# fmt: off\n",
    "# isort: skip_file        \n",
    "# pyupgrade: disable      \n",
    "# pylint: skip-file       \n",
    "# flake8: noqa           \n",
    "# mypy: ignore-errors     \n",
    "# codespell:disable"
   ]
  },
  {
   "cell_type": "markdown",
   "metadata": {
    "id": "ESsJ8jhidyId"
   },
   "source": [
    "## Изменение датафрейма"
   ]
  },
  {
   "cell_type": "markdown",
   "metadata": {
    "id": "vnb8_hnaHs2Z"
   },
   "source": [
    "Вернемся к датафрейму из предыдущего занятия"
   ]
  },
  {
   "cell_type": "code",
   "execution_count": 2,
   "metadata": {
    "colab": {
     "base_uri": "https://localhost:8080/",
     "height": 269
    },
    "id": "BNYEzZFsGu_r",
    "outputId": "e86c0805-4b6a-40d6-91eb-cace3d3a58d1"
   },
   "outputs": [
    {
     "data": {
      "text/html": [
       "<div>\n",
       "<style scoped>\n",
       "    .dataframe tbody tr th:only-of-type {\n",
       "        vertical-align: middle;\n",
       "    }\n",
       "\n",
       "    .dataframe tbody tr th {\n",
       "        vertical-align: top;\n",
       "    }\n",
       "\n",
       "    .dataframe thead th {\n",
       "        text-align: right;\n",
       "    }\n",
       "</style>\n",
       "<table border=\"1\" class=\"dataframe\">\n",
       "  <thead>\n",
       "    <tr style=\"text-align: right;\">\n",
       "      <th></th>\n",
       "      <th>country</th>\n",
       "      <th>capital</th>\n",
       "      <th>population</th>\n",
       "      <th>area</th>\n",
       "      <th>sea</th>\n",
       "    </tr>\n",
       "  </thead>\n",
       "  <tbody>\n",
       "    <tr>\n",
       "      <th>CN</th>\n",
       "      <td>China</td>\n",
       "      <td>Beijing</td>\n",
       "      <td>1400</td>\n",
       "      <td>9.6</td>\n",
       "      <td>1</td>\n",
       "    </tr>\n",
       "    <tr>\n",
       "      <th>VN</th>\n",
       "      <td>Vietnam</td>\n",
       "      <td>Hanoi</td>\n",
       "      <td>97</td>\n",
       "      <td>0.3</td>\n",
       "      <td>1</td>\n",
       "    </tr>\n",
       "    <tr>\n",
       "      <th>GB</th>\n",
       "      <td>United Kingdom</td>\n",
       "      <td>London</td>\n",
       "      <td>67</td>\n",
       "      <td>0.2</td>\n",
       "      <td>1</td>\n",
       "    </tr>\n",
       "    <tr>\n",
       "      <th>RU</th>\n",
       "      <td>Russia</td>\n",
       "      <td>Moscow</td>\n",
       "      <td>144</td>\n",
       "      <td>17.1</td>\n",
       "      <td>1</td>\n",
       "    </tr>\n",
       "    <tr>\n",
       "      <th>AR</th>\n",
       "      <td>Argentina</td>\n",
       "      <td>Buenos Aires</td>\n",
       "      <td>45</td>\n",
       "      <td>2.8</td>\n",
       "      <td>1</td>\n",
       "    </tr>\n",
       "    <tr>\n",
       "      <th>BO</th>\n",
       "      <td>Bolivia</td>\n",
       "      <td>Sucre</td>\n",
       "      <td>12</td>\n",
       "      <td>1.1</td>\n",
       "      <td>0</td>\n",
       "    </tr>\n",
       "    <tr>\n",
       "      <th>ZA</th>\n",
       "      <td>South Africa</td>\n",
       "      <td>Pretoria</td>\n",
       "      <td>59</td>\n",
       "      <td>1.2</td>\n",
       "      <td>1</td>\n",
       "    </tr>\n",
       "  </tbody>\n",
       "</table>\n",
       "</div>"
      ],
      "text/plain": [
       "           country       capital  population  area  sea\n",
       "CN           China       Beijing        1400   9.6    1\n",
       "VN         Vietnam         Hanoi          97   0.3    1\n",
       "GB  United Kingdom        London          67   0.2    1\n",
       "RU          Russia        Moscow         144  17.1    1\n",
       "AR       Argentina  Buenos Aires          45   2.8    1\n",
       "BO         Bolivia         Sucre          12   1.1    0\n",
       "ZA    South Africa      Pretoria          59   1.2    1"
      ]
     },
     "execution_count": 2,
     "metadata": {},
     "output_type": "execute_result"
    }
   ],
   "source": [
    "# создадим несколько списков и массивов Numpy с информацией о семи странах мира\n",
    "country = np.array(\n",
    "    [\n",
    "        \"China\",\n",
    "        \"Vietnam\",\n",
    "        \"United Kingdom\",\n",
    "        \"Russia\",\n",
    "        \"Argentina\",\n",
    "        \"Bolivia\",\n",
    "        \"South Africa\",\n",
    "    ]\n",
    ")\n",
    "capital = [\"Beijing\", \"Hanoi\", \"London\", \"Moscow\", \"Buenos Aires\", \"Sucre\", \"Pretoria\"]\n",
    "\n",
    "population = [1400, 97, 67, 144, 45, 12, 59]  # млн. человек\n",
    "area = [9.6, 0.3, 0.2, 17.1, 2.8, 1.1, 1.2]  # млн. кв. км.\n",
    "sea = [1] * 5 + [0, 1]  # выход к морю (в этом списке его нет только у Боливии)\n",
    "\n",
    "# кроме того создадим список кодов стран, которые станут индексом датафрейма\n",
    "custom_index = [\"CN\", \"VN\", \"GB\", \"RU\", \"AR\", \"BO\", \"ZA\"]\n",
    "\n",
    "# создадим пустой словарь\n",
    "countries_dict = {}\n",
    "\n",
    "# превратим эти списки в значения словаря,\n",
    "# одновременно снабдив необходимыми ключами\n",
    "countries_dict[\"country\"] = country\n",
    "countries_dict[\"capital\"] = capital\n",
    "countries_dict[\"population\"] = population\n",
    "countries_dict[\"area\"] = area\n",
    "countries_dict[\"sea\"] = sea\n",
    "\n",
    "# создадим датафрейм\n",
    "countries = pd.DataFrame(countries_dict, index=custom_index)\n",
    "countries"
   ]
  },
  {
   "cell_type": "markdown",
   "metadata": {
    "id": "u7_5jN9Hh7Gc"
   },
   "source": [
    "### Копирование датафрейма"
   ]
  },
  {
   "cell_type": "markdown",
   "metadata": {
    "id": "0nzEROEmI6WA"
   },
   "source": [
    "#### Метод `.copy()`"
   ]
  },
  {
   "cell_type": "code",
   "execution_count": 3,
   "metadata": {
    "id": "F0G7bVXe1sPK"
   },
   "outputs": [],
   "source": [
    "# поместим датафрейм в новую переменную\n",
    "countries_new = countries"
   ]
  },
  {
   "cell_type": "code",
   "execution_count": 4,
   "metadata": {
    "colab": {
     "base_uri": "https://localhost:8080/",
     "height": 237
    },
    "id": "xPub1N5th-O7",
    "outputId": "50a1c138-a164-4fdf-95e6-555861a18e54"
   },
   "outputs": [
    {
     "data": {
      "text/html": [
       "<div>\n",
       "<style scoped>\n",
       "    .dataframe tbody tr th:only-of-type {\n",
       "        vertical-align: middle;\n",
       "    }\n",
       "\n",
       "    .dataframe tbody tr th {\n",
       "        vertical-align: top;\n",
       "    }\n",
       "\n",
       "    .dataframe thead th {\n",
       "        text-align: right;\n",
       "    }\n",
       "</style>\n",
       "<table border=\"1\" class=\"dataframe\">\n",
       "  <thead>\n",
       "    <tr style=\"text-align: right;\">\n",
       "      <th></th>\n",
       "      <th>country</th>\n",
       "      <th>capital</th>\n",
       "      <th>population</th>\n",
       "      <th>area</th>\n",
       "      <th>sea</th>\n",
       "    </tr>\n",
       "  </thead>\n",
       "  <tbody>\n",
       "    <tr>\n",
       "      <th>CN</th>\n",
       "      <td>China</td>\n",
       "      <td>Beijing</td>\n",
       "      <td>1400</td>\n",
       "      <td>9.6</td>\n",
       "      <td>1</td>\n",
       "    </tr>\n",
       "    <tr>\n",
       "      <th>VN</th>\n",
       "      <td>Vietnam</td>\n",
       "      <td>Hanoi</td>\n",
       "      <td>97</td>\n",
       "      <td>0.3</td>\n",
       "      <td>1</td>\n",
       "    </tr>\n",
       "    <tr>\n",
       "      <th>GB</th>\n",
       "      <td>United Kingdom</td>\n",
       "      <td>London</td>\n",
       "      <td>67</td>\n",
       "      <td>0.2</td>\n",
       "      <td>1</td>\n",
       "    </tr>\n",
       "    <tr>\n",
       "      <th>RU</th>\n",
       "      <td>Russia</td>\n",
       "      <td>Moscow</td>\n",
       "      <td>144</td>\n",
       "      <td>17.1</td>\n",
       "      <td>1</td>\n",
       "    </tr>\n",
       "    <tr>\n",
       "      <th>BO</th>\n",
       "      <td>Bolivia</td>\n",
       "      <td>Sucre</td>\n",
       "      <td>12</td>\n",
       "      <td>1.1</td>\n",
       "      <td>0</td>\n",
       "    </tr>\n",
       "    <tr>\n",
       "      <th>ZA</th>\n",
       "      <td>South Africa</td>\n",
       "      <td>Pretoria</td>\n",
       "      <td>59</td>\n",
       "      <td>1.2</td>\n",
       "      <td>1</td>\n",
       "    </tr>\n",
       "  </tbody>\n",
       "</table>\n",
       "</div>"
      ],
      "text/plain": [
       "           country   capital  population  area  sea\n",
       "CN           China   Beijing        1400   9.6    1\n",
       "VN         Vietnam     Hanoi          97   0.3    1\n",
       "GB  United Kingdom    London          67   0.2    1\n",
       "RU          Russia    Moscow         144  17.1    1\n",
       "BO         Bolivia     Sucre          12   1.1    0\n",
       "ZA    South Africa  Pretoria          59   1.2    1"
      ]
     },
     "execution_count": 4,
     "metadata": {},
     "output_type": "execute_result"
    }
   ],
   "source": [
    "# удалим запись про Аргентину и сохраним результат\n",
    "countries_new.drop(labels=\"AR\", axis=0, inplace=True)\n",
    "\n",
    "# выведем исходный датафрейм\n",
    "countries"
   ]
  },
  {
   "cell_type": "code",
   "execution_count": 5,
   "metadata": {
    "colab": {
     "base_uri": "https://localhost:8080/",
     "height": 269
    },
    "id": "LZvHi1bbv2MX",
    "outputId": "76be936e-5c23-40b3-c2c3-9d61c53b2dfc"
   },
   "outputs": [
    {
     "data": {
      "text/html": [
       "<div>\n",
       "<style scoped>\n",
       "    .dataframe tbody tr th:only-of-type {\n",
       "        vertical-align: middle;\n",
       "    }\n",
       "\n",
       "    .dataframe tbody tr th {\n",
       "        vertical-align: top;\n",
       "    }\n",
       "\n",
       "    .dataframe thead th {\n",
       "        text-align: right;\n",
       "    }\n",
       "</style>\n",
       "<table border=\"1\" class=\"dataframe\">\n",
       "  <thead>\n",
       "    <tr style=\"text-align: right;\">\n",
       "      <th></th>\n",
       "      <th>country</th>\n",
       "      <th>capital</th>\n",
       "      <th>population</th>\n",
       "      <th>area</th>\n",
       "      <th>sea</th>\n",
       "    </tr>\n",
       "  </thead>\n",
       "  <tbody>\n",
       "    <tr>\n",
       "      <th>CN</th>\n",
       "      <td>China</td>\n",
       "      <td>Beijing</td>\n",
       "      <td>1400</td>\n",
       "      <td>9.6</td>\n",
       "      <td>1</td>\n",
       "    </tr>\n",
       "    <tr>\n",
       "      <th>VN</th>\n",
       "      <td>Vietnam</td>\n",
       "      <td>Hanoi</td>\n",
       "      <td>97</td>\n",
       "      <td>0.3</td>\n",
       "      <td>1</td>\n",
       "    </tr>\n",
       "    <tr>\n",
       "      <th>GB</th>\n",
       "      <td>United Kingdom</td>\n",
       "      <td>London</td>\n",
       "      <td>67</td>\n",
       "      <td>0.2</td>\n",
       "      <td>1</td>\n",
       "    </tr>\n",
       "    <tr>\n",
       "      <th>RU</th>\n",
       "      <td>Russia</td>\n",
       "      <td>Moscow</td>\n",
       "      <td>144</td>\n",
       "      <td>17.1</td>\n",
       "      <td>1</td>\n",
       "    </tr>\n",
       "    <tr>\n",
       "      <th>AR</th>\n",
       "      <td>Argentina</td>\n",
       "      <td>Buenos Aires</td>\n",
       "      <td>45</td>\n",
       "      <td>2.8</td>\n",
       "      <td>1</td>\n",
       "    </tr>\n",
       "    <tr>\n",
       "      <th>BO</th>\n",
       "      <td>Bolivia</td>\n",
       "      <td>Sucre</td>\n",
       "      <td>12</td>\n",
       "      <td>1.1</td>\n",
       "      <td>0</td>\n",
       "    </tr>\n",
       "    <tr>\n",
       "      <th>ZA</th>\n",
       "      <td>South Africa</td>\n",
       "      <td>Pretoria</td>\n",
       "      <td>59</td>\n",
       "      <td>1.2</td>\n",
       "      <td>1</td>\n",
       "    </tr>\n",
       "  </tbody>\n",
       "</table>\n",
       "</div>"
      ],
      "text/plain": [
       "           country       capital  population  area  sea\n",
       "CN           China       Beijing        1400   9.6    1\n",
       "VN         Vietnam         Hanoi          97   0.3    1\n",
       "GB  United Kingdom        London          67   0.2    1\n",
       "RU          Russia        Moscow         144  17.1    1\n",
       "AR       Argentina  Buenos Aires          45   2.8    1\n",
       "BO         Bolivia         Sucre          12   1.1    0\n",
       "ZA    South Africa      Pretoria          59   1.2    1"
      ]
     },
     "execution_count": 5,
     "metadata": {},
     "output_type": "execute_result"
    }
   ],
   "source": [
    "# в первую очередь вернем Аргентину в исходный датафрейм countries\n",
    "countries = pd.DataFrame(countries_dict, index=custom_index)\n",
    "\n",
    "# создадим копию, на этот раз с помощью метода .copy()\n",
    "countries_new = countries.copy()\n",
    "\n",
    "# вновь удалим запись про Аргентину\n",
    "countries_new.drop(labels=\"AR\", axis=0, inplace=True)\n",
    "\n",
    "# выведем исходный датафрейм\n",
    "countries"
   ]
  },
  {
   "cell_type": "markdown",
   "metadata": {
    "id": "dfrFUxoqJB45"
   },
   "source": [
    "#### Про параметр `inplace`"
   ]
  },
  {
   "cell_type": "code",
   "execution_count": 6,
   "metadata": {
    "colab": {
     "base_uri": "https://localhost:8080/",
     "height": 143
    },
    "id": "Oe_rYYq4XIbJ",
    "outputId": "a3c98482-29bd-411f-b2d1-1d4f1a4e6b63"
   },
   "outputs": [
    {
     "data": {
      "text/html": [
       "<div>\n",
       "<style scoped>\n",
       "    .dataframe tbody tr th:only-of-type {\n",
       "        vertical-align: middle;\n",
       "    }\n",
       "\n",
       "    .dataframe tbody tr th {\n",
       "        vertical-align: top;\n",
       "    }\n",
       "\n",
       "    .dataframe thead th {\n",
       "        text-align: right;\n",
       "    }\n",
       "</style>\n",
       "<table border=\"1\" class=\"dataframe\">\n",
       "  <thead>\n",
       "    <tr style=\"text-align: right;\">\n",
       "      <th></th>\n",
       "      <th>A</th>\n",
       "      <th>B</th>\n",
       "      <th>C</th>\n",
       "    </tr>\n",
       "  </thead>\n",
       "  <tbody>\n",
       "    <tr>\n",
       "      <th>0</th>\n",
       "      <td>1</td>\n",
       "      <td>1</td>\n",
       "      <td>1</td>\n",
       "    </tr>\n",
       "    <tr>\n",
       "      <th>1</th>\n",
       "      <td>2</td>\n",
       "      <td>2</td>\n",
       "      <td>2</td>\n",
       "    </tr>\n",
       "    <tr>\n",
       "      <th>2</th>\n",
       "      <td>3</td>\n",
       "      <td>3</td>\n",
       "      <td>3</td>\n",
       "    </tr>\n",
       "  </tbody>\n",
       "</table>\n",
       "</div>"
      ],
      "text/plain": [
       "   A  B  C\n",
       "0  1  1  1\n",
       "1  2  2  2\n",
       "2  3  3  3"
      ]
     },
     "execution_count": 6,
     "metadata": {},
     "output_type": "execute_result"
    }
   ],
   "source": [
    "# создадим несложный датафрейм\n",
    "df = pd.DataFrame([[1, 1, 1], [2, 2, 2], [3, 3, 3]], columns=[\"A\", \"B\", \"C\"])\n",
    "\n",
    "df"
   ]
  },
  {
   "cell_type": "code",
   "execution_count": 11,
   "metadata": {
    "colab": {
     "base_uri": "https://localhost:8080/",
     "height": 143
    },
    "id": "gyy0Qy4BX6v_",
    "outputId": "a6c00ffe-2bdc-4368-d3cc-f9f5777b6b02"
   },
   "outputs": [
    {
     "data": {
      "text/html": [
       "<div>\n",
       "<style scoped>\n",
       "    .dataframe tbody tr th:only-of-type {\n",
       "        vertical-align: middle;\n",
       "    }\n",
       "\n",
       "    .dataframe tbody tr th {\n",
       "        vertical-align: top;\n",
       "    }\n",
       "\n",
       "    .dataframe thead th {\n",
       "        text-align: right;\n",
       "    }\n",
       "</style>\n",
       "<table border=\"1\" class=\"dataframe\">\n",
       "  <thead>\n",
       "    <tr style=\"text-align: right;\">\n",
       "      <th></th>\n",
       "      <th>B</th>\n",
       "      <th>C</th>\n",
       "    </tr>\n",
       "  </thead>\n",
       "  <tbody>\n",
       "    <tr>\n",
       "      <th>0</th>\n",
       "      <td>1</td>\n",
       "      <td>1</td>\n",
       "    </tr>\n",
       "    <tr>\n",
       "      <th>1</th>\n",
       "      <td>2</td>\n",
       "      <td>2</td>\n",
       "    </tr>\n",
       "    <tr>\n",
       "      <th>2</th>\n",
       "      <td>3</td>\n",
       "      <td>3</td>\n",
       "    </tr>\n",
       "  </tbody>\n",
       "</table>\n",
       "</div>"
      ],
      "text/plain": [
       "   B  C\n",
       "0  1  1\n",
       "1  2  2\n",
       "2  3  3"
      ]
     },
     "execution_count": 11,
     "metadata": {},
     "output_type": "execute_result"
    }
   ],
   "source": [
    "# если метод выдает датафрейм, изменение не сохраняется\n",
    "df.drop(labels=[\"A\"], axis=1)"
   ]
  },
  {
   "cell_type": "code",
   "execution_count": 12,
   "metadata": {
    "colab": {
     "base_uri": "https://localhost:8080/",
     "height": 143
    },
    "id": "SOH09BbrX_uz",
    "outputId": "24425e62-b0de-4a71-85c4-c2f6edbe54f3"
   },
   "outputs": [
    {
     "data": {
      "text/html": [
       "<div>\n",
       "<style scoped>\n",
       "    .dataframe tbody tr th:only-of-type {\n",
       "        vertical-align: middle;\n",
       "    }\n",
       "\n",
       "    .dataframe tbody tr th {\n",
       "        vertical-align: top;\n",
       "    }\n",
       "\n",
       "    .dataframe thead th {\n",
       "        text-align: right;\n",
       "    }\n",
       "</style>\n",
       "<table border=\"1\" class=\"dataframe\">\n",
       "  <thead>\n",
       "    <tr style=\"text-align: right;\">\n",
       "      <th></th>\n",
       "      <th>A</th>\n",
       "      <th>B</th>\n",
       "      <th>C</th>\n",
       "    </tr>\n",
       "  </thead>\n",
       "  <tbody>\n",
       "    <tr>\n",
       "      <th>0</th>\n",
       "      <td>1</td>\n",
       "      <td>1</td>\n",
       "      <td>1</td>\n",
       "    </tr>\n",
       "    <tr>\n",
       "      <th>1</th>\n",
       "      <td>2</td>\n",
       "      <td>2</td>\n",
       "      <td>2</td>\n",
       "    </tr>\n",
       "    <tr>\n",
       "      <th>2</th>\n",
       "      <td>3</td>\n",
       "      <td>3</td>\n",
       "      <td>3</td>\n",
       "    </tr>\n",
       "  </tbody>\n",
       "</table>\n",
       "</div>"
      ],
      "text/plain": [
       "   A  B  C\n",
       "0  1  1  1\n",
       "1  2  2  2\n",
       "2  3  3  3"
      ]
     },
     "execution_count": 12,
     "metadata": {},
     "output_type": "execute_result"
    }
   ],
   "source": [
    "# проверим это\n",
    "df"
   ]
  },
  {
   "cell_type": "code",
   "execution_count": 13,
   "metadata": {
    "colab": {
     "base_uri": "https://localhost:8080/"
    },
    "id": "VYgS7cHcXpSv",
    "outputId": "c532825a-06d6-41cf-c975-ec5af29e3f73"
   },
   "outputs": [
    {
     "name": "stdout",
     "output_type": "stream",
     "text": [
      "None\n"
     ]
    }
   ],
   "source": [
    "# если метод выдает None, изменение постоянно\n",
    "print(df.drop(labels=[\"A\"], axis=1, inplace=True))"
   ]
  },
  {
   "cell_type": "code",
   "execution_count": 14,
   "metadata": {
    "colab": {
     "base_uri": "https://localhost:8080/",
     "height": 143
    },
    "id": "thbKRsk9jLoa",
    "outputId": "fbf5ccf9-a89d-444c-a537-122e28a0566a"
   },
   "outputs": [
    {
     "data": {
      "text/html": [
       "<div>\n",
       "<style scoped>\n",
       "    .dataframe tbody tr th:only-of-type {\n",
       "        vertical-align: middle;\n",
       "    }\n",
       "\n",
       "    .dataframe tbody tr th {\n",
       "        vertical-align: top;\n",
       "    }\n",
       "\n",
       "    .dataframe thead th {\n",
       "        text-align: right;\n",
       "    }\n",
       "</style>\n",
       "<table border=\"1\" class=\"dataframe\">\n",
       "  <thead>\n",
       "    <tr style=\"text-align: right;\">\n",
       "      <th></th>\n",
       "      <th>B</th>\n",
       "      <th>C</th>\n",
       "    </tr>\n",
       "  </thead>\n",
       "  <tbody>\n",
       "    <tr>\n",
       "      <th>0</th>\n",
       "      <td>1</td>\n",
       "      <td>1</td>\n",
       "    </tr>\n",
       "    <tr>\n",
       "      <th>1</th>\n",
       "      <td>2</td>\n",
       "      <td>2</td>\n",
       "    </tr>\n",
       "    <tr>\n",
       "      <th>2</th>\n",
       "      <td>3</td>\n",
       "      <td>3</td>\n",
       "    </tr>\n",
       "  </tbody>\n",
       "</table>\n",
       "</div>"
      ],
      "text/plain": [
       "   B  C\n",
       "0  1  1\n",
       "1  2  2\n",
       "2  3  3"
      ]
     },
     "execution_count": 14,
     "metadata": {},
     "output_type": "execute_result"
    }
   ],
   "source": [
    "# проверим\n",
    "df"
   ]
  },
  {
   "cell_type": "code",
   "execution_count": null,
   "metadata": {
    "colab": {
     "base_uri": "https://localhost:8080/"
    },
    "id": "M5j4r6doXwTP",
    "outputId": "af08db17-48ca-4548-8752-a434eacd8e35"
   },
   "outputs": [
    {
     "name": "stdout",
     "output_type": "stream",
     "text": [
      "None\n"
     ]
    }
   ],
   "source": [
    "# по этой причине нельзя использовать inplace = True и записывать в переменную\n",
    "# одновременно\n",
    "df = df.drop(labels=[\"B\"], axis=1, inplace=True)\n",
    "\n",
    "# в этом случае мы записываем None в переменную df\n",
    "print(df)"
   ]
  },
  {
   "cell_type": "markdown",
   "metadata": {
    "id": "gh22f2Crd2NZ"
   },
   "source": [
    "### Столбцы датафрейма"
   ]
  },
  {
   "cell_type": "markdown",
   "metadata": {
    "id": "l0TajicpgpB9"
   },
   "source": [
    "Именование столбцов при создании датафрейма"
   ]
  },
  {
   "cell_type": "code",
   "execution_count": null,
   "metadata": {
    "colab": {
     "base_uri": "https://localhost:8080/"
    },
    "id": "LnPyV3gqbGQM",
    "outputId": "549b1ac5-0e56-4ed0-8f64-3805c29dd5c1"
   },
   "outputs": [
    {
     "data": {
      "text/plain": [
       "array([['China', 'Beijing', '1400', '9.6', '1'],\n",
       "       ['Vietnam', 'Hanoi', '97', '0.3', '1'],\n",
       "       ['United Kingdom', 'London', '67', '0.2', '1'],\n",
       "       ['Russia', 'Moscow', '144', '17.1', '1'],\n",
       "       ['Argentina', 'Buenos Aires', '45', '2.8', '1'],\n",
       "       ['Bolivia', 'Sucre', '12', '1.1', '0'],\n",
       "       ['South Africa', 'Pretoria', '59', '1.2', '1']], dtype='<U32')"
      ]
     },
     "execution_count": 16,
     "metadata": {},
     "output_type": "execute_result"
    }
   ],
   "source": [
    "# создадим список с названиями столбцов на кириллице\n",
    "custom_columns = [\"страна\", \"столица\", \"население\", \"площадь\", \"море\"]\n",
    "\n",
    "# и транспонированный массив Numpy с данными о странах\n",
    "arr = np.array([country, capital, population, area, sea]).T\n",
    "print(arr)"
   ]
  },
  {
   "cell_type": "code",
   "execution_count": 17,
   "metadata": {
    "colab": {
     "base_uri": "https://localhost:8080/",
     "height": 269
    },
    "id": "yipKrPhwgxAl",
    "outputId": "11ea5ab1-273a-4366-a54b-7e75048c9e28"
   },
   "outputs": [
    {
     "data": {
      "text/html": [
       "<div>\n",
       "<style scoped>\n",
       "    .dataframe tbody tr th:only-of-type {\n",
       "        vertical-align: middle;\n",
       "    }\n",
       "\n",
       "    .dataframe tbody tr th {\n",
       "        vertical-align: top;\n",
       "    }\n",
       "\n",
       "    .dataframe thead th {\n",
       "        text-align: right;\n",
       "    }\n",
       "</style>\n",
       "<table border=\"1\" class=\"dataframe\">\n",
       "  <thead>\n",
       "    <tr style=\"text-align: right;\">\n",
       "      <th></th>\n",
       "      <th>страна</th>\n",
       "      <th>столица</th>\n",
       "      <th>население</th>\n",
       "      <th>площадь</th>\n",
       "      <th>море</th>\n",
       "    </tr>\n",
       "  </thead>\n",
       "  <tbody>\n",
       "    <tr>\n",
       "      <th>CN</th>\n",
       "      <td>China</td>\n",
       "      <td>Beijing</td>\n",
       "      <td>1400</td>\n",
       "      <td>9.6</td>\n",
       "      <td>1</td>\n",
       "    </tr>\n",
       "    <tr>\n",
       "      <th>VN</th>\n",
       "      <td>Vietnam</td>\n",
       "      <td>Hanoi</td>\n",
       "      <td>97</td>\n",
       "      <td>0.3</td>\n",
       "      <td>1</td>\n",
       "    </tr>\n",
       "    <tr>\n",
       "      <th>GB</th>\n",
       "      <td>United Kingdom</td>\n",
       "      <td>London</td>\n",
       "      <td>67</td>\n",
       "      <td>0.2</td>\n",
       "      <td>1</td>\n",
       "    </tr>\n",
       "    <tr>\n",
       "      <th>RU</th>\n",
       "      <td>Russia</td>\n",
       "      <td>Moscow</td>\n",
       "      <td>144</td>\n",
       "      <td>17.1</td>\n",
       "      <td>1</td>\n",
       "    </tr>\n",
       "    <tr>\n",
       "      <th>AR</th>\n",
       "      <td>Argentina</td>\n",
       "      <td>Buenos Aires</td>\n",
       "      <td>45</td>\n",
       "      <td>2.8</td>\n",
       "      <td>1</td>\n",
       "    </tr>\n",
       "    <tr>\n",
       "      <th>BO</th>\n",
       "      <td>Bolivia</td>\n",
       "      <td>Sucre</td>\n",
       "      <td>12</td>\n",
       "      <td>1.1</td>\n",
       "      <td>0</td>\n",
       "    </tr>\n",
       "    <tr>\n",
       "      <th>ZA</th>\n",
       "      <td>South Africa</td>\n",
       "      <td>Pretoria</td>\n",
       "      <td>59</td>\n",
       "      <td>1.2</td>\n",
       "      <td>1</td>\n",
       "    </tr>\n",
       "  </tbody>\n",
       "</table>\n",
       "</div>"
      ],
      "text/plain": [
       "            страна       столица население площадь море\n",
       "CN           China       Beijing      1400     9.6    1\n",
       "VN         Vietnam         Hanoi        97     0.3    1\n",
       "GB  United Kingdom        London        67     0.2    1\n",
       "RU          Russia        Moscow       144    17.1    1\n",
       "AR       Argentina  Buenos Aires        45     2.8    1\n",
       "BO         Bolivia         Sucre        12     1.1    0\n",
       "ZA    South Africa      Pretoria        59     1.2    1"
      ]
     },
     "execution_count": 17,
     "metadata": {},
     "output_type": "execute_result"
    }
   ],
   "source": [
    "# создадим датафрейм, передав в параметр columns названия столбцов на кириллице\n",
    "countries = pd.DataFrame(data=arr, index=custom_index, columns=custom_columns)\n",
    "\n",
    "countries"
   ]
  },
  {
   "cell_type": "code",
   "execution_count": 18,
   "metadata": {
    "id": "pl2w2FTeooMR"
   },
   "outputs": [],
   "source": [
    "# вернем прежние названия столбцов\n",
    "countries.columns = [\"country\", \"capital\", \"population\", \"area\", \"sea\"]"
   ]
  },
  {
   "cell_type": "markdown",
   "metadata": {
    "id": "ui1SxVRCgsY3"
   },
   "source": [
    "Переименование столбцов"
   ]
  },
  {
   "cell_type": "code",
   "execution_count": 19,
   "metadata": {
    "colab": {
     "base_uri": "https://localhost:8080/",
     "height": 269
    },
    "id": "wDOxbV5hhcqo",
    "outputId": "5f4f0599-2add-4668-f6f9-ad0cf6964aa5"
   },
   "outputs": [
    {
     "data": {
      "text/html": [
       "<div>\n",
       "<style scoped>\n",
       "    .dataframe tbody tr th:only-of-type {\n",
       "        vertical-align: middle;\n",
       "    }\n",
       "\n",
       "    .dataframe tbody tr th {\n",
       "        vertical-align: top;\n",
       "    }\n",
       "\n",
       "    .dataframe thead th {\n",
       "        text-align: right;\n",
       "    }\n",
       "</style>\n",
       "<table border=\"1\" class=\"dataframe\">\n",
       "  <thead>\n",
       "    <tr style=\"text-align: right;\">\n",
       "      <th></th>\n",
       "      <th>country</th>\n",
       "      <th>city</th>\n",
       "      <th>population</th>\n",
       "      <th>area</th>\n",
       "      <th>sea</th>\n",
       "    </tr>\n",
       "  </thead>\n",
       "  <tbody>\n",
       "    <tr>\n",
       "      <th>CN</th>\n",
       "      <td>China</td>\n",
       "      <td>Beijing</td>\n",
       "      <td>1400</td>\n",
       "      <td>9.6</td>\n",
       "      <td>1</td>\n",
       "    </tr>\n",
       "    <tr>\n",
       "      <th>VN</th>\n",
       "      <td>Vietnam</td>\n",
       "      <td>Hanoi</td>\n",
       "      <td>97</td>\n",
       "      <td>0.3</td>\n",
       "      <td>1</td>\n",
       "    </tr>\n",
       "    <tr>\n",
       "      <th>GB</th>\n",
       "      <td>United Kingdom</td>\n",
       "      <td>London</td>\n",
       "      <td>67</td>\n",
       "      <td>0.2</td>\n",
       "      <td>1</td>\n",
       "    </tr>\n",
       "    <tr>\n",
       "      <th>RU</th>\n",
       "      <td>Russia</td>\n",
       "      <td>Moscow</td>\n",
       "      <td>144</td>\n",
       "      <td>17.1</td>\n",
       "      <td>1</td>\n",
       "    </tr>\n",
       "    <tr>\n",
       "      <th>AR</th>\n",
       "      <td>Argentina</td>\n",
       "      <td>Buenos Aires</td>\n",
       "      <td>45</td>\n",
       "      <td>2.8</td>\n",
       "      <td>1</td>\n",
       "    </tr>\n",
       "    <tr>\n",
       "      <th>BO</th>\n",
       "      <td>Bolivia</td>\n",
       "      <td>Sucre</td>\n",
       "      <td>12</td>\n",
       "      <td>1.1</td>\n",
       "      <td>0</td>\n",
       "    </tr>\n",
       "    <tr>\n",
       "      <th>ZA</th>\n",
       "      <td>South Africa</td>\n",
       "      <td>Pretoria</td>\n",
       "      <td>59</td>\n",
       "      <td>1.2</td>\n",
       "      <td>1</td>\n",
       "    </tr>\n",
       "  </tbody>\n",
       "</table>\n",
       "</div>"
      ],
      "text/plain": [
       "           country          city population  area sea\n",
       "CN           China       Beijing       1400   9.6   1\n",
       "VN         Vietnam         Hanoi         97   0.3   1\n",
       "GB  United Kingdom        London         67   0.2   1\n",
       "RU          Russia        Moscow        144  17.1   1\n",
       "AR       Argentina  Buenos Aires         45   2.8   1\n",
       "BO         Bolivia         Sucre         12   1.1   0\n",
       "ZA    South Africa      Pretoria         59   1.2   1"
      ]
     },
     "execution_count": 19,
     "metadata": {},
     "output_type": "execute_result"
    }
   ],
   "source": [
    "# переименуем столбец capital на city\n",
    "countries.rename(columns={\"capital\": \"city\"}, inplace=True)\n",
    "countries"
   ]
  },
  {
   "cell_type": "markdown",
   "metadata": {
    "id": "7e8KfrL9iaKy"
   },
   "source": [
    "### Тип данных в столбце"
   ]
  },
  {
   "cell_type": "markdown",
   "metadata": {
    "id": "nlJcUHHuqox5"
   },
   "source": [
    "Просмотр типа данных в столбце"
   ]
  },
  {
   "cell_type": "code",
   "execution_count": 20,
   "metadata": {
    "colab": {
     "base_uri": "https://localhost:8080/",
     "height": 241
    },
    "id": "cQN1nGyNh3N4",
    "outputId": "919c1e0a-822f-471e-bd73-88ea04ca4f76"
   },
   "outputs": [
    {
     "data": {
      "text/plain": [
       "country       object\n",
       "city          object\n",
       "population    object\n",
       "area          object\n",
       "sea           object\n",
       "dtype: object"
      ]
     },
     "execution_count": 20,
     "metadata": {},
     "output_type": "execute_result"
    }
   ],
   "source": [
    "# в одном столбце содержится один тип данных\n",
    "# посмотрим на тип данных каждого из столбцов\n",
    "countries.dtypes"
   ]
  },
  {
   "cell_type": "markdown",
   "metadata": {
    "id": "hk_TegFBqrgc"
   },
   "source": [
    "Изменение типа данных"
   ]
  },
  {
   "cell_type": "code",
   "execution_count": 21,
   "metadata": {
    "id": "Q2laHJqYqv1E"
   },
   "outputs": [],
   "source": [
    "# преобразуем тип данных столбца population в int\n",
    "countries.population = countries.population.astype(\"int\")"
   ]
  },
  {
   "cell_type": "code",
   "execution_count": 22,
   "metadata": {
    "id": "YfJGatKqifBv"
   },
   "outputs": [],
   "source": [
    "# изменим тип данных в столбцах area и sea\n",
    "countries = countries.astype({\"area\": \"float\", \"sea\": \"category\"})"
   ]
  },
  {
   "cell_type": "code",
   "execution_count": 23,
   "metadata": {
    "colab": {
     "base_uri": "https://localhost:8080/",
     "height": 241
    },
    "id": "J8xCBigcqxhU",
    "outputId": "2ba72b86-2034-4bed-de12-42a607c2a91e"
   },
   "outputs": [
    {
     "data": {
      "text/plain": [
       "country         object\n",
       "city            object\n",
       "population       int64\n",
       "area           float64\n",
       "sea           category\n",
       "dtype: object"
      ]
     },
     "execution_count": 23,
     "metadata": {},
     "output_type": "execute_result"
    }
   ],
   "source": [
    "# посмотрим на результат\n",
    "countries.dtypes"
   ]
  },
  {
   "cell_type": "markdown",
   "metadata": {
    "id": "s-FeyI8Lwq7J"
   },
   "source": [
    "Тип данных category"
   ]
  },
  {
   "cell_type": "code",
   "execution_count": 24,
   "metadata": {
    "colab": {
     "base_uri": "https://localhost:8080/",
     "height": 303
    },
    "id": "9wX5BHUSagud",
    "outputId": "2edc43de-54fa-4681-8566-ad3e7dae0a75"
   },
   "outputs": [
    {
     "data": {
      "text/plain": [
       "CN    1\n",
       "VN    1\n",
       "GB    1\n",
       "RU    1\n",
       "AR    1\n",
       "BO    0\n",
       "ZA    1\n",
       "Name: sea, dtype: category\n",
       "Categories (2, object): ['0', '1']"
      ]
     },
     "execution_count": 24,
     "metadata": {},
     "output_type": "execute_result"
    }
   ],
   "source": [
    "# тип category похож на фактор в R\n",
    "countries.sea"
   ]
  },
  {
   "cell_type": "markdown",
   "metadata": {
    "id": "7fSGhr08vr0B"
   },
   "source": [
    "Фильтр столбцов по типу данных"
   ]
  },
  {
   "cell_type": "code",
   "execution_count": 25,
   "metadata": {
    "colab": {
     "base_uri": "https://localhost:8080/",
     "height": 269
    },
    "id": "NWdWmNwEi9V_",
    "outputId": "7764f62c-fb96-4f05-c65d-81d5fed48bb6"
   },
   "outputs": [
    {
     "data": {
      "text/html": [
       "<div>\n",
       "<style scoped>\n",
       "    .dataframe tbody tr th:only-of-type {\n",
       "        vertical-align: middle;\n",
       "    }\n",
       "\n",
       "    .dataframe tbody tr th {\n",
       "        vertical-align: top;\n",
       "    }\n",
       "\n",
       "    .dataframe thead th {\n",
       "        text-align: right;\n",
       "    }\n",
       "</style>\n",
       "<table border=\"1\" class=\"dataframe\">\n",
       "  <thead>\n",
       "    <tr style=\"text-align: right;\">\n",
       "      <th></th>\n",
       "      <th>population</th>\n",
       "      <th>area</th>\n",
       "    </tr>\n",
       "  </thead>\n",
       "  <tbody>\n",
       "    <tr>\n",
       "      <th>CN</th>\n",
       "      <td>1400</td>\n",
       "      <td>9.6</td>\n",
       "    </tr>\n",
       "    <tr>\n",
       "      <th>VN</th>\n",
       "      <td>97</td>\n",
       "      <td>0.3</td>\n",
       "    </tr>\n",
       "    <tr>\n",
       "      <th>GB</th>\n",
       "      <td>67</td>\n",
       "      <td>0.2</td>\n",
       "    </tr>\n",
       "    <tr>\n",
       "      <th>RU</th>\n",
       "      <td>144</td>\n",
       "      <td>17.1</td>\n",
       "    </tr>\n",
       "    <tr>\n",
       "      <th>AR</th>\n",
       "      <td>45</td>\n",
       "      <td>2.8</td>\n",
       "    </tr>\n",
       "    <tr>\n",
       "      <th>BO</th>\n",
       "      <td>12</td>\n",
       "      <td>1.1</td>\n",
       "    </tr>\n",
       "    <tr>\n",
       "      <th>ZA</th>\n",
       "      <td>59</td>\n",
       "      <td>1.2</td>\n",
       "    </tr>\n",
       "  </tbody>\n",
       "</table>\n",
       "</div>"
      ],
      "text/plain": [
       "    population  area\n",
       "CN        1400   9.6\n",
       "VN          97   0.3\n",
       "GB          67   0.2\n",
       "RU         144  17.1\n",
       "AR          45   2.8\n",
       "BO          12   1.1\n",
       "ZA          59   1.2"
      ]
     },
     "execution_count": 25,
     "metadata": {},
     "output_type": "execute_result"
    }
   ],
   "source": [
    "# выберем только типы данных int и float\n",
    "countries.select_dtypes(include=[\"int64\", \"float64\"])"
   ]
  },
  {
   "cell_type": "code",
   "execution_count": 26,
   "metadata": {
    "colab": {
     "base_uri": "https://localhost:8080/",
     "height": 269
    },
    "id": "9vI-Gc4Qk727",
    "outputId": "498db74f-2aaf-4d1d-9ac3-5087bc1be037"
   },
   "outputs": [
    {
     "data": {
      "text/html": [
       "<div>\n",
       "<style scoped>\n",
       "    .dataframe tbody tr th:only-of-type {\n",
       "        vertical-align: middle;\n",
       "    }\n",
       "\n",
       "    .dataframe tbody tr th {\n",
       "        vertical-align: top;\n",
       "    }\n",
       "\n",
       "    .dataframe thead th {\n",
       "        text-align: right;\n",
       "    }\n",
       "</style>\n",
       "<table border=\"1\" class=\"dataframe\">\n",
       "  <thead>\n",
       "    <tr style=\"text-align: right;\">\n",
       "      <th></th>\n",
       "      <th>population</th>\n",
       "      <th>area</th>\n",
       "    </tr>\n",
       "  </thead>\n",
       "  <tbody>\n",
       "    <tr>\n",
       "      <th>CN</th>\n",
       "      <td>1400</td>\n",
       "      <td>9.6</td>\n",
       "    </tr>\n",
       "    <tr>\n",
       "      <th>VN</th>\n",
       "      <td>97</td>\n",
       "      <td>0.3</td>\n",
       "    </tr>\n",
       "    <tr>\n",
       "      <th>GB</th>\n",
       "      <td>67</td>\n",
       "      <td>0.2</td>\n",
       "    </tr>\n",
       "    <tr>\n",
       "      <th>RU</th>\n",
       "      <td>144</td>\n",
       "      <td>17.1</td>\n",
       "    </tr>\n",
       "    <tr>\n",
       "      <th>AR</th>\n",
       "      <td>45</td>\n",
       "      <td>2.8</td>\n",
       "    </tr>\n",
       "    <tr>\n",
       "      <th>BO</th>\n",
       "      <td>12</td>\n",
       "      <td>1.1</td>\n",
       "    </tr>\n",
       "    <tr>\n",
       "      <th>ZA</th>\n",
       "      <td>59</td>\n",
       "      <td>1.2</td>\n",
       "    </tr>\n",
       "  </tbody>\n",
       "</table>\n",
       "</div>"
      ],
      "text/plain": [
       "    population  area\n",
       "CN        1400   9.6\n",
       "VN          97   0.3\n",
       "GB          67   0.2\n",
       "RU         144  17.1\n",
       "AR          45   2.8\n",
       "BO          12   1.1\n",
       "ZA          59   1.2"
      ]
     },
     "execution_count": 26,
     "metadata": {},
     "output_type": "execute_result"
    }
   ],
   "source": [
    "# выберем все типы данных, кроме object и category\n",
    "countries.select_dtypes(exclude=[\"object\", \"category\"])"
   ]
  },
  {
   "cell_type": "markdown",
   "metadata": {
    "id": "hSBrGsTIwfcr"
   },
   "source": [
    "### Добавление строк и столбцов"
   ]
  },
  {
   "cell_type": "markdown",
   "metadata": {
    "id": "F5AOlU7PxFJ5"
   },
   "source": [
    "#### Добавление строк"
   ]
  },
  {
   "cell_type": "markdown",
   "metadata": {
    "id": "9SlMkoxiUkOr"
   },
   "source": [
    "Метод ._append() + словарь"
   ]
  },
  {
   "cell_type": "code",
   "execution_count": 27,
   "metadata": {
    "colab": {
     "base_uri": "https://localhost:8080/",
     "height": 300
    },
    "id": "f8-J1qZWDR9g",
    "outputId": "c33a4910-6893-4627-88dd-9cb25a72f1a6"
   },
   "outputs": [
    {
     "data": {
      "text/html": [
       "<div>\n",
       "<style scoped>\n",
       "    .dataframe tbody tr th:only-of-type {\n",
       "        vertical-align: middle;\n",
       "    }\n",
       "\n",
       "    .dataframe tbody tr th {\n",
       "        vertical-align: top;\n",
       "    }\n",
       "\n",
       "    .dataframe thead th {\n",
       "        text-align: right;\n",
       "    }\n",
       "</style>\n",
       "<table border=\"1\" class=\"dataframe\">\n",
       "  <thead>\n",
       "    <tr style=\"text-align: right;\">\n",
       "      <th></th>\n",
       "      <th>country</th>\n",
       "      <th>city</th>\n",
       "      <th>population</th>\n",
       "      <th>area</th>\n",
       "      <th>sea</th>\n",
       "    </tr>\n",
       "  </thead>\n",
       "  <tbody>\n",
       "    <tr>\n",
       "      <th>0</th>\n",
       "      <td>China</td>\n",
       "      <td>Beijing</td>\n",
       "      <td>1400</td>\n",
       "      <td>9.6</td>\n",
       "      <td>1</td>\n",
       "    </tr>\n",
       "    <tr>\n",
       "      <th>1</th>\n",
       "      <td>Vietnam</td>\n",
       "      <td>Hanoi</td>\n",
       "      <td>97</td>\n",
       "      <td>0.3</td>\n",
       "      <td>1</td>\n",
       "    </tr>\n",
       "    <tr>\n",
       "      <th>2</th>\n",
       "      <td>United Kingdom</td>\n",
       "      <td>London</td>\n",
       "      <td>67</td>\n",
       "      <td>0.2</td>\n",
       "      <td>1</td>\n",
       "    </tr>\n",
       "    <tr>\n",
       "      <th>3</th>\n",
       "      <td>Russia</td>\n",
       "      <td>Moscow</td>\n",
       "      <td>144</td>\n",
       "      <td>17.1</td>\n",
       "      <td>1</td>\n",
       "    </tr>\n",
       "    <tr>\n",
       "      <th>4</th>\n",
       "      <td>Argentina</td>\n",
       "      <td>Buenos Aires</td>\n",
       "      <td>45</td>\n",
       "      <td>2.8</td>\n",
       "      <td>1</td>\n",
       "    </tr>\n",
       "    <tr>\n",
       "      <th>5</th>\n",
       "      <td>Bolivia</td>\n",
       "      <td>Sucre</td>\n",
       "      <td>12</td>\n",
       "      <td>1.1</td>\n",
       "      <td>0</td>\n",
       "    </tr>\n",
       "    <tr>\n",
       "      <th>6</th>\n",
       "      <td>South Africa</td>\n",
       "      <td>Pretoria</td>\n",
       "      <td>59</td>\n",
       "      <td>1.2</td>\n",
       "      <td>1</td>\n",
       "    </tr>\n",
       "    <tr>\n",
       "      <th>7</th>\n",
       "      <td>Canada</td>\n",
       "      <td>Ottawa</td>\n",
       "      <td>38</td>\n",
       "      <td>10.0</td>\n",
       "      <td>1</td>\n",
       "    </tr>\n",
       "  </tbody>\n",
       "</table>\n",
       "</div>"
      ],
      "text/plain": [
       "          country          city  population  area sea\n",
       "0           China       Beijing        1400   9.6   1\n",
       "1         Vietnam         Hanoi          97   0.3   1\n",
       "2  United Kingdom        London          67   0.2   1\n",
       "3          Russia        Moscow         144  17.1   1\n",
       "4       Argentina  Buenos Aires          45   2.8   1\n",
       "5         Bolivia         Sucre          12   1.1   0\n",
       "6    South Africa      Pretoria          59   1.2   1\n",
       "7          Canada        Ottawa          38  10.0   1"
      ]
     },
     "execution_count": 27,
     "metadata": {},
     "output_type": "execute_result"
    }
   ],
   "source": [
    "# создадим словарь с данными Канады и добавим его в датафрейм\n",
    "dict_ = {\n",
    "    \"country\": \"Canada\",\n",
    "    \"city\": \"Ottawa\",\n",
    "    \"population\": 38,\n",
    "    \"area\": 10,\n",
    "    \"sea\": \"1\",\n",
    "}\n",
    "\n",
    "# словарь можно добавлять только если ignore_index = True\n",
    "countries = countries._append(dict_, ignore_index=True)\n",
    "countries"
   ]
  },
  {
   "cell_type": "markdown",
   "metadata": {
    "id": "gvCPc--_UpSN"
   },
   "source": [
    "Метод ._append() + Series"
   ]
  },
  {
   "cell_type": "code",
   "execution_count": 28,
   "metadata": {
    "colab": {
     "base_uri": "https://localhost:8080/",
     "height": 363
    },
    "id": "LazGdGO_zo26",
    "outputId": "9003ae08-188a-4dfb-ecb7-9a9ad0aa95e6"
   },
   "outputs": [
    {
     "data": {
      "text/html": [
       "<div>\n",
       "<style scoped>\n",
       "    .dataframe tbody tr th:only-of-type {\n",
       "        vertical-align: middle;\n",
       "    }\n",
       "\n",
       "    .dataframe tbody tr th {\n",
       "        vertical-align: top;\n",
       "    }\n",
       "\n",
       "    .dataframe thead th {\n",
       "        text-align: right;\n",
       "    }\n",
       "</style>\n",
       "<table border=\"1\" class=\"dataframe\">\n",
       "  <thead>\n",
       "    <tr style=\"text-align: right;\">\n",
       "      <th></th>\n",
       "      <th>country</th>\n",
       "      <th>city</th>\n",
       "      <th>population</th>\n",
       "      <th>area</th>\n",
       "      <th>sea</th>\n",
       "    </tr>\n",
       "  </thead>\n",
       "  <tbody>\n",
       "    <tr>\n",
       "      <th>0</th>\n",
       "      <td>China</td>\n",
       "      <td>Beijing</td>\n",
       "      <td>1400</td>\n",
       "      <td>9.60</td>\n",
       "      <td>1</td>\n",
       "    </tr>\n",
       "    <tr>\n",
       "      <th>1</th>\n",
       "      <td>Vietnam</td>\n",
       "      <td>Hanoi</td>\n",
       "      <td>97</td>\n",
       "      <td>0.30</td>\n",
       "      <td>1</td>\n",
       "    </tr>\n",
       "    <tr>\n",
       "      <th>2</th>\n",
       "      <td>United Kingdom</td>\n",
       "      <td>London</td>\n",
       "      <td>67</td>\n",
       "      <td>0.20</td>\n",
       "      <td>1</td>\n",
       "    </tr>\n",
       "    <tr>\n",
       "      <th>3</th>\n",
       "      <td>Russia</td>\n",
       "      <td>Moscow</td>\n",
       "      <td>144</td>\n",
       "      <td>17.10</td>\n",
       "      <td>1</td>\n",
       "    </tr>\n",
       "    <tr>\n",
       "      <th>4</th>\n",
       "      <td>Argentina</td>\n",
       "      <td>Buenos Aires</td>\n",
       "      <td>45</td>\n",
       "      <td>2.80</td>\n",
       "      <td>1</td>\n",
       "    </tr>\n",
       "    <tr>\n",
       "      <th>5</th>\n",
       "      <td>Bolivia</td>\n",
       "      <td>Sucre</td>\n",
       "      <td>12</td>\n",
       "      <td>1.10</td>\n",
       "      <td>0</td>\n",
       "    </tr>\n",
       "    <tr>\n",
       "      <th>6</th>\n",
       "      <td>South Africa</td>\n",
       "      <td>Pretoria</td>\n",
       "      <td>59</td>\n",
       "      <td>1.20</td>\n",
       "      <td>1</td>\n",
       "    </tr>\n",
       "    <tr>\n",
       "      <th>7</th>\n",
       "      <td>Canada</td>\n",
       "      <td>Ottawa</td>\n",
       "      <td>38</td>\n",
       "      <td>10.00</td>\n",
       "      <td>1</td>\n",
       "    </tr>\n",
       "    <tr>\n",
       "      <th>8</th>\n",
       "      <td>Spain</td>\n",
       "      <td>Madrid</td>\n",
       "      <td>47</td>\n",
       "      <td>0.50</td>\n",
       "      <td>1</td>\n",
       "    </tr>\n",
       "    <tr>\n",
       "      <th>9</th>\n",
       "      <td>Netherlands</td>\n",
       "      <td>Amsterdam</td>\n",
       "      <td>17</td>\n",
       "      <td>0.04</td>\n",
       "      <td>1</td>\n",
       "    </tr>\n",
       "  </tbody>\n",
       "</table>\n",
       "</div>"
      ],
      "text/plain": [
       "          country          city  population   area sea\n",
       "0           China       Beijing        1400   9.60   1\n",
       "1         Vietnam         Hanoi          97   0.30   1\n",
       "2  United Kingdom        London          67   0.20   1\n",
       "3          Russia        Moscow         144  17.10   1\n",
       "4       Argentina  Buenos Aires          45   2.80   1\n",
       "5         Bolivia         Sucre          12   1.10   0\n",
       "6    South Africa      Pretoria          59   1.20   1\n",
       "7          Canada        Ottawa          38  10.00   1\n",
       "8           Spain        Madrid          47   0.50   1\n",
       "9     Netherlands     Amsterdam          17   0.04   1"
      ]
     },
     "execution_count": 28,
     "metadata": {},
     "output_type": "execute_result"
    }
   ],
   "source": [
    "# мы также можем добавить строки в виде объекта Series\n",
    "# причем, если передать список из Series, можно добавить сразу несколько строк\n",
    "list_of_series = [\n",
    "    pd.Series([\"Spain\", \"Madrid\", 47, 0.5, 1], index=countries.columns),\n",
    "    pd.Series([\"Netherlands\", \"Amsterdam\", 17, 0.04, 1], index=countries.columns),\n",
    "]\n",
    "\n",
    "# нам по-прежнему необходим параметр ignore_index = True\n",
    "countries._append(list_of_series, ignore_index=True)"
   ]
  },
  {
   "cell_type": "markdown",
   "metadata": {
    "id": "3pIWleNyUuPN"
   },
   "source": [
    "Метод ._append() + другой датафрейм"
   ]
  },
  {
   "cell_type": "code",
   "execution_count": 29,
   "metadata": {
    "colab": {
     "base_uri": "https://localhost:8080/",
     "height": 89
    },
    "id": "Vy4_APQdSdyN",
    "outputId": "5afe5bb0-1215-419d-d2ee-b7ed63d626aa"
   },
   "outputs": [
    {
     "data": {
      "text/html": [
       "<div>\n",
       "<style scoped>\n",
       "    .dataframe tbody tr th:only-of-type {\n",
       "        vertical-align: middle;\n",
       "    }\n",
       "\n",
       "    .dataframe tbody tr th {\n",
       "        vertical-align: top;\n",
       "    }\n",
       "\n",
       "    .dataframe thead th {\n",
       "        text-align: right;\n",
       "    }\n",
       "</style>\n",
       "<table border=\"1\" class=\"dataframe\">\n",
       "  <thead>\n",
       "    <tr style=\"text-align: right;\">\n",
       "      <th></th>\n",
       "      <th>country</th>\n",
       "      <th>city</th>\n",
       "      <th>population</th>\n",
       "      <th>area</th>\n",
       "      <th>sea</th>\n",
       "    </tr>\n",
       "  </thead>\n",
       "  <tbody>\n",
       "    <tr>\n",
       "      <th>0</th>\n",
       "      <td>Peru</td>\n",
       "      <td>Lima</td>\n",
       "      <td>33</td>\n",
       "      <td>1.3</td>\n",
       "      <td>1</td>\n",
       "    </tr>\n",
       "  </tbody>\n",
       "</table>\n",
       "</div>"
      ],
      "text/plain": [
       "  country  city  population  area  sea\n",
       "0    Peru  Lima          33   1.3    1"
      ]
     },
     "execution_count": 29,
     "metadata": {},
     "output_type": "execute_result"
    }
   ],
   "source": [
    "# новая строка может также содержаться в другом датафрейме\n",
    "# обратите внимание, что числовые значения мы помещаем в списки\n",
    "peru = pd.DataFrame(\n",
    "    {\"country\": \"Peru\", \"city\": \"Lima\", \"population\": [33], \"area\": [1.3], \"sea\": [1]}\n",
    ")\n",
    "peru"
   ]
  },
  {
   "cell_type": "code",
   "execution_count": 30,
   "metadata": {
    "colab": {
     "base_uri": "https://localhost:8080/",
     "height": 331
    },
    "id": "eTDf5ZArTU_7",
    "outputId": "06c4128a-008e-4472-d2f1-01391b6f380e"
   },
   "outputs": [
    {
     "data": {
      "text/html": [
       "<div>\n",
       "<style scoped>\n",
       "    .dataframe tbody tr th:only-of-type {\n",
       "        vertical-align: middle;\n",
       "    }\n",
       "\n",
       "    .dataframe tbody tr th {\n",
       "        vertical-align: top;\n",
       "    }\n",
       "\n",
       "    .dataframe thead th {\n",
       "        text-align: right;\n",
       "    }\n",
       "</style>\n",
       "<table border=\"1\" class=\"dataframe\">\n",
       "  <thead>\n",
       "    <tr style=\"text-align: right;\">\n",
       "      <th></th>\n",
       "      <th>country</th>\n",
       "      <th>city</th>\n",
       "      <th>population</th>\n",
       "      <th>area</th>\n",
       "      <th>sea</th>\n",
       "    </tr>\n",
       "  </thead>\n",
       "  <tbody>\n",
       "    <tr>\n",
       "      <th>0</th>\n",
       "      <td>China</td>\n",
       "      <td>Beijing</td>\n",
       "      <td>1400</td>\n",
       "      <td>9.6</td>\n",
       "      <td>1</td>\n",
       "    </tr>\n",
       "    <tr>\n",
       "      <th>1</th>\n",
       "      <td>Vietnam</td>\n",
       "      <td>Hanoi</td>\n",
       "      <td>97</td>\n",
       "      <td>0.3</td>\n",
       "      <td>1</td>\n",
       "    </tr>\n",
       "    <tr>\n",
       "      <th>2</th>\n",
       "      <td>United Kingdom</td>\n",
       "      <td>London</td>\n",
       "      <td>67</td>\n",
       "      <td>0.2</td>\n",
       "      <td>1</td>\n",
       "    </tr>\n",
       "    <tr>\n",
       "      <th>3</th>\n",
       "      <td>Russia</td>\n",
       "      <td>Moscow</td>\n",
       "      <td>144</td>\n",
       "      <td>17.1</td>\n",
       "      <td>1</td>\n",
       "    </tr>\n",
       "    <tr>\n",
       "      <th>4</th>\n",
       "      <td>Argentina</td>\n",
       "      <td>Buenos Aires</td>\n",
       "      <td>45</td>\n",
       "      <td>2.8</td>\n",
       "      <td>1</td>\n",
       "    </tr>\n",
       "    <tr>\n",
       "      <th>5</th>\n",
       "      <td>Bolivia</td>\n",
       "      <td>Sucre</td>\n",
       "      <td>12</td>\n",
       "      <td>1.1</td>\n",
       "      <td>0</td>\n",
       "    </tr>\n",
       "    <tr>\n",
       "      <th>6</th>\n",
       "      <td>South Africa</td>\n",
       "      <td>Pretoria</td>\n",
       "      <td>59</td>\n",
       "      <td>1.2</td>\n",
       "      <td>1</td>\n",
       "    </tr>\n",
       "    <tr>\n",
       "      <th>7</th>\n",
       "      <td>Canada</td>\n",
       "      <td>Ottawa</td>\n",
       "      <td>38</td>\n",
       "      <td>10.0</td>\n",
       "      <td>1</td>\n",
       "    </tr>\n",
       "    <tr>\n",
       "      <th>8</th>\n",
       "      <td>Peru</td>\n",
       "      <td>Lima</td>\n",
       "      <td>33</td>\n",
       "      <td>1.3</td>\n",
       "      <td>1</td>\n",
       "    </tr>\n",
       "  </tbody>\n",
       "</table>\n",
       "</div>"
      ],
      "text/plain": [
       "          country          city  population  area sea\n",
       "0           China       Beijing        1400   9.6   1\n",
       "1         Vietnam         Hanoi          97   0.3   1\n",
       "2  United Kingdom        London          67   0.2   1\n",
       "3          Russia        Moscow         144  17.1   1\n",
       "4       Argentina  Buenos Aires          45   2.8   1\n",
       "5         Bolivia         Sucre          12   1.1   0\n",
       "6    South Africa      Pretoria          59   1.2   1\n",
       "7          Canada        Ottawa          38  10.0   1\n",
       "8            Peru          Lima          33   1.3   1"
      ]
     },
     "execution_count": 30,
     "metadata": {},
     "output_type": "execute_result"
    }
   ],
   "source": [
    "# перед добавлением выберем первую строку с помощью метода .iloc[]\n",
    "countries._append(peru.iloc[0], ignore_index=True)"
   ]
  },
  {
   "cell_type": "markdown",
   "metadata": {
    "id": "0CF9_PPpU7uR"
   },
   "source": [
    "Использование `.iloc[]`"
   ]
  },
  {
   "cell_type": "code",
   "execution_count": 31,
   "metadata": {
    "colab": {
     "base_uri": "https://localhost:8080/",
     "height": 300
    },
    "id": "rErQ8UbTWRRJ",
    "outputId": "1bb509ec-e8ff-4232-928f-fce4c9106598"
   },
   "outputs": [
    {
     "data": {
      "text/html": [
       "<div>\n",
       "<style scoped>\n",
       "    .dataframe tbody tr th:only-of-type {\n",
       "        vertical-align: middle;\n",
       "    }\n",
       "\n",
       "    .dataframe tbody tr th {\n",
       "        vertical-align: top;\n",
       "    }\n",
       "\n",
       "    .dataframe thead th {\n",
       "        text-align: right;\n",
       "    }\n",
       "</style>\n",
       "<table border=\"1\" class=\"dataframe\">\n",
       "  <thead>\n",
       "    <tr style=\"text-align: right;\">\n",
       "      <th></th>\n",
       "      <th>country</th>\n",
       "      <th>city</th>\n",
       "      <th>population</th>\n",
       "      <th>area</th>\n",
       "      <th>sea</th>\n",
       "    </tr>\n",
       "  </thead>\n",
       "  <tbody>\n",
       "    <tr>\n",
       "      <th>0</th>\n",
       "      <td>China</td>\n",
       "      <td>Beijing</td>\n",
       "      <td>1400</td>\n",
       "      <td>9.6</td>\n",
       "      <td>1</td>\n",
       "    </tr>\n",
       "    <tr>\n",
       "      <th>1</th>\n",
       "      <td>Vietnam</td>\n",
       "      <td>Hanoi</td>\n",
       "      <td>97</td>\n",
       "      <td>0.3</td>\n",
       "      <td>1</td>\n",
       "    </tr>\n",
       "    <tr>\n",
       "      <th>2</th>\n",
       "      <td>United Kingdom</td>\n",
       "      <td>London</td>\n",
       "      <td>67</td>\n",
       "      <td>0.2</td>\n",
       "      <td>1</td>\n",
       "    </tr>\n",
       "    <tr>\n",
       "      <th>3</th>\n",
       "      <td>Russia</td>\n",
       "      <td>Moscow</td>\n",
       "      <td>144</td>\n",
       "      <td>17.1</td>\n",
       "      <td>1</td>\n",
       "    </tr>\n",
       "    <tr>\n",
       "      <th>4</th>\n",
       "      <td>Argentina</td>\n",
       "      <td>Buenos Aires</td>\n",
       "      <td>45</td>\n",
       "      <td>2.8</td>\n",
       "      <td>1</td>\n",
       "    </tr>\n",
       "    <tr>\n",
       "      <th>5</th>\n",
       "      <td>Bolivia</td>\n",
       "      <td>Sucre</td>\n",
       "      <td>12</td>\n",
       "      <td>1.1</td>\n",
       "      <td>0</td>\n",
       "    </tr>\n",
       "    <tr>\n",
       "      <th>6</th>\n",
       "      <td>South Africa</td>\n",
       "      <td>Pretoria</td>\n",
       "      <td>59</td>\n",
       "      <td>1.2</td>\n",
       "      <td>1</td>\n",
       "    </tr>\n",
       "    <tr>\n",
       "      <th>7</th>\n",
       "      <td>Canada</td>\n",
       "      <td>Ottawa</td>\n",
       "      <td>38</td>\n",
       "      <td>10.0</td>\n",
       "      <td>1</td>\n",
       "    </tr>\n",
       "  </tbody>\n",
       "</table>\n",
       "</div>"
      ],
      "text/plain": [
       "          country          city  population  area sea\n",
       "0           China       Beijing        1400   9.6   1\n",
       "1         Vietnam         Hanoi          97   0.3   1\n",
       "2  United Kingdom        London          67   0.2   1\n",
       "3          Russia        Moscow         144  17.1   1\n",
       "4       Argentina  Buenos Aires          45   2.8   1\n",
       "5         Bolivia         Sucre          12   1.1   0\n",
       "6    South Africa      Pretoria          59   1.2   1\n",
       "7          Canada        Ottawa          38  10.0   1"
      ]
     },
     "execution_count": 31,
     "metadata": {},
     "output_type": "execute_result"
    }
   ],
   "source": [
    "# ни Испания, ни Нидерланды, ни Перу не сохранились\n",
    "countries"
   ]
  },
  {
   "cell_type": "code",
   "execution_count": 32,
   "metadata": {
    "colab": {
     "base_uri": "https://localhost:8080/",
     "height": 300
    },
    "id": "_q8jozQVUanF",
    "outputId": "b5876305-9d6e-4428-e7dc-8a4c874f8630"
   },
   "outputs": [
    {
     "data": {
      "text/html": [
       "<div>\n",
       "<style scoped>\n",
       "    .dataframe tbody tr th:only-of-type {\n",
       "        vertical-align: middle;\n",
       "    }\n",
       "\n",
       "    .dataframe tbody tr th {\n",
       "        vertical-align: top;\n",
       "    }\n",
       "\n",
       "    .dataframe thead th {\n",
       "        text-align: right;\n",
       "    }\n",
       "</style>\n",
       "<table border=\"1\" class=\"dataframe\">\n",
       "  <thead>\n",
       "    <tr style=\"text-align: right;\">\n",
       "      <th></th>\n",
       "      <th>country</th>\n",
       "      <th>city</th>\n",
       "      <th>population</th>\n",
       "      <th>area</th>\n",
       "      <th>sea</th>\n",
       "    </tr>\n",
       "  </thead>\n",
       "  <tbody>\n",
       "    <tr>\n",
       "      <th>0</th>\n",
       "      <td>China</td>\n",
       "      <td>Beijing</td>\n",
       "      <td>1400</td>\n",
       "      <td>9.60</td>\n",
       "      <td>1</td>\n",
       "    </tr>\n",
       "    <tr>\n",
       "      <th>1</th>\n",
       "      <td>Vietnam</td>\n",
       "      <td>Hanoi</td>\n",
       "      <td>97</td>\n",
       "      <td>0.30</td>\n",
       "      <td>1</td>\n",
       "    </tr>\n",
       "    <tr>\n",
       "      <th>2</th>\n",
       "      <td>United Kingdom</td>\n",
       "      <td>London</td>\n",
       "      <td>67</td>\n",
       "      <td>0.20</td>\n",
       "      <td>1</td>\n",
       "    </tr>\n",
       "    <tr>\n",
       "      <th>3</th>\n",
       "      <td>Russia</td>\n",
       "      <td>Moscow</td>\n",
       "      <td>144</td>\n",
       "      <td>17.10</td>\n",
       "      <td>1</td>\n",
       "    </tr>\n",
       "    <tr>\n",
       "      <th>4</th>\n",
       "      <td>Argentina</td>\n",
       "      <td>Buenos Aires</td>\n",
       "      <td>45</td>\n",
       "      <td>2.80</td>\n",
       "      <td>1</td>\n",
       "    </tr>\n",
       "    <tr>\n",
       "      <th>5</th>\n",
       "      <td>Spain</td>\n",
       "      <td>Madrid</td>\n",
       "      <td>47</td>\n",
       "      <td>0.50</td>\n",
       "      <td>1</td>\n",
       "    </tr>\n",
       "    <tr>\n",
       "      <th>6</th>\n",
       "      <td>Netherlands</td>\n",
       "      <td>Amsterdam</td>\n",
       "      <td>17</td>\n",
       "      <td>0.04</td>\n",
       "      <td>1</td>\n",
       "    </tr>\n",
       "    <tr>\n",
       "      <th>7</th>\n",
       "      <td>Peru</td>\n",
       "      <td>Lima</td>\n",
       "      <td>33</td>\n",
       "      <td>1.30</td>\n",
       "      <td>1</td>\n",
       "    </tr>\n",
       "  </tbody>\n",
       "</table>\n",
       "</div>"
      ],
      "text/plain": [
       "          country          city  population   area sea\n",
       "0           China       Beijing        1400   9.60   1\n",
       "1         Vietnam         Hanoi          97   0.30   1\n",
       "2  United Kingdom        London          67   0.20   1\n",
       "3          Russia        Moscow         144  17.10   1\n",
       "4       Argentina  Buenos Aires          45   2.80   1\n",
       "5           Spain        Madrid          47   0.50   1\n",
       "6     Netherlands     Amsterdam          17   0.04   1\n",
       "7            Peru          Lima          33   1.30   1"
      ]
     },
     "execution_count": 32,
     "metadata": {},
     "output_type": "execute_result"
    }
   ],
   "source": [
    "# добавим данные об этих странах на постоянной основе с помощью метода .iloc[]\n",
    "countries.iloc[[5, 6, 7]] = [\n",
    "    [\"Spain\", \"Madrid\", 47, 0.5, 1],\n",
    "    [\"Netherlands\", \"Amsterdam\", 17, 0.04, 1],\n",
    "    [\"Peru\", \"Lima\", 33, 1.3, 1],\n",
    "]\n",
    "\n",
    "# такой способ поместил строки на нужный нам индекс,\n",
    "# заменив (!) существующие данные\n",
    "countries"
   ]
  },
  {
   "cell_type": "markdown",
   "metadata": {
    "id": "oirJhmLRWyfT"
   },
   "source": [
    "#### Добавление столбцов"
   ]
  },
  {
   "cell_type": "markdown",
   "metadata": {
    "id": "J7Wt-6J2c1ct"
   },
   "source": [
    "Объявление нового столбца"
   ]
  },
  {
   "cell_type": "code",
   "execution_count": null,
   "metadata": {
    "colab": {
     "base_uri": "https://localhost:8080/",
     "height": 300
    },
    "id": "GuzNdRHnVeWd",
    "outputId": "84f4d833-5027-4a49-f919-67d2783bad22"
   },
   "outputs": [
    {
     "data": {
      "text/html": [
       "<div>\n",
       "<style scoped>\n",
       "    .dataframe tbody tr th:only-of-type {\n",
       "        vertical-align: middle;\n",
       "    }\n",
       "\n",
       "    .dataframe tbody tr th {\n",
       "        vertical-align: top;\n",
       "    }\n",
       "\n",
       "    .dataframe thead th {\n",
       "        text-align: right;\n",
       "    }\n",
       "</style>\n",
       "<table border=\"1\" class=\"dataframe\">\n",
       "  <thead>\n",
       "    <tr style=\"text-align: right;\">\n",
       "      <th></th>\n",
       "      <th>country</th>\n",
       "      <th>city</th>\n",
       "      <th>population</th>\n",
       "      <th>area</th>\n",
       "      <th>sea</th>\n",
       "      <th>pop_density</th>\n",
       "    </tr>\n",
       "  </thead>\n",
       "  <tbody>\n",
       "    <tr>\n",
       "      <th>0</th>\n",
       "      <td>China</td>\n",
       "      <td>Beijing</td>\n",
       "      <td>1400</td>\n",
       "      <td>9.60</td>\n",
       "      <td>1</td>\n",
       "      <td>153</td>\n",
       "    </tr>\n",
       "    <tr>\n",
       "      <th>1</th>\n",
       "      <td>Vietnam</td>\n",
       "      <td>Hanoi</td>\n",
       "      <td>97</td>\n",
       "      <td>0.30</td>\n",
       "      <td>1</td>\n",
       "      <td>49</td>\n",
       "    </tr>\n",
       "    <tr>\n",
       "      <th>2</th>\n",
       "      <td>United Kingdom</td>\n",
       "      <td>London</td>\n",
       "      <td>67</td>\n",
       "      <td>0.20</td>\n",
       "      <td>1</td>\n",
       "      <td>281</td>\n",
       "    </tr>\n",
       "    <tr>\n",
       "      <th>3</th>\n",
       "      <td>Russia</td>\n",
       "      <td>Moscow</td>\n",
       "      <td>144</td>\n",
       "      <td>17.10</td>\n",
       "      <td>1</td>\n",
       "      <td>9</td>\n",
       "    </tr>\n",
       "    <tr>\n",
       "      <th>4</th>\n",
       "      <td>Argentina</td>\n",
       "      <td>Buenos Aires</td>\n",
       "      <td>45</td>\n",
       "      <td>2.80</td>\n",
       "      <td>1</td>\n",
       "      <td>17</td>\n",
       "    </tr>\n",
       "    <tr>\n",
       "      <th>5</th>\n",
       "      <td>Spain</td>\n",
       "      <td>Madrid</td>\n",
       "      <td>47</td>\n",
       "      <td>0.50</td>\n",
       "      <td>1</td>\n",
       "      <td>94</td>\n",
       "    </tr>\n",
       "    <tr>\n",
       "      <th>6</th>\n",
       "      <td>Netherlands</td>\n",
       "      <td>Amsterdam</td>\n",
       "      <td>17</td>\n",
       "      <td>0.04</td>\n",
       "      <td>1</td>\n",
       "      <td>508</td>\n",
       "    </tr>\n",
       "    <tr>\n",
       "      <th>7</th>\n",
       "      <td>Peru</td>\n",
       "      <td>Lima</td>\n",
       "      <td>33</td>\n",
       "      <td>1.30</td>\n",
       "      <td>1</td>\n",
       "      <td>26</td>\n",
       "    </tr>\n",
       "  </tbody>\n",
       "</table>\n",
       "</div>"
      ],
      "text/plain": [
       "          country          city  population   area sea  pop_density\n",
       "0           China       Beijing        1400   9.60   1          153\n",
       "1         Vietnam         Hanoi          97   0.30   1           49\n",
       "2  United Kingdom        London          67   0.20   1          281\n",
       "3          Russia        Moscow         144  17.10   1            9\n",
       "4       Argentina  Buenos Aires          45   2.80   1           17\n",
       "5           Spain        Madrid          47   0.50   1           94\n",
       "6     Netherlands     Amsterdam          17   0.04   1          508\n",
       "7            Peru          Lima          33   1.30   1           26"
      ]
     },
     "execution_count": 33,
     "metadata": {},
     "output_type": "execute_result"
    }
   ],
   "source": [
    "# новый столбец датафрейма можно просто объявить и сразу добавить в него\n",
    "# необходимые данные\n",
    "# например, добавим данные о плотности населения\n",
    "countries[\"pop_density\"] = [153, 49, 281, 9, 17, 94, 508, 26]\n",
    "countries"
   ]
  },
  {
   "cell_type": "markdown",
   "metadata": {
    "id": "lmO_xBpXc46V"
   },
   "source": [
    "Метод `.insert()`"
   ]
  },
  {
   "cell_type": "code",
   "execution_count": 34,
   "metadata": {
    "id": "I8cpG91Ycb6z"
   },
   "outputs": [],
   "source": [
    "# добавим столбец с кодами стран\n",
    "countries.insert(\n",
    "    loc=1,  # это будет второй по счету столбец\n",
    "    column=\"code\",  # название столбца\n",
    "    value=[\"CN\", \"VN\", \"GB\", \"RU\", \"AR\", \"ES\", \"NL\", \"PE\"],\n",
    ")  # значения столбца"
   ]
  },
  {
   "cell_type": "code",
   "execution_count": 35,
   "metadata": {
    "colab": {
     "base_uri": "https://localhost:8080/",
     "height": 300
    },
    "id": "nmQqPJNbd4F7",
    "outputId": "49f19d24-1a62-4d04-dc5b-72a22713e61d"
   },
   "outputs": [
    {
     "data": {
      "text/html": [
       "<div>\n",
       "<style scoped>\n",
       "    .dataframe tbody tr th:only-of-type {\n",
       "        vertical-align: middle;\n",
       "    }\n",
       "\n",
       "    .dataframe tbody tr th {\n",
       "        vertical-align: top;\n",
       "    }\n",
       "\n",
       "    .dataframe thead th {\n",
       "        text-align: right;\n",
       "    }\n",
       "</style>\n",
       "<table border=\"1\" class=\"dataframe\">\n",
       "  <thead>\n",
       "    <tr style=\"text-align: right;\">\n",
       "      <th></th>\n",
       "      <th>country</th>\n",
       "      <th>code</th>\n",
       "      <th>city</th>\n",
       "      <th>population</th>\n",
       "      <th>area</th>\n",
       "      <th>sea</th>\n",
       "      <th>pop_density</th>\n",
       "    </tr>\n",
       "  </thead>\n",
       "  <tbody>\n",
       "    <tr>\n",
       "      <th>0</th>\n",
       "      <td>China</td>\n",
       "      <td>CN</td>\n",
       "      <td>Beijing</td>\n",
       "      <td>1400</td>\n",
       "      <td>9.60</td>\n",
       "      <td>1</td>\n",
       "      <td>153</td>\n",
       "    </tr>\n",
       "    <tr>\n",
       "      <th>1</th>\n",
       "      <td>Vietnam</td>\n",
       "      <td>VN</td>\n",
       "      <td>Hanoi</td>\n",
       "      <td>97</td>\n",
       "      <td>0.30</td>\n",
       "      <td>1</td>\n",
       "      <td>49</td>\n",
       "    </tr>\n",
       "    <tr>\n",
       "      <th>2</th>\n",
       "      <td>United Kingdom</td>\n",
       "      <td>GB</td>\n",
       "      <td>London</td>\n",
       "      <td>67</td>\n",
       "      <td>0.20</td>\n",
       "      <td>1</td>\n",
       "      <td>281</td>\n",
       "    </tr>\n",
       "    <tr>\n",
       "      <th>3</th>\n",
       "      <td>Russia</td>\n",
       "      <td>RU</td>\n",
       "      <td>Moscow</td>\n",
       "      <td>144</td>\n",
       "      <td>17.10</td>\n",
       "      <td>1</td>\n",
       "      <td>9</td>\n",
       "    </tr>\n",
       "    <tr>\n",
       "      <th>4</th>\n",
       "      <td>Argentina</td>\n",
       "      <td>AR</td>\n",
       "      <td>Buenos Aires</td>\n",
       "      <td>45</td>\n",
       "      <td>2.80</td>\n",
       "      <td>1</td>\n",
       "      <td>17</td>\n",
       "    </tr>\n",
       "    <tr>\n",
       "      <th>5</th>\n",
       "      <td>Spain</td>\n",
       "      <td>ES</td>\n",
       "      <td>Madrid</td>\n",
       "      <td>47</td>\n",
       "      <td>0.50</td>\n",
       "      <td>1</td>\n",
       "      <td>94</td>\n",
       "    </tr>\n",
       "    <tr>\n",
       "      <th>6</th>\n",
       "      <td>Netherlands</td>\n",
       "      <td>NL</td>\n",
       "      <td>Amsterdam</td>\n",
       "      <td>17</td>\n",
       "      <td>0.04</td>\n",
       "      <td>1</td>\n",
       "      <td>508</td>\n",
       "    </tr>\n",
       "    <tr>\n",
       "      <th>7</th>\n",
       "      <td>Peru</td>\n",
       "      <td>PE</td>\n",
       "      <td>Lima</td>\n",
       "      <td>33</td>\n",
       "      <td>1.30</td>\n",
       "      <td>1</td>\n",
       "      <td>26</td>\n",
       "    </tr>\n",
       "  </tbody>\n",
       "</table>\n",
       "</div>"
      ],
      "text/plain": [
       "          country code          city  population   area sea  pop_density\n",
       "0           China   CN       Beijing        1400   9.60   1          153\n",
       "1         Vietnam   VN         Hanoi          97   0.30   1           49\n",
       "2  United Kingdom   GB        London          67   0.20   1          281\n",
       "3          Russia   RU        Moscow         144  17.10   1            9\n",
       "4       Argentina   AR  Buenos Aires          45   2.80   1           17\n",
       "5           Spain   ES        Madrid          47   0.50   1           94\n",
       "6     Netherlands   NL     Amsterdam          17   0.04   1          508\n",
       "7            Peru   PE          Lima          33   1.30   1           26"
      ]
     },
     "execution_count": 35,
     "metadata": {},
     "output_type": "execute_result"
    }
   ],
   "source": [
    "# изменения сразу сохраняются в датафрейме\n",
    "countries"
   ]
  },
  {
   "cell_type": "markdown",
   "metadata": {
    "id": "NPBoNyNWAdNe"
   },
   "source": [
    "Метод `.assign()`"
   ]
  },
  {
   "cell_type": "code",
   "execution_count": 36,
   "metadata": {
    "colab": {
     "base_uri": "https://localhost:8080/",
     "height": 300
    },
    "id": "ePoqAYOTAhF_",
    "outputId": "51f9008a-8f8c-43f3-dc55-85f7fd2fd8a8"
   },
   "outputs": [
    {
     "data": {
      "text/html": [
       "<div>\n",
       "<style scoped>\n",
       "    .dataframe tbody tr th:only-of-type {\n",
       "        vertical-align: middle;\n",
       "    }\n",
       "\n",
       "    .dataframe tbody tr th {\n",
       "        vertical-align: top;\n",
       "    }\n",
       "\n",
       "    .dataframe thead th {\n",
       "        text-align: right;\n",
       "    }\n",
       "</style>\n",
       "<table border=\"1\" class=\"dataframe\">\n",
       "  <thead>\n",
       "    <tr style=\"text-align: right;\">\n",
       "      <th></th>\n",
       "      <th>country</th>\n",
       "      <th>code</th>\n",
       "      <th>city</th>\n",
       "      <th>population</th>\n",
       "      <th>area</th>\n",
       "      <th>sea</th>\n",
       "      <th>pop_density</th>\n",
       "      <th>area_miles</th>\n",
       "    </tr>\n",
       "  </thead>\n",
       "  <tbody>\n",
       "    <tr>\n",
       "      <th>0</th>\n",
       "      <td>China</td>\n",
       "      <td>CN</td>\n",
       "      <td>Beijing</td>\n",
       "      <td>1400</td>\n",
       "      <td>9.60</td>\n",
       "      <td>1</td>\n",
       "      <td>153</td>\n",
       "      <td>3.71</td>\n",
       "    </tr>\n",
       "    <tr>\n",
       "      <th>1</th>\n",
       "      <td>Vietnam</td>\n",
       "      <td>VN</td>\n",
       "      <td>Hanoi</td>\n",
       "      <td>97</td>\n",
       "      <td>0.30</td>\n",
       "      <td>1</td>\n",
       "      <td>49</td>\n",
       "      <td>0.12</td>\n",
       "    </tr>\n",
       "    <tr>\n",
       "      <th>2</th>\n",
       "      <td>United Kingdom</td>\n",
       "      <td>GB</td>\n",
       "      <td>London</td>\n",
       "      <td>67</td>\n",
       "      <td>0.20</td>\n",
       "      <td>1</td>\n",
       "      <td>281</td>\n",
       "      <td>0.08</td>\n",
       "    </tr>\n",
       "    <tr>\n",
       "      <th>3</th>\n",
       "      <td>Russia</td>\n",
       "      <td>RU</td>\n",
       "      <td>Moscow</td>\n",
       "      <td>144</td>\n",
       "      <td>17.10</td>\n",
       "      <td>1</td>\n",
       "      <td>9</td>\n",
       "      <td>6.60</td>\n",
       "    </tr>\n",
       "    <tr>\n",
       "      <th>4</th>\n",
       "      <td>Argentina</td>\n",
       "      <td>AR</td>\n",
       "      <td>Buenos Aires</td>\n",
       "      <td>45</td>\n",
       "      <td>2.80</td>\n",
       "      <td>1</td>\n",
       "      <td>17</td>\n",
       "      <td>1.08</td>\n",
       "    </tr>\n",
       "    <tr>\n",
       "      <th>5</th>\n",
       "      <td>Spain</td>\n",
       "      <td>ES</td>\n",
       "      <td>Madrid</td>\n",
       "      <td>47</td>\n",
       "      <td>0.50</td>\n",
       "      <td>1</td>\n",
       "      <td>94</td>\n",
       "      <td>0.19</td>\n",
       "    </tr>\n",
       "    <tr>\n",
       "      <th>6</th>\n",
       "      <td>Netherlands</td>\n",
       "      <td>NL</td>\n",
       "      <td>Amsterdam</td>\n",
       "      <td>17</td>\n",
       "      <td>0.04</td>\n",
       "      <td>1</td>\n",
       "      <td>508</td>\n",
       "      <td>0.02</td>\n",
       "    </tr>\n",
       "    <tr>\n",
       "      <th>7</th>\n",
       "      <td>Peru</td>\n",
       "      <td>PE</td>\n",
       "      <td>Lima</td>\n",
       "      <td>33</td>\n",
       "      <td>1.30</td>\n",
       "      <td>1</td>\n",
       "      <td>26</td>\n",
       "      <td>0.50</td>\n",
       "    </tr>\n",
       "  </tbody>\n",
       "</table>\n",
       "</div>"
      ],
      "text/plain": [
       "          country code          city  population   area sea  pop_density  \\\n",
       "0           China   CN       Beijing        1400   9.60   1          153   \n",
       "1         Vietnam   VN         Hanoi          97   0.30   1           49   \n",
       "2  United Kingdom   GB        London          67   0.20   1          281   \n",
       "3          Russia   RU        Moscow         144  17.10   1            9   \n",
       "4       Argentina   AR  Buenos Aires          45   2.80   1           17   \n",
       "5           Spain   ES        Madrid          47   0.50   1           94   \n",
       "6     Netherlands   NL     Amsterdam          17   0.04   1          508   \n",
       "7            Peru   PE          Lima          33   1.30   1           26   \n",
       "\n",
       "   area_miles  \n",
       "0        3.71  \n",
       "1        0.12  \n",
       "2        0.08  \n",
       "3        6.60  \n",
       "4        1.08  \n",
       "5        0.19  \n",
       "6        0.02  \n",
       "7        0.50  "
      ]
     },
     "execution_count": 36,
     "metadata": {},
     "output_type": "execute_result"
    }
   ],
   "source": [
    "# создадим столбец area_miles, переведя площадь в мили\n",
    "countries = countries.assign(area_miles=countries.area / 2.59).round(2)\n",
    "countries"
   ]
  },
  {
   "cell_type": "code",
   "execution_count": 37,
   "metadata": {
    "id": "Ix3l_JgMaSrH"
   },
   "outputs": [],
   "source": [
    "# удалим этот столбец, чтобы рассмотреть другие методы\n",
    "countries.drop(labels=\"area_miles\", axis=1, inplace=True)"
   ]
  },
  {
   "cell_type": "markdown",
   "metadata": {
    "id": "cgkhVuycZ-N0"
   },
   "source": [
    "Можно сложнее"
   ]
  },
  {
   "cell_type": "code",
   "execution_count": 142,
   "metadata": {
    "colab": {
     "base_uri": "https://localhost:8080/",
     "height": 300
    },
    "id": "dTjgDi3ZaBGy",
    "outputId": "e59b71d2-78cb-4502-f62f-ac419f5e5659"
   },
   "outputs": [
    {
     "data": {
      "text/html": [
       "<div>\n",
       "<style scoped>\n",
       "    .dataframe tbody tr th:only-of-type {\n",
       "        vertical-align: middle;\n",
       "    }\n",
       "\n",
       "    .dataframe tbody tr th {\n",
       "        vertical-align: top;\n",
       "    }\n",
       "\n",
       "    .dataframe thead th {\n",
       "        text-align: right;\n",
       "    }\n",
       "</style>\n",
       "<table border=\"1\" class=\"dataframe\">\n",
       "  <thead>\n",
       "    <tr style=\"text-align: right;\">\n",
       "      <th></th>\n",
       "      <th>country</th>\n",
       "      <th>capital</th>\n",
       "      <th>population</th>\n",
       "      <th>area</th>\n",
       "      <th>sea</th>\n",
       "      <th>area_miles</th>\n",
       "    </tr>\n",
       "  </thead>\n",
       "  <tbody>\n",
       "    <tr>\n",
       "      <th>CN</th>\n",
       "      <td>China</td>\n",
       "      <td>Beijing</td>\n",
       "      <td>1400</td>\n",
       "      <td>9.6</td>\n",
       "      <td>1</td>\n",
       "      <td>3.71</td>\n",
       "    </tr>\n",
       "    <tr>\n",
       "      <th>VN</th>\n",
       "      <td>Vietnam</td>\n",
       "      <td>Hanoi</td>\n",
       "      <td>97</td>\n",
       "      <td>0.3</td>\n",
       "      <td>1</td>\n",
       "      <td>0.12</td>\n",
       "    </tr>\n",
       "    <tr>\n",
       "      <th>GB</th>\n",
       "      <td>United Kingdom</td>\n",
       "      <td>London</td>\n",
       "      <td>67</td>\n",
       "      <td>0.2</td>\n",
       "      <td>1</td>\n",
       "      <td>0.08</td>\n",
       "    </tr>\n",
       "    <tr>\n",
       "      <th>RU</th>\n",
       "      <td>Russia</td>\n",
       "      <td>Moscow</td>\n",
       "      <td>144</td>\n",
       "      <td>17.1</td>\n",
       "      <td>1</td>\n",
       "      <td>6.60</td>\n",
       "    </tr>\n",
       "    <tr>\n",
       "      <th>AR</th>\n",
       "      <td>Argentina</td>\n",
       "      <td>Buenos Aires</td>\n",
       "      <td>45</td>\n",
       "      <td>2.8</td>\n",
       "      <td>1</td>\n",
       "      <td>1.08</td>\n",
       "    </tr>\n",
       "    <tr>\n",
       "      <th>BO</th>\n",
       "      <td>Bolivia</td>\n",
       "      <td>Sucre</td>\n",
       "      <td>12</td>\n",
       "      <td>1.1</td>\n",
       "      <td>0</td>\n",
       "      <td>0.42</td>\n",
       "    </tr>\n",
       "    <tr>\n",
       "      <th>ZA</th>\n",
       "      <td>South Africa</td>\n",
       "      <td>Pretoria</td>\n",
       "      <td>59</td>\n",
       "      <td>1.2</td>\n",
       "      <td>1</td>\n",
       "      <td>0.46</td>\n",
       "    </tr>\n",
       "  </tbody>\n",
       "</table>\n",
       "</div>"
      ],
      "text/plain": [
       "           country       capital  population  area  sea  area_miles\n",
       "CN           China       Beijing        1400   9.6    1        3.71\n",
       "VN         Vietnam         Hanoi          97   0.3    1        0.12\n",
       "GB  United Kingdom        London          67   0.2    1        0.08\n",
       "RU          Russia        Moscow         144  17.1    1        6.60\n",
       "AR       Argentina  Buenos Aires          45   2.8    1        1.08\n",
       "BO         Bolivia         Sucre          12   1.1    0        0.42\n",
       "ZA    South Africa      Pretoria          59   1.2    1        0.46"
      ]
     },
     "execution_count": 142,
     "metadata": {},
     "output_type": "execute_result"
    }
   ],
   "source": [
    "# выведем индекс и содержание строк\n",
    "for index, row in countries.iterrows():\n",
    "    # запишем для каждой строки (index) в новый столбец area_miles\n",
    "    # округленное значение площади row.area в милях\n",
    "    countries.loc[index, \"area_miles\"] = np.round(row.area / 2.59, 2)\n",
    "\n",
    "# посмотрим на результат\n",
    "countries"
   ]
  },
  {
   "cell_type": "code",
   "execution_count": 39,
   "metadata": {
    "id": "iobZg_d92FeU"
   },
   "outputs": [],
   "source": [
    "# снова удалим этот столбец\n",
    "countries.drop(labels=\"area_miles\", axis=1, inplace=True)"
   ]
  },
  {
   "cell_type": "markdown",
   "metadata": {
    "id": "QZpMhQH4107e"
   },
   "source": [
    "Можно проще"
   ]
  },
  {
   "cell_type": "code",
   "execution_count": 40,
   "metadata": {
    "colab": {
     "base_uri": "https://localhost:8080/",
     "height": 300
    },
    "id": "x58cuDcL13-2",
    "outputId": "40d2b1e2-b47c-4a39-a1b8-13692be14443"
   },
   "outputs": [
    {
     "data": {
      "text/html": [
       "<div>\n",
       "<style scoped>\n",
       "    .dataframe tbody tr th:only-of-type {\n",
       "        vertical-align: middle;\n",
       "    }\n",
       "\n",
       "    .dataframe tbody tr th {\n",
       "        vertical-align: top;\n",
       "    }\n",
       "\n",
       "    .dataframe thead th {\n",
       "        text-align: right;\n",
       "    }\n",
       "</style>\n",
       "<table border=\"1\" class=\"dataframe\">\n",
       "  <thead>\n",
       "    <tr style=\"text-align: right;\">\n",
       "      <th></th>\n",
       "      <th>country</th>\n",
       "      <th>code</th>\n",
       "      <th>city</th>\n",
       "      <th>population</th>\n",
       "      <th>area</th>\n",
       "      <th>sea</th>\n",
       "      <th>pop_density</th>\n",
       "      <th>area_miles</th>\n",
       "    </tr>\n",
       "  </thead>\n",
       "  <tbody>\n",
       "    <tr>\n",
       "      <th>0</th>\n",
       "      <td>China</td>\n",
       "      <td>CN</td>\n",
       "      <td>Beijing</td>\n",
       "      <td>1400</td>\n",
       "      <td>9.60</td>\n",
       "      <td>1</td>\n",
       "      <td>153</td>\n",
       "      <td>3.71</td>\n",
       "    </tr>\n",
       "    <tr>\n",
       "      <th>1</th>\n",
       "      <td>Vietnam</td>\n",
       "      <td>VN</td>\n",
       "      <td>Hanoi</td>\n",
       "      <td>97</td>\n",
       "      <td>0.30</td>\n",
       "      <td>1</td>\n",
       "      <td>49</td>\n",
       "      <td>0.12</td>\n",
       "    </tr>\n",
       "    <tr>\n",
       "      <th>2</th>\n",
       "      <td>United Kingdom</td>\n",
       "      <td>GB</td>\n",
       "      <td>London</td>\n",
       "      <td>67</td>\n",
       "      <td>0.20</td>\n",
       "      <td>1</td>\n",
       "      <td>281</td>\n",
       "      <td>0.08</td>\n",
       "    </tr>\n",
       "    <tr>\n",
       "      <th>3</th>\n",
       "      <td>Russia</td>\n",
       "      <td>RU</td>\n",
       "      <td>Moscow</td>\n",
       "      <td>144</td>\n",
       "      <td>17.10</td>\n",
       "      <td>1</td>\n",
       "      <td>9</td>\n",
       "      <td>6.60</td>\n",
       "    </tr>\n",
       "    <tr>\n",
       "      <th>4</th>\n",
       "      <td>Argentina</td>\n",
       "      <td>AR</td>\n",
       "      <td>Buenos Aires</td>\n",
       "      <td>45</td>\n",
       "      <td>2.80</td>\n",
       "      <td>1</td>\n",
       "      <td>17</td>\n",
       "      <td>1.08</td>\n",
       "    </tr>\n",
       "    <tr>\n",
       "      <th>5</th>\n",
       "      <td>Spain</td>\n",
       "      <td>ES</td>\n",
       "      <td>Madrid</td>\n",
       "      <td>47</td>\n",
       "      <td>0.50</td>\n",
       "      <td>1</td>\n",
       "      <td>94</td>\n",
       "      <td>0.19</td>\n",
       "    </tr>\n",
       "    <tr>\n",
       "      <th>6</th>\n",
       "      <td>Netherlands</td>\n",
       "      <td>NL</td>\n",
       "      <td>Amsterdam</td>\n",
       "      <td>17</td>\n",
       "      <td>0.04</td>\n",
       "      <td>1</td>\n",
       "      <td>508</td>\n",
       "      <td>0.02</td>\n",
       "    </tr>\n",
       "    <tr>\n",
       "      <th>7</th>\n",
       "      <td>Peru</td>\n",
       "      <td>PE</td>\n",
       "      <td>Lima</td>\n",
       "      <td>33</td>\n",
       "      <td>1.30</td>\n",
       "      <td>1</td>\n",
       "      <td>26</td>\n",
       "      <td>0.50</td>\n",
       "    </tr>\n",
       "  </tbody>\n",
       "</table>\n",
       "</div>"
      ],
      "text/plain": [
       "          country code          city  population   area sea  pop_density  \\\n",
       "0           China   CN       Beijing        1400   9.60   1          153   \n",
       "1         Vietnam   VN         Hanoi          97   0.30   1           49   \n",
       "2  United Kingdom   GB        London          67   0.20   1          281   \n",
       "3          Russia   RU        Moscow         144  17.10   1            9   \n",
       "4       Argentina   AR  Buenos Aires          45   2.80   1           17   \n",
       "5           Spain   ES        Madrid          47   0.50   1           94   \n",
       "6     Netherlands   NL     Amsterdam          17   0.04   1          508   \n",
       "7            Peru   PE          Lima          33   1.30   1           26   \n",
       "\n",
       "   area_miles  \n",
       "0        3.71  \n",
       "1        0.12  \n",
       "2        0.08  \n",
       "3        6.60  \n",
       "4        1.08  \n",
       "5        0.19  \n",
       "6        0.02  \n",
       "7        0.50  "
      ]
     },
     "execution_count": 40,
     "metadata": {},
     "output_type": "execute_result"
    }
   ],
   "source": [
    "# объявим новый столбец и присвоим ему нужное нам значение\n",
    "countries[\"area_miles\"] = (countries.area / 2.59).round(2)\n",
    "countries"
   ]
  },
  {
   "cell_type": "markdown",
   "metadata": {
    "id": "jcnI63eruV2y"
   },
   "source": [
    "### Удаление строк и столбцов"
   ]
  },
  {
   "cell_type": "markdown",
   "metadata": {
    "id": "KEPTST37AkJy"
   },
   "source": [
    "#### Удаление строк"
   ]
  },
  {
   "cell_type": "code",
   "execution_count": 41,
   "metadata": {
    "colab": {
     "base_uri": "https://localhost:8080/",
     "height": 237
    },
    "id": "bJM8pCwoAlxG",
    "outputId": "81779f83-01cc-4229-e30b-37e91c3aaee4"
   },
   "outputs": [
    {
     "data": {
      "text/html": [
       "<div>\n",
       "<style scoped>\n",
       "    .dataframe tbody tr th:only-of-type {\n",
       "        vertical-align: middle;\n",
       "    }\n",
       "\n",
       "    .dataframe tbody tr th {\n",
       "        vertical-align: top;\n",
       "    }\n",
       "\n",
       "    .dataframe thead th {\n",
       "        text-align: right;\n",
       "    }\n",
       "</style>\n",
       "<table border=\"1\" class=\"dataframe\">\n",
       "  <thead>\n",
       "    <tr style=\"text-align: right;\">\n",
       "      <th></th>\n",
       "      <th>country</th>\n",
       "      <th>code</th>\n",
       "      <th>city</th>\n",
       "      <th>population</th>\n",
       "      <th>area</th>\n",
       "      <th>sea</th>\n",
       "      <th>pop_density</th>\n",
       "      <th>area_miles</th>\n",
       "    </tr>\n",
       "  </thead>\n",
       "  <tbody>\n",
       "    <tr>\n",
       "      <th>2</th>\n",
       "      <td>United Kingdom</td>\n",
       "      <td>GB</td>\n",
       "      <td>London</td>\n",
       "      <td>67</td>\n",
       "      <td>0.20</td>\n",
       "      <td>1</td>\n",
       "      <td>281</td>\n",
       "      <td>0.08</td>\n",
       "    </tr>\n",
       "    <tr>\n",
       "      <th>3</th>\n",
       "      <td>Russia</td>\n",
       "      <td>RU</td>\n",
       "      <td>Moscow</td>\n",
       "      <td>144</td>\n",
       "      <td>17.10</td>\n",
       "      <td>1</td>\n",
       "      <td>9</td>\n",
       "      <td>6.60</td>\n",
       "    </tr>\n",
       "    <tr>\n",
       "      <th>4</th>\n",
       "      <td>Argentina</td>\n",
       "      <td>AR</td>\n",
       "      <td>Buenos Aires</td>\n",
       "      <td>45</td>\n",
       "      <td>2.80</td>\n",
       "      <td>1</td>\n",
       "      <td>17</td>\n",
       "      <td>1.08</td>\n",
       "    </tr>\n",
       "    <tr>\n",
       "      <th>5</th>\n",
       "      <td>Spain</td>\n",
       "      <td>ES</td>\n",
       "      <td>Madrid</td>\n",
       "      <td>47</td>\n",
       "      <td>0.50</td>\n",
       "      <td>1</td>\n",
       "      <td>94</td>\n",
       "      <td>0.19</td>\n",
       "    </tr>\n",
       "    <tr>\n",
       "      <th>6</th>\n",
       "      <td>Netherlands</td>\n",
       "      <td>NL</td>\n",
       "      <td>Amsterdam</td>\n",
       "      <td>17</td>\n",
       "      <td>0.04</td>\n",
       "      <td>1</td>\n",
       "      <td>508</td>\n",
       "      <td>0.02</td>\n",
       "    </tr>\n",
       "    <tr>\n",
       "      <th>7</th>\n",
       "      <td>Peru</td>\n",
       "      <td>PE</td>\n",
       "      <td>Lima</td>\n",
       "      <td>33</td>\n",
       "      <td>1.30</td>\n",
       "      <td>1</td>\n",
       "      <td>26</td>\n",
       "      <td>0.50</td>\n",
       "    </tr>\n",
       "  </tbody>\n",
       "</table>\n",
       "</div>"
      ],
      "text/plain": [
       "          country code          city  population   area sea  pop_density  \\\n",
       "2  United Kingdom   GB        London          67   0.20   1          281   \n",
       "3          Russia   RU        Moscow         144  17.10   1            9   \n",
       "4       Argentina   AR  Buenos Aires          45   2.80   1           17   \n",
       "5           Spain   ES        Madrid          47   0.50   1           94   \n",
       "6     Netherlands   NL     Amsterdam          17   0.04   1          508   \n",
       "7            Peru   PE          Lima          33   1.30   1           26   \n",
       "\n",
       "   area_miles  \n",
       "2        0.08  \n",
       "3        6.60  \n",
       "4        1.08  \n",
       "5        0.19  \n",
       "6        0.02  \n",
       "7        0.50  "
      ]
     },
     "execution_count": 41,
     "metadata": {},
     "output_type": "execute_result"
    }
   ],
   "source": [
    "# для удаления строк можно использовать метод .drop()\n",
    "# с параметрами labels (индекс удаляемых строк) и axis = 0\n",
    "countries.drop(labels=[0, 1], axis=0)"
   ]
  },
  {
   "cell_type": "code",
   "execution_count": 42,
   "metadata": {
    "colab": {
     "base_uri": "https://localhost:8080/",
     "height": 237
    },
    "id": "MvcpUP9rNkjG",
    "outputId": "837eee47-68ea-4f31-9df5-a9b9137fd9a3"
   },
   "outputs": [
    {
     "data": {
      "text/html": [
       "<div>\n",
       "<style scoped>\n",
       "    .dataframe tbody tr th:only-of-type {\n",
       "        vertical-align: middle;\n",
       "    }\n",
       "\n",
       "    .dataframe tbody tr th {\n",
       "        vertical-align: top;\n",
       "    }\n",
       "\n",
       "    .dataframe thead th {\n",
       "        text-align: right;\n",
       "    }\n",
       "</style>\n",
       "<table border=\"1\" class=\"dataframe\">\n",
       "  <thead>\n",
       "    <tr style=\"text-align: right;\">\n",
       "      <th></th>\n",
       "      <th>country</th>\n",
       "      <th>code</th>\n",
       "      <th>city</th>\n",
       "      <th>population</th>\n",
       "      <th>area</th>\n",
       "      <th>sea</th>\n",
       "      <th>pop_density</th>\n",
       "      <th>area_miles</th>\n",
       "    </tr>\n",
       "  </thead>\n",
       "  <tbody>\n",
       "    <tr>\n",
       "      <th>0</th>\n",
       "      <td>China</td>\n",
       "      <td>CN</td>\n",
       "      <td>Beijing</td>\n",
       "      <td>1400</td>\n",
       "      <td>9.60</td>\n",
       "      <td>1</td>\n",
       "      <td>153</td>\n",
       "      <td>3.71</td>\n",
       "    </tr>\n",
       "    <tr>\n",
       "      <th>1</th>\n",
       "      <td>Vietnam</td>\n",
       "      <td>VN</td>\n",
       "      <td>Hanoi</td>\n",
       "      <td>97</td>\n",
       "      <td>0.30</td>\n",
       "      <td>1</td>\n",
       "      <td>49</td>\n",
       "      <td>0.12</td>\n",
       "    </tr>\n",
       "    <tr>\n",
       "      <th>2</th>\n",
       "      <td>United Kingdom</td>\n",
       "      <td>GB</td>\n",
       "      <td>London</td>\n",
       "      <td>67</td>\n",
       "      <td>0.20</td>\n",
       "      <td>1</td>\n",
       "      <td>281</td>\n",
       "      <td>0.08</td>\n",
       "    </tr>\n",
       "    <tr>\n",
       "      <th>3</th>\n",
       "      <td>Russia</td>\n",
       "      <td>RU</td>\n",
       "      <td>Moscow</td>\n",
       "      <td>144</td>\n",
       "      <td>17.10</td>\n",
       "      <td>1</td>\n",
       "      <td>9</td>\n",
       "      <td>6.60</td>\n",
       "    </tr>\n",
       "    <tr>\n",
       "      <th>4</th>\n",
       "      <td>Argentina</td>\n",
       "      <td>AR</td>\n",
       "      <td>Buenos Aires</td>\n",
       "      <td>45</td>\n",
       "      <td>2.80</td>\n",
       "      <td>1</td>\n",
       "      <td>17</td>\n",
       "      <td>1.08</td>\n",
       "    </tr>\n",
       "    <tr>\n",
       "      <th>6</th>\n",
       "      <td>Netherlands</td>\n",
       "      <td>NL</td>\n",
       "      <td>Amsterdam</td>\n",
       "      <td>17</td>\n",
       "      <td>0.04</td>\n",
       "      <td>1</td>\n",
       "      <td>508</td>\n",
       "      <td>0.02</td>\n",
       "    </tr>\n",
       "  </tbody>\n",
       "</table>\n",
       "</div>"
      ],
      "text/plain": [
       "          country code          city  population   area sea  pop_density  \\\n",
       "0           China   CN       Beijing        1400   9.60   1          153   \n",
       "1         Vietnam   VN         Hanoi          97   0.30   1           49   \n",
       "2  United Kingdom   GB        London          67   0.20   1          281   \n",
       "3          Russia   RU        Moscow         144  17.10   1            9   \n",
       "4       Argentina   AR  Buenos Aires          45   2.80   1           17   \n",
       "6     Netherlands   NL     Amsterdam          17   0.04   1          508   \n",
       "\n",
       "   area_miles  \n",
       "0        3.71  \n",
       "1        0.12  \n",
       "2        0.08  \n",
       "3        6.60  \n",
       "4        1.08  \n",
       "6        0.02  "
      ]
     },
     "execution_count": 42,
     "metadata": {},
     "output_type": "execute_result"
    }
   ],
   "source": [
    "# кроме того, можно использовать метод .drop() с единственным параметром index\n",
    "countries.drop(index=[5, 7])"
   ]
  },
  {
   "cell_type": "code",
   "execution_count": 43,
   "metadata": {
    "colab": {
     "base_uri": "https://localhost:8080/",
     "height": 269
    },
    "id": "fpREt6PcOFZl",
    "outputId": "c2750e8f-086f-4aba-e522-f579bee11e28"
   },
   "outputs": [
    {
     "data": {
      "text/html": [
       "<div>\n",
       "<style scoped>\n",
       "    .dataframe tbody tr th:only-of-type {\n",
       "        vertical-align: middle;\n",
       "    }\n",
       "\n",
       "    .dataframe tbody tr th {\n",
       "        vertical-align: top;\n",
       "    }\n",
       "\n",
       "    .dataframe thead th {\n",
       "        text-align: right;\n",
       "    }\n",
       "</style>\n",
       "<table border=\"1\" class=\"dataframe\">\n",
       "  <thead>\n",
       "    <tr style=\"text-align: right;\">\n",
       "      <th></th>\n",
       "      <th>country</th>\n",
       "      <th>code</th>\n",
       "      <th>city</th>\n",
       "      <th>population</th>\n",
       "      <th>area</th>\n",
       "      <th>sea</th>\n",
       "      <th>pop_density</th>\n",
       "      <th>area_miles</th>\n",
       "    </tr>\n",
       "  </thead>\n",
       "  <tbody>\n",
       "    <tr>\n",
       "      <th>0</th>\n",
       "      <td>China</td>\n",
       "      <td>CN</td>\n",
       "      <td>Beijing</td>\n",
       "      <td>1400</td>\n",
       "      <td>9.60</td>\n",
       "      <td>1</td>\n",
       "      <td>153</td>\n",
       "      <td>3.71</td>\n",
       "    </tr>\n",
       "    <tr>\n",
       "      <th>1</th>\n",
       "      <td>Vietnam</td>\n",
       "      <td>VN</td>\n",
       "      <td>Hanoi</td>\n",
       "      <td>97</td>\n",
       "      <td>0.30</td>\n",
       "      <td>1</td>\n",
       "      <td>49</td>\n",
       "      <td>0.12</td>\n",
       "    </tr>\n",
       "    <tr>\n",
       "      <th>2</th>\n",
       "      <td>United Kingdom</td>\n",
       "      <td>GB</td>\n",
       "      <td>London</td>\n",
       "      <td>67</td>\n",
       "      <td>0.20</td>\n",
       "      <td>1</td>\n",
       "      <td>281</td>\n",
       "      <td>0.08</td>\n",
       "    </tr>\n",
       "    <tr>\n",
       "      <th>3</th>\n",
       "      <td>Russia</td>\n",
       "      <td>RU</td>\n",
       "      <td>Moscow</td>\n",
       "      <td>144</td>\n",
       "      <td>17.10</td>\n",
       "      <td>1</td>\n",
       "      <td>9</td>\n",
       "      <td>6.60</td>\n",
       "    </tr>\n",
       "    <tr>\n",
       "      <th>5</th>\n",
       "      <td>Spain</td>\n",
       "      <td>ES</td>\n",
       "      <td>Madrid</td>\n",
       "      <td>47</td>\n",
       "      <td>0.50</td>\n",
       "      <td>1</td>\n",
       "      <td>94</td>\n",
       "      <td>0.19</td>\n",
       "    </tr>\n",
       "    <tr>\n",
       "      <th>6</th>\n",
       "      <td>Netherlands</td>\n",
       "      <td>NL</td>\n",
       "      <td>Amsterdam</td>\n",
       "      <td>17</td>\n",
       "      <td>0.04</td>\n",
       "      <td>1</td>\n",
       "      <td>508</td>\n",
       "      <td>0.02</td>\n",
       "    </tr>\n",
       "    <tr>\n",
       "      <th>7</th>\n",
       "      <td>Peru</td>\n",
       "      <td>PE</td>\n",
       "      <td>Lima</td>\n",
       "      <td>33</td>\n",
       "      <td>1.30</td>\n",
       "      <td>1</td>\n",
       "      <td>26</td>\n",
       "      <td>0.50</td>\n",
       "    </tr>\n",
       "  </tbody>\n",
       "</table>\n",
       "</div>"
      ],
      "text/plain": [
       "          country code       city  population   area sea  pop_density  \\\n",
       "0           China   CN    Beijing        1400   9.60   1          153   \n",
       "1         Vietnam   VN      Hanoi          97   0.30   1           49   \n",
       "2  United Kingdom   GB     London          67   0.20   1          281   \n",
       "3          Russia   RU     Moscow         144  17.10   1            9   \n",
       "5           Spain   ES     Madrid          47   0.50   1           94   \n",
       "6     Netherlands   NL  Amsterdam          17   0.04   1          508   \n",
       "7            Peru   PE       Lima          33   1.30   1           26   \n",
       "\n",
       "   area_miles  \n",
       "0        3.71  \n",
       "1        0.12  \n",
       "2        0.08  \n",
       "3        6.60  \n",
       "5        0.19  \n",
       "6        0.02  \n",
       "7        0.50  "
      ]
     },
     "execution_count": 43,
     "metadata": {},
     "output_type": "execute_result"
    }
   ],
   "source": [
    "# передадим индекс датафрейма через атрибут index и удалим четвертую строку\n",
    "countries.drop(index=countries.index[4])"
   ]
  },
  {
   "cell_type": "code",
   "execution_count": 44,
   "metadata": {
    "colab": {
     "base_uri": "https://localhost:8080/",
     "height": 237
    },
    "id": "6f9r_GEWOU3T",
    "outputId": "1f30ec23-47e2-4c36-a6e6-4f9d383f647b"
   },
   "outputs": [
    {
     "data": {
      "text/html": [
       "<div>\n",
       "<style scoped>\n",
       "    .dataframe tbody tr th:only-of-type {\n",
       "        vertical-align: middle;\n",
       "    }\n",
       "\n",
       "    .dataframe tbody tr th {\n",
       "        vertical-align: top;\n",
       "    }\n",
       "\n",
       "    .dataframe thead th {\n",
       "        text-align: right;\n",
       "    }\n",
       "</style>\n",
       "<table border=\"1\" class=\"dataframe\">\n",
       "  <thead>\n",
       "    <tr style=\"text-align: right;\">\n",
       "      <th></th>\n",
       "      <th>country</th>\n",
       "      <th>code</th>\n",
       "      <th>city</th>\n",
       "      <th>population</th>\n",
       "      <th>area</th>\n",
       "      <th>sea</th>\n",
       "      <th>pop_density</th>\n",
       "      <th>area_miles</th>\n",
       "    </tr>\n",
       "  </thead>\n",
       "  <tbody>\n",
       "    <tr>\n",
       "      <th>0</th>\n",
       "      <td>China</td>\n",
       "      <td>CN</td>\n",
       "      <td>Beijing</td>\n",
       "      <td>1400</td>\n",
       "      <td>9.6</td>\n",
       "      <td>1</td>\n",
       "      <td>153</td>\n",
       "      <td>3.71</td>\n",
       "    </tr>\n",
       "    <tr>\n",
       "      <th>1</th>\n",
       "      <td>Vietnam</td>\n",
       "      <td>VN</td>\n",
       "      <td>Hanoi</td>\n",
       "      <td>97</td>\n",
       "      <td>0.3</td>\n",
       "      <td>1</td>\n",
       "      <td>49</td>\n",
       "      <td>0.12</td>\n",
       "    </tr>\n",
       "    <tr>\n",
       "      <th>2</th>\n",
       "      <td>United Kingdom</td>\n",
       "      <td>GB</td>\n",
       "      <td>London</td>\n",
       "      <td>67</td>\n",
       "      <td>0.2</td>\n",
       "      <td>1</td>\n",
       "      <td>281</td>\n",
       "      <td>0.08</td>\n",
       "    </tr>\n",
       "    <tr>\n",
       "      <th>3</th>\n",
       "      <td>Russia</td>\n",
       "      <td>RU</td>\n",
       "      <td>Moscow</td>\n",
       "      <td>144</td>\n",
       "      <td>17.1</td>\n",
       "      <td>1</td>\n",
       "      <td>9</td>\n",
       "      <td>6.60</td>\n",
       "    </tr>\n",
       "    <tr>\n",
       "      <th>5</th>\n",
       "      <td>Spain</td>\n",
       "      <td>ES</td>\n",
       "      <td>Madrid</td>\n",
       "      <td>47</td>\n",
       "      <td>0.5</td>\n",
       "      <td>1</td>\n",
       "      <td>94</td>\n",
       "      <td>0.19</td>\n",
       "    </tr>\n",
       "    <tr>\n",
       "      <th>7</th>\n",
       "      <td>Peru</td>\n",
       "      <td>PE</td>\n",
       "      <td>Lima</td>\n",
       "      <td>33</td>\n",
       "      <td>1.3</td>\n",
       "      <td>1</td>\n",
       "      <td>26</td>\n",
       "      <td>0.50</td>\n",
       "    </tr>\n",
       "  </tbody>\n",
       "</table>\n",
       "</div>"
      ],
      "text/plain": [
       "          country code     city  population  area sea  pop_density  area_miles\n",
       "0           China   CN  Beijing        1400   9.6   1          153        3.71\n",
       "1         Vietnam   VN    Hanoi          97   0.3   1           49        0.12\n",
       "2  United Kingdom   GB   London          67   0.2   1          281        0.08\n",
       "3          Russia   RU   Moscow         144  17.1   1            9        6.60\n",
       "5           Spain   ES   Madrid          47   0.5   1           94        0.19\n",
       "7            Peru   PE     Lima          33   1.3   1           26        0.50"
      ]
     },
     "execution_count": 44,
     "metadata": {},
     "output_type": "execute_result"
    }
   ],
   "source": [
    "# с атрубутом датафрейма index мы можем делать срезы\n",
    "# удалим каждую вторую строку, начиная с четвертой с конца\n",
    "countries.drop(index=countries.index[-4::2])"
   ]
  },
  {
   "cell_type": "markdown",
   "metadata": {
    "id": "ma3vvI_cAgoe"
   },
   "source": [
    "#### Удаление столбцов"
   ]
  },
  {
   "cell_type": "code",
   "execution_count": 45,
   "metadata": {
    "colab": {
     "base_uri": "https://localhost:8080/",
     "height": 300
    },
    "id": "knFb5pX6uacd",
    "outputId": "dbc61d58-6232-4d04-b975-2557d51aa395"
   },
   "outputs": [
    {
     "data": {
      "text/html": [
       "<div>\n",
       "<style scoped>\n",
       "    .dataframe tbody tr th:only-of-type {\n",
       "        vertical-align: middle;\n",
       "    }\n",
       "\n",
       "    .dataframe tbody tr th {\n",
       "        vertical-align: top;\n",
       "    }\n",
       "\n",
       "    .dataframe thead th {\n",
       "        text-align: right;\n",
       "    }\n",
       "</style>\n",
       "<table border=\"1\" class=\"dataframe\">\n",
       "  <thead>\n",
       "    <tr style=\"text-align: right;\">\n",
       "      <th></th>\n",
       "      <th>country</th>\n",
       "      <th>city</th>\n",
       "      <th>population</th>\n",
       "      <th>area</th>\n",
       "      <th>sea</th>\n",
       "      <th>pop_density</th>\n",
       "    </tr>\n",
       "  </thead>\n",
       "  <tbody>\n",
       "    <tr>\n",
       "      <th>0</th>\n",
       "      <td>China</td>\n",
       "      <td>Beijing</td>\n",
       "      <td>1400</td>\n",
       "      <td>9.60</td>\n",
       "      <td>1</td>\n",
       "      <td>153</td>\n",
       "    </tr>\n",
       "    <tr>\n",
       "      <th>1</th>\n",
       "      <td>Vietnam</td>\n",
       "      <td>Hanoi</td>\n",
       "      <td>97</td>\n",
       "      <td>0.30</td>\n",
       "      <td>1</td>\n",
       "      <td>49</td>\n",
       "    </tr>\n",
       "    <tr>\n",
       "      <th>2</th>\n",
       "      <td>United Kingdom</td>\n",
       "      <td>London</td>\n",
       "      <td>67</td>\n",
       "      <td>0.20</td>\n",
       "      <td>1</td>\n",
       "      <td>281</td>\n",
       "    </tr>\n",
       "    <tr>\n",
       "      <th>3</th>\n",
       "      <td>Russia</td>\n",
       "      <td>Moscow</td>\n",
       "      <td>144</td>\n",
       "      <td>17.10</td>\n",
       "      <td>1</td>\n",
       "      <td>9</td>\n",
       "    </tr>\n",
       "    <tr>\n",
       "      <th>4</th>\n",
       "      <td>Argentina</td>\n",
       "      <td>Buenos Aires</td>\n",
       "      <td>45</td>\n",
       "      <td>2.80</td>\n",
       "      <td>1</td>\n",
       "      <td>17</td>\n",
       "    </tr>\n",
       "    <tr>\n",
       "      <th>5</th>\n",
       "      <td>Spain</td>\n",
       "      <td>Madrid</td>\n",
       "      <td>47</td>\n",
       "      <td>0.50</td>\n",
       "      <td>1</td>\n",
       "      <td>94</td>\n",
       "    </tr>\n",
       "    <tr>\n",
       "      <th>6</th>\n",
       "      <td>Netherlands</td>\n",
       "      <td>Amsterdam</td>\n",
       "      <td>17</td>\n",
       "      <td>0.04</td>\n",
       "      <td>1</td>\n",
       "      <td>508</td>\n",
       "    </tr>\n",
       "    <tr>\n",
       "      <th>7</th>\n",
       "      <td>Peru</td>\n",
       "      <td>Lima</td>\n",
       "      <td>33</td>\n",
       "      <td>1.30</td>\n",
       "      <td>1</td>\n",
       "      <td>26</td>\n",
       "    </tr>\n",
       "  </tbody>\n",
       "</table>\n",
       "</div>"
      ],
      "text/plain": [
       "          country          city  population   area sea  pop_density\n",
       "0           China       Beijing        1400   9.60   1          153\n",
       "1         Vietnam         Hanoi          97   0.30   1           49\n",
       "2  United Kingdom        London          67   0.20   1          281\n",
       "3          Russia        Moscow         144  17.10   1            9\n",
       "4       Argentina  Buenos Aires          45   2.80   1           17\n",
       "5           Spain        Madrid          47   0.50   1           94\n",
       "6     Netherlands     Amsterdam          17   0.04   1          508\n",
       "7            Peru          Lima          33   1.30   1           26"
      ]
     },
     "execution_count": 45,
     "metadata": {},
     "output_type": "execute_result"
    }
   ],
   "source": [
    "# используем параметры labels и axis = 1 метода .drop() для удаления столбцов\n",
    "countries.drop(labels=[\"area_miles\", \"code\"], axis=1)"
   ]
  },
  {
   "cell_type": "code",
   "execution_count": 46,
   "metadata": {
    "colab": {
     "base_uri": "https://localhost:8080/",
     "height": 300
    },
    "id": "GX_gqPm2RXFP",
    "outputId": "05425509-635a-4001-c759-d8ccfcfa7d63"
   },
   "outputs": [
    {
     "data": {
      "text/html": [
       "<div>\n",
       "<style scoped>\n",
       "    .dataframe tbody tr th:only-of-type {\n",
       "        vertical-align: middle;\n",
       "    }\n",
       "\n",
       "    .dataframe tbody tr th {\n",
       "        vertical-align: top;\n",
       "    }\n",
       "\n",
       "    .dataframe thead th {\n",
       "        text-align: right;\n",
       "    }\n",
       "</style>\n",
       "<table border=\"1\" class=\"dataframe\">\n",
       "  <thead>\n",
       "    <tr style=\"text-align: right;\">\n",
       "      <th></th>\n",
       "      <th>country</th>\n",
       "      <th>city</th>\n",
       "      <th>population</th>\n",
       "      <th>area</th>\n",
       "      <th>sea</th>\n",
       "      <th>pop_density</th>\n",
       "    </tr>\n",
       "  </thead>\n",
       "  <tbody>\n",
       "    <tr>\n",
       "      <th>0</th>\n",
       "      <td>China</td>\n",
       "      <td>Beijing</td>\n",
       "      <td>1400</td>\n",
       "      <td>9.60</td>\n",
       "      <td>1</td>\n",
       "      <td>153</td>\n",
       "    </tr>\n",
       "    <tr>\n",
       "      <th>1</th>\n",
       "      <td>Vietnam</td>\n",
       "      <td>Hanoi</td>\n",
       "      <td>97</td>\n",
       "      <td>0.30</td>\n",
       "      <td>1</td>\n",
       "      <td>49</td>\n",
       "    </tr>\n",
       "    <tr>\n",
       "      <th>2</th>\n",
       "      <td>United Kingdom</td>\n",
       "      <td>London</td>\n",
       "      <td>67</td>\n",
       "      <td>0.20</td>\n",
       "      <td>1</td>\n",
       "      <td>281</td>\n",
       "    </tr>\n",
       "    <tr>\n",
       "      <th>3</th>\n",
       "      <td>Russia</td>\n",
       "      <td>Moscow</td>\n",
       "      <td>144</td>\n",
       "      <td>17.10</td>\n",
       "      <td>1</td>\n",
       "      <td>9</td>\n",
       "    </tr>\n",
       "    <tr>\n",
       "      <th>4</th>\n",
       "      <td>Argentina</td>\n",
       "      <td>Buenos Aires</td>\n",
       "      <td>45</td>\n",
       "      <td>2.80</td>\n",
       "      <td>1</td>\n",
       "      <td>17</td>\n",
       "    </tr>\n",
       "    <tr>\n",
       "      <th>5</th>\n",
       "      <td>Spain</td>\n",
       "      <td>Madrid</td>\n",
       "      <td>47</td>\n",
       "      <td>0.50</td>\n",
       "      <td>1</td>\n",
       "      <td>94</td>\n",
       "    </tr>\n",
       "    <tr>\n",
       "      <th>6</th>\n",
       "      <td>Netherlands</td>\n",
       "      <td>Amsterdam</td>\n",
       "      <td>17</td>\n",
       "      <td>0.04</td>\n",
       "      <td>1</td>\n",
       "      <td>508</td>\n",
       "    </tr>\n",
       "    <tr>\n",
       "      <th>7</th>\n",
       "      <td>Peru</td>\n",
       "      <td>Lima</td>\n",
       "      <td>33</td>\n",
       "      <td>1.30</td>\n",
       "      <td>1</td>\n",
       "      <td>26</td>\n",
       "    </tr>\n",
       "  </tbody>\n",
       "</table>\n",
       "</div>"
      ],
      "text/plain": [
       "          country          city  population   area sea  pop_density\n",
       "0           China       Beijing        1400   9.60   1          153\n",
       "1         Vietnam         Hanoi          97   0.30   1           49\n",
       "2  United Kingdom        London          67   0.20   1          281\n",
       "3          Russia        Moscow         144  17.10   1            9\n",
       "4       Argentina  Buenos Aires          45   2.80   1           17\n",
       "5           Spain        Madrid          47   0.50   1           94\n",
       "6     Netherlands     Amsterdam          17   0.04   1          508\n",
       "7            Peru          Lima          33   1.30   1           26"
      ]
     },
     "execution_count": 46,
     "metadata": {},
     "output_type": "execute_result"
    }
   ],
   "source": [
    "# используем параметр columns для удаления столбцов\n",
    "countries.drop(columns=[\"area_miles\", \"code\"])"
   ]
  },
  {
   "cell_type": "code",
   "execution_count": null,
   "metadata": {
    "colab": {
     "base_uri": "https://localhost:8080/",
     "height": 300
    },
    "id": "fEZ55jpwRhpi",
    "outputId": "ea79380a-5695-4f81-e2ac-d634aa490920"
   },
   "outputs": [
    {
     "data": {
      "text/html": [
       "<div>\n",
       "<style scoped>\n",
       "    .dataframe tbody tr th:only-of-type {\n",
       "        vertical-align: middle;\n",
       "    }\n",
       "\n",
       "    .dataframe tbody tr th {\n",
       "        vertical-align: top;\n",
       "    }\n",
       "\n",
       "    .dataframe thead th {\n",
       "        text-align: right;\n",
       "    }\n",
       "</style>\n",
       "<table border=\"1\" class=\"dataframe\">\n",
       "  <thead>\n",
       "    <tr style=\"text-align: right;\">\n",
       "      <th></th>\n",
       "      <th>country</th>\n",
       "      <th>code</th>\n",
       "      <th>city</th>\n",
       "      <th>population</th>\n",
       "      <th>area</th>\n",
       "      <th>sea</th>\n",
       "      <th>pop_density</th>\n",
       "    </tr>\n",
       "  </thead>\n",
       "  <tbody>\n",
       "    <tr>\n",
       "      <th>0</th>\n",
       "      <td>China</td>\n",
       "      <td>CN</td>\n",
       "      <td>Beijing</td>\n",
       "      <td>1400</td>\n",
       "      <td>9.60</td>\n",
       "      <td>1</td>\n",
       "      <td>153</td>\n",
       "    </tr>\n",
       "    <tr>\n",
       "      <th>1</th>\n",
       "      <td>Vietnam</td>\n",
       "      <td>VN</td>\n",
       "      <td>Hanoi</td>\n",
       "      <td>97</td>\n",
       "      <td>0.30</td>\n",
       "      <td>1</td>\n",
       "      <td>49</td>\n",
       "    </tr>\n",
       "    <tr>\n",
       "      <th>2</th>\n",
       "      <td>United Kingdom</td>\n",
       "      <td>GB</td>\n",
       "      <td>London</td>\n",
       "      <td>67</td>\n",
       "      <td>0.20</td>\n",
       "      <td>1</td>\n",
       "      <td>281</td>\n",
       "    </tr>\n",
       "    <tr>\n",
       "      <th>3</th>\n",
       "      <td>Russia</td>\n",
       "      <td>RU</td>\n",
       "      <td>Moscow</td>\n",
       "      <td>144</td>\n",
       "      <td>17.10</td>\n",
       "      <td>1</td>\n",
       "      <td>9</td>\n",
       "    </tr>\n",
       "    <tr>\n",
       "      <th>4</th>\n",
       "      <td>Argentina</td>\n",
       "      <td>AR</td>\n",
       "      <td>Buenos Aires</td>\n",
       "      <td>45</td>\n",
       "      <td>2.80</td>\n",
       "      <td>1</td>\n",
       "      <td>17</td>\n",
       "    </tr>\n",
       "    <tr>\n",
       "      <th>5</th>\n",
       "      <td>Spain</td>\n",
       "      <td>ES</td>\n",
       "      <td>Madrid</td>\n",
       "      <td>47</td>\n",
       "      <td>0.50</td>\n",
       "      <td>1</td>\n",
       "      <td>94</td>\n",
       "    </tr>\n",
       "    <tr>\n",
       "      <th>6</th>\n",
       "      <td>Netherlands</td>\n",
       "      <td>NL</td>\n",
       "      <td>Amsterdam</td>\n",
       "      <td>17</td>\n",
       "      <td>0.04</td>\n",
       "      <td>1</td>\n",
       "      <td>508</td>\n",
       "    </tr>\n",
       "    <tr>\n",
       "      <th>7</th>\n",
       "      <td>Peru</td>\n",
       "      <td>PE</td>\n",
       "      <td>Lima</td>\n",
       "      <td>33</td>\n",
       "      <td>1.30</td>\n",
       "      <td>1</td>\n",
       "      <td>26</td>\n",
       "    </tr>\n",
       "  </tbody>\n",
       "</table>\n",
       "</div>"
      ],
      "text/plain": [
       "          country code          city  population   area sea  pop_density\n",
       "0           China   CN       Beijing        1400   9.60   1          153\n",
       "1         Vietnam   VN         Hanoi          97   0.30   1           49\n",
       "2  United Kingdom   GB        London          67   0.20   1          281\n",
       "3          Russia   RU        Moscow         144  17.10   1            9\n",
       "4       Argentina   AR  Buenos Aires          45   2.80   1           17\n",
       "5           Spain   ES        Madrid          47   0.50   1           94\n",
       "6     Netherlands   NL     Amsterdam          17   0.04   1          508\n",
       "7            Peru   PE          Lima          33   1.30   1           26"
      ]
     },
     "execution_count": 47,
     "metadata": {},
     "output_type": "execute_result"
    }
   ],
   "source": [
    "# через атрибут датафрейма columns мы можем передавать номера удаляемых\n",
    "# столбцов\n",
    "countries.drop(columns=countries.columns[-1])"
   ]
  },
  {
   "cell_type": "code",
   "execution_count": 48,
   "metadata": {
    "colab": {
     "base_uri": "https://localhost:8080/",
     "height": 269
    },
    "id": "HSVXLT9iX7rW",
    "outputId": "1fefac44-5d78-4f50-df8e-e6c521de2c09"
   },
   "outputs": [
    {
     "data": {
      "text/html": [
       "<div>\n",
       "<style scoped>\n",
       "    .dataframe tbody tr th:only-of-type {\n",
       "        vertical-align: middle;\n",
       "    }\n",
       "\n",
       "    .dataframe tbody tr th {\n",
       "        vertical-align: top;\n",
       "    }\n",
       "\n",
       "    .dataframe thead th {\n",
       "        text-align: right;\n",
       "    }\n",
       "</style>\n",
       "<table border=\"1\" class=\"dataframe\">\n",
       "  <thead>\n",
       "    <tr style=\"text-align: right;\">\n",
       "      <th></th>\n",
       "      <th>country</th>\n",
       "      <th>city</th>\n",
       "      <th>population</th>\n",
       "      <th>area</th>\n",
       "      <th>sea</th>\n",
       "    </tr>\n",
       "  </thead>\n",
       "  <tbody>\n",
       "    <tr>\n",
       "      <th>0</th>\n",
       "      <td>China</td>\n",
       "      <td>Beijing</td>\n",
       "      <td>1400</td>\n",
       "      <td>9.60</td>\n",
       "      <td>1</td>\n",
       "    </tr>\n",
       "    <tr>\n",
       "      <th>1</th>\n",
       "      <td>Vietnam</td>\n",
       "      <td>Hanoi</td>\n",
       "      <td>97</td>\n",
       "      <td>0.30</td>\n",
       "      <td>1</td>\n",
       "    </tr>\n",
       "    <tr>\n",
       "      <th>2</th>\n",
       "      <td>United Kingdom</td>\n",
       "      <td>London</td>\n",
       "      <td>67</td>\n",
       "      <td>0.20</td>\n",
       "      <td>1</td>\n",
       "    </tr>\n",
       "    <tr>\n",
       "      <th>3</th>\n",
       "      <td>Russia</td>\n",
       "      <td>Moscow</td>\n",
       "      <td>144</td>\n",
       "      <td>17.10</td>\n",
       "      <td>1</td>\n",
       "    </tr>\n",
       "    <tr>\n",
       "      <th>5</th>\n",
       "      <td>Spain</td>\n",
       "      <td>Madrid</td>\n",
       "      <td>47</td>\n",
       "      <td>0.50</td>\n",
       "      <td>1</td>\n",
       "    </tr>\n",
       "    <tr>\n",
       "      <th>6</th>\n",
       "      <td>Netherlands</td>\n",
       "      <td>Amsterdam</td>\n",
       "      <td>17</td>\n",
       "      <td>0.04</td>\n",
       "      <td>1</td>\n",
       "    </tr>\n",
       "    <tr>\n",
       "      <th>7</th>\n",
       "      <td>Peru</td>\n",
       "      <td>Lima</td>\n",
       "      <td>33</td>\n",
       "      <td>1.30</td>\n",
       "      <td>1</td>\n",
       "    </tr>\n",
       "  </tbody>\n",
       "</table>\n",
       "</div>"
      ],
      "text/plain": [
       "          country       city  population   area sea\n",
       "0           China    Beijing        1400   9.60   1\n",
       "1         Vietnam      Hanoi          97   0.30   1\n",
       "2  United Kingdom     London          67   0.20   1\n",
       "3          Russia     Moscow         144  17.10   1\n",
       "5           Spain     Madrid          47   0.50   1\n",
       "6     Netherlands  Amsterdam          17   0.04   1\n",
       "7            Peru       Lima          33   1.30   1"
      ]
     },
     "execution_count": 48,
     "metadata": {},
     "output_type": "execute_result"
    }
   ],
   "source": [
    "# наконец удалим пятую строку и несколько столбцов и сохраним изменения\n",
    "countries.drop(index=4, inplace=True)\n",
    "countries.drop(columns=[\"code\", \"pop_density\", \"area_miles\"], inplace=True)\n",
    "countries"
   ]
  },
  {
   "cell_type": "markdown",
   "metadata": {
    "id": "OVlhRpsHR8Ek"
   },
   "source": [
    "#### Удаление по многоуровневому индексу"
   ]
  },
  {
   "cell_type": "code",
   "execution_count": 49,
   "metadata": {
    "colab": {
     "base_uri": "https://localhost:8080/",
     "height": 331
    },
    "id": "xbwbPzGbVzx4",
    "outputId": "438d74c4-0dc7-48a0-e62e-527f0b69ff9c"
   },
   "outputs": [
    {
     "data": {
      "text/html": [
       "<div>\n",
       "<style scoped>\n",
       "    .dataframe tbody tr th:only-of-type {\n",
       "        vertical-align: middle;\n",
       "    }\n",
       "\n",
       "    .dataframe tbody tr th {\n",
       "        vertical-align: top;\n",
       "    }\n",
       "\n",
       "    .dataframe thead tr th {\n",
       "        text-align: left;\n",
       "    }\n",
       "\n",
       "    .dataframe thead tr:last-of-type th {\n",
       "        text-align: right;\n",
       "    }\n",
       "</style>\n",
       "<table border=\"1\" class=\"dataframe\">\n",
       "  <thead>\n",
       "    <tr>\n",
       "      <th></th>\n",
       "      <th></th>\n",
       "      <th colspan=\"2\" halign=\"left\">names</th>\n",
       "      <th colspan=\"3\" halign=\"left\">data</th>\n",
       "    </tr>\n",
       "    <tr>\n",
       "      <th></th>\n",
       "      <th></th>\n",
       "      <th>country</th>\n",
       "      <th>city</th>\n",
       "      <th>population</th>\n",
       "      <th>area</th>\n",
       "      <th>sea</th>\n",
       "    </tr>\n",
       "    <tr>\n",
       "      <th>region</th>\n",
       "      <th>code</th>\n",
       "      <th></th>\n",
       "      <th></th>\n",
       "      <th></th>\n",
       "      <th></th>\n",
       "      <th></th>\n",
       "    </tr>\n",
       "  </thead>\n",
       "  <tbody>\n",
       "    <tr>\n",
       "      <th rowspan=\"2\" valign=\"top\">Asia</th>\n",
       "      <th>CN</th>\n",
       "      <td>China</td>\n",
       "      <td>Beijing</td>\n",
       "      <td>1400</td>\n",
       "      <td>9.60</td>\n",
       "      <td>1</td>\n",
       "    </tr>\n",
       "    <tr>\n",
       "      <th>VN</th>\n",
       "      <td>Vietnam</td>\n",
       "      <td>Hanoi</td>\n",
       "      <td>97</td>\n",
       "      <td>0.30</td>\n",
       "      <td>1</td>\n",
       "    </tr>\n",
       "    <tr>\n",
       "      <th rowspan=\"4\" valign=\"top\">Europe</th>\n",
       "      <th>GB</th>\n",
       "      <td>United Kingdom</td>\n",
       "      <td>London</td>\n",
       "      <td>67</td>\n",
       "      <td>0.20</td>\n",
       "      <td>1</td>\n",
       "    </tr>\n",
       "    <tr>\n",
       "      <th>RU</th>\n",
       "      <td>Russia</td>\n",
       "      <td>Moscow</td>\n",
       "      <td>144</td>\n",
       "      <td>17.10</td>\n",
       "      <td>1</td>\n",
       "    </tr>\n",
       "    <tr>\n",
       "      <th>ES</th>\n",
       "      <td>Spain</td>\n",
       "      <td>Madrid</td>\n",
       "      <td>47</td>\n",
       "      <td>0.50</td>\n",
       "      <td>1</td>\n",
       "    </tr>\n",
       "    <tr>\n",
       "      <th>NL</th>\n",
       "      <td>Netherlands</td>\n",
       "      <td>Amsterdam</td>\n",
       "      <td>17</td>\n",
       "      <td>0.04</td>\n",
       "      <td>1</td>\n",
       "    </tr>\n",
       "    <tr>\n",
       "      <th>S. America</th>\n",
       "      <th>PE</th>\n",
       "      <td>Peru</td>\n",
       "      <td>Lima</td>\n",
       "      <td>33</td>\n",
       "      <td>1.30</td>\n",
       "      <td>1</td>\n",
       "    </tr>\n",
       "  </tbody>\n",
       "</table>\n",
       "</div>"
      ],
      "text/plain": [
       "                          names                  data           \n",
       "                        country       city population   area sea\n",
       "region     code                                                 \n",
       "Asia       CN             China    Beijing       1400   9.60   1\n",
       "           VN           Vietnam      Hanoi         97   0.30   1\n",
       "Europe     GB    United Kingdom     London         67   0.20   1\n",
       "           RU            Russia     Moscow        144  17.10   1\n",
       "           ES             Spain     Madrid         47   0.50   1\n",
       "           NL       Netherlands  Amsterdam         17   0.04   1\n",
       "S. America PE              Peru       Lima         33   1.30   1"
      ]
     },
     "execution_count": 49,
     "metadata": {},
     "output_type": "execute_result"
    }
   ],
   "source": [
    "# подготовим данные для многоуровневого индекса строк\n",
    "rows = [\n",
    "    (\"Asia\", \"CN\"),\n",
    "    (\"Asia\", \"VN\"),\n",
    "    (\"Europe\", \"GB\"),\n",
    "    (\"Europe\", \"RU\"),\n",
    "    (\"Europe\", \"ES\"),\n",
    "    (\"Europe\", \"NL\"),\n",
    "    (\"S. America\", \"PE\"),\n",
    "]\n",
    "\n",
    "# и столбцов\n",
    "cols = [\n",
    "    (\"names\", \"country\"),\n",
    "    (\"names\", \"city\"),\n",
    "    (\"data\", \"population\"),\n",
    "    (\"data\", \"area\"),\n",
    "    (\"data\", \"sea\"),\n",
    "]\n",
    "\n",
    "# создадим многоуровневый (иерархический) индекс\n",
    "# для индекса строк добавим названия столбцов индекса через параметр names\n",
    "custom_multindex = pd.MultiIndex.from_tuples(rows, names=[\"region\", \"code\"])\n",
    "custom_multicols = pd.MultiIndex.from_tuples(cols)\n",
    "\n",
    "# поместим индексы в атрибуты index и columns датафрейма\n",
    "countries.index = custom_multindex\n",
    "countries.columns = custom_multicols\n",
    "\n",
    "# посмотрим на результат\n",
    "countries"
   ]
  },
  {
   "cell_type": "markdown",
   "metadata": {
    "id": "Clcjo97QfAzY"
   },
   "source": [
    "Удаление строк"
   ]
  },
  {
   "cell_type": "code",
   "execution_count": 50,
   "metadata": {
    "colab": {
     "base_uri": "https://localhost:8080/",
     "height": 269
    },
    "id": "QzL8ulAVcVpm",
    "outputId": "2b2406f9-6d21-48b4-88af-475e175bb147"
   },
   "outputs": [
    {
     "data": {
      "text/html": [
       "<div>\n",
       "<style scoped>\n",
       "    .dataframe tbody tr th:only-of-type {\n",
       "        vertical-align: middle;\n",
       "    }\n",
       "\n",
       "    .dataframe tbody tr th {\n",
       "        vertical-align: top;\n",
       "    }\n",
       "\n",
       "    .dataframe thead tr th {\n",
       "        text-align: left;\n",
       "    }\n",
       "\n",
       "    .dataframe thead tr:last-of-type th {\n",
       "        text-align: right;\n",
       "    }\n",
       "</style>\n",
       "<table border=\"1\" class=\"dataframe\">\n",
       "  <thead>\n",
       "    <tr>\n",
       "      <th></th>\n",
       "      <th></th>\n",
       "      <th colspan=\"2\" halign=\"left\">names</th>\n",
       "      <th colspan=\"3\" halign=\"left\">data</th>\n",
       "    </tr>\n",
       "    <tr>\n",
       "      <th></th>\n",
       "      <th></th>\n",
       "      <th>country</th>\n",
       "      <th>city</th>\n",
       "      <th>population</th>\n",
       "      <th>area</th>\n",
       "      <th>sea</th>\n",
       "    </tr>\n",
       "    <tr>\n",
       "      <th>region</th>\n",
       "      <th>code</th>\n",
       "      <th></th>\n",
       "      <th></th>\n",
       "      <th></th>\n",
       "      <th></th>\n",
       "      <th></th>\n",
       "    </tr>\n",
       "  </thead>\n",
       "  <tbody>\n",
       "    <tr>\n",
       "      <th rowspan=\"4\" valign=\"top\">Europe</th>\n",
       "      <th>GB</th>\n",
       "      <td>United Kingdom</td>\n",
       "      <td>London</td>\n",
       "      <td>67</td>\n",
       "      <td>0.20</td>\n",
       "      <td>1</td>\n",
       "    </tr>\n",
       "    <tr>\n",
       "      <th>RU</th>\n",
       "      <td>Russia</td>\n",
       "      <td>Moscow</td>\n",
       "      <td>144</td>\n",
       "      <td>17.10</td>\n",
       "      <td>1</td>\n",
       "    </tr>\n",
       "    <tr>\n",
       "      <th>ES</th>\n",
       "      <td>Spain</td>\n",
       "      <td>Madrid</td>\n",
       "      <td>47</td>\n",
       "      <td>0.50</td>\n",
       "      <td>1</td>\n",
       "    </tr>\n",
       "    <tr>\n",
       "      <th>NL</th>\n",
       "      <td>Netherlands</td>\n",
       "      <td>Amsterdam</td>\n",
       "      <td>17</td>\n",
       "      <td>0.04</td>\n",
       "      <td>1</td>\n",
       "    </tr>\n",
       "    <tr>\n",
       "      <th>S. America</th>\n",
       "      <th>PE</th>\n",
       "      <td>Peru</td>\n",
       "      <td>Lima</td>\n",
       "      <td>33</td>\n",
       "      <td>1.30</td>\n",
       "      <td>1</td>\n",
       "    </tr>\n",
       "  </tbody>\n",
       "</table>\n",
       "</div>"
      ],
      "text/plain": [
       "                          names                  data           \n",
       "                        country       city population   area sea\n",
       "region     code                                                 \n",
       "Europe     GB    United Kingdom     London         67   0.20   1\n",
       "           RU            Russia     Moscow        144  17.10   1\n",
       "           ES             Spain     Madrid         47   0.50   1\n",
       "           NL       Netherlands  Amsterdam         17   0.04   1\n",
       "S. America PE              Peru       Lima         33   1.30   1"
      ]
     },
     "execution_count": 50,
     "metadata": {},
     "output_type": "execute_result"
    }
   ],
   "source": [
    "# удалим регион Asia указав соответствующий label, axis = 0, level = 0\n",
    "countries.drop(labels=\"Asia\", axis=0, level=0)"
   ]
  },
  {
   "cell_type": "code",
   "execution_count": 51,
   "metadata": {
    "colab": {
     "base_uri": "https://localhost:8080/",
     "height": 300
    },
    "id": "2zMx7KQib_nq",
    "outputId": "7ec7444d-86a4-4226-b3cf-54255fd4f231"
   },
   "outputs": [
    {
     "data": {
      "text/html": [
       "<div>\n",
       "<style scoped>\n",
       "    .dataframe tbody tr th:only-of-type {\n",
       "        vertical-align: middle;\n",
       "    }\n",
       "\n",
       "    .dataframe tbody tr th {\n",
       "        vertical-align: top;\n",
       "    }\n",
       "\n",
       "    .dataframe thead tr th {\n",
       "        text-align: left;\n",
       "    }\n",
       "\n",
       "    .dataframe thead tr:last-of-type th {\n",
       "        text-align: right;\n",
       "    }\n",
       "</style>\n",
       "<table border=\"1\" class=\"dataframe\">\n",
       "  <thead>\n",
       "    <tr>\n",
       "      <th></th>\n",
       "      <th></th>\n",
       "      <th colspan=\"2\" halign=\"left\">names</th>\n",
       "      <th colspan=\"3\" halign=\"left\">data</th>\n",
       "    </tr>\n",
       "    <tr>\n",
       "      <th></th>\n",
       "      <th></th>\n",
       "      <th>country</th>\n",
       "      <th>city</th>\n",
       "      <th>population</th>\n",
       "      <th>area</th>\n",
       "      <th>sea</th>\n",
       "    </tr>\n",
       "    <tr>\n",
       "      <th>region</th>\n",
       "      <th>code</th>\n",
       "      <th></th>\n",
       "      <th></th>\n",
       "      <th></th>\n",
       "      <th></th>\n",
       "      <th></th>\n",
       "    </tr>\n",
       "  </thead>\n",
       "  <tbody>\n",
       "    <tr>\n",
       "      <th rowspan=\"2\" valign=\"top\">Asia</th>\n",
       "      <th>CN</th>\n",
       "      <td>China</td>\n",
       "      <td>Beijing</td>\n",
       "      <td>1400</td>\n",
       "      <td>9.60</td>\n",
       "      <td>1</td>\n",
       "    </tr>\n",
       "    <tr>\n",
       "      <th>VN</th>\n",
       "      <td>Vietnam</td>\n",
       "      <td>Hanoi</td>\n",
       "      <td>97</td>\n",
       "      <td>0.30</td>\n",
       "      <td>1</td>\n",
       "    </tr>\n",
       "    <tr>\n",
       "      <th rowspan=\"3\" valign=\"top\">Europe</th>\n",
       "      <th>GB</th>\n",
       "      <td>United Kingdom</td>\n",
       "      <td>London</td>\n",
       "      <td>67</td>\n",
       "      <td>0.20</td>\n",
       "      <td>1</td>\n",
       "    </tr>\n",
       "    <tr>\n",
       "      <th>ES</th>\n",
       "      <td>Spain</td>\n",
       "      <td>Madrid</td>\n",
       "      <td>47</td>\n",
       "      <td>0.50</td>\n",
       "      <td>1</td>\n",
       "    </tr>\n",
       "    <tr>\n",
       "      <th>NL</th>\n",
       "      <td>Netherlands</td>\n",
       "      <td>Amsterdam</td>\n",
       "      <td>17</td>\n",
       "      <td>0.04</td>\n",
       "      <td>1</td>\n",
       "    </tr>\n",
       "    <tr>\n",
       "      <th>S. America</th>\n",
       "      <th>PE</th>\n",
       "      <td>Peru</td>\n",
       "      <td>Lima</td>\n",
       "      <td>33</td>\n",
       "      <td>1.30</td>\n",
       "      <td>1</td>\n",
       "    </tr>\n",
       "  </tbody>\n",
       "</table>\n",
       "</div>"
      ],
      "text/plain": [
       "                          names                  data          \n",
       "                        country       city population  area sea\n",
       "region     code                                                \n",
       "Asia       CN             China    Beijing       1400  9.60   1\n",
       "           VN           Vietnam      Hanoi         97  0.30   1\n",
       "Europe     GB    United Kingdom     London         67  0.20   1\n",
       "           ES             Spain     Madrid         47  0.50   1\n",
       "           NL       Netherlands  Amsterdam         17  0.04   1\n",
       "S. America PE              Peru       Lima         33  1.30   1"
      ]
     },
     "execution_count": 51,
     "metadata": {},
     "output_type": "execute_result"
    }
   ],
   "source": [
    "# мы также можем удалять строки через параметр index с указанием нужного level\n",
    "countries.drop(index=\"RU\", level=1)"
   ]
  },
  {
   "cell_type": "markdown",
   "metadata": {
    "id": "oxsjnLpOfWgU"
   },
   "source": [
    "Удаление столбцов"
   ]
  },
  {
   "cell_type": "code",
   "execution_count": 52,
   "metadata": {
    "colab": {
     "base_uri": "https://localhost:8080/",
     "height": 331
    },
    "id": "aiGYQLH4cRzb",
    "outputId": "3bb93e28-f85b-40e2-c73c-b8210ef9ff32"
   },
   "outputs": [
    {
     "data": {
      "text/html": [
       "<div>\n",
       "<style scoped>\n",
       "    .dataframe tbody tr th:only-of-type {\n",
       "        vertical-align: middle;\n",
       "    }\n",
       "\n",
       "    .dataframe tbody tr th {\n",
       "        vertical-align: top;\n",
       "    }\n",
       "\n",
       "    .dataframe thead tr th {\n",
       "        text-align: left;\n",
       "    }\n",
       "\n",
       "    .dataframe thead tr:last-of-type th {\n",
       "        text-align: right;\n",
       "    }\n",
       "</style>\n",
       "<table border=\"1\" class=\"dataframe\">\n",
       "  <thead>\n",
       "    <tr>\n",
       "      <th></th>\n",
       "      <th></th>\n",
       "      <th colspan=\"3\" halign=\"left\">data</th>\n",
       "    </tr>\n",
       "    <tr>\n",
       "      <th></th>\n",
       "      <th></th>\n",
       "      <th>population</th>\n",
       "      <th>area</th>\n",
       "      <th>sea</th>\n",
       "    </tr>\n",
       "    <tr>\n",
       "      <th>region</th>\n",
       "      <th>code</th>\n",
       "      <th></th>\n",
       "      <th></th>\n",
       "      <th></th>\n",
       "    </tr>\n",
       "  </thead>\n",
       "  <tbody>\n",
       "    <tr>\n",
       "      <th rowspan=\"2\" valign=\"top\">Asia</th>\n",
       "      <th>CN</th>\n",
       "      <td>1400</td>\n",
       "      <td>9.60</td>\n",
       "      <td>1</td>\n",
       "    </tr>\n",
       "    <tr>\n",
       "      <th>VN</th>\n",
       "      <td>97</td>\n",
       "      <td>0.30</td>\n",
       "      <td>1</td>\n",
       "    </tr>\n",
       "    <tr>\n",
       "      <th rowspan=\"4\" valign=\"top\">Europe</th>\n",
       "      <th>GB</th>\n",
       "      <td>67</td>\n",
       "      <td>0.20</td>\n",
       "      <td>1</td>\n",
       "    </tr>\n",
       "    <tr>\n",
       "      <th>RU</th>\n",
       "      <td>144</td>\n",
       "      <td>17.10</td>\n",
       "      <td>1</td>\n",
       "    </tr>\n",
       "    <tr>\n",
       "      <th>ES</th>\n",
       "      <td>47</td>\n",
       "      <td>0.50</td>\n",
       "      <td>1</td>\n",
       "    </tr>\n",
       "    <tr>\n",
       "      <th>NL</th>\n",
       "      <td>17</td>\n",
       "      <td>0.04</td>\n",
       "      <td>1</td>\n",
       "    </tr>\n",
       "    <tr>\n",
       "      <th>S. America</th>\n",
       "      <th>PE</th>\n",
       "      <td>33</td>\n",
       "      <td>1.30</td>\n",
       "      <td>1</td>\n",
       "    </tr>\n",
       "  </tbody>\n",
       "</table>\n",
       "</div>"
      ],
      "text/plain": [
       "                      data           \n",
       "                population   area sea\n",
       "region     code                      \n",
       "Asia       CN         1400   9.60   1\n",
       "           VN           97   0.30   1\n",
       "Europe     GB           67   0.20   1\n",
       "           RU          144  17.10   1\n",
       "           ES           47   0.50   1\n",
       "           NL           17   0.04   1\n",
       "S. America PE           33   1.30   1"
      ]
     },
     "execution_count": 52,
     "metadata": {},
     "output_type": "execute_result"
    }
   ],
   "source": [
    "# удалим все столбцы в разделе names на нулевом уровне индекса столбцов\n",
    "countries.drop(labels=\"names\", level=0, axis=1)"
   ]
  },
  {
   "cell_type": "code",
   "execution_count": 53,
   "metadata": {
    "colab": {
     "base_uri": "https://localhost:8080/",
     "height": 331
    },
    "id": "MVZlAQzDckns",
    "outputId": "ad13d04b-6d4f-40fe-e2e6-eb9c839adc5f"
   },
   "outputs": [
    {
     "data": {
      "text/html": [
       "<div>\n",
       "<style scoped>\n",
       "    .dataframe tbody tr th:only-of-type {\n",
       "        vertical-align: middle;\n",
       "    }\n",
       "\n",
       "    .dataframe tbody tr th {\n",
       "        vertical-align: top;\n",
       "    }\n",
       "\n",
       "    .dataframe thead tr th {\n",
       "        text-align: left;\n",
       "    }\n",
       "\n",
       "    .dataframe thead tr:last-of-type th {\n",
       "        text-align: right;\n",
       "    }\n",
       "</style>\n",
       "<table border=\"1\" class=\"dataframe\">\n",
       "  <thead>\n",
       "    <tr>\n",
       "      <th></th>\n",
       "      <th></th>\n",
       "      <th>names</th>\n",
       "      <th colspan=\"2\" halign=\"left\">data</th>\n",
       "    </tr>\n",
       "    <tr>\n",
       "      <th></th>\n",
       "      <th></th>\n",
       "      <th>country</th>\n",
       "      <th>population</th>\n",
       "      <th>sea</th>\n",
       "    </tr>\n",
       "    <tr>\n",
       "      <th>region</th>\n",
       "      <th>code</th>\n",
       "      <th></th>\n",
       "      <th></th>\n",
       "      <th></th>\n",
       "    </tr>\n",
       "  </thead>\n",
       "  <tbody>\n",
       "    <tr>\n",
       "      <th rowspan=\"2\" valign=\"top\">Asia</th>\n",
       "      <th>CN</th>\n",
       "      <td>China</td>\n",
       "      <td>1400</td>\n",
       "      <td>1</td>\n",
       "    </tr>\n",
       "    <tr>\n",
       "      <th>VN</th>\n",
       "      <td>Vietnam</td>\n",
       "      <td>97</td>\n",
       "      <td>1</td>\n",
       "    </tr>\n",
       "    <tr>\n",
       "      <th rowspan=\"4\" valign=\"top\">Europe</th>\n",
       "      <th>GB</th>\n",
       "      <td>United Kingdom</td>\n",
       "      <td>67</td>\n",
       "      <td>1</td>\n",
       "    </tr>\n",
       "    <tr>\n",
       "      <th>RU</th>\n",
       "      <td>Russia</td>\n",
       "      <td>144</td>\n",
       "      <td>1</td>\n",
       "    </tr>\n",
       "    <tr>\n",
       "      <th>ES</th>\n",
       "      <td>Spain</td>\n",
       "      <td>47</td>\n",
       "      <td>1</td>\n",
       "    </tr>\n",
       "    <tr>\n",
       "      <th>NL</th>\n",
       "      <td>Netherlands</td>\n",
       "      <td>17</td>\n",
       "      <td>1</td>\n",
       "    </tr>\n",
       "    <tr>\n",
       "      <th>S. America</th>\n",
       "      <th>PE</th>\n",
       "      <td>Peru</td>\n",
       "      <td>33</td>\n",
       "      <td>1</td>\n",
       "    </tr>\n",
       "  </tbody>\n",
       "</table>\n",
       "</div>"
      ],
      "text/plain": [
       "                          names       data    \n",
       "                        country population sea\n",
       "region     code                               \n",
       "Asia       CN             China       1400   1\n",
       "           VN           Vietnam         97   1\n",
       "Europe     GB    United Kingdom         67   1\n",
       "           RU            Russia        144   1\n",
       "           ES             Spain         47   1\n",
       "           NL       Netherlands         17   1\n",
       "S. America PE              Peru         33   1"
      ]
     },
     "execution_count": 53,
     "metadata": {},
     "output_type": "execute_result"
    }
   ],
   "source": [
    "# для удаления столбцов можно использовать параметр columns\n",
    "# с указанием соответствующего уровня индекса (level) столбцов\n",
    "countries.drop(columns=[\"city\", \"area\"], level=1)"
   ]
  },
  {
   "cell_type": "markdown",
   "metadata": {
    "id": "KbSEzO1_HTyn"
   },
   "source": [
    "### Применение функций"
   ]
  },
  {
   "cell_type": "code",
   "execution_count": 54,
   "metadata": {
    "colab": {
     "base_uri": "https://localhost:8080/",
     "height": 206
    },
    "id": "kF-a9z4bHbAC",
    "outputId": "3509543e-47af-4d92-f18c-6e5eb141a6a4"
   },
   "outputs": [
    {
     "data": {
      "text/html": [
       "<div>\n",
       "<style scoped>\n",
       "    .dataframe tbody tr th:only-of-type {\n",
       "        vertical-align: middle;\n",
       "    }\n",
       "\n",
       "    .dataframe tbody tr th {\n",
       "        vertical-align: top;\n",
       "    }\n",
       "\n",
       "    .dataframe thead th {\n",
       "        text-align: right;\n",
       "    }\n",
       "</style>\n",
       "<table border=\"1\" class=\"dataframe\">\n",
       "  <thead>\n",
       "    <tr style=\"text-align: right;\">\n",
       "      <th></th>\n",
       "      <th>name</th>\n",
       "      <th>gender</th>\n",
       "      <th>age</th>\n",
       "      <th>height</th>\n",
       "      <th>weight</th>\n",
       "    </tr>\n",
       "  </thead>\n",
       "  <tbody>\n",
       "    <tr>\n",
       "      <th>0</th>\n",
       "      <td>Алексей</td>\n",
       "      <td>1</td>\n",
       "      <td>35</td>\n",
       "      <td>180.46</td>\n",
       "      <td>73.61</td>\n",
       "    </tr>\n",
       "    <tr>\n",
       "      <th>1</th>\n",
       "      <td>Иван</td>\n",
       "      <td>1</td>\n",
       "      <td>20</td>\n",
       "      <td>182.26</td>\n",
       "      <td>75.34</td>\n",
       "    </tr>\n",
       "    <tr>\n",
       "      <th>2</th>\n",
       "      <td>Анна</td>\n",
       "      <td>0</td>\n",
       "      <td>13</td>\n",
       "      <td>165.12</td>\n",
       "      <td>50.22</td>\n",
       "    </tr>\n",
       "    <tr>\n",
       "      <th>3</th>\n",
       "      <td>Ольга</td>\n",
       "      <td>2</td>\n",
       "      <td>28</td>\n",
       "      <td>168.04</td>\n",
       "      <td>52.14</td>\n",
       "    </tr>\n",
       "    <tr>\n",
       "      <th>4</th>\n",
       "      <td>Николай</td>\n",
       "      <td>1</td>\n",
       "      <td>16</td>\n",
       "      <td>178.68</td>\n",
       "      <td>69.72</td>\n",
       "    </tr>\n",
       "  </tbody>\n",
       "</table>\n",
       "</div>"
      ],
      "text/plain": [
       "      name  gender  age  height  weight\n",
       "0  Алексей       1   35  180.46   73.61\n",
       "1     Иван       1   20  182.26   75.34\n",
       "2     Анна       0   13  165.12   50.22\n",
       "3    Ольга       2   28  168.04   52.14\n",
       "4  Николай       1   16  178.68   69.72"
      ]
     },
     "execution_count": 54,
     "metadata": {},
     "output_type": "execute_result"
    }
   ],
   "source": [
    "# создадим новый датафрейм с данными нескольких человек\n",
    "people = pd.DataFrame(\n",
    "    {\n",
    "        \"name\": [\"Алексей\", \"Иван\", \"Анна\", \"Ольга\", \"Николай\"],\n",
    "        \"gender\": [1, 1, 0, 2, 1],\n",
    "        \"age\": [35, 20, 13, 28, 16],\n",
    "        \"height\": [180.46, 182.26, 165.12, 168.04, 178.68],\n",
    "        \"weight\": [73.61, 75.34, 50.22, 52.14, 69.72],\n",
    "    }\n",
    ")\n",
    "\n",
    "people"
   ]
  },
  {
   "cell_type": "markdown",
   "metadata": {
    "id": "9uu9x7cvgpD0"
   },
   "source": [
    "#### Метод `.map()`"
   ]
  },
  {
   "cell_type": "code",
   "execution_count": 55,
   "metadata": {
    "colab": {
     "base_uri": "https://localhost:8080/",
     "height": 206
    },
    "id": "DkXZfbc7fZR5",
    "outputId": "3d6442f0-e3bc-4f60-87ad-f04a24532719"
   },
   "outputs": [
    {
     "data": {
      "text/html": [
       "<div>\n",
       "<style scoped>\n",
       "    .dataframe tbody tr th:only-of-type {\n",
       "        vertical-align: middle;\n",
       "    }\n",
       "\n",
       "    .dataframe tbody tr th {\n",
       "        vertical-align: top;\n",
       "    }\n",
       "\n",
       "    .dataframe thead th {\n",
       "        text-align: right;\n",
       "    }\n",
       "</style>\n",
       "<table border=\"1\" class=\"dataframe\">\n",
       "  <thead>\n",
       "    <tr style=\"text-align: right;\">\n",
       "      <th></th>\n",
       "      <th>name</th>\n",
       "      <th>gender</th>\n",
       "      <th>age</th>\n",
       "      <th>height</th>\n",
       "      <th>weight</th>\n",
       "    </tr>\n",
       "  </thead>\n",
       "  <tbody>\n",
       "    <tr>\n",
       "      <th>0</th>\n",
       "      <td>Алексей</td>\n",
       "      <td>male</td>\n",
       "      <td>35</td>\n",
       "      <td>180.46</td>\n",
       "      <td>73.61</td>\n",
       "    </tr>\n",
       "    <tr>\n",
       "      <th>1</th>\n",
       "      <td>Иван</td>\n",
       "      <td>male</td>\n",
       "      <td>20</td>\n",
       "      <td>182.26</td>\n",
       "      <td>75.34</td>\n",
       "    </tr>\n",
       "    <tr>\n",
       "      <th>2</th>\n",
       "      <td>Анна</td>\n",
       "      <td>female</td>\n",
       "      <td>13</td>\n",
       "      <td>165.12</td>\n",
       "      <td>50.22</td>\n",
       "    </tr>\n",
       "    <tr>\n",
       "      <th>3</th>\n",
       "      <td>Ольга</td>\n",
       "      <td>NaN</td>\n",
       "      <td>28</td>\n",
       "      <td>168.04</td>\n",
       "      <td>52.14</td>\n",
       "    </tr>\n",
       "    <tr>\n",
       "      <th>4</th>\n",
       "      <td>Николай</td>\n",
       "      <td>male</td>\n",
       "      <td>16</td>\n",
       "      <td>178.68</td>\n",
       "      <td>69.72</td>\n",
       "    </tr>\n",
       "  </tbody>\n",
       "</table>\n",
       "</div>"
      ],
      "text/plain": [
       "      name  gender  age  height  weight\n",
       "0  Алексей    male   35  180.46   73.61\n",
       "1     Иван    male   20  182.26   75.34\n",
       "2     Анна  female   13  165.12   50.22\n",
       "3    Ольга     NaN   28  168.04   52.14\n",
       "4  Николай    male   16  178.68   69.72"
      ]
     },
     "execution_count": 55,
     "metadata": {},
     "output_type": "execute_result"
    }
   ],
   "source": [
    "# создадим карту (map) того, как преобразовать существующие значения в новые\n",
    "# такая карта представляет собой питоновский словарь,\n",
    "# где ключи - это старые данные, а значения - новые\n",
    "gender_map = {0: \"female\", 1: \"male\"}\n",
    "\n",
    "# применим эту карту к нужному нам столбцу\n",
    "people[\"gender\"] = people[\"gender\"].map(gender_map)\n",
    "people"
   ]
  },
  {
   "cell_type": "code",
   "execution_count": 56,
   "metadata": {
    "colab": {
     "base_uri": "https://localhost:8080/",
     "height": 206
    },
    "id": "iPJCvXS9JW1V",
    "outputId": "098e6a05-a831-474c-9470-bd660da09e28"
   },
   "outputs": [
    {
     "data": {
      "text/html": [
       "<div>\n",
       "<style scoped>\n",
       "    .dataframe tbody tr th:only-of-type {\n",
       "        vertical-align: middle;\n",
       "    }\n",
       "\n",
       "    .dataframe tbody tr th {\n",
       "        vertical-align: top;\n",
       "    }\n",
       "\n",
       "    .dataframe thead th {\n",
       "        text-align: right;\n",
       "    }\n",
       "</style>\n",
       "<table border=\"1\" class=\"dataframe\">\n",
       "  <thead>\n",
       "    <tr style=\"text-align: right;\">\n",
       "      <th></th>\n",
       "      <th>name</th>\n",
       "      <th>gender</th>\n",
       "      <th>age</th>\n",
       "      <th>height</th>\n",
       "      <th>weight</th>\n",
       "      <th>age_group</th>\n",
       "    </tr>\n",
       "  </thead>\n",
       "  <tbody>\n",
       "    <tr>\n",
       "      <th>0</th>\n",
       "      <td>Алексей</td>\n",
       "      <td>male</td>\n",
       "      <td>35</td>\n",
       "      <td>180.46</td>\n",
       "      <td>73.61</td>\n",
       "      <td>adult</td>\n",
       "    </tr>\n",
       "    <tr>\n",
       "      <th>1</th>\n",
       "      <td>Иван</td>\n",
       "      <td>male</td>\n",
       "      <td>20</td>\n",
       "      <td>182.26</td>\n",
       "      <td>75.34</td>\n",
       "      <td>adult</td>\n",
       "    </tr>\n",
       "    <tr>\n",
       "      <th>2</th>\n",
       "      <td>Анна</td>\n",
       "      <td>female</td>\n",
       "      <td>13</td>\n",
       "      <td>165.12</td>\n",
       "      <td>50.22</td>\n",
       "      <td>minor</td>\n",
       "    </tr>\n",
       "    <tr>\n",
       "      <th>3</th>\n",
       "      <td>Ольга</td>\n",
       "      <td>NaN</td>\n",
       "      <td>28</td>\n",
       "      <td>168.04</td>\n",
       "      <td>52.14</td>\n",
       "      <td>adult</td>\n",
       "    </tr>\n",
       "    <tr>\n",
       "      <th>4</th>\n",
       "      <td>Николай</td>\n",
       "      <td>male</td>\n",
       "      <td>16</td>\n",
       "      <td>178.68</td>\n",
       "      <td>69.72</td>\n",
       "      <td>minor</td>\n",
       "    </tr>\n",
       "  </tbody>\n",
       "</table>\n",
       "</div>"
      ],
      "text/plain": [
       "      name  gender  age  height  weight age_group\n",
       "0  Алексей    male   35  180.46   73.61     adult\n",
       "1     Иван    male   20  182.26   75.34     adult\n",
       "2     Анна  female   13  165.12   50.22     minor\n",
       "3    Ольга     NaN   28  168.04   52.14     adult\n",
       "4  Николай    male   16  178.68   69.72     minor"
      ]
     },
     "execution_count": 56,
     "metadata": {},
     "output_type": "execute_result"
    }
   ],
   "source": [
    "# в метод .map() мы можем передать и lambda-функцию\n",
    "# например, для того, чтобы выявить совершеннолетних и несовершеннолетних людей\n",
    "people[\"age_group\"] = people[\"age\"].map(lambda x: \"adult\" if x >= 18 else \"minor\")\n",
    "people"
   ]
  },
  {
   "cell_type": "code",
   "execution_count": 57,
   "metadata": {
    "id": "iqV-barDKl6w"
   },
   "outputs": [],
   "source": [
    "# удалим только что созданный столбец age_group\n",
    "people.drop(labels=\"age_group\", axis=1, inplace=True)"
   ]
  },
  {
   "cell_type": "code",
   "execution_count": null,
   "metadata": {
    "id": "kLHNFkM9Layh"
   },
   "outputs": [],
   "source": [
    "# сделаем то же самое с помощью собственной функции\n",
    "# обратите внимание, такая функция не допускает дополнительных параметров,\n",
    "# только те данные, которые нужно преобразовать (age)\n",
    "\n",
    "\n",
    "def get_age_group(age: int) -> str:\n",
    "    \"\"\"Return 'adult' if age >= 18, otherwise returns 'minor'.\"\"\"\n",
    "    # например, мы не можем сделать threshold произвольным параметром\n",
    "    threshold = 18\n",
    "\n",
    "    if age >= threshold:\n",
    "        age_group = \"adult\"\n",
    "\n",
    "    else:\n",
    "        age_group = \"minor\"\n",
    "\n",
    "    return age_group"
   ]
  },
  {
   "cell_type": "code",
   "execution_count": 59,
   "metadata": {
    "colab": {
     "base_uri": "https://localhost:8080/",
     "height": 206
    },
    "id": "ol8GZ7s4Lp10",
    "outputId": "c64241e2-334e-4105-e652-f6163ed86400"
   },
   "outputs": [
    {
     "data": {
      "text/html": [
       "<div>\n",
       "<style scoped>\n",
       "    .dataframe tbody tr th:only-of-type {\n",
       "        vertical-align: middle;\n",
       "    }\n",
       "\n",
       "    .dataframe tbody tr th {\n",
       "        vertical-align: top;\n",
       "    }\n",
       "\n",
       "    .dataframe thead th {\n",
       "        text-align: right;\n",
       "    }\n",
       "</style>\n",
       "<table border=\"1\" class=\"dataframe\">\n",
       "  <thead>\n",
       "    <tr style=\"text-align: right;\">\n",
       "      <th></th>\n",
       "      <th>name</th>\n",
       "      <th>gender</th>\n",
       "      <th>age</th>\n",
       "      <th>height</th>\n",
       "      <th>weight</th>\n",
       "      <th>age_group</th>\n",
       "    </tr>\n",
       "  </thead>\n",
       "  <tbody>\n",
       "    <tr>\n",
       "      <th>0</th>\n",
       "      <td>Алексей</td>\n",
       "      <td>male</td>\n",
       "      <td>35</td>\n",
       "      <td>180.46</td>\n",
       "      <td>73.61</td>\n",
       "      <td>adult</td>\n",
       "    </tr>\n",
       "    <tr>\n",
       "      <th>1</th>\n",
       "      <td>Иван</td>\n",
       "      <td>male</td>\n",
       "      <td>20</td>\n",
       "      <td>182.26</td>\n",
       "      <td>75.34</td>\n",
       "      <td>adult</td>\n",
       "    </tr>\n",
       "    <tr>\n",
       "      <th>2</th>\n",
       "      <td>Анна</td>\n",
       "      <td>female</td>\n",
       "      <td>13</td>\n",
       "      <td>165.12</td>\n",
       "      <td>50.22</td>\n",
       "      <td>minor</td>\n",
       "    </tr>\n",
       "    <tr>\n",
       "      <th>3</th>\n",
       "      <td>Ольга</td>\n",
       "      <td>NaN</td>\n",
       "      <td>28</td>\n",
       "      <td>168.04</td>\n",
       "      <td>52.14</td>\n",
       "      <td>adult</td>\n",
       "    </tr>\n",
       "    <tr>\n",
       "      <th>4</th>\n",
       "      <td>Николай</td>\n",
       "      <td>male</td>\n",
       "      <td>16</td>\n",
       "      <td>178.68</td>\n",
       "      <td>69.72</td>\n",
       "      <td>minor</td>\n",
       "    </tr>\n",
       "  </tbody>\n",
       "</table>\n",
       "</div>"
      ],
      "text/plain": [
       "      name  gender  age  height  weight age_group\n",
       "0  Алексей    male   35  180.46   73.61     adult\n",
       "1     Иван    male   20  182.26   75.34     adult\n",
       "2     Анна  female   13  165.12   50.22     minor\n",
       "3    Ольга     NaN   28  168.04   52.14     adult\n",
       "4  Николай    male   16  178.68   69.72     minor"
      ]
     },
     "execution_count": 59,
     "metadata": {},
     "output_type": "execute_result"
    }
   ],
   "source": [
    "# применим эту функцию к столбцу age\n",
    "people[\"age_group\"] = people[\"age\"].map(get_age_group)\n",
    "people"
   ]
  },
  {
   "cell_type": "code",
   "execution_count": 60,
   "metadata": {
    "id": "EyuQT82EM3aO"
   },
   "outputs": [],
   "source": [
    "# снова удалим созданный столбец\n",
    "people.drop(labels=\"age_group\", axis=1, inplace=True)"
   ]
  },
  {
   "cell_type": "markdown",
   "metadata": {
    "id": "lW66pfysUR3l"
   },
   "source": [
    "#### Функция `np.where()`"
   ]
  },
  {
   "cell_type": "code",
   "execution_count": null,
   "metadata": {
    "colab": {
     "base_uri": "https://localhost:8080/",
     "height": 206
    },
    "id": "ov0Op_uTUXo8",
    "outputId": "f4878e3f-5f40-4f91-da3a-c77b867a051d"
   },
   "outputs": [
    {
     "data": {
      "text/html": [
       "<div>\n",
       "<style scoped>\n",
       "    .dataframe tbody tr th:only-of-type {\n",
       "        vertical-align: middle;\n",
       "    }\n",
       "\n",
       "    .dataframe tbody tr th {\n",
       "        vertical-align: top;\n",
       "    }\n",
       "\n",
       "    .dataframe thead th {\n",
       "        text-align: right;\n",
       "    }\n",
       "</style>\n",
       "<table border=\"1\" class=\"dataframe\">\n",
       "  <thead>\n",
       "    <tr style=\"text-align: right;\">\n",
       "      <th></th>\n",
       "      <th>name</th>\n",
       "      <th>gender</th>\n",
       "      <th>age</th>\n",
       "      <th>height</th>\n",
       "      <th>weight</th>\n",
       "      <th>age_group</th>\n",
       "    </tr>\n",
       "  </thead>\n",
       "  <tbody>\n",
       "    <tr>\n",
       "      <th>0</th>\n",
       "      <td>Алексей</td>\n",
       "      <td>male</td>\n",
       "      <td>35</td>\n",
       "      <td>180.46</td>\n",
       "      <td>73.61</td>\n",
       "      <td>adult</td>\n",
       "    </tr>\n",
       "    <tr>\n",
       "      <th>1</th>\n",
       "      <td>Иван</td>\n",
       "      <td>male</td>\n",
       "      <td>20</td>\n",
       "      <td>182.26</td>\n",
       "      <td>75.34</td>\n",
       "      <td>adult</td>\n",
       "    </tr>\n",
       "    <tr>\n",
       "      <th>2</th>\n",
       "      <td>Анна</td>\n",
       "      <td>female</td>\n",
       "      <td>13</td>\n",
       "      <td>165.12</td>\n",
       "      <td>50.22</td>\n",
       "      <td>minor</td>\n",
       "    </tr>\n",
       "    <tr>\n",
       "      <th>3</th>\n",
       "      <td>Ольга</td>\n",
       "      <td>NaN</td>\n",
       "      <td>28</td>\n",
       "      <td>168.04</td>\n",
       "      <td>52.14</td>\n",
       "      <td>adult</td>\n",
       "    </tr>\n",
       "    <tr>\n",
       "      <th>4</th>\n",
       "      <td>Николай</td>\n",
       "      <td>male</td>\n",
       "      <td>16</td>\n",
       "      <td>178.68</td>\n",
       "      <td>69.72</td>\n",
       "      <td>minor</td>\n",
       "    </tr>\n",
       "  </tbody>\n",
       "</table>\n",
       "</div>"
      ],
      "text/plain": [
       "      name  gender  age  height  weight age_group\n",
       "0  Алексей    male   35  180.46   73.61     adult\n",
       "1     Иван    male   20  182.26   75.34     adult\n",
       "2     Анна  female   13  165.12   50.22     minor\n",
       "3    Ольга     NaN   28  168.04   52.14     adult\n",
       "4  Николай    male   16  178.68   69.72     minor"
      ]
     },
     "execution_count": 61,
     "metadata": {},
     "output_type": "execute_result"
    }
   ],
   "source": [
    "# внутри функции np.where() три параметра: (1) условие,\n",
    "# (2) значение, если условие выдает True, (3) и значение, если условие выдает\n",
    "# False\n",
    "people[\"age_group\"] = np.where(people[\"age\"] >= 18, \"adult\", \"minor\")\n",
    "people"
   ]
  },
  {
   "cell_type": "code",
   "execution_count": 62,
   "metadata": {
    "id": "GfiUZ3LeUbKP"
   },
   "outputs": [],
   "source": [
    "# удалим созданный столбец\n",
    "people.drop(labels=\"age_group\", axis=1, inplace=True)"
   ]
  },
  {
   "cell_type": "markdown",
   "metadata": {
    "id": "GVRy3QN1VM-s"
   },
   "source": [
    "#### Метод `.where()`"
   ]
  },
  {
   "cell_type": "markdown",
   "metadata": {
    "id": "31f2Anb6wGTQ"
   },
   "source": [
    "Пример 1."
   ]
  },
  {
   "cell_type": "code",
   "execution_count": 63,
   "metadata": {
    "colab": {
     "base_uri": "https://localhost:8080/",
     "height": 241
    },
    "id": "j7gzIHQ6p9zK",
    "outputId": "5e5c1aa6-7c26-48d1-ba66-884b3f9c5bef"
   },
   "outputs": [
    {
     "data": {
      "text/plain": [
       "0    35.0\n",
       "1    20.0\n",
       "2     NaN\n",
       "3    28.0\n",
       "4     NaN\n",
       "Name: age, dtype: float64"
      ]
     },
     "execution_count": 63,
     "metadata": {},
     "output_type": "execute_result"
    }
   ],
   "source": [
    "# заменим возраст тех, кому меньше 18, на NaN\n",
    "people.age.where(people.age >= 18, other=np.nan)"
   ]
  },
  {
   "cell_type": "markdown",
   "metadata": {
    "id": "n4j226CpwH_7"
   },
   "source": [
    "Пример 2."
   ]
  },
  {
   "cell_type": "code",
   "execution_count": 64,
   "metadata": {
    "colab": {
     "base_uri": "https://localhost:8080/",
     "height": 143
    },
    "id": "65acnABjUn4_",
    "outputId": "8554f993-6622-4652-8d3f-50d1f04505fb"
   },
   "outputs": [
    {
     "data": {
      "text/html": [
       "<div>\n",
       "<style scoped>\n",
       "    .dataframe tbody tr th:only-of-type {\n",
       "        vertical-align: middle;\n",
       "    }\n",
       "\n",
       "    .dataframe tbody tr th {\n",
       "        vertical-align: top;\n",
       "    }\n",
       "\n",
       "    .dataframe thead th {\n",
       "        text-align: right;\n",
       "    }\n",
       "</style>\n",
       "<table border=\"1\" class=\"dataframe\">\n",
       "  <thead>\n",
       "    <tr style=\"text-align: right;\">\n",
       "      <th></th>\n",
       "      <th>0</th>\n",
       "      <th>1</th>\n",
       "      <th>2</th>\n",
       "    </tr>\n",
       "  </thead>\n",
       "  <tbody>\n",
       "    <tr>\n",
       "      <th>0</th>\n",
       "      <td>-13</td>\n",
       "      <td>7</td>\n",
       "      <td>1</td>\n",
       "    </tr>\n",
       "    <tr>\n",
       "      <th>1</th>\n",
       "      <td>4</td>\n",
       "      <td>-2</td>\n",
       "      <td>25</td>\n",
       "    </tr>\n",
       "    <tr>\n",
       "      <th>2</th>\n",
       "      <td>45</td>\n",
       "      <td>-3</td>\n",
       "      <td>8</td>\n",
       "    </tr>\n",
       "  </tbody>\n",
       "</table>\n",
       "</div>"
      ],
      "text/plain": [
       "    0  1   2\n",
       "0 -13  7   1\n",
       "1   4 -2  25\n",
       "2  45 -3   8"
      ]
     },
     "execution_count": 64,
     "metadata": {},
     "output_type": "execute_result"
    }
   ],
   "source": [
    "# создадим матрицу из вложенных списков\n",
    "nums_matrix = [[-13, 7, 1], [4, -2, 25], [45, -3, 8]]\n",
    "\n",
    "# преобразуем в датафрейм\n",
    "# (матрица не обязательно должна быть массивом Numpy (!))\n",
    "nums = pd.DataFrame(nums_matrix)\n",
    "nums"
   ]
  },
  {
   "cell_type": "code",
   "execution_count": 65,
   "metadata": {
    "colab": {
     "base_uri": "https://localhost:8080/",
     "height": 143
    },
    "id": "2HkxXTUVWz85",
    "outputId": "d0ac6156-bcd6-4498-c97f-e75cc93242bd"
   },
   "outputs": [
    {
     "data": {
      "text/html": [
       "<div>\n",
       "<style scoped>\n",
       "    .dataframe tbody tr th:only-of-type {\n",
       "        vertical-align: middle;\n",
       "    }\n",
       "\n",
       "    .dataframe tbody tr th {\n",
       "        vertical-align: top;\n",
       "    }\n",
       "\n",
       "    .dataframe thead th {\n",
       "        text-align: right;\n",
       "    }\n",
       "</style>\n",
       "<table border=\"1\" class=\"dataframe\">\n",
       "  <thead>\n",
       "    <tr style=\"text-align: right;\">\n",
       "      <th></th>\n",
       "      <th>0</th>\n",
       "      <th>1</th>\n",
       "      <th>2</th>\n",
       "    </tr>\n",
       "  </thead>\n",
       "  <tbody>\n",
       "    <tr>\n",
       "      <th>0</th>\n",
       "      <td>13</td>\n",
       "      <td>7</td>\n",
       "      <td>1</td>\n",
       "    </tr>\n",
       "    <tr>\n",
       "      <th>1</th>\n",
       "      <td>4</td>\n",
       "      <td>2</td>\n",
       "      <td>25</td>\n",
       "    </tr>\n",
       "    <tr>\n",
       "      <th>2</th>\n",
       "      <td>45</td>\n",
       "      <td>3</td>\n",
       "      <td>8</td>\n",
       "    </tr>\n",
       "  </tbody>\n",
       "</table>\n",
       "</div>"
      ],
      "text/plain": [
       "    0  1   2\n",
       "0  13  7   1\n",
       "1   4  2  25\n",
       "2  45  3   8"
      ]
     },
     "execution_count": 65,
     "metadata": {},
     "output_type": "execute_result"
    }
   ],
   "source": [
    "# если число положительное (nums < 0 == True), оставим его без изменений\n",
    "# если отрицательное (False), заменим на обратное (т.е. сделаем положительным)\n",
    "nums.where(nums > 0, other=-nums)"
   ]
  },
  {
   "cell_type": "markdown",
   "metadata": {
    "id": "TbogFtpeMkuQ"
   },
   "source": [
    "#### Метод `.apply()`"
   ]
  },
  {
   "cell_type": "markdown",
   "metadata": {
    "id": "0-46OOGJO6sF"
   },
   "source": [
    "Применение функции с аргументами"
   ]
  },
  {
   "cell_type": "code",
   "execution_count": null,
   "metadata": {
    "id": "H79Q5BrDLva4"
   },
   "outputs": [],
   "source": [
    "# в отличие от .map(), метод .apply() позволяет передавать аргументы в\n",
    "# применяемую функцию\n",
    "# объявим функцию, которой можно передать не только значение возраста, но и\n",
    "# порог,\n",
    "# при котором мы будем считать человека совершеннолетним\n",
    "\n",
    "\n",
    "def get_age_group(age: float, threshold: float) -> str:\n",
    "    \"\"\"Return 'adult' if age >= threshold, otherwise returns 'minor'.\"\"\"\n",
    "    if age >= int(threshold):\n",
    "        age_group = \"adult\"\n",
    "    else:\n",
    "        age_group = \"minor\"\n",
    "\n",
    "    return age_group"
   ]
  },
  {
   "cell_type": "code",
   "execution_count": null,
   "metadata": {
    "colab": {
     "base_uri": "https://localhost:8080/",
     "height": 206
    },
    "id": "4BDXRhPvM7xv",
    "outputId": "194de3bf-ca6b-4ba0-f181-a17500efb5a4"
   },
   "outputs": [
    {
     "data": {
      "text/html": [
       "<div>\n",
       "<style scoped>\n",
       "    .dataframe tbody tr th:only-of-type {\n",
       "        vertical-align: middle;\n",
       "    }\n",
       "\n",
       "    .dataframe tbody tr th {\n",
       "        vertical-align: top;\n",
       "    }\n",
       "\n",
       "    .dataframe thead th {\n",
       "        text-align: right;\n",
       "    }\n",
       "</style>\n",
       "<table border=\"1\" class=\"dataframe\">\n",
       "  <thead>\n",
       "    <tr style=\"text-align: right;\">\n",
       "      <th></th>\n",
       "      <th>name</th>\n",
       "      <th>gender</th>\n",
       "      <th>age</th>\n",
       "      <th>height</th>\n",
       "      <th>weight</th>\n",
       "      <th>age_group</th>\n",
       "    </tr>\n",
       "  </thead>\n",
       "  <tbody>\n",
       "    <tr>\n",
       "      <th>0</th>\n",
       "      <td>Алексей</td>\n",
       "      <td>male</td>\n",
       "      <td>35</td>\n",
       "      <td>180.46</td>\n",
       "      <td>73.61</td>\n",
       "      <td>adult</td>\n",
       "    </tr>\n",
       "    <tr>\n",
       "      <th>1</th>\n",
       "      <td>Иван</td>\n",
       "      <td>male</td>\n",
       "      <td>20</td>\n",
       "      <td>182.26</td>\n",
       "      <td>75.34</td>\n",
       "      <td>minor</td>\n",
       "    </tr>\n",
       "    <tr>\n",
       "      <th>2</th>\n",
       "      <td>Анна</td>\n",
       "      <td>female</td>\n",
       "      <td>13</td>\n",
       "      <td>165.12</td>\n",
       "      <td>50.22</td>\n",
       "      <td>minor</td>\n",
       "    </tr>\n",
       "    <tr>\n",
       "      <th>3</th>\n",
       "      <td>Ольга</td>\n",
       "      <td>NaN</td>\n",
       "      <td>28</td>\n",
       "      <td>168.04</td>\n",
       "      <td>52.14</td>\n",
       "      <td>adult</td>\n",
       "    </tr>\n",
       "    <tr>\n",
       "      <th>4</th>\n",
       "      <td>Николай</td>\n",
       "      <td>male</td>\n",
       "      <td>16</td>\n",
       "      <td>178.68</td>\n",
       "      <td>69.72</td>\n",
       "      <td>minor</td>\n",
       "    </tr>\n",
       "  </tbody>\n",
       "</table>\n",
       "</div>"
      ],
      "text/plain": [
       "      name  gender  age  height  weight age_group\n",
       "0  Алексей    male   35  180.46   73.61     adult\n",
       "1     Иван    male   20  182.26   75.34     minor\n",
       "2     Анна  female   13  165.12   50.22     minor\n",
       "3    Ольга     NaN   28  168.04   52.14     adult\n",
       "4  Николай    male   16  178.68   69.72     minor"
      ]
     },
     "execution_count": 67,
     "metadata": {},
     "output_type": "execute_result"
    }
   ],
   "source": [
    "# применим эту функцию к столбцу age, выбрав в качестве порогового значения 21\n",
    "# год\n",
    "people[\"age_group\"] = people[\"age\"].apply(get_age_group, threshold=21)\n",
    "\n",
    "# посмотрим на результат\n",
    "people"
   ]
  },
  {
   "cell_type": "markdown",
   "metadata": {
    "id": "0v4y--ZfO1-q"
   },
   "source": [
    "Применение к столбцам"
   ]
  },
  {
   "cell_type": "code",
   "execution_count": 68,
   "metadata": {
    "colab": {
     "base_uri": "https://localhost:8080/",
     "height": 206
    },
    "id": "D9Z4GUwWNw79",
    "outputId": "d59ca2b3-01be-4789-bbe3-12940876194c"
   },
   "outputs": [
    {
     "data": {
      "text/html": [
       "<div>\n",
       "<style scoped>\n",
       "    .dataframe tbody tr th:only-of-type {\n",
       "        vertical-align: middle;\n",
       "    }\n",
       "\n",
       "    .dataframe tbody tr th {\n",
       "        vertical-align: top;\n",
       "    }\n",
       "\n",
       "    .dataframe thead th {\n",
       "        text-align: right;\n",
       "    }\n",
       "</style>\n",
       "<table border=\"1\" class=\"dataframe\">\n",
       "  <thead>\n",
       "    <tr style=\"text-align: right;\">\n",
       "      <th></th>\n",
       "      <th>name</th>\n",
       "      <th>gender</th>\n",
       "      <th>age</th>\n",
       "      <th>height</th>\n",
       "      <th>weight</th>\n",
       "      <th>age_group</th>\n",
       "    </tr>\n",
       "  </thead>\n",
       "  <tbody>\n",
       "    <tr>\n",
       "      <th>0</th>\n",
       "      <td>Алексей</td>\n",
       "      <td>male</td>\n",
       "      <td>35</td>\n",
       "      <td>178.68</td>\n",
       "      <td>69.72</td>\n",
       "      <td>adult</td>\n",
       "    </tr>\n",
       "    <tr>\n",
       "      <th>1</th>\n",
       "      <td>Иван</td>\n",
       "      <td>male</td>\n",
       "      <td>20</td>\n",
       "      <td>178.68</td>\n",
       "      <td>69.72</td>\n",
       "      <td>minor</td>\n",
       "    </tr>\n",
       "    <tr>\n",
       "      <th>2</th>\n",
       "      <td>Анна</td>\n",
       "      <td>female</td>\n",
       "      <td>13</td>\n",
       "      <td>178.68</td>\n",
       "      <td>69.72</td>\n",
       "      <td>minor</td>\n",
       "    </tr>\n",
       "    <tr>\n",
       "      <th>3</th>\n",
       "      <td>Ольга</td>\n",
       "      <td>NaN</td>\n",
       "      <td>28</td>\n",
       "      <td>178.68</td>\n",
       "      <td>69.72</td>\n",
       "      <td>adult</td>\n",
       "    </tr>\n",
       "    <tr>\n",
       "      <th>4</th>\n",
       "      <td>Николай</td>\n",
       "      <td>male</td>\n",
       "      <td>16</td>\n",
       "      <td>178.68</td>\n",
       "      <td>69.72</td>\n",
       "      <td>minor</td>\n",
       "    </tr>\n",
       "  </tbody>\n",
       "</table>\n",
       "</div>"
      ],
      "text/plain": [
       "      name  gender  age  height  weight age_group\n",
       "0  Алексей    male   35  178.68   69.72     adult\n",
       "1     Иван    male   20  178.68   69.72     minor\n",
       "2     Анна  female   13  178.68   69.72     minor\n",
       "3    Ольга     NaN   28  178.68   69.72     adult\n",
       "4  Николай    male   16  178.68   69.72     minor"
      ]
     },
     "execution_count": 68,
     "metadata": {},
     "output_type": "execute_result"
    }
   ],
   "source": [
    "# заменим значения в столбцах height и weight на медиану по столбцам\n",
    "people.iloc[:, 3:5] = people.iloc[:, 3:5].apply(np.median, axis=0)\n",
    "people"
   ]
  },
  {
   "cell_type": "markdown",
   "metadata": {
    "id": "zaX-3SvrRIYW"
   },
   "source": [
    "Применение к строкам"
   ]
  },
  {
   "cell_type": "code",
   "execution_count": 69,
   "metadata": {
    "id": "rttX9mBPwu-g"
   },
   "outputs": [],
   "source": [
    "# создадим исходный датафрейм\n",
    "people = pd.DataFrame(\n",
    "    {\n",
    "        \"name\": [\"Алексей\", \"Иван\", \"Анна\", \"Ольга\", \"Николай\"],\n",
    "        \"gender\": [1, 1, 0, 2, 1],\n",
    "        \"age\": [35, 20, 13, 28, 16],\n",
    "        \"height\": [180.0, 182.0, 165.0, 168.0, 179.0],\n",
    "        \"weight\": [74.0, 75.0, 50.0, 52.0, 70.0],\n",
    "    }\n",
    ")"
   ]
  },
  {
   "cell_type": "code",
   "execution_count": null,
   "metadata": {
    "id": "oCjlH-e9QeYM"
   },
   "outputs": [],
   "source": [
    "# создадим функцию, которая рассчитает индекс массы тела\n",
    "\n",
    "\n",
    "def get_bmi(x: pd.Series) -> float:\n",
    "    \"\"\"Calculate body mass index (BMI) from weight and height.\"\"\"\n",
    "    bmi = x[\"weight\"] / (x[\"height\"] / 100) ** 2\n",
    "    return bmi"
   ]
  },
  {
   "cell_type": "code",
   "execution_count": 71,
   "metadata": {
    "colab": {
     "base_uri": "https://localhost:8080/",
     "height": 206
    },
    "id": "whDb7rW_RTR0",
    "outputId": "649e5a53-1caa-49d7-f275-c73fe76adf4f"
   },
   "outputs": [
    {
     "data": {
      "text/html": [
       "<div>\n",
       "<style scoped>\n",
       "    .dataframe tbody tr th:only-of-type {\n",
       "        vertical-align: middle;\n",
       "    }\n",
       "\n",
       "    .dataframe tbody tr th {\n",
       "        vertical-align: top;\n",
       "    }\n",
       "\n",
       "    .dataframe thead th {\n",
       "        text-align: right;\n",
       "    }\n",
       "</style>\n",
       "<table border=\"1\" class=\"dataframe\">\n",
       "  <thead>\n",
       "    <tr style=\"text-align: right;\">\n",
       "      <th></th>\n",
       "      <th>name</th>\n",
       "      <th>gender</th>\n",
       "      <th>age</th>\n",
       "      <th>height</th>\n",
       "      <th>weight</th>\n",
       "      <th>bmi</th>\n",
       "    </tr>\n",
       "  </thead>\n",
       "  <tbody>\n",
       "    <tr>\n",
       "      <th>0</th>\n",
       "      <td>Алексей</td>\n",
       "      <td>1</td>\n",
       "      <td>35</td>\n",
       "      <td>180.0</td>\n",
       "      <td>74.0</td>\n",
       "      <td>22.84</td>\n",
       "    </tr>\n",
       "    <tr>\n",
       "      <th>1</th>\n",
       "      <td>Иван</td>\n",
       "      <td>1</td>\n",
       "      <td>20</td>\n",
       "      <td>182.0</td>\n",
       "      <td>75.0</td>\n",
       "      <td>22.64</td>\n",
       "    </tr>\n",
       "    <tr>\n",
       "      <th>2</th>\n",
       "      <td>Анна</td>\n",
       "      <td>0</td>\n",
       "      <td>13</td>\n",
       "      <td>165.0</td>\n",
       "      <td>50.0</td>\n",
       "      <td>18.37</td>\n",
       "    </tr>\n",
       "    <tr>\n",
       "      <th>3</th>\n",
       "      <td>Ольга</td>\n",
       "      <td>2</td>\n",
       "      <td>28</td>\n",
       "      <td>168.0</td>\n",
       "      <td>52.0</td>\n",
       "      <td>18.42</td>\n",
       "    </tr>\n",
       "    <tr>\n",
       "      <th>4</th>\n",
       "      <td>Николай</td>\n",
       "      <td>1</td>\n",
       "      <td>16</td>\n",
       "      <td>179.0</td>\n",
       "      <td>70.0</td>\n",
       "      <td>21.85</td>\n",
       "    </tr>\n",
       "  </tbody>\n",
       "</table>\n",
       "</div>"
      ],
      "text/plain": [
       "      name  gender  age  height  weight    bmi\n",
       "0  Алексей       1   35   180.0    74.0  22.84\n",
       "1     Иван       1   20   182.0    75.0  22.64\n",
       "2     Анна       0   13   165.0    50.0  18.37\n",
       "3    Ольга       2   28   168.0    52.0  18.42\n",
       "4  Николай       1   16   179.0    70.0  21.85"
      ]
     },
     "execution_count": 71,
     "metadata": {},
     "output_type": "execute_result"
    }
   ],
   "source": [
    "# применим ее к каждой строке (человеку) и сохраним результат в новом столбце\n",
    "people[\"bmi\"] = people.apply(get_bmi, axis=1).round(2)\n",
    "people"
   ]
  },
  {
   "cell_type": "markdown",
   "metadata": {
    "id": "cgloo3MCSsoy"
   },
   "source": [
    "#### Метод `.pipe()`"
   ]
  },
  {
   "cell_type": "code",
   "execution_count": 72,
   "metadata": {
    "colab": {
     "base_uri": "https://localhost:8080/",
     "height": 206
    },
    "id": "cv9H7LiySwhX",
    "outputId": "675340c4-a710-4e19-b6eb-eac8afd7587e"
   },
   "outputs": [
    {
     "data": {
      "text/html": [
       "<div>\n",
       "<style scoped>\n",
       "    .dataframe tbody tr th:only-of-type {\n",
       "        vertical-align: middle;\n",
       "    }\n",
       "\n",
       "    .dataframe tbody tr th {\n",
       "        vertical-align: top;\n",
       "    }\n",
       "\n",
       "    .dataframe thead th {\n",
       "        text-align: right;\n",
       "    }\n",
       "</style>\n",
       "<table border=\"1\" class=\"dataframe\">\n",
       "  <thead>\n",
       "    <tr style=\"text-align: right;\">\n",
       "      <th></th>\n",
       "      <th>name</th>\n",
       "      <th>gender</th>\n",
       "      <th>age</th>\n",
       "      <th>height</th>\n",
       "      <th>weight</th>\n",
       "    </tr>\n",
       "  </thead>\n",
       "  <tbody>\n",
       "    <tr>\n",
       "      <th>0</th>\n",
       "      <td>Алексей</td>\n",
       "      <td>1</td>\n",
       "      <td>35</td>\n",
       "      <td>180.46</td>\n",
       "      <td>73.61</td>\n",
       "    </tr>\n",
       "    <tr>\n",
       "      <th>1</th>\n",
       "      <td>Иван</td>\n",
       "      <td>1</td>\n",
       "      <td>20</td>\n",
       "      <td>182.26</td>\n",
       "      <td>75.34</td>\n",
       "    </tr>\n",
       "    <tr>\n",
       "      <th>2</th>\n",
       "      <td>Анна</td>\n",
       "      <td>0</td>\n",
       "      <td>13</td>\n",
       "      <td>165.12</td>\n",
       "      <td>50.22</td>\n",
       "    </tr>\n",
       "    <tr>\n",
       "      <th>3</th>\n",
       "      <td>Ольга</td>\n",
       "      <td>2</td>\n",
       "      <td>28</td>\n",
       "      <td>168.04</td>\n",
       "      <td>52.14</td>\n",
       "    </tr>\n",
       "    <tr>\n",
       "      <th>4</th>\n",
       "      <td>Николай</td>\n",
       "      <td>1</td>\n",
       "      <td>16</td>\n",
       "      <td>178.68</td>\n",
       "      <td>69.72</td>\n",
       "    </tr>\n",
       "  </tbody>\n",
       "</table>\n",
       "</div>"
      ],
      "text/plain": [
       "      name  gender  age  height  weight\n",
       "0  Алексей       1   35  180.46   73.61\n",
       "1     Иван       1   20  182.26   75.34\n",
       "2     Анна       0   13  165.12   50.22\n",
       "3    Ольга       2   28  168.04   52.14\n",
       "4  Николай       1   16  178.68   69.72"
      ]
     },
     "execution_count": 72,
     "metadata": {},
     "output_type": "execute_result"
    }
   ],
   "source": [
    "# вновь создадим исходный датафрейм\n",
    "people = pd.DataFrame(\n",
    "    {\n",
    "        \"name\": [\"Алексей\", \"Иван\", \"Анна\", \"Ольга\", \"Николай\"],\n",
    "        \"gender\": [1, 1, 0, 2, 1],\n",
    "        \"age\": [35, 20, 13, 28, 16],\n",
    "        \"height\": [180.46, 182.26, 165.12, 168.04, 178.68],\n",
    "        \"weight\": [73.61, 75.34, 50.22, 52.14, 69.72],\n",
    "    }\n",
    ")\n",
    "\n",
    "people"
   ]
  },
  {
   "cell_type": "code",
   "execution_count": null,
   "metadata": {
    "id": "wjYx3jMN2Ioz"
   },
   "outputs": [],
   "source": [
    "# создадим несколько функций\n",
    "\n",
    "\n",
    "# в первую очередь скопируем датафрейм\n",
    "def copy_df(df: pd.DataFrame) -> pd.DataFrame:\n",
    "    \"\"\"Make a copy of a dataframe.\"\"\"\n",
    "    return df.copy()\n",
    "\n",
    "\n",
    "# заменим значения столбца на новые с помощью метода .map()\n",
    "def map_column(df: pd.DataFrame, column: str, label1: str, label2: str) -> pd.DataFrame:\n",
    "    \"\"\"Map 0/1 values to new labels.\"\"\"\n",
    "    labels_map = {0: label1, 1: label2}\n",
    "    df[column] = df[column].map(labels_map)\n",
    "    return df\n",
    "\n",
    "\n",
    "# кроме этого, создадим функцию для превращения количественной переменной\n",
    "# в бинарную категориальную\n",
    "def to_categorical(\n",
    "    df: pd.DataFrame, newcol: str, condcol: str, thres: float, cat1: str, cat2: str\n",
    ") -> pd.DataFrame:\n",
    "    \"\"\"Create binary category column based on threshold.\"\"\"\n",
    "    df[newcol] = np.where(df[condcol] >= thres, cat1, cat2)\n",
    "    return df"
   ]
  },
  {
   "cell_type": "code",
   "execution_count": 74,
   "metadata": {
    "id": "No3oT5683-Wq"
   },
   "outputs": [],
   "source": [
    "# последовательно применим эти функции с помощью нескольких методов .pipe()\n",
    "people_processed = (\n",
    "    people.pipe(copy_df)  # copy_df() применится ко всему датафрейму\n",
    "    .pipe(map_column, \"gender\", \"female\", \"male\")  # map_column() к столбцу gender\n",
    "    .pipe(to_categorical, \"age_group\", \"age\", 18, \"adult\", \"minor\")\n",
    ")  # to_categorical() к age_group"
   ]
  },
  {
   "cell_type": "code",
   "execution_count": 75,
   "metadata": {
    "colab": {
     "base_uri": "https://localhost:8080/",
     "height": 206
    },
    "id": "Tv9ps1PR4vQT",
    "outputId": "f7df61dd-5b4a-41b6-ec80-7930e404ae64"
   },
   "outputs": [
    {
     "data": {
      "text/html": [
       "<div>\n",
       "<style scoped>\n",
       "    .dataframe tbody tr th:only-of-type {\n",
       "        vertical-align: middle;\n",
       "    }\n",
       "\n",
       "    .dataframe tbody tr th {\n",
       "        vertical-align: top;\n",
       "    }\n",
       "\n",
       "    .dataframe thead th {\n",
       "        text-align: right;\n",
       "    }\n",
       "</style>\n",
       "<table border=\"1\" class=\"dataframe\">\n",
       "  <thead>\n",
       "    <tr style=\"text-align: right;\">\n",
       "      <th></th>\n",
       "      <th>name</th>\n",
       "      <th>gender</th>\n",
       "      <th>age</th>\n",
       "      <th>height</th>\n",
       "      <th>weight</th>\n",
       "      <th>age_group</th>\n",
       "    </tr>\n",
       "  </thead>\n",
       "  <tbody>\n",
       "    <tr>\n",
       "      <th>0</th>\n",
       "      <td>Алексей</td>\n",
       "      <td>male</td>\n",
       "      <td>35</td>\n",
       "      <td>180.46</td>\n",
       "      <td>73.61</td>\n",
       "      <td>adult</td>\n",
       "    </tr>\n",
       "    <tr>\n",
       "      <th>1</th>\n",
       "      <td>Иван</td>\n",
       "      <td>male</td>\n",
       "      <td>20</td>\n",
       "      <td>182.26</td>\n",
       "      <td>75.34</td>\n",
       "      <td>adult</td>\n",
       "    </tr>\n",
       "    <tr>\n",
       "      <th>2</th>\n",
       "      <td>Анна</td>\n",
       "      <td>female</td>\n",
       "      <td>13</td>\n",
       "      <td>165.12</td>\n",
       "      <td>50.22</td>\n",
       "      <td>minor</td>\n",
       "    </tr>\n",
       "    <tr>\n",
       "      <th>3</th>\n",
       "      <td>Ольга</td>\n",
       "      <td>NaN</td>\n",
       "      <td>28</td>\n",
       "      <td>168.04</td>\n",
       "      <td>52.14</td>\n",
       "      <td>adult</td>\n",
       "    </tr>\n",
       "    <tr>\n",
       "      <th>4</th>\n",
       "      <td>Николай</td>\n",
       "      <td>male</td>\n",
       "      <td>16</td>\n",
       "      <td>178.68</td>\n",
       "      <td>69.72</td>\n",
       "      <td>minor</td>\n",
       "    </tr>\n",
       "  </tbody>\n",
       "</table>\n",
       "</div>"
      ],
      "text/plain": [
       "      name  gender  age  height  weight age_group\n",
       "0  Алексей    male   35  180.46   73.61     adult\n",
       "1     Иван    male   20  182.26   75.34     adult\n",
       "2     Анна  female   13  165.12   50.22     minor\n",
       "3    Ольга     NaN   28  168.04   52.14     adult\n",
       "4  Николай    male   16  178.68   69.72     minor"
      ]
     },
     "execution_count": 75,
     "metadata": {},
     "output_type": "execute_result"
    }
   ],
   "source": [
    "# посмотрим на результат\n",
    "people_processed"
   ]
  },
  {
   "cell_type": "code",
   "execution_count": 76,
   "metadata": {
    "colab": {
     "base_uri": "https://localhost:8080/",
     "height": 206
    },
    "id": "lw1GEPxCNtXY",
    "outputId": "9f1ce2b6-ddec-4358-db3d-51ecaa6a1e06"
   },
   "outputs": [
    {
     "data": {
      "text/html": [
       "<div>\n",
       "<style scoped>\n",
       "    .dataframe tbody tr th:only-of-type {\n",
       "        vertical-align: middle;\n",
       "    }\n",
       "\n",
       "    .dataframe tbody tr th {\n",
       "        vertical-align: top;\n",
       "    }\n",
       "\n",
       "    .dataframe thead th {\n",
       "        text-align: right;\n",
       "    }\n",
       "</style>\n",
       "<table border=\"1\" class=\"dataframe\">\n",
       "  <thead>\n",
       "    <tr style=\"text-align: right;\">\n",
       "      <th></th>\n",
       "      <th>name</th>\n",
       "      <th>gender</th>\n",
       "      <th>age</th>\n",
       "      <th>height</th>\n",
       "      <th>weight</th>\n",
       "    </tr>\n",
       "  </thead>\n",
       "  <tbody>\n",
       "    <tr>\n",
       "      <th>0</th>\n",
       "      <td>Алексей</td>\n",
       "      <td>1</td>\n",
       "      <td>35</td>\n",
       "      <td>180.46</td>\n",
       "      <td>73.61</td>\n",
       "    </tr>\n",
       "    <tr>\n",
       "      <th>1</th>\n",
       "      <td>Иван</td>\n",
       "      <td>1</td>\n",
       "      <td>20</td>\n",
       "      <td>182.26</td>\n",
       "      <td>75.34</td>\n",
       "    </tr>\n",
       "    <tr>\n",
       "      <th>2</th>\n",
       "      <td>Анна</td>\n",
       "      <td>0</td>\n",
       "      <td>13</td>\n",
       "      <td>165.12</td>\n",
       "      <td>50.22</td>\n",
       "    </tr>\n",
       "    <tr>\n",
       "      <th>3</th>\n",
       "      <td>Ольга</td>\n",
       "      <td>2</td>\n",
       "      <td>28</td>\n",
       "      <td>168.04</td>\n",
       "      <td>52.14</td>\n",
       "    </tr>\n",
       "    <tr>\n",
       "      <th>4</th>\n",
       "      <td>Николай</td>\n",
       "      <td>1</td>\n",
       "      <td>16</td>\n",
       "      <td>178.68</td>\n",
       "      <td>69.72</td>\n",
       "    </tr>\n",
       "  </tbody>\n",
       "</table>\n",
       "</div>"
      ],
      "text/plain": [
       "      name  gender  age  height  weight\n",
       "0  Алексей       1   35  180.46   73.61\n",
       "1     Иван       1   20  182.26   75.34\n",
       "2     Анна       0   13  165.12   50.22\n",
       "3    Ольга       2   28  168.04   52.14\n",
       "4  Николай       1   16  178.68   69.72"
      ]
     },
     "execution_count": 76,
     "metadata": {},
     "output_type": "execute_result"
    }
   ],
   "source": [
    "# убедимся, что исходный датафрейм не изменился\n",
    "people"
   ]
  },
  {
   "cell_type": "markdown",
   "metadata": {
    "id": "aUZfnWhmcdbJ"
   },
   "source": [
    "## Соединение датафреймов"
   ]
  },
  {
   "cell_type": "markdown",
   "metadata": {
    "id": "gIigcKqdWbSB"
   },
   "source": [
    "### `pd.concat()`"
   ]
  },
  {
   "cell_type": "code",
   "execution_count": null,
   "metadata": {
    "id": "_7ErpJYUbH7v"
   },
   "outputs": [],
   "source": [
    "# создадим датафреймы с информацией о стоимости канцелярских товаров в двух\n",
    "# магазинах\n",
    "s1 = pd.DataFrame(\n",
    "    {\"item\": [\"карандаш\", \"ручка\", \"папка\", \"степлер\"], \"price\": [220, 340, 200, 500]}\n",
    ")\n",
    "\n",
    "s2 = pd.DataFrame(\n",
    "    {\"item\": [\"клей\", \"корректор\", \"скрепка\", \"бумага\"], \"price\": [200, 240, 100, 300]}\n",
    ")"
   ]
  },
  {
   "cell_type": "code",
   "execution_count": 78,
   "metadata": {
    "colab": {
     "base_uri": "https://localhost:8080/",
     "height": 175
    },
    "id": "5lJ7OSuQcits",
    "outputId": "9eb2802f-a3b2-476b-da46-b99b21a83436"
   },
   "outputs": [
    {
     "data": {
      "text/html": [
       "<div>\n",
       "<style scoped>\n",
       "    .dataframe tbody tr th:only-of-type {\n",
       "        vertical-align: middle;\n",
       "    }\n",
       "\n",
       "    .dataframe tbody tr th {\n",
       "        vertical-align: top;\n",
       "    }\n",
       "\n",
       "    .dataframe thead th {\n",
       "        text-align: right;\n",
       "    }\n",
       "</style>\n",
       "<table border=\"1\" class=\"dataframe\">\n",
       "  <thead>\n",
       "    <tr style=\"text-align: right;\">\n",
       "      <th></th>\n",
       "      <th>item</th>\n",
       "      <th>price</th>\n",
       "    </tr>\n",
       "  </thead>\n",
       "  <tbody>\n",
       "    <tr>\n",
       "      <th>0</th>\n",
       "      <td>карандаш</td>\n",
       "      <td>220</td>\n",
       "    </tr>\n",
       "    <tr>\n",
       "      <th>1</th>\n",
       "      <td>ручка</td>\n",
       "      <td>340</td>\n",
       "    </tr>\n",
       "    <tr>\n",
       "      <th>2</th>\n",
       "      <td>папка</td>\n",
       "      <td>200</td>\n",
       "    </tr>\n",
       "    <tr>\n",
       "      <th>3</th>\n",
       "      <td>степлер</td>\n",
       "      <td>500</td>\n",
       "    </tr>\n",
       "  </tbody>\n",
       "</table>\n",
       "</div>"
      ],
      "text/plain": [
       "       item  price\n",
       "0  карандаш    220\n",
       "1     ручка    340\n",
       "2     папка    200\n",
       "3   степлер    500"
      ]
     },
     "execution_count": 78,
     "metadata": {},
     "output_type": "execute_result"
    }
   ],
   "source": [
    "# посмотрим на результат\n",
    "s1"
   ]
  },
  {
   "cell_type": "code",
   "execution_count": 79,
   "metadata": {
    "colab": {
     "base_uri": "https://localhost:8080/",
     "height": 175
    },
    "id": "wFdCt6DBcixl",
    "outputId": "8762bd4f-3270-42ac-b618-84621c0d7b78"
   },
   "outputs": [
    {
     "data": {
      "text/html": [
       "<div>\n",
       "<style scoped>\n",
       "    .dataframe tbody tr th:only-of-type {\n",
       "        vertical-align: middle;\n",
       "    }\n",
       "\n",
       "    .dataframe tbody tr th {\n",
       "        vertical-align: top;\n",
       "    }\n",
       "\n",
       "    .dataframe thead th {\n",
       "        text-align: right;\n",
       "    }\n",
       "</style>\n",
       "<table border=\"1\" class=\"dataframe\">\n",
       "  <thead>\n",
       "    <tr style=\"text-align: right;\">\n",
       "      <th></th>\n",
       "      <th>item</th>\n",
       "      <th>price</th>\n",
       "    </tr>\n",
       "  </thead>\n",
       "  <tbody>\n",
       "    <tr>\n",
       "      <th>0</th>\n",
       "      <td>клей</td>\n",
       "      <td>200</td>\n",
       "    </tr>\n",
       "    <tr>\n",
       "      <th>1</th>\n",
       "      <td>корректор</td>\n",
       "      <td>240</td>\n",
       "    </tr>\n",
       "    <tr>\n",
       "      <th>2</th>\n",
       "      <td>скрепка</td>\n",
       "      <td>100</td>\n",
       "    </tr>\n",
       "    <tr>\n",
       "      <th>3</th>\n",
       "      <td>бумага</td>\n",
       "      <td>300</td>\n",
       "    </tr>\n",
       "  </tbody>\n",
       "</table>\n",
       "</div>"
      ],
      "text/plain": [
       "        item  price\n",
       "0       клей    200\n",
       "1  корректор    240\n",
       "2    скрепка    100\n",
       "3     бумага    300"
      ]
     },
     "execution_count": 79,
     "metadata": {},
     "output_type": "execute_result"
    }
   ],
   "source": [
    "s2"
   ]
  },
  {
   "cell_type": "code",
   "execution_count": 80,
   "metadata": {
    "colab": {
     "base_uri": "https://localhost:8080/",
     "height": 300
    },
    "id": "P1kOzUZcUORh",
    "outputId": "2816d4d1-1f08-425a-8878-b86609a20c8a"
   },
   "outputs": [
    {
     "data": {
      "text/html": [
       "<div>\n",
       "<style scoped>\n",
       "    .dataframe tbody tr th:only-of-type {\n",
       "        vertical-align: middle;\n",
       "    }\n",
       "\n",
       "    .dataframe tbody tr th {\n",
       "        vertical-align: top;\n",
       "    }\n",
       "\n",
       "    .dataframe thead th {\n",
       "        text-align: right;\n",
       "    }\n",
       "</style>\n",
       "<table border=\"1\" class=\"dataframe\">\n",
       "  <thead>\n",
       "    <tr style=\"text-align: right;\">\n",
       "      <th></th>\n",
       "      <th>item</th>\n",
       "      <th>price</th>\n",
       "    </tr>\n",
       "  </thead>\n",
       "  <tbody>\n",
       "    <tr>\n",
       "      <th>0</th>\n",
       "      <td>карандаш</td>\n",
       "      <td>220</td>\n",
       "    </tr>\n",
       "    <tr>\n",
       "      <th>1</th>\n",
       "      <td>ручка</td>\n",
       "      <td>340</td>\n",
       "    </tr>\n",
       "    <tr>\n",
       "      <th>2</th>\n",
       "      <td>папка</td>\n",
       "      <td>200</td>\n",
       "    </tr>\n",
       "    <tr>\n",
       "      <th>3</th>\n",
       "      <td>степлер</td>\n",
       "      <td>500</td>\n",
       "    </tr>\n",
       "    <tr>\n",
       "      <th>0</th>\n",
       "      <td>клей</td>\n",
       "      <td>200</td>\n",
       "    </tr>\n",
       "    <tr>\n",
       "      <th>1</th>\n",
       "      <td>корректор</td>\n",
       "      <td>240</td>\n",
       "    </tr>\n",
       "    <tr>\n",
       "      <th>2</th>\n",
       "      <td>скрепка</td>\n",
       "      <td>100</td>\n",
       "    </tr>\n",
       "    <tr>\n",
       "      <th>3</th>\n",
       "      <td>бумага</td>\n",
       "      <td>300</td>\n",
       "    </tr>\n",
       "  </tbody>\n",
       "</table>\n",
       "</div>"
      ],
      "text/plain": [
       "        item  price\n",
       "0   карандаш    220\n",
       "1      ручка    340\n",
       "2      папка    200\n",
       "3    степлер    500\n",
       "0       клей    200\n",
       "1  корректор    240\n",
       "2    скрепка    100\n",
       "3     бумага    300"
      ]
     },
     "execution_count": 80,
     "metadata": {},
     "output_type": "execute_result"
    }
   ],
   "source": [
    "# передадим в функцию pd.concat() список из соединяемых датафреймов,\n",
    "# укажем параметр axis = 0 (значение по умолчанию)\n",
    "pd.concat([s1, s2], axis=0)"
   ]
  },
  {
   "cell_type": "code",
   "execution_count": 81,
   "metadata": {
    "colab": {
     "base_uri": "https://localhost:8080/",
     "height": 300
    },
    "id": "eIB2I9Aqc3iU",
    "outputId": "b9887e45-2545-4cd1-e298-af69719d8bff"
   },
   "outputs": [
    {
     "data": {
      "text/html": [
       "<div>\n",
       "<style scoped>\n",
       "    .dataframe tbody tr th:only-of-type {\n",
       "        vertical-align: middle;\n",
       "    }\n",
       "\n",
       "    .dataframe tbody tr th {\n",
       "        vertical-align: top;\n",
       "    }\n",
       "\n",
       "    .dataframe thead th {\n",
       "        text-align: right;\n",
       "    }\n",
       "</style>\n",
       "<table border=\"1\" class=\"dataframe\">\n",
       "  <thead>\n",
       "    <tr style=\"text-align: right;\">\n",
       "      <th></th>\n",
       "      <th>item</th>\n",
       "      <th>price</th>\n",
       "    </tr>\n",
       "  </thead>\n",
       "  <tbody>\n",
       "    <tr>\n",
       "      <th>0</th>\n",
       "      <td>карандаш</td>\n",
       "      <td>220</td>\n",
       "    </tr>\n",
       "    <tr>\n",
       "      <th>1</th>\n",
       "      <td>ручка</td>\n",
       "      <td>340</td>\n",
       "    </tr>\n",
       "    <tr>\n",
       "      <th>2</th>\n",
       "      <td>папка</td>\n",
       "      <td>200</td>\n",
       "    </tr>\n",
       "    <tr>\n",
       "      <th>3</th>\n",
       "      <td>степлер</td>\n",
       "      <td>500</td>\n",
       "    </tr>\n",
       "    <tr>\n",
       "      <th>4</th>\n",
       "      <td>клей</td>\n",
       "      <td>200</td>\n",
       "    </tr>\n",
       "    <tr>\n",
       "      <th>5</th>\n",
       "      <td>корректор</td>\n",
       "      <td>240</td>\n",
       "    </tr>\n",
       "    <tr>\n",
       "      <th>6</th>\n",
       "      <td>скрепка</td>\n",
       "      <td>100</td>\n",
       "    </tr>\n",
       "    <tr>\n",
       "      <th>7</th>\n",
       "      <td>бумага</td>\n",
       "      <td>300</td>\n",
       "    </tr>\n",
       "  </tbody>\n",
       "</table>\n",
       "</div>"
      ],
      "text/plain": [
       "        item  price\n",
       "0   карандаш    220\n",
       "1      ручка    340\n",
       "2      папка    200\n",
       "3    степлер    500\n",
       "4       клей    200\n",
       "5  корректор    240\n",
       "6    скрепка    100\n",
       "7     бумага    300"
      ]
     },
     "execution_count": 81,
     "metadata": {},
     "output_type": "execute_result"
    }
   ],
   "source": [
    "# обновим индекс через параметр ignore_index = True\n",
    "pd.concat([s1, s2], axis=0, ignore_index=True)"
   ]
  },
  {
   "cell_type": "code",
   "execution_count": 82,
   "metadata": {
    "colab": {
     "base_uri": "https://localhost:8080/",
     "height": 331
    },
    "id": "odewuu0Fc9gW",
    "outputId": "ce2bf7de-0736-414f-d37d-a43b62f1f8b2"
   },
   "outputs": [
    {
     "data": {
      "text/html": [
       "<div>\n",
       "<style scoped>\n",
       "    .dataframe tbody tr th:only-of-type {\n",
       "        vertical-align: middle;\n",
       "    }\n",
       "\n",
       "    .dataframe tbody tr th {\n",
       "        vertical-align: top;\n",
       "    }\n",
       "\n",
       "    .dataframe thead th {\n",
       "        text-align: right;\n",
       "    }\n",
       "</style>\n",
       "<table border=\"1\" class=\"dataframe\">\n",
       "  <thead>\n",
       "    <tr style=\"text-align: right;\">\n",
       "      <th></th>\n",
       "      <th></th>\n",
       "      <th>item</th>\n",
       "      <th>price</th>\n",
       "    </tr>\n",
       "    <tr>\n",
       "      <th>s</th>\n",
       "      <th>id</th>\n",
       "      <th></th>\n",
       "      <th></th>\n",
       "    </tr>\n",
       "  </thead>\n",
       "  <tbody>\n",
       "    <tr>\n",
       "      <th rowspan=\"4\" valign=\"top\">s1</th>\n",
       "      <th>0</th>\n",
       "      <td>карандаш</td>\n",
       "      <td>220</td>\n",
       "    </tr>\n",
       "    <tr>\n",
       "      <th>1</th>\n",
       "      <td>ручка</td>\n",
       "      <td>340</td>\n",
       "    </tr>\n",
       "    <tr>\n",
       "      <th>2</th>\n",
       "      <td>папка</td>\n",
       "      <td>200</td>\n",
       "    </tr>\n",
       "    <tr>\n",
       "      <th>3</th>\n",
       "      <td>степлер</td>\n",
       "      <td>500</td>\n",
       "    </tr>\n",
       "    <tr>\n",
       "      <th rowspan=\"4\" valign=\"top\">s2</th>\n",
       "      <th>0</th>\n",
       "      <td>клей</td>\n",
       "      <td>200</td>\n",
       "    </tr>\n",
       "    <tr>\n",
       "      <th>1</th>\n",
       "      <td>корректор</td>\n",
       "      <td>240</td>\n",
       "    </tr>\n",
       "    <tr>\n",
       "      <th>2</th>\n",
       "      <td>скрепка</td>\n",
       "      <td>100</td>\n",
       "    </tr>\n",
       "    <tr>\n",
       "      <th>3</th>\n",
       "      <td>бумага</td>\n",
       "      <td>300</td>\n",
       "    </tr>\n",
       "  </tbody>\n",
       "</table>\n",
       "</div>"
      ],
      "text/plain": [
       "            item  price\n",
       "s  id                  \n",
       "s1 0    карандаш    220\n",
       "   1       ручка    340\n",
       "   2       папка    200\n",
       "   3     степлер    500\n",
       "s2 0        клей    200\n",
       "   1   корректор    240\n",
       "   2     скрепка    100\n",
       "   3      бумага    300"
      ]
     },
     "execution_count": 82,
     "metadata": {},
     "output_type": "execute_result"
    }
   ],
   "source": [
    "# создадим многоуровневый (иерархический) индекс\n",
    "# передадим в параметр keys названия групп индекса,\n",
    "# параметр names получим названия уровней индекса\n",
    "by_shop = pd.concat([s1, s2], axis=0, keys=[\"s1\", \"s2\"], names=[\"s\", \"id\"])\n",
    "by_shop"
   ]
  },
  {
   "cell_type": "code",
   "execution_count": 83,
   "metadata": {
    "colab": {
     "base_uri": "https://localhost:8080/"
    },
    "id": "6R5Rv7WIdWjy",
    "outputId": "23b837b0-7c83-4523-e8f6-dd35480b68e1"
   },
   "outputs": [
    {
     "data": {
      "text/plain": [
       "MultiIndex([('s1', 0),\n",
       "            ('s1', 1),\n",
       "            ('s1', 2),\n",
       "            ('s1', 3),\n",
       "            ('s2', 0),\n",
       "            ('s2', 1),\n",
       "            ('s2', 2),\n",
       "            ('s2', 3)],\n",
       "           names=['s', 'id'])"
      ]
     },
     "execution_count": 83,
     "metadata": {},
     "output_type": "execute_result"
    }
   ],
   "source": [
    "# посмотрим на созданный индекс\n",
    "by_shop.index"
   ]
  },
  {
   "cell_type": "code",
   "execution_count": null,
   "metadata": {
    "colab": {
     "base_uri": "https://localhost:8080/",
     "height": 178
    },
    "id": "hSpJJ8fJdydc",
    "outputId": "40739538-c832-4a37-c89c-c5534ed065fe"
   },
   "outputs": [
    {
     "data": {
      "text/plain": [
       "item     карандаш\n",
       "price         220\n",
       "Name: (s1, 0), dtype: object"
      ]
     },
     "execution_count": 84,
     "metadata": {},
     "output_type": "execute_result"
    }
   ],
   "source": [
    "# выведем первую запись в первой группе\n",
    "print(by_shop.loc[(\"s1\", 0)])"
   ]
  },
  {
   "cell_type": "code",
   "execution_count": 85,
   "metadata": {
    "colab": {
     "base_uri": "https://localhost:8080/",
     "height": 206
    },
    "id": "l_7PevRQdNhM",
    "outputId": "c97e37d9-2557-4771-fe25-c592ecd079f7"
   },
   "outputs": [
    {
     "data": {
      "text/html": [
       "<div>\n",
       "<style scoped>\n",
       "    .dataframe tbody tr th:only-of-type {\n",
       "        vertical-align: middle;\n",
       "    }\n",
       "\n",
       "    .dataframe tbody tr th {\n",
       "        vertical-align: top;\n",
       "    }\n",
       "\n",
       "    .dataframe thead tr th {\n",
       "        text-align: left;\n",
       "    }\n",
       "</style>\n",
       "<table border=\"1\" class=\"dataframe\">\n",
       "  <thead>\n",
       "    <tr>\n",
       "      <th></th>\n",
       "      <th colspan=\"2\" halign=\"left\">s1</th>\n",
       "      <th colspan=\"2\" halign=\"left\">s2</th>\n",
       "    </tr>\n",
       "    <tr>\n",
       "      <th></th>\n",
       "      <th>item</th>\n",
       "      <th>price</th>\n",
       "      <th>item</th>\n",
       "      <th>price</th>\n",
       "    </tr>\n",
       "  </thead>\n",
       "  <tbody>\n",
       "    <tr>\n",
       "      <th>0</th>\n",
       "      <td>карандаш</td>\n",
       "      <td>220</td>\n",
       "      <td>клей</td>\n",
       "      <td>200</td>\n",
       "    </tr>\n",
       "    <tr>\n",
       "      <th>1</th>\n",
       "      <td>ручка</td>\n",
       "      <td>340</td>\n",
       "      <td>корректор</td>\n",
       "      <td>240</td>\n",
       "    </tr>\n",
       "    <tr>\n",
       "      <th>2</th>\n",
       "      <td>папка</td>\n",
       "      <td>200</td>\n",
       "      <td>скрепка</td>\n",
       "      <td>100</td>\n",
       "    </tr>\n",
       "    <tr>\n",
       "      <th>3</th>\n",
       "      <td>степлер</td>\n",
       "      <td>500</td>\n",
       "      <td>бумага</td>\n",
       "      <td>300</td>\n",
       "    </tr>\n",
       "  </tbody>\n",
       "</table>\n",
       "</div>"
      ],
      "text/plain": [
       "         s1               s2      \n",
       "       item price       item price\n",
       "0  карандаш   220       клей   200\n",
       "1     ручка   340  корректор   240\n",
       "2     папка   200    скрепка   100\n",
       "3   степлер   500     бумага   300"
      ]
     },
     "execution_count": 85,
     "metadata": {},
     "output_type": "execute_result"
    }
   ],
   "source": [
    "# датафреймы можно расположить рядом друг с другом (axis = 1)\n",
    "# одновременно сразу создадим группы для многоуровневого индекса столбцов\n",
    "pd.concat([s1, s2], axis=1, keys=[\"s1\", \"s2\"])"
   ]
  },
  {
   "cell_type": "code",
   "execution_count": null,
   "metadata": {
    "colab": {
     "base_uri": "https://localhost:8080/",
     "height": 175
    },
    "id": "wwsLFwIrrTuN",
    "outputId": "c31dd679-32fc-440f-e56d-0add4c34c361"
   },
   "outputs": [
    {
     "data": {
      "text/html": [
       "<div>\n",
       "<style scoped>\n",
       "    .dataframe tbody tr th:only-of-type {\n",
       "        vertical-align: middle;\n",
       "    }\n",
       "\n",
       "    .dataframe tbody tr th {\n",
       "        vertical-align: top;\n",
       "    }\n",
       "\n",
       "    .dataframe thead th {\n",
       "        text-align: right;\n",
       "    }\n",
       "</style>\n",
       "<table border=\"1\" class=\"dataframe\">\n",
       "  <thead>\n",
       "    <tr style=\"text-align: right;\">\n",
       "      <th></th>\n",
       "      <th>item</th>\n",
       "      <th>price</th>\n",
       "    </tr>\n",
       "  </thead>\n",
       "  <tbody>\n",
       "    <tr>\n",
       "      <th>0</th>\n",
       "      <td>клей</td>\n",
       "      <td>200</td>\n",
       "    </tr>\n",
       "    <tr>\n",
       "      <th>1</th>\n",
       "      <td>корректор</td>\n",
       "      <td>240</td>\n",
       "    </tr>\n",
       "    <tr>\n",
       "      <th>2</th>\n",
       "      <td>скрепка</td>\n",
       "      <td>100</td>\n",
       "    </tr>\n",
       "    <tr>\n",
       "      <th>3</th>\n",
       "      <td>бумага</td>\n",
       "      <td>300</td>\n",
       "    </tr>\n",
       "  </tbody>\n",
       "</table>\n",
       "</div>"
      ],
      "text/plain": [
       "        item  price\n",
       "0       клей    200\n",
       "1  корректор    240\n",
       "2    скрепка    100\n",
       "3     бумага    300"
      ]
     },
     "execution_count": 86,
     "metadata": {},
     "output_type": "execute_result"
    }
   ],
   "source": [
    "# с помощью метода .iloc[] можно выбрать только вторую группу\n",
    "print(pd.concat([s1, s2], axis=1, keys=[\"s1\", \"s2\"]).loc[:, \"s2\"])"
   ]
  },
  {
   "cell_type": "code",
   "execution_count": null,
   "metadata": {
    "colab": {
     "base_uri": "https://localhost:8080/",
     "height": 175
    },
    "id": "ZeXHb1EHNSsN",
    "outputId": "aae42054-f31c-4a5a-9cf2-ea9499a9b0ef"
   },
   "outputs": [
    {
     "data": {
      "text/html": [
       "<div>\n",
       "<style scoped>\n",
       "    .dataframe tbody tr th:only-of-type {\n",
       "        vertical-align: middle;\n",
       "    }\n",
       "\n",
       "    .dataframe tbody tr th {\n",
       "        vertical-align: top;\n",
       "    }\n",
       "\n",
       "    .dataframe thead th {\n",
       "        text-align: right;\n",
       "    }\n",
       "</style>\n",
       "<table border=\"1\" class=\"dataframe\">\n",
       "  <thead>\n",
       "    <tr style=\"text-align: right;\">\n",
       "      <th></th>\n",
       "      <th></th>\n",
       "      <th>0</th>\n",
       "      <th>1</th>\n",
       "      <th>2</th>\n",
       "      <th>3</th>\n",
       "    </tr>\n",
       "  </thead>\n",
       "  <tbody>\n",
       "    <tr>\n",
       "      <th rowspan=\"2\" valign=\"top\">s1</th>\n",
       "      <th>item</th>\n",
       "      <td>карандаш</td>\n",
       "      <td>ручка</td>\n",
       "      <td>папка</td>\n",
       "      <td>степлер</td>\n",
       "    </tr>\n",
       "    <tr>\n",
       "      <th>price</th>\n",
       "      <td>220</td>\n",
       "      <td>340</td>\n",
       "      <td>200</td>\n",
       "      <td>500</td>\n",
       "    </tr>\n",
       "    <tr>\n",
       "      <th rowspan=\"2\" valign=\"top\">s2</th>\n",
       "      <th>item</th>\n",
       "      <td>клей</td>\n",
       "      <td>корректор</td>\n",
       "      <td>скрепка</td>\n",
       "      <td>бумага</td>\n",
       "    </tr>\n",
       "    <tr>\n",
       "      <th>price</th>\n",
       "      <td>200</td>\n",
       "      <td>240</td>\n",
       "      <td>100</td>\n",
       "      <td>300</td>\n",
       "    </tr>\n",
       "  </tbody>\n",
       "</table>\n",
       "</div>"
      ],
      "text/plain": [
       "                 0          1        2        3\n",
       "s1 item   карандаш      ручка    папка  степлер\n",
       "   price       220        340      200      500\n",
       "s2 item       клей  корректор  скрепка   бумага\n",
       "   price       200        240      100      300"
      ]
     },
     "execution_count": 87,
     "metadata": {},
     "output_type": "execute_result"
    }
   ],
   "source": [
    "# полученный результат и в целом любой датафрейм можно транспонировать\n",
    "print(pd.concat([s1, s2], axis=1, keys=[\"s1\", \"s2\"]).T)"
   ]
  },
  {
   "cell_type": "markdown",
   "metadata": {
    "id": "lI6kgCEgWfa9"
   },
   "source": [
    "### `pd.merge()` и `.join()`"
   ]
  },
  {
   "cell_type": "code",
   "execution_count": 88,
   "metadata": {
    "id": "vxITuoiEZako"
   },
   "outputs": [],
   "source": [
    "# рассмотрим три несложных датафрейма\n",
    "math_dict = {\n",
    "    \"name\": [\"Андрей\", \"Елена\", \"Антон\", \"Татьяна\"],\n",
    "    \"math_score\": [83, 84, 78, 80],\n",
    "}\n",
    "\n",
    "math_degree_dict = {\"degree\": [\"B\", \"M\", \"B\", \"M\"]}\n",
    "\n",
    "cs_dict = {\n",
    "    \"name\": [\"Андрей\", \"Ольга\", \"Евгений\", \"Татьяна\"],\n",
    "    \"cs_score\": [87, 82, 77, 81],\n",
    "}\n",
    "\n",
    "math = pd.DataFrame(math_dict)\n",
    "cs = pd.DataFrame(cs_dict)\n",
    "math_degree = pd.DataFrame(math_degree_dict)"
   ]
  },
  {
   "cell_type": "code",
   "execution_count": 89,
   "metadata": {
    "colab": {
     "base_uri": "https://localhost:8080/",
     "height": 175
    },
    "id": "Q_w3nlUkar7H",
    "outputId": "33cc43db-15a1-4909-c102-cc0f68a9211e"
   },
   "outputs": [
    {
     "data": {
      "text/html": [
       "<div>\n",
       "<style scoped>\n",
       "    .dataframe tbody tr th:only-of-type {\n",
       "        vertical-align: middle;\n",
       "    }\n",
       "\n",
       "    .dataframe tbody tr th {\n",
       "        vertical-align: top;\n",
       "    }\n",
       "\n",
       "    .dataframe thead th {\n",
       "        text-align: right;\n",
       "    }\n",
       "</style>\n",
       "<table border=\"1\" class=\"dataframe\">\n",
       "  <thead>\n",
       "    <tr style=\"text-align: right;\">\n",
       "      <th></th>\n",
       "      <th>name</th>\n",
       "      <th>math_score</th>\n",
       "    </tr>\n",
       "  </thead>\n",
       "  <tbody>\n",
       "    <tr>\n",
       "      <th>0</th>\n",
       "      <td>Андрей</td>\n",
       "      <td>83</td>\n",
       "    </tr>\n",
       "    <tr>\n",
       "      <th>1</th>\n",
       "      <td>Елена</td>\n",
       "      <td>84</td>\n",
       "    </tr>\n",
       "    <tr>\n",
       "      <th>2</th>\n",
       "      <td>Антон</td>\n",
       "      <td>78</td>\n",
       "    </tr>\n",
       "    <tr>\n",
       "      <th>3</th>\n",
       "      <td>Татьяна</td>\n",
       "      <td>80</td>\n",
       "    </tr>\n",
       "  </tbody>\n",
       "</table>\n",
       "</div>"
      ],
      "text/plain": [
       "      name  math_score\n",
       "0   Андрей          83\n",
       "1    Елена          84\n",
       "2    Антон          78\n",
       "3  Татьяна          80"
      ]
     },
     "execution_count": 89,
     "metadata": {},
     "output_type": "execute_result"
    }
   ],
   "source": [
    "# в первом содержатся оценки студентов ВУЗа по математике\n",
    "math"
   ]
  },
  {
   "cell_type": "code",
   "execution_count": 90,
   "metadata": {
    "colab": {
     "base_uri": "https://localhost:8080/",
     "height": 175
    },
    "id": "IpvxJfcgikiY",
    "outputId": "340fee29-85a7-4738-e31a-f4344521b113"
   },
   "outputs": [
    {
     "data": {
      "text/html": [
       "<div>\n",
       "<style scoped>\n",
       "    .dataframe tbody tr th:only-of-type {\n",
       "        vertical-align: middle;\n",
       "    }\n",
       "\n",
       "    .dataframe tbody tr th {\n",
       "        vertical-align: top;\n",
       "    }\n",
       "\n",
       "    .dataframe thead th {\n",
       "        text-align: right;\n",
       "    }\n",
       "</style>\n",
       "<table border=\"1\" class=\"dataframe\">\n",
       "  <thead>\n",
       "    <tr style=\"text-align: right;\">\n",
       "      <th></th>\n",
       "      <th>degree</th>\n",
       "    </tr>\n",
       "  </thead>\n",
       "  <tbody>\n",
       "    <tr>\n",
       "      <th>0</th>\n",
       "      <td>B</td>\n",
       "    </tr>\n",
       "    <tr>\n",
       "      <th>1</th>\n",
       "      <td>M</td>\n",
       "    </tr>\n",
       "    <tr>\n",
       "      <th>2</th>\n",
       "      <td>B</td>\n",
       "    </tr>\n",
       "    <tr>\n",
       "      <th>3</th>\n",
       "      <td>M</td>\n",
       "    </tr>\n",
       "  </tbody>\n",
       "</table>\n",
       "</div>"
      ],
      "text/plain": [
       "  degree\n",
       "0      B\n",
       "1      M\n",
       "2      B\n",
       "3      M"
      ]
     },
     "execution_count": 90,
     "metadata": {},
     "output_type": "execute_result"
    }
   ],
   "source": [
    "# во втором указано, по какой программе (бакалавр или магистер) учатся студенты\n",
    "math_degree"
   ]
  },
  {
   "cell_type": "code",
   "execution_count": 91,
   "metadata": {
    "colab": {
     "base_uri": "https://localhost:8080/",
     "height": 175
    },
    "id": "3kx4_H-vatQr",
    "outputId": "ddb50612-9250-482b-eabe-b25f6d0c8771"
   },
   "outputs": [
    {
     "data": {
      "text/html": [
       "<div>\n",
       "<style scoped>\n",
       "    .dataframe tbody tr th:only-of-type {\n",
       "        vertical-align: middle;\n",
       "    }\n",
       "\n",
       "    .dataframe tbody tr th {\n",
       "        vertical-align: top;\n",
       "    }\n",
       "\n",
       "    .dataframe thead th {\n",
       "        text-align: right;\n",
       "    }\n",
       "</style>\n",
       "<table border=\"1\" class=\"dataframe\">\n",
       "  <thead>\n",
       "    <tr style=\"text-align: right;\">\n",
       "      <th></th>\n",
       "      <th>name</th>\n",
       "      <th>cs_score</th>\n",
       "    </tr>\n",
       "  </thead>\n",
       "  <tbody>\n",
       "    <tr>\n",
       "      <th>0</th>\n",
       "      <td>Андрей</td>\n",
       "      <td>87</td>\n",
       "    </tr>\n",
       "    <tr>\n",
       "      <th>1</th>\n",
       "      <td>Ольга</td>\n",
       "      <td>82</td>\n",
       "    </tr>\n",
       "    <tr>\n",
       "      <th>2</th>\n",
       "      <td>Евгений</td>\n",
       "      <td>77</td>\n",
       "    </tr>\n",
       "    <tr>\n",
       "      <th>3</th>\n",
       "      <td>Татьяна</td>\n",
       "      <td>81</td>\n",
       "    </tr>\n",
       "  </tbody>\n",
       "</table>\n",
       "</div>"
      ],
      "text/plain": [
       "      name  cs_score\n",
       "0   Андрей        87\n",
       "1    Ольга        82\n",
       "2  Евгений        77\n",
       "3  Татьяна        81"
      ]
     },
     "execution_count": 91,
     "metadata": {},
     "output_type": "execute_result"
    }
   ],
   "source": [
    "# в третьем содержатся данные об оценках по информатике\n",
    "# имена некоторых студентов повторяются, других - нет\n",
    "cs"
   ]
  },
  {
   "cell_type": "markdown",
   "metadata": {
    "id": "9a-haEtkgpeA"
   },
   "source": [
    "#### Left join"
   ]
  },
  {
   "cell_type": "code",
   "execution_count": 92,
   "metadata": {
    "colab": {
     "base_uri": "https://localhost:8080/",
     "height": 175
    },
    "id": "M_z6blL7go5R",
    "outputId": "b585bd8b-f516-4b1d-dd42-e534e8a29763"
   },
   "outputs": [
    {
     "data": {
      "text/html": [
       "<div>\n",
       "<style scoped>\n",
       "    .dataframe tbody tr th:only-of-type {\n",
       "        vertical-align: middle;\n",
       "    }\n",
       "\n",
       "    .dataframe tbody tr th {\n",
       "        vertical-align: top;\n",
       "    }\n",
       "\n",
       "    .dataframe thead th {\n",
       "        text-align: right;\n",
       "    }\n",
       "</style>\n",
       "<table border=\"1\" class=\"dataframe\">\n",
       "  <thead>\n",
       "    <tr style=\"text-align: right;\">\n",
       "      <th></th>\n",
       "      <th>name</th>\n",
       "      <th>math_score</th>\n",
       "      <th>degree</th>\n",
       "    </tr>\n",
       "  </thead>\n",
       "  <tbody>\n",
       "    <tr>\n",
       "      <th>0</th>\n",
       "      <td>Андрей</td>\n",
       "      <td>83</td>\n",
       "      <td>B</td>\n",
       "    </tr>\n",
       "    <tr>\n",
       "      <th>1</th>\n",
       "      <td>Елена</td>\n",
       "      <td>84</td>\n",
       "      <td>M</td>\n",
       "    </tr>\n",
       "    <tr>\n",
       "      <th>2</th>\n",
       "      <td>Антон</td>\n",
       "      <td>78</td>\n",
       "      <td>B</td>\n",
       "    </tr>\n",
       "    <tr>\n",
       "      <th>3</th>\n",
       "      <td>Татьяна</td>\n",
       "      <td>80</td>\n",
       "      <td>M</td>\n",
       "    </tr>\n",
       "  </tbody>\n",
       "</table>\n",
       "</div>"
      ],
      "text/plain": [
       "      name  math_score degree\n",
       "0   Андрей          83      B\n",
       "1    Елена          84      M\n",
       "2    Антон          78      B\n",
       "3  Татьяна          80      M"
      ]
     },
     "execution_count": 92,
     "metadata": {},
     "output_type": "execute_result"
    }
   ],
   "source": [
    "pd.merge(\n",
    "    math,\n",
    "    math_degree,  # выполним соединение двух датафреймов\n",
    "    how=\"left\",  # способом left join\n",
    "    left_index=True,\n",
    "    right_index=True,\n",
    ")  # по индексам левого и правого датафрейма"
   ]
  },
  {
   "cell_type": "code",
   "execution_count": 93,
   "metadata": {
    "colab": {
     "base_uri": "https://localhost:8080/",
     "height": 175
    },
    "id": "4S2Lbkn8YTI0",
    "outputId": "5e8889df-54c3-4ba1-d476-0297bf8c4e84"
   },
   "outputs": [
    {
     "data": {
      "text/html": [
       "<div>\n",
       "<style scoped>\n",
       "    .dataframe tbody tr th:only-of-type {\n",
       "        vertical-align: middle;\n",
       "    }\n",
       "\n",
       "    .dataframe tbody tr th {\n",
       "        vertical-align: top;\n",
       "    }\n",
       "\n",
       "    .dataframe thead th {\n",
       "        text-align: right;\n",
       "    }\n",
       "</style>\n",
       "<table border=\"1\" class=\"dataframe\">\n",
       "  <thead>\n",
       "    <tr style=\"text-align: right;\">\n",
       "      <th></th>\n",
       "      <th>name</th>\n",
       "      <th>math_score</th>\n",
       "      <th>degree</th>\n",
       "    </tr>\n",
       "  </thead>\n",
       "  <tbody>\n",
       "    <tr>\n",
       "      <th>0</th>\n",
       "      <td>Андрей</td>\n",
       "      <td>83</td>\n",
       "      <td>B</td>\n",
       "    </tr>\n",
       "    <tr>\n",
       "      <th>1</th>\n",
       "      <td>Елена</td>\n",
       "      <td>84</td>\n",
       "      <td>M</td>\n",
       "    </tr>\n",
       "    <tr>\n",
       "      <th>2</th>\n",
       "      <td>Антон</td>\n",
       "      <td>78</td>\n",
       "      <td>B</td>\n",
       "    </tr>\n",
       "    <tr>\n",
       "      <th>3</th>\n",
       "      <td>Татьяна</td>\n",
       "      <td>80</td>\n",
       "      <td>M</td>\n",
       "    </tr>\n",
       "  </tbody>\n",
       "</table>\n",
       "</div>"
      ],
      "text/plain": [
       "      name  math_score degree\n",
       "0   Андрей          83      B\n",
       "1    Елена          84      M\n",
       "2    Антон          78      B\n",
       "3  Татьяна          80      M"
      ]
     },
     "execution_count": 93,
     "metadata": {},
     "output_type": "execute_result"
    }
   ],
   "source": [
    "# такой же результат можно получить с помощью метода .join()\n",
    "# можно сказать, что .join() \"заточен\" под left join по индексу\n",
    "math.join(math_degree)"
   ]
  },
  {
   "cell_type": "code",
   "execution_count": 94,
   "metadata": {
    "colab": {
     "base_uri": "https://localhost:8080/",
     "height": 175
    },
    "id": "aCPzVtRxkw6Z",
    "outputId": "4dbb1f92-7483-4371-cb3d-fdbe52405b13"
   },
   "outputs": [
    {
     "data": {
      "text/html": [
       "<div>\n",
       "<style scoped>\n",
       "    .dataframe tbody tr th:only-of-type {\n",
       "        vertical-align: middle;\n",
       "    }\n",
       "\n",
       "    .dataframe tbody tr th {\n",
       "        vertical-align: top;\n",
       "    }\n",
       "\n",
       "    .dataframe thead th {\n",
       "        text-align: right;\n",
       "    }\n",
       "</style>\n",
       "<table border=\"1\" class=\"dataframe\">\n",
       "  <thead>\n",
       "    <tr style=\"text-align: right;\">\n",
       "      <th></th>\n",
       "      <th>name</th>\n",
       "      <th>math_score</th>\n",
       "      <th>cs_score</th>\n",
       "    </tr>\n",
       "  </thead>\n",
       "  <tbody>\n",
       "    <tr>\n",
       "      <th>0</th>\n",
       "      <td>Андрей</td>\n",
       "      <td>83</td>\n",
       "      <td>87.0</td>\n",
       "    </tr>\n",
       "    <tr>\n",
       "      <th>1</th>\n",
       "      <td>Елена</td>\n",
       "      <td>84</td>\n",
       "      <td>NaN</td>\n",
       "    </tr>\n",
       "    <tr>\n",
       "      <th>2</th>\n",
       "      <td>Антон</td>\n",
       "      <td>78</td>\n",
       "      <td>NaN</td>\n",
       "    </tr>\n",
       "    <tr>\n",
       "      <th>3</th>\n",
       "      <td>Татьяна</td>\n",
       "      <td>80</td>\n",
       "      <td>81.0</td>\n",
       "    </tr>\n",
       "  </tbody>\n",
       "</table>\n",
       "</div>"
      ],
      "text/plain": [
       "      name  math_score  cs_score\n",
       "0   Андрей          83      87.0\n",
       "1    Елена          84       NaN\n",
       "2    Антон          78       NaN\n",
       "3  Татьяна          80      81.0"
      ]
     },
     "execution_count": 94,
     "metadata": {},
     "output_type": "execute_result"
    }
   ],
   "source": [
    "# выполним left join по столбцу name\n",
    "pd.merge(math, cs, how=\"left\", on=\"name\")"
   ]
  },
  {
   "cell_type": "markdown",
   "metadata": {
    "id": "jOdHaSsWAyqp"
   },
   "source": [
    "#### Left excluding join"
   ]
  },
  {
   "cell_type": "code",
   "execution_count": null,
   "metadata": {
    "colab": {
     "base_uri": "https://localhost:8080/",
     "height": 175
    },
    "id": "mUOMyNQaA20S",
    "outputId": "10449000-a29f-4223-da89-59fabd42ad18"
   },
   "outputs": [
    {
     "data": {
      "text/html": [
       "<div>\n",
       "<style scoped>\n",
       "    .dataframe tbody tr th:only-of-type {\n",
       "        vertical-align: middle;\n",
       "    }\n",
       "\n",
       "    .dataframe tbody tr th {\n",
       "        vertical-align: top;\n",
       "    }\n",
       "\n",
       "    .dataframe thead th {\n",
       "        text-align: right;\n",
       "    }\n",
       "</style>\n",
       "<table border=\"1\" class=\"dataframe\">\n",
       "  <thead>\n",
       "    <tr style=\"text-align: right;\">\n",
       "      <th></th>\n",
       "      <th>name</th>\n",
       "      <th>math_score</th>\n",
       "      <th>cs_score</th>\n",
       "      <th>_merge</th>\n",
       "    </tr>\n",
       "  </thead>\n",
       "  <tbody>\n",
       "    <tr>\n",
       "      <th>0</th>\n",
       "      <td>Андрей</td>\n",
       "      <td>83</td>\n",
       "      <td>87.0</td>\n",
       "      <td>both</td>\n",
       "    </tr>\n",
       "    <tr>\n",
       "      <th>1</th>\n",
       "      <td>Елена</td>\n",
       "      <td>84</td>\n",
       "      <td>NaN</td>\n",
       "      <td>left_only</td>\n",
       "    </tr>\n",
       "    <tr>\n",
       "      <th>2</th>\n",
       "      <td>Антон</td>\n",
       "      <td>78</td>\n",
       "      <td>NaN</td>\n",
       "      <td>left_only</td>\n",
       "    </tr>\n",
       "    <tr>\n",
       "      <th>3</th>\n",
       "      <td>Татьяна</td>\n",
       "      <td>80</td>\n",
       "      <td>81.0</td>\n",
       "      <td>both</td>\n",
       "    </tr>\n",
       "  </tbody>\n",
       "</table>\n",
       "</div>"
      ],
      "text/plain": [
       "      name  math_score  cs_score     _merge\n",
       "0   Андрей          83      87.0       both\n",
       "1    Елена          84       NaN  left_only\n",
       "2    Антон          78       NaN  left_only\n",
       "3  Татьяна          80      81.0       both"
      ]
     },
     "execution_count": 95,
     "metadata": {},
     "output_type": "execute_result"
    }
   ],
   "source": [
    "# выполним левое соединение и посмотрим, в каком из датафреймов указана та или\n",
    "# иная строка\n",
    "pd.merge(math, cs, how=\"left\", on=\"name\", indicator=True)"
   ]
  },
  {
   "cell_type": "code",
   "execution_count": 96,
   "metadata": {
    "colab": {
     "base_uri": "https://localhost:8080/",
     "height": 112
    },
    "id": "85lZ9WjKBLDa",
    "outputId": "bd55ad65-ca3b-4c42-81d6-455bddc6e171"
   },
   "outputs": [
    {
     "data": {
      "text/html": [
       "<div>\n",
       "<style scoped>\n",
       "    .dataframe tbody tr th:only-of-type {\n",
       "        vertical-align: middle;\n",
       "    }\n",
       "\n",
       "    .dataframe tbody tr th {\n",
       "        vertical-align: top;\n",
       "    }\n",
       "\n",
       "    .dataframe thead th {\n",
       "        text-align: right;\n",
       "    }\n",
       "</style>\n",
       "<table border=\"1\" class=\"dataframe\">\n",
       "  <thead>\n",
       "    <tr style=\"text-align: right;\">\n",
       "      <th></th>\n",
       "      <th>name</th>\n",
       "      <th>math_score</th>\n",
       "      <th>cs_score</th>\n",
       "    </tr>\n",
       "  </thead>\n",
       "  <tbody>\n",
       "    <tr>\n",
       "      <th>1</th>\n",
       "      <td>Елена</td>\n",
       "      <td>84</td>\n",
       "      <td>NaN</td>\n",
       "    </tr>\n",
       "    <tr>\n",
       "      <th>2</th>\n",
       "      <td>Антон</td>\n",
       "      <td>78</td>\n",
       "      <td>NaN</td>\n",
       "    </tr>\n",
       "  </tbody>\n",
       "</table>\n",
       "</div>"
      ],
      "text/plain": [
       "    name  math_score  cs_score\n",
       "1  Елена          84       NaN\n",
       "2  Антон          78       NaN"
      ]
     },
     "execution_count": 96,
     "metadata": {},
     "output_type": "execute_result"
    }
   ],
   "source": [
    "# выберем только записи из левого датафрейма и удалим столбец _merge\n",
    "# все это можно сделать, применив несколько методов подряд\n",
    "pd.merge(math, cs, how=\"left\", on=\"name\", indicator=True).query(\n",
    "    '_merge == \"left_only\"'\n",
    ").drop(columns=\"_merge\")"
   ]
  },
  {
   "cell_type": "markdown",
   "metadata": {
    "id": "BUTzFhbWjFOj"
   },
   "source": [
    "#### Right join"
   ]
  },
  {
   "cell_type": "code",
   "execution_count": 97,
   "metadata": {
    "colab": {
     "base_uri": "https://localhost:8080/",
     "height": 175
    },
    "id": "_97ycH6XmUL4",
    "outputId": "fcc8dbf3-02e5-4b70-a649-f9d92c2a82d5"
   },
   "outputs": [
    {
     "data": {
      "text/html": [
       "<div>\n",
       "<style scoped>\n",
       "    .dataframe tbody tr th:only-of-type {\n",
       "        vertical-align: middle;\n",
       "    }\n",
       "\n",
       "    .dataframe tbody tr th {\n",
       "        vertical-align: top;\n",
       "    }\n",
       "\n",
       "    .dataframe thead th {\n",
       "        text-align: right;\n",
       "    }\n",
       "</style>\n",
       "<table border=\"1\" class=\"dataframe\">\n",
       "  <thead>\n",
       "    <tr style=\"text-align: right;\">\n",
       "      <th></th>\n",
       "      <th>name</th>\n",
       "      <th>math_score</th>\n",
       "      <th>cs_score</th>\n",
       "    </tr>\n",
       "  </thead>\n",
       "  <tbody>\n",
       "    <tr>\n",
       "      <th>0</th>\n",
       "      <td>Андрей</td>\n",
       "      <td>83.0</td>\n",
       "      <td>87</td>\n",
       "    </tr>\n",
       "    <tr>\n",
       "      <th>1</th>\n",
       "      <td>Ольга</td>\n",
       "      <td>NaN</td>\n",
       "      <td>82</td>\n",
       "    </tr>\n",
       "    <tr>\n",
       "      <th>2</th>\n",
       "      <td>Евгений</td>\n",
       "      <td>NaN</td>\n",
       "      <td>77</td>\n",
       "    </tr>\n",
       "    <tr>\n",
       "      <th>3</th>\n",
       "      <td>Татьяна</td>\n",
       "      <td>80.0</td>\n",
       "      <td>81</td>\n",
       "    </tr>\n",
       "  </tbody>\n",
       "</table>\n",
       "</div>"
      ],
      "text/plain": [
       "      name  math_score  cs_score\n",
       "0   Андрей        83.0        87\n",
       "1    Ольга         NaN        82\n",
       "2  Евгений         NaN        77\n",
       "3  Татьяна        80.0        81"
      ]
     },
     "execution_count": 97,
     "metadata": {},
     "output_type": "execute_result"
    }
   ],
   "source": [
    "# выполним правое соединение с помощью параметра how = 'right'\n",
    "pd.merge(math, cs, how=\"right\", on=\"name\")"
   ]
  },
  {
   "cell_type": "markdown",
   "metadata": {
    "id": "wQfbp76WA3Mr"
   },
   "source": [
    "#### Right excluding join"
   ]
  },
  {
   "cell_type": "code",
   "execution_count": null,
   "metadata": {
    "colab": {
     "base_uri": "https://localhost:8080/",
     "height": 175
    },
    "id": "AjBkq0uRA6Nf",
    "outputId": "0d907b5d-c3a1-4f23-a0c8-94af7dbd915c"
   },
   "outputs": [
    {
     "data": {
      "text/html": [
       "<div>\n",
       "<style scoped>\n",
       "    .dataframe tbody tr th:only-of-type {\n",
       "        vertical-align: middle;\n",
       "    }\n",
       "\n",
       "    .dataframe tbody tr th {\n",
       "        vertical-align: top;\n",
       "    }\n",
       "\n",
       "    .dataframe thead th {\n",
       "        text-align: right;\n",
       "    }\n",
       "</style>\n",
       "<table border=\"1\" class=\"dataframe\">\n",
       "  <thead>\n",
       "    <tr style=\"text-align: right;\">\n",
       "      <th></th>\n",
       "      <th>name</th>\n",
       "      <th>math_score</th>\n",
       "      <th>cs_score</th>\n",
       "      <th>_merge</th>\n",
       "    </tr>\n",
       "  </thead>\n",
       "  <tbody>\n",
       "    <tr>\n",
       "      <th>0</th>\n",
       "      <td>Андрей</td>\n",
       "      <td>83.0</td>\n",
       "      <td>87</td>\n",
       "      <td>both</td>\n",
       "    </tr>\n",
       "    <tr>\n",
       "      <th>1</th>\n",
       "      <td>Ольга</td>\n",
       "      <td>NaN</td>\n",
       "      <td>82</td>\n",
       "      <td>right_only</td>\n",
       "    </tr>\n",
       "    <tr>\n",
       "      <th>2</th>\n",
       "      <td>Евгений</td>\n",
       "      <td>NaN</td>\n",
       "      <td>77</td>\n",
       "      <td>right_only</td>\n",
       "    </tr>\n",
       "    <tr>\n",
       "      <th>3</th>\n",
       "      <td>Татьяна</td>\n",
       "      <td>80.0</td>\n",
       "      <td>81</td>\n",
       "      <td>both</td>\n",
       "    </tr>\n",
       "  </tbody>\n",
       "</table>\n",
       "</div>"
      ],
      "text/plain": [
       "      name  math_score  cs_score      _merge\n",
       "0   Андрей        83.0        87        both\n",
       "1    Ольга         NaN        82  right_only\n",
       "2  Евгений         NaN        77  right_only\n",
       "3  Татьяна        80.0        81        both"
      ]
     },
     "execution_count": 98,
     "metadata": {},
     "output_type": "execute_result"
    }
   ],
   "source": [
    "# выполним правое соединение и посмотрим, в каком из датафреймов указана та\n",
    "# или иная строка\n",
    "pd.merge(math, cs, how=\"right\", on=\"name\", indicator=True)"
   ]
  },
  {
   "cell_type": "code",
   "execution_count": null,
   "metadata": {
    "colab": {
     "base_uri": "https://localhost:8080/",
     "height": 112
    },
    "id": "BbP3m0laCIY2",
    "outputId": "9903518d-452a-4457-8128-dd81c9b49b2b"
   },
   "outputs": [
    {
     "data": {
      "text/html": [
       "<div>\n",
       "<style scoped>\n",
       "    .dataframe tbody tr th:only-of-type {\n",
       "        vertical-align: middle;\n",
       "    }\n",
       "\n",
       "    .dataframe tbody tr th {\n",
       "        vertical-align: top;\n",
       "    }\n",
       "\n",
       "    .dataframe thead th {\n",
       "        text-align: right;\n",
       "    }\n",
       "</style>\n",
       "<table border=\"1\" class=\"dataframe\">\n",
       "  <thead>\n",
       "    <tr style=\"text-align: right;\">\n",
       "      <th></th>\n",
       "      <th>name</th>\n",
       "      <th>math_score</th>\n",
       "      <th>cs_score</th>\n",
       "    </tr>\n",
       "  </thead>\n",
       "  <tbody>\n",
       "    <tr>\n",
       "      <th>1</th>\n",
       "      <td>Ольга</td>\n",
       "      <td>NaN</td>\n",
       "      <td>82</td>\n",
       "    </tr>\n",
       "    <tr>\n",
       "      <th>2</th>\n",
       "      <td>Евгений</td>\n",
       "      <td>NaN</td>\n",
       "      <td>77</td>\n",
       "    </tr>\n",
       "  </tbody>\n",
       "</table>\n",
       "</div>"
      ],
      "text/plain": [
       "      name  math_score  cs_score\n",
       "1    Ольга         NaN        82\n",
       "2  Евгений         NaN        77"
      ]
     },
     "execution_count": 99,
     "metadata": {},
     "output_type": "execute_result"
    }
   ],
   "source": [
    "# воспользуемся методом .query() и оставим записи, которые есть только в\n",
    "# правом датафрейме\n",
    "# после этого удалим столбец _merge\n",
    "pd.merge(math, cs, how=\"right\", on=\"name\", indicator=True).query(\n",
    "    '_merge == \"right_only\"'\n",
    ").drop(columns=\"_merge\")"
   ]
  },
  {
   "cell_type": "markdown",
   "metadata": {
    "id": "zKwl0INgnEqJ"
   },
   "source": [
    "#### Outer join"
   ]
  },
  {
   "cell_type": "code",
   "execution_count": 100,
   "metadata": {
    "colab": {
     "base_uri": "https://localhost:8080/",
     "height": 237
    },
    "id": "UyzG06D5WkYx",
    "outputId": "0d67901e-299d-4613-ec91-b554e0b510af"
   },
   "outputs": [
    {
     "data": {
      "text/html": [
       "<div>\n",
       "<style scoped>\n",
       "    .dataframe tbody tr th:only-of-type {\n",
       "        vertical-align: middle;\n",
       "    }\n",
       "\n",
       "    .dataframe tbody tr th {\n",
       "        vertical-align: top;\n",
       "    }\n",
       "\n",
       "    .dataframe thead th {\n",
       "        text-align: right;\n",
       "    }\n",
       "</style>\n",
       "<table border=\"1\" class=\"dataframe\">\n",
       "  <thead>\n",
       "    <tr style=\"text-align: right;\">\n",
       "      <th></th>\n",
       "      <th>name</th>\n",
       "      <th>math_score</th>\n",
       "      <th>cs_score</th>\n",
       "    </tr>\n",
       "  </thead>\n",
       "  <tbody>\n",
       "    <tr>\n",
       "      <th>0</th>\n",
       "      <td>Андрей</td>\n",
       "      <td>83.0</td>\n",
       "      <td>87.0</td>\n",
       "    </tr>\n",
       "    <tr>\n",
       "      <th>1</th>\n",
       "      <td>Антон</td>\n",
       "      <td>78.0</td>\n",
       "      <td>NaN</td>\n",
       "    </tr>\n",
       "    <tr>\n",
       "      <th>2</th>\n",
       "      <td>Евгений</td>\n",
       "      <td>NaN</td>\n",
       "      <td>77.0</td>\n",
       "    </tr>\n",
       "    <tr>\n",
       "      <th>3</th>\n",
       "      <td>Елена</td>\n",
       "      <td>84.0</td>\n",
       "      <td>NaN</td>\n",
       "    </tr>\n",
       "    <tr>\n",
       "      <th>4</th>\n",
       "      <td>Ольга</td>\n",
       "      <td>NaN</td>\n",
       "      <td>82.0</td>\n",
       "    </tr>\n",
       "    <tr>\n",
       "      <th>5</th>\n",
       "      <td>Татьяна</td>\n",
       "      <td>80.0</td>\n",
       "      <td>81.0</td>\n",
       "    </tr>\n",
       "  </tbody>\n",
       "</table>\n",
       "</div>"
      ],
      "text/plain": [
       "      name  math_score  cs_score\n",
       "0   Андрей        83.0      87.0\n",
       "1    Антон        78.0       NaN\n",
       "2  Евгений         NaN      77.0\n",
       "3    Елена        84.0       NaN\n",
       "4    Ольга         NaN      82.0\n",
       "5  Татьяна        80.0      81.0"
      ]
     },
     "execution_count": 100,
     "metadata": {},
     "output_type": "execute_result"
    }
   ],
   "source": [
    "# внешнее соединение сохраняет все строки обоих датафреймов\n",
    "pd.merge(math, cs, how=\"outer\", on=\"name\")"
   ]
  },
  {
   "cell_type": "markdown",
   "metadata": {
    "id": "1SK-zOvjiPti"
   },
   "source": [
    "#### Full Excluding Join"
   ]
  },
  {
   "cell_type": "code",
   "execution_count": 101,
   "metadata": {
    "colab": {
     "base_uri": "https://localhost:8080/",
     "height": 237
    },
    "id": "ptxYegzqkKmO",
    "outputId": "0891fd48-c3c8-4db6-9007-c945bdfb4632"
   },
   "outputs": [
    {
     "data": {
      "text/html": [
       "<div>\n",
       "<style scoped>\n",
       "    .dataframe tbody tr th:only-of-type {\n",
       "        vertical-align: middle;\n",
       "    }\n",
       "\n",
       "    .dataframe tbody tr th {\n",
       "        vertical-align: top;\n",
       "    }\n",
       "\n",
       "    .dataframe thead th {\n",
       "        text-align: right;\n",
       "    }\n",
       "</style>\n",
       "<table border=\"1\" class=\"dataframe\">\n",
       "  <thead>\n",
       "    <tr style=\"text-align: right;\">\n",
       "      <th></th>\n",
       "      <th>name</th>\n",
       "      <th>math_score</th>\n",
       "      <th>cs_score</th>\n",
       "      <th>_merge</th>\n",
       "    </tr>\n",
       "  </thead>\n",
       "  <tbody>\n",
       "    <tr>\n",
       "      <th>0</th>\n",
       "      <td>Андрей</td>\n",
       "      <td>83.0</td>\n",
       "      <td>87.0</td>\n",
       "      <td>both</td>\n",
       "    </tr>\n",
       "    <tr>\n",
       "      <th>1</th>\n",
       "      <td>Антон</td>\n",
       "      <td>78.0</td>\n",
       "      <td>NaN</td>\n",
       "      <td>left_only</td>\n",
       "    </tr>\n",
       "    <tr>\n",
       "      <th>2</th>\n",
       "      <td>Евгений</td>\n",
       "      <td>NaN</td>\n",
       "      <td>77.0</td>\n",
       "      <td>right_only</td>\n",
       "    </tr>\n",
       "    <tr>\n",
       "      <th>3</th>\n",
       "      <td>Елена</td>\n",
       "      <td>84.0</td>\n",
       "      <td>NaN</td>\n",
       "      <td>left_only</td>\n",
       "    </tr>\n",
       "    <tr>\n",
       "      <th>4</th>\n",
       "      <td>Ольга</td>\n",
       "      <td>NaN</td>\n",
       "      <td>82.0</td>\n",
       "      <td>right_only</td>\n",
       "    </tr>\n",
       "    <tr>\n",
       "      <th>5</th>\n",
       "      <td>Татьяна</td>\n",
       "      <td>80.0</td>\n",
       "      <td>81.0</td>\n",
       "      <td>both</td>\n",
       "    </tr>\n",
       "  </tbody>\n",
       "</table>\n",
       "</div>"
      ],
      "text/plain": [
       "      name  math_score  cs_score      _merge\n",
       "0   Андрей        83.0      87.0        both\n",
       "1    Антон        78.0       NaN   left_only\n",
       "2  Евгений         NaN      77.0  right_only\n",
       "3    Елена        84.0       NaN   left_only\n",
       "4    Ольга         NaN      82.0  right_only\n",
       "5  Татьяна        80.0      81.0        both"
      ]
     },
     "execution_count": 101,
     "metadata": {},
     "output_type": "execute_result"
    }
   ],
   "source": [
    "# найдем какие записи есть только в левом датафрейме, только в правом и в обоих\n",
    "pd.merge(math, cs, on=\"name\", how=\"outer\", indicator=True)"
   ]
  },
  {
   "cell_type": "code",
   "execution_count": 102,
   "metadata": {
    "colab": {
     "base_uri": "https://localhost:8080/",
     "height": 175
    },
    "id": "RSDlnmoSj8ZH",
    "outputId": "ddeb7f7a-4e2e-44f1-b655-550b7a4ad7d5"
   },
   "outputs": [
    {
     "data": {
      "text/html": [
       "<div>\n",
       "<style scoped>\n",
       "    .dataframe tbody tr th:only-of-type {\n",
       "        vertical-align: middle;\n",
       "    }\n",
       "\n",
       "    .dataframe tbody tr th {\n",
       "        vertical-align: top;\n",
       "    }\n",
       "\n",
       "    .dataframe thead th {\n",
       "        text-align: right;\n",
       "    }\n",
       "</style>\n",
       "<table border=\"1\" class=\"dataframe\">\n",
       "  <thead>\n",
       "    <tr style=\"text-align: right;\">\n",
       "      <th></th>\n",
       "      <th>name</th>\n",
       "      <th>math_score</th>\n",
       "      <th>cs_score</th>\n",
       "    </tr>\n",
       "  </thead>\n",
       "  <tbody>\n",
       "    <tr>\n",
       "      <th>1</th>\n",
       "      <td>Антон</td>\n",
       "      <td>78.0</td>\n",
       "      <td>NaN</td>\n",
       "    </tr>\n",
       "    <tr>\n",
       "      <th>2</th>\n",
       "      <td>Евгений</td>\n",
       "      <td>NaN</td>\n",
       "      <td>77.0</td>\n",
       "    </tr>\n",
       "    <tr>\n",
       "      <th>3</th>\n",
       "      <td>Елена</td>\n",
       "      <td>84.0</td>\n",
       "      <td>NaN</td>\n",
       "    </tr>\n",
       "    <tr>\n",
       "      <th>4</th>\n",
       "      <td>Ольга</td>\n",
       "      <td>NaN</td>\n",
       "      <td>82.0</td>\n",
       "    </tr>\n",
       "  </tbody>\n",
       "</table>\n",
       "</div>"
      ],
      "text/plain": [
       "      name  math_score  cs_score\n",
       "1    Антон        78.0       NaN\n",
       "2  Евгений         NaN      77.0\n",
       "3    Елена        84.0       NaN\n",
       "4    Ольга         NaN      82.0"
      ]
     },
     "execution_count": 102,
     "metadata": {},
     "output_type": "execute_result"
    }
   ],
   "source": [
    "# оставим только те записи, которых нет в обоих датафреймах\n",
    "pd.merge(math, cs, on=\"name\", how=\"outer\", indicator=True).query(\n",
    "    '_merge != \"both\"'\n",
    ").drop(columns=\"_merge\")"
   ]
  },
  {
   "cell_type": "markdown",
   "metadata": {
    "id": "0Covp5MnnirE"
   },
   "source": [
    "#### Inner join"
   ]
  },
  {
   "cell_type": "code",
   "execution_count": 103,
   "metadata": {
    "colab": {
     "base_uri": "https://localhost:8080/",
     "height": 112
    },
    "id": "PqClZkz9nlQF",
    "outputId": "c92b8c56-01e1-4831-c978-f3597467e22e"
   },
   "outputs": [
    {
     "data": {
      "text/html": [
       "<div>\n",
       "<style scoped>\n",
       "    .dataframe tbody tr th:only-of-type {\n",
       "        vertical-align: middle;\n",
       "    }\n",
       "\n",
       "    .dataframe tbody tr th {\n",
       "        vertical-align: top;\n",
       "    }\n",
       "\n",
       "    .dataframe thead th {\n",
       "        text-align: right;\n",
       "    }\n",
       "</style>\n",
       "<table border=\"1\" class=\"dataframe\">\n",
       "  <thead>\n",
       "    <tr style=\"text-align: right;\">\n",
       "      <th></th>\n",
       "      <th>name</th>\n",
       "      <th>math_score</th>\n",
       "      <th>cs_score</th>\n",
       "    </tr>\n",
       "  </thead>\n",
       "  <tbody>\n",
       "    <tr>\n",
       "      <th>0</th>\n",
       "      <td>Андрей</td>\n",
       "      <td>83</td>\n",
       "      <td>87</td>\n",
       "    </tr>\n",
       "    <tr>\n",
       "      <th>1</th>\n",
       "      <td>Татьяна</td>\n",
       "      <td>80</td>\n",
       "      <td>81</td>\n",
       "    </tr>\n",
       "  </tbody>\n",
       "</table>\n",
       "</div>"
      ],
      "text/plain": [
       "      name  math_score  cs_score\n",
       "0   Андрей          83        87\n",
       "1  Татьяна          80        81"
      ]
     },
     "execution_count": 103,
     "metadata": {},
     "output_type": "execute_result"
    }
   ],
   "source": [
    "# для внутреннего соединения используется параметр how = 'inner'\n",
    "pd.merge(math, cs, how=\"inner\", on=\"name\")"
   ]
  },
  {
   "cell_type": "code",
   "execution_count": 104,
   "metadata": {
    "colab": {
     "base_uri": "https://localhost:8080/",
     "height": 112
    },
    "id": "rXilzYmv3uA5",
    "outputId": "adb57726-69e3-47b5-8cb8-68ca7930243a"
   },
   "outputs": [
    {
     "data": {
      "text/html": [
       "<div>\n",
       "<style scoped>\n",
       "    .dataframe tbody tr th:only-of-type {\n",
       "        vertical-align: middle;\n",
       "    }\n",
       "\n",
       "    .dataframe tbody tr th {\n",
       "        vertical-align: top;\n",
       "    }\n",
       "\n",
       "    .dataframe thead th {\n",
       "        text-align: right;\n",
       "    }\n",
       "</style>\n",
       "<table border=\"1\" class=\"dataframe\">\n",
       "  <thead>\n",
       "    <tr style=\"text-align: right;\">\n",
       "      <th></th>\n",
       "      <th>name</th>\n",
       "      <th>math_score</th>\n",
       "      <th>cs_score</th>\n",
       "    </tr>\n",
       "  </thead>\n",
       "  <tbody>\n",
       "    <tr>\n",
       "      <th>0</th>\n",
       "      <td>Андрей</td>\n",
       "      <td>83</td>\n",
       "      <td>87</td>\n",
       "    </tr>\n",
       "    <tr>\n",
       "      <th>1</th>\n",
       "      <td>Татьяна</td>\n",
       "      <td>80</td>\n",
       "      <td>81</td>\n",
       "    </tr>\n",
       "  </tbody>\n",
       "</table>\n",
       "</div>"
      ],
      "text/plain": [
       "      name  math_score  cs_score\n",
       "0   Андрей          83        87\n",
       "1  Татьяна          80        81"
      ]
     },
     "execution_count": 104,
     "metadata": {},
     "output_type": "execute_result"
    }
   ],
   "source": [
    "# по умолчанию в pd.merge() стоит именно how = 'inner'\n",
    "pd.merge(math, cs)"
   ]
  },
  {
   "cell_type": "markdown",
   "metadata": {
    "id": "itqEHTlr1xmS"
   },
   "source": [
    "#### Соединение датафреймов и дубликаты"
   ]
  },
  {
   "cell_type": "markdown",
   "metadata": {
    "id": "ihBL5KA9jsm6"
   },
   "source": [
    "Пример 1."
   ]
  },
  {
   "cell_type": "code",
   "execution_count": 105,
   "metadata": {
    "id": "zVyP4X36a9uo"
   },
   "outputs": [],
   "source": [
    "# создадим два датафрейма: один с названием товара, другой - с ценой\n",
    "product_data = pd.DataFrame(\n",
    "    [[1, \"холодильник\"], [2, \"телевизор\"]], columns=[\"code\", \"product\"]\n",
    ")\n",
    "price_data = pd.DataFrame([[1, 40000], [1, 60000]], columns=[\"code\", \"price\"])"
   ]
  },
  {
   "cell_type": "code",
   "execution_count": 106,
   "metadata": {
    "colab": {
     "base_uri": "https://localhost:8080/",
     "height": 125
    },
    "id": "Omyk08lIbKV_",
    "outputId": "dcff6454-3b7f-455f-aaee-8997e744b8ef"
   },
   "outputs": [
    {
     "data": {
      "text/html": [
       "<div>\n",
       "<style scoped>\n",
       "    .dataframe tbody tr th:only-of-type {\n",
       "        vertical-align: middle;\n",
       "    }\n",
       "\n",
       "    .dataframe tbody tr th {\n",
       "        vertical-align: top;\n",
       "    }\n",
       "\n",
       "    .dataframe thead th {\n",
       "        text-align: right;\n",
       "    }\n",
       "</style>\n",
       "<table border=\"1\" class=\"dataframe\">\n",
       "  <thead>\n",
       "    <tr style=\"text-align: right;\">\n",
       "      <th></th>\n",
       "      <th>code</th>\n",
       "      <th>product</th>\n",
       "    </tr>\n",
       "  </thead>\n",
       "  <tbody>\n",
       "    <tr>\n",
       "      <th>0</th>\n",
       "      <td>1</td>\n",
       "      <td>холодильник</td>\n",
       "    </tr>\n",
       "    <tr>\n",
       "      <th>1</th>\n",
       "      <td>2</td>\n",
       "      <td>телевизор</td>\n",
       "    </tr>\n",
       "  </tbody>\n",
       "</table>\n",
       "</div>"
      ],
      "text/plain": [
       "   code      product\n",
       "0     1  холодильник\n",
       "1     2    телевизор"
      ]
     },
     "execution_count": 106,
     "metadata": {},
     "output_type": "execute_result"
    }
   ],
   "source": [
    "product_data"
   ]
  },
  {
   "cell_type": "code",
   "execution_count": 107,
   "metadata": {
    "colab": {
     "base_uri": "https://localhost:8080/",
     "height": 125
    },
    "id": "tw7QPwWAbKcm",
    "outputId": "f7c25bb5-87e5-4012-b9a5-ce7ae13332cf"
   },
   "outputs": [
    {
     "data": {
      "text/html": [
       "<div>\n",
       "<style scoped>\n",
       "    .dataframe tbody tr th:only-of-type {\n",
       "        vertical-align: middle;\n",
       "    }\n",
       "\n",
       "    .dataframe tbody tr th {\n",
       "        vertical-align: top;\n",
       "    }\n",
       "\n",
       "    .dataframe thead th {\n",
       "        text-align: right;\n",
       "    }\n",
       "</style>\n",
       "<table border=\"1\" class=\"dataframe\">\n",
       "  <thead>\n",
       "    <tr style=\"text-align: right;\">\n",
       "      <th></th>\n",
       "      <th>code</th>\n",
       "      <th>price</th>\n",
       "    </tr>\n",
       "  </thead>\n",
       "  <tbody>\n",
       "    <tr>\n",
       "      <th>0</th>\n",
       "      <td>1</td>\n",
       "      <td>40000</td>\n",
       "    </tr>\n",
       "    <tr>\n",
       "      <th>1</th>\n",
       "      <td>1</td>\n",
       "      <td>60000</td>\n",
       "    </tr>\n",
       "  </tbody>\n",
       "</table>\n",
       "</div>"
      ],
      "text/plain": [
       "   code  price\n",
       "0     1  40000\n",
       "1     1  60000"
      ]
     },
     "execution_count": 107,
     "metadata": {},
     "output_type": "execute_result"
    }
   ],
   "source": [
    "price_data"
   ]
  },
  {
   "cell_type": "code",
   "execution_count": 108,
   "metadata": {
    "colab": {
     "base_uri": "https://localhost:8080/",
     "height": 143
    },
    "id": "9G3heBJ6bFPJ",
    "outputId": "04033227-4d51-4b75-a213-d8ab77abb39c"
   },
   "outputs": [
    {
     "data": {
      "text/html": [
       "<div>\n",
       "<style scoped>\n",
       "    .dataframe tbody tr th:only-of-type {\n",
       "        vertical-align: middle;\n",
       "    }\n",
       "\n",
       "    .dataframe tbody tr th {\n",
       "        vertical-align: top;\n",
       "    }\n",
       "\n",
       "    .dataframe thead th {\n",
       "        text-align: right;\n",
       "    }\n",
       "</style>\n",
       "<table border=\"1\" class=\"dataframe\">\n",
       "  <thead>\n",
       "    <tr style=\"text-align: right;\">\n",
       "      <th></th>\n",
       "      <th>code</th>\n",
       "      <th>product</th>\n",
       "      <th>price</th>\n",
       "    </tr>\n",
       "  </thead>\n",
       "  <tbody>\n",
       "    <tr>\n",
       "      <th>0</th>\n",
       "      <td>1</td>\n",
       "      <td>холодильник</td>\n",
       "      <td>40000.0</td>\n",
       "    </tr>\n",
       "    <tr>\n",
       "      <th>1</th>\n",
       "      <td>1</td>\n",
       "      <td>холодильник</td>\n",
       "      <td>60000.0</td>\n",
       "    </tr>\n",
       "    <tr>\n",
       "      <th>2</th>\n",
       "      <td>2</td>\n",
       "      <td>телевизор</td>\n",
       "      <td>NaN</td>\n",
       "    </tr>\n",
       "  </tbody>\n",
       "</table>\n",
       "</div>"
      ],
      "text/plain": [
       "   code      product    price\n",
       "0     1  холодильник  40000.0\n",
       "1     1  холодильник  60000.0\n",
       "2     2    телевизор      NaN"
      ]
     },
     "execution_count": 108,
     "metadata": {},
     "output_type": "execute_result"
    }
   ],
   "source": [
    "# левое соединение сохранит все имеющиеся данные\n",
    "pd.merge(product_data, price_data, how=\"left\", on=\"code\")"
   ]
  },
  {
   "cell_type": "code",
   "execution_count": 109,
   "metadata": {
    "colab": {
     "base_uri": "https://localhost:8080/",
     "height": 112
    },
    "id": "S9FWZVcMCCd6",
    "outputId": "528e9790-f659-4a64-ba55-86d4123539aa"
   },
   "outputs": [
    {
     "data": {
      "text/html": [
       "<div>\n",
       "<style scoped>\n",
       "    .dataframe tbody tr th:only-of-type {\n",
       "        vertical-align: middle;\n",
       "    }\n",
       "\n",
       "    .dataframe tbody tr th {\n",
       "        vertical-align: top;\n",
       "    }\n",
       "\n",
       "    .dataframe thead th {\n",
       "        text-align: right;\n",
       "    }\n",
       "</style>\n",
       "<table border=\"1\" class=\"dataframe\">\n",
       "  <thead>\n",
       "    <tr style=\"text-align: right;\">\n",
       "      <th></th>\n",
       "      <th>code</th>\n",
       "      <th>product</th>\n",
       "      <th>price</th>\n",
       "    </tr>\n",
       "  </thead>\n",
       "  <tbody>\n",
       "    <tr>\n",
       "      <th>0</th>\n",
       "      <td>1</td>\n",
       "      <td>холодильник</td>\n",
       "      <td>40000</td>\n",
       "    </tr>\n",
       "    <tr>\n",
       "      <th>1</th>\n",
       "      <td>1</td>\n",
       "      <td>холодильник</td>\n",
       "      <td>60000</td>\n",
       "    </tr>\n",
       "  </tbody>\n",
       "</table>\n",
       "</div>"
      ],
      "text/plain": [
       "   code      product  price\n",
       "0     1  холодильник  40000\n",
       "1     1  холодильник  60000"
      ]
     },
     "execution_count": 109,
     "metadata": {},
     "output_type": "execute_result"
    }
   ],
   "source": [
    "# при правом соединении часть данных будет потеряна\n",
    "pd.merge(product_data, price_data, how=\"right\", on=\"code\")"
   ]
  },
  {
   "cell_type": "markdown",
   "metadata": {
    "id": "ZiNa9K6hjvJt"
   },
   "source": [
    "Пример 2."
   ]
  },
  {
   "cell_type": "code",
   "execution_count": 110,
   "metadata": {
    "id": "iSjaqmQi1v-i"
   },
   "outputs": [],
   "source": [
    "# создадим два датафрейма\n",
    "exams_dict = {\n",
    "    \"professor\": [\"Погорельцев\", \"Преображенский\", \"Архенгельский\", \"Дятлов\", \"Иванов\"],\n",
    "    \"student\": [101, 102, 103, 104, 101],\n",
    "    \"score\": [83, 84, 78, 80, 82],\n",
    "}\n",
    "\n",
    "students_dict = {\n",
    "    \"student_id\": [101, 102, 103, 104],\n",
    "    \"student\": [\"Андрей\", \"Елена\", \"Антон\", \"Татьяна\"],\n",
    "}\n",
    "\n",
    "exams = pd.DataFrame(exams_dict)\n",
    "students = pd.DataFrame(students_dict)"
   ]
  },
  {
   "cell_type": "code",
   "execution_count": 111,
   "metadata": {
    "colab": {
     "base_uri": "https://localhost:8080/",
     "height": 206
    },
    "id": "hKdh-KFi2jm8",
    "outputId": "19e8b1e5-971d-43f2-f8cd-bbd439194cb1"
   },
   "outputs": [
    {
     "data": {
      "text/html": [
       "<div>\n",
       "<style scoped>\n",
       "    .dataframe tbody tr th:only-of-type {\n",
       "        vertical-align: middle;\n",
       "    }\n",
       "\n",
       "    .dataframe tbody tr th {\n",
       "        vertical-align: top;\n",
       "    }\n",
       "\n",
       "    .dataframe thead th {\n",
       "        text-align: right;\n",
       "    }\n",
       "</style>\n",
       "<table border=\"1\" class=\"dataframe\">\n",
       "  <thead>\n",
       "    <tr style=\"text-align: right;\">\n",
       "      <th></th>\n",
       "      <th>professor</th>\n",
       "      <th>student</th>\n",
       "      <th>score</th>\n",
       "    </tr>\n",
       "  </thead>\n",
       "  <tbody>\n",
       "    <tr>\n",
       "      <th>0</th>\n",
       "      <td>Погорельцев</td>\n",
       "      <td>101</td>\n",
       "      <td>83</td>\n",
       "    </tr>\n",
       "    <tr>\n",
       "      <th>1</th>\n",
       "      <td>Преображенский</td>\n",
       "      <td>102</td>\n",
       "      <td>84</td>\n",
       "    </tr>\n",
       "    <tr>\n",
       "      <th>2</th>\n",
       "      <td>Архенгельский</td>\n",
       "      <td>103</td>\n",
       "      <td>78</td>\n",
       "    </tr>\n",
       "    <tr>\n",
       "      <th>3</th>\n",
       "      <td>Дятлов</td>\n",
       "      <td>104</td>\n",
       "      <td>80</td>\n",
       "    </tr>\n",
       "    <tr>\n",
       "      <th>4</th>\n",
       "      <td>Иванов</td>\n",
       "      <td>101</td>\n",
       "      <td>82</td>\n",
       "    </tr>\n",
       "  </tbody>\n",
       "</table>\n",
       "</div>"
      ],
      "text/plain": [
       "        professor  student  score\n",
       "0     Погорельцев      101     83\n",
       "1  Преображенский      102     84\n",
       "2   Архенгельский      103     78\n",
       "3          Дятлов      104     80\n",
       "4          Иванов      101     82"
      ]
     },
     "execution_count": 111,
     "metadata": {},
     "output_type": "execute_result"
    }
   ],
   "source": [
    "# в первом датафрейме содержится информация о результатах экзамена\n",
    "# с фамилией экзаменатора, идентификатором студента и оценкой\n",
    "exams"
   ]
  },
  {
   "cell_type": "code",
   "execution_count": 112,
   "metadata": {
    "colab": {
     "base_uri": "https://localhost:8080/",
     "height": 175
    },
    "id": "YQR7ReFp2NXA",
    "outputId": "4759d58d-f376-4a92-e3af-0bff80d89790"
   },
   "outputs": [
    {
     "data": {
      "text/html": [
       "<div>\n",
       "<style scoped>\n",
       "    .dataframe tbody tr th:only-of-type {\n",
       "        vertical-align: middle;\n",
       "    }\n",
       "\n",
       "    .dataframe tbody tr th {\n",
       "        vertical-align: top;\n",
       "    }\n",
       "\n",
       "    .dataframe thead th {\n",
       "        text-align: right;\n",
       "    }\n",
       "</style>\n",
       "<table border=\"1\" class=\"dataframe\">\n",
       "  <thead>\n",
       "    <tr style=\"text-align: right;\">\n",
       "      <th></th>\n",
       "      <th>student_id</th>\n",
       "      <th>student</th>\n",
       "    </tr>\n",
       "  </thead>\n",
       "  <tbody>\n",
       "    <tr>\n",
       "      <th>0</th>\n",
       "      <td>101</td>\n",
       "      <td>Андрей</td>\n",
       "    </tr>\n",
       "    <tr>\n",
       "      <th>1</th>\n",
       "      <td>102</td>\n",
       "      <td>Елена</td>\n",
       "    </tr>\n",
       "    <tr>\n",
       "      <th>2</th>\n",
       "      <td>103</td>\n",
       "      <td>Антон</td>\n",
       "    </tr>\n",
       "    <tr>\n",
       "      <th>3</th>\n",
       "      <td>104</td>\n",
       "      <td>Татьяна</td>\n",
       "    </tr>\n",
       "  </tbody>\n",
       "</table>\n",
       "</div>"
      ],
      "text/plain": [
       "   student_id  student\n",
       "0         101   Андрей\n",
       "1         102    Елена\n",
       "2         103    Антон\n",
       "3         104  Татьяна"
      ]
     },
     "execution_count": 112,
     "metadata": {},
     "output_type": "execute_result"
    }
   ],
   "source": [
    "# во втором, идентификатор студента и его или ее имя\n",
    "students"
   ]
  },
  {
   "cell_type": "code",
   "execution_count": 113,
   "metadata": {
    "colab": {
     "base_uri": "https://localhost:8080/",
     "height": 206
    },
    "id": "GHktjTC02leR",
    "outputId": "bf8a3f77-8aa8-4108-c3c8-e5f17cff5389"
   },
   "outputs": [
    {
     "data": {
      "text/html": [
       "<div>\n",
       "<style scoped>\n",
       "    .dataframe tbody tr th:only-of-type {\n",
       "        vertical-align: middle;\n",
       "    }\n",
       "\n",
       "    .dataframe tbody tr th {\n",
       "        vertical-align: top;\n",
       "    }\n",
       "\n",
       "    .dataframe thead th {\n",
       "        text-align: right;\n",
       "    }\n",
       "</style>\n",
       "<table border=\"1\" class=\"dataframe\">\n",
       "  <thead>\n",
       "    <tr style=\"text-align: right;\">\n",
       "      <th></th>\n",
       "      <th>professor</th>\n",
       "      <th>student_x</th>\n",
       "      <th>score</th>\n",
       "      <th>student_id</th>\n",
       "      <th>student_y</th>\n",
       "    </tr>\n",
       "  </thead>\n",
       "  <tbody>\n",
       "    <tr>\n",
       "      <th>0</th>\n",
       "      <td>Погорельцев</td>\n",
       "      <td>101</td>\n",
       "      <td>83</td>\n",
       "      <td>101</td>\n",
       "      <td>Андрей</td>\n",
       "    </tr>\n",
       "    <tr>\n",
       "      <th>1</th>\n",
       "      <td>Преображенский</td>\n",
       "      <td>102</td>\n",
       "      <td>84</td>\n",
       "      <td>102</td>\n",
       "      <td>Елена</td>\n",
       "    </tr>\n",
       "    <tr>\n",
       "      <th>2</th>\n",
       "      <td>Архенгельский</td>\n",
       "      <td>103</td>\n",
       "      <td>78</td>\n",
       "      <td>103</td>\n",
       "      <td>Антон</td>\n",
       "    </tr>\n",
       "    <tr>\n",
       "      <th>3</th>\n",
       "      <td>Дятлов</td>\n",
       "      <td>104</td>\n",
       "      <td>80</td>\n",
       "      <td>104</td>\n",
       "      <td>Татьяна</td>\n",
       "    </tr>\n",
       "    <tr>\n",
       "      <th>4</th>\n",
       "      <td>Иванов</td>\n",
       "      <td>101</td>\n",
       "      <td>82</td>\n",
       "      <td>101</td>\n",
       "      <td>Андрей</td>\n",
       "    </tr>\n",
       "  </tbody>\n",
       "</table>\n",
       "</div>"
      ],
      "text/plain": [
       "        professor  student_x  score  student_id student_y\n",
       "0     Погорельцев        101     83         101    Андрей\n",
       "1  Преображенский        102     84         102     Елена\n",
       "2   Архенгельский        103     78         103     Антон\n",
       "3          Дятлов        104     80         104   Татьяна\n",
       "4          Иванов        101     82         101    Андрей"
      ]
     },
     "execution_count": 113,
     "metadata": {},
     "output_type": "execute_result"
    }
   ],
   "source": [
    "# если строка повторяется, данные продублируются\n",
    "# кроме того обратите внимание на суффиксы, их можно изменить через\n",
    "# параметр suffixes = ('_x', '_y')\n",
    "pd.merge(exams, students, left_on=\"student\", right_on=\"student_id\")"
   ]
  },
  {
   "cell_type": "markdown",
   "metadata": {
    "id": "OThM-tVfn6RP"
   },
   "source": [
    "#### Cross join"
   ]
  },
  {
   "cell_type": "code",
   "execution_count": 114,
   "metadata": {
    "colab": {
     "base_uri": "https://localhost:8080/",
     "height": 125
    },
    "id": "no2xEL2XotbH",
    "outputId": "453bd59d-c278-4cfe-c4e1-8fe8730c12bd"
   },
   "outputs": [
    {
     "data": {
      "text/html": [
       "<div>\n",
       "<style scoped>\n",
       "    .dataframe tbody tr th:only-of-type {\n",
       "        vertical-align: middle;\n",
       "    }\n",
       "\n",
       "    .dataframe tbody tr th {\n",
       "        vertical-align: top;\n",
       "    }\n",
       "\n",
       "    .dataframe thead th {\n",
       "        text-align: right;\n",
       "    }\n",
       "</style>\n",
       "<table border=\"1\" class=\"dataframe\">\n",
       "  <thead>\n",
       "    <tr style=\"text-align: right;\">\n",
       "      <th></th>\n",
       "      <th>xy</th>\n",
       "    </tr>\n",
       "  </thead>\n",
       "  <tbody>\n",
       "    <tr>\n",
       "      <th>0</th>\n",
       "      <td>x</td>\n",
       "    </tr>\n",
       "    <tr>\n",
       "      <th>1</th>\n",
       "      <td>y</td>\n",
       "    </tr>\n",
       "  </tbody>\n",
       "</table>\n",
       "</div>"
      ],
      "text/plain": [
       "  xy\n",
       "0  x\n",
       "1  y"
      ]
     },
     "execution_count": 114,
     "metadata": {},
     "output_type": "execute_result"
    }
   ],
   "source": [
    "# создадим датафрейм со столбцом xy и двумя значениями (x и y)\n",
    "df_xy = pd.DataFrame({\"xy\": [\"x\", \"y\"]})\n",
    "df_xy"
   ]
  },
  {
   "cell_type": "code",
   "execution_count": 115,
   "metadata": {
    "colab": {
     "base_uri": "https://localhost:8080/",
     "height": 143
    },
    "id": "KQ5nlsMcpPLN",
    "outputId": "9902639a-4e15-477a-8644-889bf6876d81"
   },
   "outputs": [
    {
     "data": {
      "text/html": [
       "<div>\n",
       "<style scoped>\n",
       "    .dataframe tbody tr th:only-of-type {\n",
       "        vertical-align: middle;\n",
       "    }\n",
       "\n",
       "    .dataframe tbody tr th {\n",
       "        vertical-align: top;\n",
       "    }\n",
       "\n",
       "    .dataframe thead th {\n",
       "        text-align: right;\n",
       "    }\n",
       "</style>\n",
       "<table border=\"1\" class=\"dataframe\">\n",
       "  <thead>\n",
       "    <tr style=\"text-align: right;\">\n",
       "      <th></th>\n",
       "      <th>123</th>\n",
       "    </tr>\n",
       "  </thead>\n",
       "  <tbody>\n",
       "    <tr>\n",
       "      <th>0</th>\n",
       "      <td>1</td>\n",
       "    </tr>\n",
       "    <tr>\n",
       "      <th>1</th>\n",
       "      <td>2</td>\n",
       "    </tr>\n",
       "    <tr>\n",
       "      <th>2</th>\n",
       "      <td>3</td>\n",
       "    </tr>\n",
       "  </tbody>\n",
       "</table>\n",
       "</div>"
      ],
      "text/plain": [
       "   123\n",
       "0    1\n",
       "1    2\n",
       "2    3"
      ]
     },
     "execution_count": 115,
     "metadata": {},
     "output_type": "execute_result"
    }
   ],
   "source": [
    "# создадим еще один датафрейм со столбцом 123 и тремя значениями (1, 2 и 3)\n",
    "df_123 = pd.DataFrame({\"123\": [1, 2, 3]})\n",
    "df_123"
   ]
  },
  {
   "cell_type": "code",
   "execution_count": 116,
   "metadata": {
    "colab": {
     "base_uri": "https://localhost:8080/",
     "height": 237
    },
    "id": "-LXh2pqKn8j6",
    "outputId": "ba10a134-9c24-4e51-a36b-e1e0befb7a38"
   },
   "outputs": [
    {
     "data": {
      "text/html": [
       "<div>\n",
       "<style scoped>\n",
       "    .dataframe tbody tr th:only-of-type {\n",
       "        vertical-align: middle;\n",
       "    }\n",
       "\n",
       "    .dataframe tbody tr th {\n",
       "        vertical-align: top;\n",
       "    }\n",
       "\n",
       "    .dataframe thead th {\n",
       "        text-align: right;\n",
       "    }\n",
       "</style>\n",
       "<table border=\"1\" class=\"dataframe\">\n",
       "  <thead>\n",
       "    <tr style=\"text-align: right;\">\n",
       "      <th></th>\n",
       "      <th>xy</th>\n",
       "      <th>123</th>\n",
       "    </tr>\n",
       "  </thead>\n",
       "  <tbody>\n",
       "    <tr>\n",
       "      <th>0</th>\n",
       "      <td>x</td>\n",
       "      <td>1</td>\n",
       "    </tr>\n",
       "    <tr>\n",
       "      <th>1</th>\n",
       "      <td>x</td>\n",
       "      <td>2</td>\n",
       "    </tr>\n",
       "    <tr>\n",
       "      <th>2</th>\n",
       "      <td>x</td>\n",
       "      <td>3</td>\n",
       "    </tr>\n",
       "    <tr>\n",
       "      <th>3</th>\n",
       "      <td>y</td>\n",
       "      <td>1</td>\n",
       "    </tr>\n",
       "    <tr>\n",
       "      <th>4</th>\n",
       "      <td>y</td>\n",
       "      <td>2</td>\n",
       "    </tr>\n",
       "    <tr>\n",
       "      <th>5</th>\n",
       "      <td>y</td>\n",
       "      <td>3</td>\n",
       "    </tr>\n",
       "  </tbody>\n",
       "</table>\n",
       "</div>"
      ],
      "text/plain": [
       "  xy  123\n",
       "0  x    1\n",
       "1  x    2\n",
       "2  x    3\n",
       "3  y    1\n",
       "4  y    2\n",
       "5  y    3"
      ]
     },
     "execution_count": 116,
     "metadata": {},
     "output_type": "execute_result"
    }
   ],
   "source": [
    "# поставим в соответствие каждому из элементов первого датафрейма\n",
    "# элементы второго\n",
    "pd.merge(df_xy, df_123, how=\"cross\")"
   ]
  },
  {
   "cell_type": "code",
   "execution_count": 117,
   "metadata": {
    "colab": {
     "base_uri": "https://localhost:8080/",
     "height": 143
    },
    "id": "VDWyUeF40FCt",
    "outputId": "16800ac9-1bcf-4558-dfc4-edac108f7434"
   },
   "outputs": [
    {
     "data": {
      "text/html": [
       "<div>\n",
       "<style scoped>\n",
       "    .dataframe tbody tr th:only-of-type {\n",
       "        vertical-align: middle;\n",
       "    }\n",
       "\n",
       "    .dataframe tbody tr th {\n",
       "        vertical-align: top;\n",
       "    }\n",
       "\n",
       "    .dataframe thead th {\n",
       "        text-align: right;\n",
       "    }\n",
       "</style>\n",
       "<table border=\"1\" class=\"dataframe\">\n",
       "  <thead>\n",
       "    <tr style=\"text-align: right;\">\n",
       "      <th></th>\n",
       "      <th>xy</th>\n",
       "      <th>123</th>\n",
       "    </tr>\n",
       "  </thead>\n",
       "  <tbody>\n",
       "    <tr>\n",
       "      <th>0</th>\n",
       "      <td>x</td>\n",
       "      <td>1</td>\n",
       "    </tr>\n",
       "    <tr>\n",
       "      <th>1</th>\n",
       "      <td>y</td>\n",
       "      <td>2</td>\n",
       "    </tr>\n",
       "    <tr>\n",
       "      <th>2</th>\n",
       "      <td>NaN</td>\n",
       "      <td>3</td>\n",
       "    </tr>\n",
       "  </tbody>\n",
       "</table>\n",
       "</div>"
      ],
      "text/plain": [
       "    xy  123\n",
       "0    x    1\n",
       "1    y    2\n",
       "2  NaN    3"
      ]
     },
     "execution_count": 117,
     "metadata": {},
     "output_type": "execute_result"
    }
   ],
   "source": [
    "# для сравнения соединим датафреймы с помощью right join\n",
    "pd.merge(df_xy, df_123, how=\"right\", left_index=True, right_index=True)"
   ]
  },
  {
   "cell_type": "markdown",
   "metadata": {
    "id": "T00pv7KDCoK2"
   },
   "source": [
    "#### `pd.merge_asof()`"
   ]
  },
  {
   "cell_type": "code",
   "execution_count": 118,
   "metadata": {
    "id": "lg-PSQ1yCs0h"
   },
   "outputs": [],
   "source": [
    "# создадим два датафрейма\n",
    "trades = pd.DataFrame(\n",
    "    {\n",
    "        \"time\": pd.to_datetime(\n",
    "            [\n",
    "                \"20160525 13:30:00.023\",\n",
    "                \"20160525 13:30:00.038\",\n",
    "                \"20160525 13:30:00.048\",\n",
    "                \"20160525 13:30:00.048\",\n",
    "                \"20160525 13:30:00.048\",\n",
    "            ]\n",
    "        ),\n",
    "        \"ticker\": [\"MSFT\", \"MSFT\", \"GOOG\", \"GOOG\", \"AAPL\"],\n",
    "        \"price\": [51.95, 51.95, 720.77, 720.92, 98.00],\n",
    "        \"quantity\": [75, 155, 100, 100, 100],\n",
    "    },\n",
    "    columns=[\"time\", \"ticker\", \"price\", \"quantity\"],\n",
    ")\n",
    "\n",
    "quotes = pd.DataFrame(\n",
    "    {\n",
    "        \"time\": pd.to_datetime(\n",
    "            [\n",
    "                \"20160525 13:30:00.023\",\n",
    "                \"20160525 13:30:00.023\",\n",
    "                \"20160525 13:30:00.030\",\n",
    "                \"20160525 13:30:00.041\",\n",
    "                \"20160525 13:30:00.048\",\n",
    "                \"20160525 13:30:00.049\",\n",
    "                \"20160525 13:30:00.072\",\n",
    "                \"20160525 13:30:00.075\",\n",
    "            ]\n",
    "        ),\n",
    "        \"ticker\": [\"GOOG\", \"MSFT\", \"MSFT\", \"MSFT\", \"GOOG\", \"AAPL\", \"GOOG\", \"MSFT\"],\n",
    "        \"bid\": [720.50, 51.95, 51.97, 51.99, 720.50, 97.99, 720.50, 52.01],\n",
    "        \"ask\": [720.93, 51.96, 51.98, 52.00, 720.93, 98.01, 720.88, 52.03],\n",
    "    },\n",
    "    columns=[\"time\", \"ticker\", \"bid\", \"ask\"],\n",
    ")"
   ]
  },
  {
   "cell_type": "code",
   "execution_count": null,
   "metadata": {
    "colab": {
     "base_uri": "https://localhost:8080/",
     "height": 206
    },
    "id": "8iCw2__3C2sA",
    "outputId": "f80c2f6c-7a0c-4824-bc14-628ed55084f6"
   },
   "outputs": [
    {
     "data": {
      "text/html": [
       "<div>\n",
       "<style scoped>\n",
       "    .dataframe tbody tr th:only-of-type {\n",
       "        vertical-align: middle;\n",
       "    }\n",
       "\n",
       "    .dataframe tbody tr th {\n",
       "        vertical-align: top;\n",
       "    }\n",
       "\n",
       "    .dataframe thead th {\n",
       "        text-align: right;\n",
       "    }\n",
       "</style>\n",
       "<table border=\"1\" class=\"dataframe\">\n",
       "  <thead>\n",
       "    <tr style=\"text-align: right;\">\n",
       "      <th></th>\n",
       "      <th>time</th>\n",
       "      <th>ticker</th>\n",
       "      <th>price</th>\n",
       "      <th>quantity</th>\n",
       "    </tr>\n",
       "  </thead>\n",
       "  <tbody>\n",
       "    <tr>\n",
       "      <th>0</th>\n",
       "      <td>2016-05-25 13:30:00.023</td>\n",
       "      <td>MSFT</td>\n",
       "      <td>51.95</td>\n",
       "      <td>75</td>\n",
       "    </tr>\n",
       "    <tr>\n",
       "      <th>1</th>\n",
       "      <td>2016-05-25 13:30:00.038</td>\n",
       "      <td>MSFT</td>\n",
       "      <td>51.95</td>\n",
       "      <td>155</td>\n",
       "    </tr>\n",
       "    <tr>\n",
       "      <th>2</th>\n",
       "      <td>2016-05-25 13:30:00.048</td>\n",
       "      <td>GOOG</td>\n",
       "      <td>720.77</td>\n",
       "      <td>100</td>\n",
       "    </tr>\n",
       "    <tr>\n",
       "      <th>3</th>\n",
       "      <td>2016-05-25 13:30:00.048</td>\n",
       "      <td>GOOG</td>\n",
       "      <td>720.92</td>\n",
       "      <td>100</td>\n",
       "    </tr>\n",
       "    <tr>\n",
       "      <th>4</th>\n",
       "      <td>2016-05-25 13:30:00.048</td>\n",
       "      <td>AAPL</td>\n",
       "      <td>98.00</td>\n",
       "      <td>100</td>\n",
       "    </tr>\n",
       "  </tbody>\n",
       "</table>\n",
       "</div>"
      ],
      "text/plain": [
       "                     time ticker   price  quantity\n",
       "0 2016-05-25 13:30:00.023   MSFT   51.95        75\n",
       "1 2016-05-25 13:30:00.038   MSFT   51.95       155\n",
       "2 2016-05-25 13:30:00.048   GOOG  720.77       100\n",
       "3 2016-05-25 13:30:00.048   GOOG  720.92       100\n",
       "4 2016-05-25 13:30:00.048   AAPL   98.00       100"
      ]
     },
     "execution_count": 119,
     "metadata": {},
     "output_type": "execute_result"
    }
   ],
   "source": [
    "# в первом будет содержаться информация о сделках, совершенных с ценными\n",
    "# бумагами\n",
    "# (время сделки, тикер эмитента, цена и количество бумаг)\n",
    "trades"
   ]
  },
  {
   "cell_type": "code",
   "execution_count": 120,
   "metadata": {
    "colab": {
     "base_uri": "https://localhost:8080/",
     "height": 300
    },
    "id": "PhYFYL93C6P4",
    "outputId": "16108cb1-0fdc-49ba-f442-43887f4caf64"
   },
   "outputs": [
    {
     "data": {
      "text/html": [
       "<div>\n",
       "<style scoped>\n",
       "    .dataframe tbody tr th:only-of-type {\n",
       "        vertical-align: middle;\n",
       "    }\n",
       "\n",
       "    .dataframe tbody tr th {\n",
       "        vertical-align: top;\n",
       "    }\n",
       "\n",
       "    .dataframe thead th {\n",
       "        text-align: right;\n",
       "    }\n",
       "</style>\n",
       "<table border=\"1\" class=\"dataframe\">\n",
       "  <thead>\n",
       "    <tr style=\"text-align: right;\">\n",
       "      <th></th>\n",
       "      <th>time</th>\n",
       "      <th>ticker</th>\n",
       "      <th>bid</th>\n",
       "      <th>ask</th>\n",
       "    </tr>\n",
       "  </thead>\n",
       "  <tbody>\n",
       "    <tr>\n",
       "      <th>0</th>\n",
       "      <td>2016-05-25 13:30:00.023</td>\n",
       "      <td>GOOG</td>\n",
       "      <td>720.50</td>\n",
       "      <td>720.93</td>\n",
       "    </tr>\n",
       "    <tr>\n",
       "      <th>1</th>\n",
       "      <td>2016-05-25 13:30:00.023</td>\n",
       "      <td>MSFT</td>\n",
       "      <td>51.95</td>\n",
       "      <td>51.96</td>\n",
       "    </tr>\n",
       "    <tr>\n",
       "      <th>2</th>\n",
       "      <td>2016-05-25 13:30:00.030</td>\n",
       "      <td>MSFT</td>\n",
       "      <td>51.97</td>\n",
       "      <td>51.98</td>\n",
       "    </tr>\n",
       "    <tr>\n",
       "      <th>3</th>\n",
       "      <td>2016-05-25 13:30:00.041</td>\n",
       "      <td>MSFT</td>\n",
       "      <td>51.99</td>\n",
       "      <td>52.00</td>\n",
       "    </tr>\n",
       "    <tr>\n",
       "      <th>4</th>\n",
       "      <td>2016-05-25 13:30:00.048</td>\n",
       "      <td>GOOG</td>\n",
       "      <td>720.50</td>\n",
       "      <td>720.93</td>\n",
       "    </tr>\n",
       "    <tr>\n",
       "      <th>5</th>\n",
       "      <td>2016-05-25 13:30:00.049</td>\n",
       "      <td>AAPL</td>\n",
       "      <td>97.99</td>\n",
       "      <td>98.01</td>\n",
       "    </tr>\n",
       "    <tr>\n",
       "      <th>6</th>\n",
       "      <td>2016-05-25 13:30:00.072</td>\n",
       "      <td>GOOG</td>\n",
       "      <td>720.50</td>\n",
       "      <td>720.88</td>\n",
       "    </tr>\n",
       "    <tr>\n",
       "      <th>7</th>\n",
       "      <td>2016-05-25 13:30:00.075</td>\n",
       "      <td>MSFT</td>\n",
       "      <td>52.01</td>\n",
       "      <td>52.03</td>\n",
       "    </tr>\n",
       "  </tbody>\n",
       "</table>\n",
       "</div>"
      ],
      "text/plain": [
       "                     time ticker     bid     ask\n",
       "0 2016-05-25 13:30:00.023   GOOG  720.50  720.93\n",
       "1 2016-05-25 13:30:00.023   MSFT   51.95   51.96\n",
       "2 2016-05-25 13:30:00.030   MSFT   51.97   51.98\n",
       "3 2016-05-25 13:30:00.041   MSFT   51.99   52.00\n",
       "4 2016-05-25 13:30:00.048   GOOG  720.50  720.93\n",
       "5 2016-05-25 13:30:00.049   AAPL   97.99   98.01\n",
       "6 2016-05-25 13:30:00.072   GOOG  720.50  720.88\n",
       "7 2016-05-25 13:30:00.075   MSFT   52.01   52.03"
      ]
     },
     "execution_count": 120,
     "metadata": {},
     "output_type": "execute_result"
    }
   ],
   "source": [
    "# во втором, котировки ценных бумаг в определенный момент времени\n",
    "quotes"
   ]
  },
  {
   "cell_type": "code",
   "execution_count": 121,
   "metadata": {
    "colab": {
     "base_uri": "https://localhost:8080/",
     "height": 206
    },
    "id": "0PFLpSD2vW_Q",
    "outputId": "a9912277-0b55-497f-9701-b65d13d74f73"
   },
   "outputs": [
    {
     "data": {
      "text/html": [
       "<div>\n",
       "<style scoped>\n",
       "    .dataframe tbody tr th:only-of-type {\n",
       "        vertical-align: middle;\n",
       "    }\n",
       "\n",
       "    .dataframe tbody tr th {\n",
       "        vertical-align: top;\n",
       "    }\n",
       "\n",
       "    .dataframe thead th {\n",
       "        text-align: right;\n",
       "    }\n",
       "</style>\n",
       "<table border=\"1\" class=\"dataframe\">\n",
       "  <thead>\n",
       "    <tr style=\"text-align: right;\">\n",
       "      <th></th>\n",
       "      <th>time</th>\n",
       "      <th>ticker</th>\n",
       "      <th>price</th>\n",
       "      <th>quantity</th>\n",
       "      <th>bid</th>\n",
       "      <th>ask</th>\n",
       "    </tr>\n",
       "  </thead>\n",
       "  <tbody>\n",
       "    <tr>\n",
       "      <th>0</th>\n",
       "      <td>2016-05-25 13:30:00.023</td>\n",
       "      <td>MSFT</td>\n",
       "      <td>51.95</td>\n",
       "      <td>75</td>\n",
       "      <td>51.95</td>\n",
       "      <td>51.96</td>\n",
       "    </tr>\n",
       "    <tr>\n",
       "      <th>1</th>\n",
       "      <td>2016-05-25 13:30:00.038</td>\n",
       "      <td>MSFT</td>\n",
       "      <td>51.95</td>\n",
       "      <td>155</td>\n",
       "      <td>51.97</td>\n",
       "      <td>51.98</td>\n",
       "    </tr>\n",
       "    <tr>\n",
       "      <th>2</th>\n",
       "      <td>2016-05-25 13:30:00.048</td>\n",
       "      <td>GOOG</td>\n",
       "      <td>720.77</td>\n",
       "      <td>100</td>\n",
       "      <td>720.50</td>\n",
       "      <td>720.93</td>\n",
       "    </tr>\n",
       "    <tr>\n",
       "      <th>3</th>\n",
       "      <td>2016-05-25 13:30:00.048</td>\n",
       "      <td>GOOG</td>\n",
       "      <td>720.92</td>\n",
       "      <td>100</td>\n",
       "      <td>720.50</td>\n",
       "      <td>720.93</td>\n",
       "    </tr>\n",
       "    <tr>\n",
       "      <th>4</th>\n",
       "      <td>2016-05-25 13:30:00.048</td>\n",
       "      <td>AAPL</td>\n",
       "      <td>98.00</td>\n",
       "      <td>100</td>\n",
       "      <td>NaN</td>\n",
       "      <td>NaN</td>\n",
       "    </tr>\n",
       "  </tbody>\n",
       "</table>\n",
       "</div>"
      ],
      "text/plain": [
       "                     time ticker   price  quantity     bid     ask\n",
       "0 2016-05-25 13:30:00.023   MSFT   51.95        75   51.95   51.96\n",
       "1 2016-05-25 13:30:00.038   MSFT   51.95       155   51.97   51.98\n",
       "2 2016-05-25 13:30:00.048   GOOG  720.77       100  720.50  720.93\n",
       "3 2016-05-25 13:30:00.048   GOOG  720.92       100  720.50  720.93\n",
       "4 2016-05-25 13:30:00.048   AAPL   98.00       100     NaN     NaN"
      ]
     },
     "execution_count": 121,
     "metadata": {},
     "output_type": "execute_result"
    }
   ],
   "source": [
    "# выполним левое соединение merge_asof\n",
    "pd.merge_asof(\n",
    "    trades,\n",
    "    quotes,\n",
    "    # по столбцу времени\n",
    "    on=\"time\",\n",
    "    # но так, чтобы совпадало значение столбца ticker\n",
    "    by=\"ticker\",\n",
    "    # совпадение по времени должно составлять менее 10 миллисекунд\n",
    "    tolerance=pd.Timedelta(\"10ms\"),\n",
    ")"
   ]
  },
  {
   "cell_type": "code",
   "execution_count": 122,
   "metadata": {
    "colab": {
     "base_uri": "https://localhost:8080/",
     "height": 206
    },
    "id": "A9WLSUQq7M4Q",
    "outputId": "49081adb-653f-49e1-a94c-f8ab668ab5e7"
   },
   "outputs": [
    {
     "data": {
      "text/html": [
       "<div>\n",
       "<style scoped>\n",
       "    .dataframe tbody tr th:only-of-type {\n",
       "        vertical-align: middle;\n",
       "    }\n",
       "\n",
       "    .dataframe tbody tr th {\n",
       "        vertical-align: top;\n",
       "    }\n",
       "\n",
       "    .dataframe thead th {\n",
       "        text-align: right;\n",
       "    }\n",
       "</style>\n",
       "<table border=\"1\" class=\"dataframe\">\n",
       "  <thead>\n",
       "    <tr style=\"text-align: right;\">\n",
       "      <th></th>\n",
       "      <th>time</th>\n",
       "      <th>ticker</th>\n",
       "      <th>price</th>\n",
       "      <th>quantity</th>\n",
       "      <th>bid</th>\n",
       "      <th>ask</th>\n",
       "    </tr>\n",
       "  </thead>\n",
       "  <tbody>\n",
       "    <tr>\n",
       "      <th>0</th>\n",
       "      <td>2016-05-25 13:30:00.023</td>\n",
       "      <td>MSFT</td>\n",
       "      <td>51.95</td>\n",
       "      <td>75</td>\n",
       "      <td>51.95</td>\n",
       "      <td>51.96</td>\n",
       "    </tr>\n",
       "    <tr>\n",
       "      <th>1</th>\n",
       "      <td>2016-05-25 13:30:00.038</td>\n",
       "      <td>MSFT</td>\n",
       "      <td>51.95</td>\n",
       "      <td>155</td>\n",
       "      <td>51.99</td>\n",
       "      <td>52.00</td>\n",
       "    </tr>\n",
       "    <tr>\n",
       "      <th>2</th>\n",
       "      <td>2016-05-25 13:30:00.048</td>\n",
       "      <td>GOOG</td>\n",
       "      <td>720.77</td>\n",
       "      <td>100</td>\n",
       "      <td>720.50</td>\n",
       "      <td>720.93</td>\n",
       "    </tr>\n",
       "    <tr>\n",
       "      <th>3</th>\n",
       "      <td>2016-05-25 13:30:00.048</td>\n",
       "      <td>GOOG</td>\n",
       "      <td>720.92</td>\n",
       "      <td>100</td>\n",
       "      <td>720.50</td>\n",
       "      <td>720.93</td>\n",
       "    </tr>\n",
       "    <tr>\n",
       "      <th>4</th>\n",
       "      <td>2016-05-25 13:30:00.048</td>\n",
       "      <td>AAPL</td>\n",
       "      <td>98.00</td>\n",
       "      <td>100</td>\n",
       "      <td>97.99</td>\n",
       "      <td>98.01</td>\n",
       "    </tr>\n",
       "  </tbody>\n",
       "</table>\n",
       "</div>"
      ],
      "text/plain": [
       "                     time ticker   price  quantity     bid     ask\n",
       "0 2016-05-25 13:30:00.023   MSFT   51.95        75   51.95   51.96\n",
       "1 2016-05-25 13:30:00.038   MSFT   51.95       155   51.99   52.00\n",
       "2 2016-05-25 13:30:00.048   GOOG  720.77       100  720.50  720.93\n",
       "3 2016-05-25 13:30:00.048   GOOG  720.92       100  720.50  720.93\n",
       "4 2016-05-25 13:30:00.048   AAPL   98.00       100   97.99   98.01"
      ]
     },
     "execution_count": 122,
     "metadata": {},
     "output_type": "execute_result"
    }
   ],
   "source": [
    "# еще раз выполним соединение merge_asof\n",
    "pd.merge_asof(\n",
    "    trades,\n",
    "    quotes,\n",
    "    on=\"time\",\n",
    "    by=\"ticker\",\n",
    "    # уменьшим интервал до пяти миллисекунд\n",
    "    tolerance=pd.Timedelta(\"10ms\"),\n",
    "    # разрешив искать в предыдущих и будущих периодах\n",
    "    direction=\"nearest\",\n",
    ")"
   ]
  },
  {
   "cell_type": "markdown",
   "metadata": {
    "id": "zvkcNoymsOUS"
   },
   "source": [
    "## Группировка"
   ]
  },
  {
   "cell_type": "markdown",
   "metadata": {
    "id": "B6KHd9mPsaMy"
   },
   "source": [
    "### Метод `.groupby()`"
   ]
  },
  {
   "cell_type": "code",
   "execution_count": 143,
   "metadata": {
    "colab": {
     "base_uri": "https://localhost:8080/",
     "height": 206
    },
    "id": "LCl1FvKVsZgx",
    "outputId": "4c216676-6779-4d94-a6ae-db171ca6a744"
   },
   "outputs": [
    {
     "data": {
      "text/html": [
       "<div>\n",
       "<style scoped>\n",
       "    .dataframe tbody tr th:only-of-type {\n",
       "        vertical-align: middle;\n",
       "    }\n",
       "\n",
       "    .dataframe tbody tr th {\n",
       "        vertical-align: top;\n",
       "    }\n",
       "\n",
       "    .dataframe thead th {\n",
       "        text-align: right;\n",
       "    }\n",
       "</style>\n",
       "<table border=\"1\" class=\"dataframe\">\n",
       "  <thead>\n",
       "    <tr style=\"text-align: right;\">\n",
       "      <th></th>\n",
       "      <th>Survived</th>\n",
       "      <th>Pclass</th>\n",
       "      <th>Sex</th>\n",
       "      <th>Age</th>\n",
       "      <th>SibSp</th>\n",
       "      <th>Parch</th>\n",
       "      <th>Fare</th>\n",
       "      <th>Embarked</th>\n",
       "    </tr>\n",
       "  </thead>\n",
       "  <tbody>\n",
       "    <tr>\n",
       "      <th>0</th>\n",
       "      <td>0</td>\n",
       "      <td>3</td>\n",
       "      <td>male</td>\n",
       "      <td>22.0</td>\n",
       "      <td>1</td>\n",
       "      <td>0</td>\n",
       "      <td>7.2500</td>\n",
       "      <td>S</td>\n",
       "    </tr>\n",
       "    <tr>\n",
       "      <th>1</th>\n",
       "      <td>1</td>\n",
       "      <td>1</td>\n",
       "      <td>female</td>\n",
       "      <td>38.0</td>\n",
       "      <td>1</td>\n",
       "      <td>0</td>\n",
       "      <td>71.2833</td>\n",
       "      <td>C</td>\n",
       "    </tr>\n",
       "    <tr>\n",
       "      <th>2</th>\n",
       "      <td>1</td>\n",
       "      <td>3</td>\n",
       "      <td>female</td>\n",
       "      <td>26.0</td>\n",
       "      <td>0</td>\n",
       "      <td>0</td>\n",
       "      <td>7.9250</td>\n",
       "      <td>S</td>\n",
       "    </tr>\n",
       "    <tr>\n",
       "      <th>3</th>\n",
       "      <td>1</td>\n",
       "      <td>1</td>\n",
       "      <td>female</td>\n",
       "      <td>35.0</td>\n",
       "      <td>1</td>\n",
       "      <td>0</td>\n",
       "      <td>53.1000</td>\n",
       "      <td>S</td>\n",
       "    </tr>\n",
       "    <tr>\n",
       "      <th>4</th>\n",
       "      <td>0</td>\n",
       "      <td>3</td>\n",
       "      <td>male</td>\n",
       "      <td>35.0</td>\n",
       "      <td>0</td>\n",
       "      <td>0</td>\n",
       "      <td>8.0500</td>\n",
       "      <td>S</td>\n",
       "    </tr>\n",
       "  </tbody>\n",
       "</table>\n",
       "</div>"
      ],
      "text/plain": [
       "   Survived  Pclass     Sex   Age  SibSp  Parch     Fare Embarked\n",
       "0         0       3    male  22.0      1      0   7.2500        S\n",
       "1         1       1  female  38.0      1      0  71.2833        C\n",
       "2         1       3  female  26.0      0      0   7.9250        S\n",
       "3         1       1  female  35.0      1      0  53.1000        S\n",
       "4         0       3    male  35.0      0      0   8.0500        S"
      ]
     },
     "execution_count": 143,
     "metadata": {},
     "output_type": "execute_result"
    }
   ],
   "source": [
    "# подгрузим данные из файла train.csv\n",
    "titanic = pd.read_csv(\"../content/train.csv\")\n",
    "\n",
    "# оставим только столбцы PassengerId, Name, Ticket и Cabin\n",
    "titanic.drop(columns=[\"PassengerId\", \"Name\", \"Ticket\", \"Cabin\"], inplace=True)\n",
    "\n",
    "# посмотрим на результат\n",
    "titanic.head()"
   ]
  },
  {
   "cell_type": "code",
   "execution_count": null,
   "metadata": {
    "colab": {
     "base_uri": "https://localhost:8080/"
    },
    "id": "v-GSG3jM3xt9",
    "outputId": "1e45c0aa-8eef-418e-99ed-adb7c8af64aa"
   },
   "outputs": [
    {
     "data": {
      "text/plain": [
       "(891, 8)"
      ]
     },
     "execution_count": 144,
     "metadata": {},
     "output_type": "execute_result"
    }
   ],
   "source": [
    "# посмотрим на размерность\n",
    "print(titanic.shape)"
   ]
  },
  {
   "cell_type": "code",
   "execution_count": null,
   "metadata": {
    "colab": {
     "base_uri": "https://localhost:8080/"
    },
    "id": "TjJI2Pzh3BBc",
    "outputId": "51ce530d-f67e-4c71-c15d-b6039f8e3916"
   },
   "outputs": [
    {
     "data": {
      "text/plain": [
       "<pandas.core.groupby.generic.DataFrameGroupBy object at 0x000002A962893C10>"
      ]
     },
     "execution_count": 145,
     "metadata": {},
     "output_type": "execute_result"
    }
   ],
   "source": [
    "# метод .groupby() создает объект DataFrameGroupBy\n",
    "# выполним группировку по столбцу Sex\n",
    "print(titanic.groupby(\"Sex\"))"
   ]
  },
  {
   "cell_type": "code",
   "execution_count": null,
   "metadata": {
    "colab": {
     "base_uri": "https://localhost:8080/"
    },
    "id": "EHBhGYAo3Kpv",
    "outputId": "813e4b85-fcd8-4455-e64c-00c0e3c5b160"
   },
   "outputs": [
    {
     "data": {
      "text/plain": [
       "2"
      ]
     },
     "execution_count": 146,
     "metadata": {},
     "output_type": "execute_result"
    }
   ],
   "source": [
    "# посмотрим, сколько было создано групп\n",
    "print(titanic.groupby(\"Sex\").ngroups)"
   ]
  },
  {
   "cell_type": "code",
   "execution_count": null,
   "metadata": {
    "colab": {
     "base_uri": "https://localhost:8080/"
    },
    "id": "TbnEEq_93WK6",
    "outputId": "499253d9-e0d4-4a68-9abc-fb3a7bc86330"
   },
   "outputs": [
    {
     "data": {
      "text/plain": [
       "Index([1, 2, 3, 8, 9], dtype='int64')"
      ]
     },
     "execution_count": 147,
     "metadata": {},
     "output_type": "execute_result"
    }
   ],
   "source": [
    "# атрибут groups выводит индекс наблюдений, отнесенных к каждой из групп\n",
    "# выберем группу female (по ключу словаря) и\n",
    "# выведем первые пять индексов (через срез списка), относящихся к этой группе\n",
    "print(titanic.groupby(\"Sex\").groups[\"female\"][:5])"
   ]
  },
  {
   "cell_type": "code",
   "execution_count": null,
   "metadata": {
    "colab": {
     "base_uri": "https://localhost:8080/",
     "height": 178
    },
    "id": "NWySOpdC3lxH",
    "outputId": "c88588d4-0f45-409e-d5ec-c1b618ebe929"
   },
   "outputs": [
    {
     "data": {
      "text/plain": [
       "Sex\n",
       "female    314\n",
       "male      577\n",
       "dtype: int64"
      ]
     },
     "execution_count": 190,
     "metadata": {},
     "output_type": "execute_result"
    }
   ],
   "source": [
    "# метод .size() выдает количество элементов в каждой группе\n",
    "titanic.groupby(\"Sex\").size()"
   ]
  },
  {
   "cell_type": "code",
   "execution_count": 150,
   "metadata": {
    "colab": {
     "base_uri": "https://localhost:8080/",
     "height": 143
    },
    "id": "G4GIS85Y3v5I",
    "outputId": "4fb5daed-941b-455f-9ace-bab417f48a54"
   },
   "outputs": [
    {
     "data": {
      "text/html": [
       "<div>\n",
       "<style scoped>\n",
       "    .dataframe tbody tr th:only-of-type {\n",
       "        vertical-align: middle;\n",
       "    }\n",
       "\n",
       "    .dataframe tbody tr th {\n",
       "        vertical-align: top;\n",
       "    }\n",
       "\n",
       "    .dataframe thead th {\n",
       "        text-align: right;\n",
       "    }\n",
       "</style>\n",
       "<table border=\"1\" class=\"dataframe\">\n",
       "  <thead>\n",
       "    <tr style=\"text-align: right;\">\n",
       "      <th></th>\n",
       "      <th>Survived</th>\n",
       "      <th>Pclass</th>\n",
       "      <th>Age</th>\n",
       "      <th>SibSp</th>\n",
       "      <th>Parch</th>\n",
       "      <th>Fare</th>\n",
       "      <th>Embarked</th>\n",
       "    </tr>\n",
       "    <tr>\n",
       "      <th>Sex</th>\n",
       "      <th></th>\n",
       "      <th></th>\n",
       "      <th></th>\n",
       "      <th></th>\n",
       "      <th></th>\n",
       "      <th></th>\n",
       "      <th></th>\n",
       "    </tr>\n",
       "  </thead>\n",
       "  <tbody>\n",
       "    <tr>\n",
       "      <th>female</th>\n",
       "      <td>1</td>\n",
       "      <td>1</td>\n",
       "      <td>38.0</td>\n",
       "      <td>1</td>\n",
       "      <td>0</td>\n",
       "      <td>71.2833</td>\n",
       "      <td>C</td>\n",
       "    </tr>\n",
       "    <tr>\n",
       "      <th>male</th>\n",
       "      <td>0</td>\n",
       "      <td>3</td>\n",
       "      <td>22.0</td>\n",
       "      <td>1</td>\n",
       "      <td>0</td>\n",
       "      <td>7.2500</td>\n",
       "      <td>S</td>\n",
       "    </tr>\n",
       "  </tbody>\n",
       "</table>\n",
       "</div>"
      ],
      "text/plain": [
       "        Survived  Pclass   Age  SibSp  Parch     Fare Embarked\n",
       "Sex                                                           \n",
       "female         1       1  38.0      1      0  71.2833        C\n",
       "male           0       3  22.0      1      0   7.2500        S"
      ]
     },
     "execution_count": 150,
     "metadata": {},
     "output_type": "execute_result"
    }
   ],
   "source": [
    "# метод .first() выдает первые встречающиеся наблюдения в каждой из групп\n",
    "# можно использовать .last() для получения последних записей\n",
    "titanic.groupby(\"Sex\").first()"
   ]
  },
  {
   "cell_type": "code",
   "execution_count": 151,
   "metadata": {
    "colab": {
     "base_uri": "https://localhost:8080/",
     "height": 206
    },
    "id": "VZz-rdFk4n_o",
    "outputId": "a90d2c09-1495-402d-f346-f0fc706c504b"
   },
   "outputs": [
    {
     "data": {
      "text/html": [
       "<div>\n",
       "<style scoped>\n",
       "    .dataframe tbody tr th:only-of-type {\n",
       "        vertical-align: middle;\n",
       "    }\n",
       "\n",
       "    .dataframe tbody tr th {\n",
       "        vertical-align: top;\n",
       "    }\n",
       "\n",
       "    .dataframe thead th {\n",
       "        text-align: right;\n",
       "    }\n",
       "</style>\n",
       "<table border=\"1\" class=\"dataframe\">\n",
       "  <thead>\n",
       "    <tr style=\"text-align: right;\">\n",
       "      <th></th>\n",
       "      <th>Survived</th>\n",
       "      <th>Pclass</th>\n",
       "      <th>Sex</th>\n",
       "      <th>Age</th>\n",
       "      <th>SibSp</th>\n",
       "      <th>Parch</th>\n",
       "      <th>Fare</th>\n",
       "      <th>Embarked</th>\n",
       "    </tr>\n",
       "  </thead>\n",
       "  <tbody>\n",
       "    <tr>\n",
       "      <th>0</th>\n",
       "      <td>0</td>\n",
       "      <td>3</td>\n",
       "      <td>male</td>\n",
       "      <td>22.0</td>\n",
       "      <td>1</td>\n",
       "      <td>0</td>\n",
       "      <td>7.2500</td>\n",
       "      <td>S</td>\n",
       "    </tr>\n",
       "    <tr>\n",
       "      <th>4</th>\n",
       "      <td>0</td>\n",
       "      <td>3</td>\n",
       "      <td>male</td>\n",
       "      <td>35.0</td>\n",
       "      <td>0</td>\n",
       "      <td>0</td>\n",
       "      <td>8.0500</td>\n",
       "      <td>S</td>\n",
       "    </tr>\n",
       "    <tr>\n",
       "      <th>5</th>\n",
       "      <td>0</td>\n",
       "      <td>3</td>\n",
       "      <td>male</td>\n",
       "      <td>NaN</td>\n",
       "      <td>0</td>\n",
       "      <td>0</td>\n",
       "      <td>8.4583</td>\n",
       "      <td>Q</td>\n",
       "    </tr>\n",
       "    <tr>\n",
       "      <th>6</th>\n",
       "      <td>0</td>\n",
       "      <td>1</td>\n",
       "      <td>male</td>\n",
       "      <td>54.0</td>\n",
       "      <td>0</td>\n",
       "      <td>0</td>\n",
       "      <td>51.8625</td>\n",
       "      <td>S</td>\n",
       "    </tr>\n",
       "    <tr>\n",
       "      <th>7</th>\n",
       "      <td>0</td>\n",
       "      <td>3</td>\n",
       "      <td>male</td>\n",
       "      <td>2.0</td>\n",
       "      <td>3</td>\n",
       "      <td>1</td>\n",
       "      <td>21.0750</td>\n",
       "      <td>S</td>\n",
       "    </tr>\n",
       "  </tbody>\n",
       "</table>\n",
       "</div>"
      ],
      "text/plain": [
       "   Survived  Pclass   Sex   Age  SibSp  Parch     Fare Embarked\n",
       "0         0       3  male  22.0      1      0   7.2500        S\n",
       "4         0       3  male  35.0      0      0   8.0500        S\n",
       "5         0       3  male   NaN      0      0   8.4583        Q\n",
       "6         0       1  male  54.0      0      0  51.8625        S\n",
       "7         0       3  male   2.0      3      1  21.0750        S"
      ]
     },
     "execution_count": 151,
     "metadata": {},
     "output_type": "execute_result"
    }
   ],
   "source": [
    "# метод .get_group() позволяет выбрать наблюдения только одной группы\n",
    "# выберем наблюдения группы male и выведем первые пять строк датафрейма\n",
    "titanic.groupby(\"Sex\").get_group(\"male\").head()"
   ]
  },
  {
   "cell_type": "markdown",
   "metadata": {
    "id": "Nfg0yOIG5gsT"
   },
   "source": [
    "### Агрегирование данных"
   ]
  },
  {
   "cell_type": "markdown",
   "metadata": {
    "id": "kqIsNy2B5nuX"
   },
   "source": [
    "#### Статистика по столбцам"
   ]
  },
  {
   "cell_type": "code",
   "execution_count": 152,
   "metadata": {
    "colab": {
     "base_uri": "https://localhost:8080/",
     "height": 178
    },
    "id": "fE2vIDCq4oDw",
    "outputId": "be51f95d-8aae-4afb-899f-778081c880b7"
   },
   "outputs": [
    {
     "data": {
      "text/plain": [
       "Sex\n",
       "female    27.0\n",
       "male      29.0\n",
       "Name: Age, dtype: float64"
      ]
     },
     "execution_count": 152,
     "metadata": {},
     "output_type": "execute_result"
    }
   ],
   "source": [
    "# статистика по одному столбцу\n",
    "# посчитаем медианный возраст мужчин и женщин\n",
    "titanic.groupby(\"Sex\").Age.median().round(1)"
   ]
  },
  {
   "cell_type": "code",
   "execution_count": null,
   "metadata": {
    "colab": {
     "base_uri": "https://localhost:8080/",
     "height": 175
    },
    "id": "9ccJuxZneOYu",
    "outputId": "ea8850d8-a67e-4221-ee8e-1913fe51eb62"
   },
   "outputs": [
    {
     "data": {
      "text/html": [
       "<div>\n",
       "<style scoped>\n",
       "    .dataframe tbody tr th:only-of-type {\n",
       "        vertical-align: middle;\n",
       "    }\n",
       "\n",
       "    .dataframe tbody tr th {\n",
       "        vertical-align: top;\n",
       "    }\n",
       "\n",
       "    .dataframe thead th {\n",
       "        text-align: right;\n",
       "    }\n",
       "</style>\n",
       "<table border=\"1\" class=\"dataframe\">\n",
       "  <thead>\n",
       "    <tr style=\"text-align: right;\">\n",
       "      <th></th>\n",
       "      <th>Age</th>\n",
       "      <th>Fare</th>\n",
       "    </tr>\n",
       "    <tr>\n",
       "      <th>Pclass</th>\n",
       "      <th></th>\n",
       "      <th></th>\n",
       "    </tr>\n",
       "  </thead>\n",
       "  <tbody>\n",
       "    <tr>\n",
       "      <th>1</th>\n",
       "      <td>38.2</td>\n",
       "      <td>84.2</td>\n",
       "    </tr>\n",
       "    <tr>\n",
       "      <th>2</th>\n",
       "      <td>29.9</td>\n",
       "      <td>20.7</td>\n",
       "    </tr>\n",
       "    <tr>\n",
       "      <th>3</th>\n",
       "      <td>25.1</td>\n",
       "      <td>13.7</td>\n",
       "    </tr>\n",
       "  </tbody>\n",
       "</table>\n",
       "</div>"
      ],
      "text/plain": [
       "         Age  Fare\n",
       "Pclass            \n",
       "1       38.2  84.2\n",
       "2       29.9  20.7\n",
       "3       25.1  13.7"
      ]
     },
     "execution_count": 153,
     "metadata": {},
     "output_type": "execute_result"
    }
   ],
   "source": [
    "# статистика по нескольким столбцам\n",
    "# рассчитаем среднее арифметическое по столбцам Age и Fare для каждого из\n",
    "# классов\n",
    "titanic.groupby(\"Pclass\")[[\"Age\", \"Fare\"]].mean().round(1)"
   ]
  },
  {
   "cell_type": "code",
   "execution_count": 154,
   "metadata": {
    "colab": {
     "base_uri": "https://localhost:8080/",
     "height": 175
    },
    "id": "waNuo3r7sQry",
    "outputId": "b1b271c7-62c6-4ffb-c256-05d873b9d0a5"
   },
   "outputs": [
    {
     "data": {
      "text/html": [
       "<div>\n",
       "<style scoped>\n",
       "    .dataframe tbody tr th:only-of-type {\n",
       "        vertical-align: middle;\n",
       "    }\n",
       "\n",
       "    .dataframe tbody tr th {\n",
       "        vertical-align: top;\n",
       "    }\n",
       "\n",
       "    .dataframe thead th {\n",
       "        text-align: right;\n",
       "    }\n",
       "</style>\n",
       "<table border=\"1\" class=\"dataframe\">\n",
       "  <thead>\n",
       "    <tr style=\"text-align: right;\">\n",
       "      <th></th>\n",
       "      <th>Survived</th>\n",
       "      <th>Age</th>\n",
       "      <th>SibSp</th>\n",
       "      <th>Parch</th>\n",
       "      <th>Fare</th>\n",
       "    </tr>\n",
       "    <tr>\n",
       "      <th>Pclass</th>\n",
       "      <th></th>\n",
       "      <th></th>\n",
       "      <th></th>\n",
       "      <th></th>\n",
       "      <th></th>\n",
       "    </tr>\n",
       "  </thead>\n",
       "  <tbody>\n",
       "    <tr>\n",
       "      <th>1</th>\n",
       "      <td>0.6</td>\n",
       "      <td>38.2</td>\n",
       "      <td>0.4</td>\n",
       "      <td>0.4</td>\n",
       "      <td>84.2</td>\n",
       "    </tr>\n",
       "    <tr>\n",
       "      <th>2</th>\n",
       "      <td>0.5</td>\n",
       "      <td>29.9</td>\n",
       "      <td>0.4</td>\n",
       "      <td>0.4</td>\n",
       "      <td>20.7</td>\n",
       "    </tr>\n",
       "    <tr>\n",
       "      <th>3</th>\n",
       "      <td>0.2</td>\n",
       "      <td>25.1</td>\n",
       "      <td>0.6</td>\n",
       "      <td>0.4</td>\n",
       "      <td>13.7</td>\n",
       "    </tr>\n",
       "  </tbody>\n",
       "</table>\n",
       "</div>"
      ],
      "text/plain": [
       "        Survived   Age  SibSp  Parch  Fare\n",
       "Pclass                                    \n",
       "1            0.6  38.2    0.4    0.4  84.2\n",
       "2            0.5  29.9    0.4    0.4  20.7\n",
       "3            0.2  25.1    0.6    0.4  13.7"
      ]
     },
     "execution_count": 154,
     "metadata": {},
     "output_type": "execute_result"
    }
   ],
   "source": [
    "# статистика по всем столбцам\n",
    "# среднее арифметическое не получится рассчитать для категориальных признаков,\n",
    "# их придется удалить\n",
    "titanic.drop(columns=[\"Sex\", \"Embarked\"]).groupby(\"Pclass\").mean().round(1)"
   ]
  },
  {
   "cell_type": "code",
   "execution_count": 155,
   "metadata": {
    "colab": {
     "base_uri": "https://localhost:8080/",
     "height": 269
    },
    "id": "aUZYpBtkk4Mq",
    "outputId": "0d1830e9-fecd-407a-efbb-fe42503f315d"
   },
   "outputs": [
    {
     "data": {
      "text/html": [
       "<div>\n",
       "<style scoped>\n",
       "    .dataframe tbody tr th:only-of-type {\n",
       "        vertical-align: middle;\n",
       "    }\n",
       "\n",
       "    .dataframe tbody tr th {\n",
       "        vertical-align: top;\n",
       "    }\n",
       "\n",
       "    .dataframe thead th {\n",
       "        text-align: right;\n",
       "    }\n",
       "</style>\n",
       "<table border=\"1\" class=\"dataframe\">\n",
       "  <thead>\n",
       "    <tr style=\"text-align: right;\">\n",
       "      <th></th>\n",
       "      <th></th>\n",
       "      <th>Survived</th>\n",
       "      <th>Age</th>\n",
       "      <th>SibSp</th>\n",
       "      <th>Parch</th>\n",
       "      <th>Fare</th>\n",
       "      <th>Embarked</th>\n",
       "    </tr>\n",
       "    <tr>\n",
       "      <th>Pclass</th>\n",
       "      <th>Sex</th>\n",
       "      <th></th>\n",
       "      <th></th>\n",
       "      <th></th>\n",
       "      <th></th>\n",
       "      <th></th>\n",
       "      <th></th>\n",
       "    </tr>\n",
       "  </thead>\n",
       "  <tbody>\n",
       "    <tr>\n",
       "      <th rowspan=\"2\" valign=\"top\">1</th>\n",
       "      <th>female</th>\n",
       "      <td>94</td>\n",
       "      <td>85</td>\n",
       "      <td>94</td>\n",
       "      <td>94</td>\n",
       "      <td>94</td>\n",
       "      <td>92</td>\n",
       "    </tr>\n",
       "    <tr>\n",
       "      <th>male</th>\n",
       "      <td>122</td>\n",
       "      <td>101</td>\n",
       "      <td>122</td>\n",
       "      <td>122</td>\n",
       "      <td>122</td>\n",
       "      <td>122</td>\n",
       "    </tr>\n",
       "    <tr>\n",
       "      <th rowspan=\"2\" valign=\"top\">2</th>\n",
       "      <th>female</th>\n",
       "      <td>76</td>\n",
       "      <td>74</td>\n",
       "      <td>76</td>\n",
       "      <td>76</td>\n",
       "      <td>76</td>\n",
       "      <td>76</td>\n",
       "    </tr>\n",
       "    <tr>\n",
       "      <th>male</th>\n",
       "      <td>108</td>\n",
       "      <td>99</td>\n",
       "      <td>108</td>\n",
       "      <td>108</td>\n",
       "      <td>108</td>\n",
       "      <td>108</td>\n",
       "    </tr>\n",
       "    <tr>\n",
       "      <th rowspan=\"2\" valign=\"top\">3</th>\n",
       "      <th>female</th>\n",
       "      <td>144</td>\n",
       "      <td>102</td>\n",
       "      <td>144</td>\n",
       "      <td>144</td>\n",
       "      <td>144</td>\n",
       "      <td>144</td>\n",
       "    </tr>\n",
       "    <tr>\n",
       "      <th>male</th>\n",
       "      <td>347</td>\n",
       "      <td>253</td>\n",
       "      <td>347</td>\n",
       "      <td>347</td>\n",
       "      <td>347</td>\n",
       "      <td>347</td>\n",
       "    </tr>\n",
       "  </tbody>\n",
       "</table>\n",
       "</div>"
      ],
      "text/plain": [
       "               Survived  Age  SibSp  Parch  Fare  Embarked\n",
       "Pclass Sex                                                \n",
       "1      female        94   85     94     94    94        92\n",
       "       male         122  101    122    122   122       122\n",
       "2      female        76   74     76     76    76        76\n",
       "       male         108   99    108    108   108       108\n",
       "3      female       144  102    144    144   144       144\n",
       "       male         347  253    347    347   347       347"
      ]
     },
     "execution_count": 155,
     "metadata": {},
     "output_type": "execute_result"
    }
   ],
   "source": [
    "# выполним группировку по двум признакам (Pclass и Sex)\n",
    "# с расчетом количества наблюдений в каждой подгруппе по каждому столбцу\n",
    "titanic.groupby([\"Pclass\", \"Sex\"]).count()"
   ]
  },
  {
   "cell_type": "code",
   "execution_count": null,
   "metadata": {
    "colab": {
     "base_uri": "https://localhost:8080/"
    },
    "id": "5Lw3YrHIk25n",
    "outputId": "bd74e6d9-e358-4ff0-8405-87130f847fdc"
   },
   "outputs": [
    {
     "data": {
      "text/plain": [
       "6"
      ]
     },
     "execution_count": 156,
     "metadata": {},
     "output_type": "execute_result"
    }
   ],
   "source": [
    "# значение атрибута ngroups Pandas считает по подгруппам\n",
    "print(titanic.groupby([\"Pclass\", \"Sex\"]).ngroups)"
   ]
  },
  {
   "cell_type": "markdown",
   "metadata": {
    "id": "bfiRhHJks0Tk"
   },
   "source": [
    "#### Метод `.agg()`"
   ]
  },
  {
   "cell_type": "code",
   "execution_count": 157,
   "metadata": {
    "colab": {
     "base_uri": "https://localhost:8080/",
     "height": 143
    },
    "id": "BbBIlPPc4oIB",
    "outputId": "1ddcbc2f-afbb-45c5-c5f9-441b602becf7"
   },
   "outputs": [
    {
     "data": {
      "text/html": [
       "<div>\n",
       "<style scoped>\n",
       "    .dataframe tbody tr th:only-of-type {\n",
       "        vertical-align: middle;\n",
       "    }\n",
       "\n",
       "    .dataframe tbody tr th {\n",
       "        vertical-align: top;\n",
       "    }\n",
       "\n",
       "    .dataframe thead th {\n",
       "        text-align: right;\n",
       "    }\n",
       "</style>\n",
       "<table border=\"1\" class=\"dataframe\">\n",
       "  <thead>\n",
       "    <tr style=\"text-align: right;\">\n",
       "      <th></th>\n",
       "      <th>max</th>\n",
       "      <th>min</th>\n",
       "      <th>count</th>\n",
       "      <th>median</th>\n",
       "      <th>mean</th>\n",
       "    </tr>\n",
       "    <tr>\n",
       "      <th>Sex</th>\n",
       "      <th></th>\n",
       "      <th></th>\n",
       "      <th></th>\n",
       "      <th></th>\n",
       "      <th></th>\n",
       "    </tr>\n",
       "  </thead>\n",
       "  <tbody>\n",
       "    <tr>\n",
       "      <th>female</th>\n",
       "      <td>63.0</td>\n",
       "      <td>0.8</td>\n",
       "      <td>261</td>\n",
       "      <td>27.0</td>\n",
       "      <td>27.9</td>\n",
       "    </tr>\n",
       "    <tr>\n",
       "      <th>male</th>\n",
       "      <td>80.0</td>\n",
       "      <td>0.4</td>\n",
       "      <td>453</td>\n",
       "      <td>29.0</td>\n",
       "      <td>30.7</td>\n",
       "    </tr>\n",
       "  </tbody>\n",
       "</table>\n",
       "</div>"
      ],
      "text/plain": [
       "         max  min  count  median  mean\n",
       "Sex                                   \n",
       "female  63.0  0.8    261    27.0  27.9\n",
       "male    80.0  0.4    453    29.0  30.7"
      ]
     },
     "execution_count": 157,
     "metadata": {},
     "output_type": "execute_result"
    }
   ],
   "source": [
    "# применим метод .agg() к одному столбцу (Sex) и сразу найдем\n",
    "# максимальное и минимальное значения, количество наблюдений, а также\n",
    "# медиану и среднее арифметическое\n",
    "titanic.groupby(\"Sex\").Age.agg([\"max\", \"min\", \"count\", \"median\", \"mean\"]).round(1)"
   ]
  },
  {
   "cell_type": "code",
   "execution_count": null,
   "metadata": {
    "colab": {
     "base_uri": "https://localhost:8080/",
     "height": 143
    },
    "id": "UBDq2KbxYrXo",
    "outputId": "e8b241b5-1948-4cf5-b204-b719bb72e389"
   },
   "outputs": [
    {
     "data": {
      "text/html": [
       "<div>\n",
       "<style scoped>\n",
       "    .dataframe tbody tr th:only-of-type {\n",
       "        vertical-align: middle;\n",
       "    }\n",
       "\n",
       "    .dataframe tbody tr th {\n",
       "        vertical-align: top;\n",
       "    }\n",
       "\n",
       "    .dataframe thead th {\n",
       "        text-align: right;\n",
       "    }\n",
       "</style>\n",
       "<table border=\"1\" class=\"dataframe\">\n",
       "  <thead>\n",
       "    <tr style=\"text-align: right;\">\n",
       "      <th></th>\n",
       "      <th>sex_max</th>\n",
       "      <th>sex_min</th>\n",
       "    </tr>\n",
       "    <tr>\n",
       "      <th>Sex</th>\n",
       "      <th></th>\n",
       "      <th></th>\n",
       "    </tr>\n",
       "  </thead>\n",
       "  <tbody>\n",
       "    <tr>\n",
       "      <th>female</th>\n",
       "      <td>63.0</td>\n",
       "      <td>0.75</td>\n",
       "    </tr>\n",
       "    <tr>\n",
       "      <th>male</th>\n",
       "      <td>80.0</td>\n",
       "      <td>0.42</td>\n",
       "    </tr>\n",
       "  </tbody>\n",
       "</table>\n",
       "</div>"
      ],
      "text/plain": [
       "        sex_max  sex_min\n",
       "Sex                     \n",
       "female     63.0     0.75\n",
       "male       80.0     0.42"
      ]
     },
     "execution_count": 158,
     "metadata": {},
     "output_type": "execute_result"
    }
   ],
   "source": [
    "# для удобства при группировке и расчете показателей столбцы можно\n",
    "# переименовать\n",
    "titanic.groupby(\"Sex\").Age.agg(sex_max=(\"max\"), sex_min=(\"min\"))"
   ]
  },
  {
   "cell_type": "code",
   "execution_count": 159,
   "metadata": {
    "colab": {
     "base_uri": "https://localhost:8080/",
     "height": 175
    },
    "id": "qeC4lnvz6qXC",
    "outputId": "a2d2af1a-2b65-4585-baf7-ba9f0fe95312"
   },
   "outputs": [
    {
     "data": {
      "text/html": [
       "<div>\n",
       "<style scoped>\n",
       "    .dataframe tbody tr th:only-of-type {\n",
       "        vertical-align: middle;\n",
       "    }\n",
       "\n",
       "    .dataframe tbody tr th {\n",
       "        vertical-align: top;\n",
       "    }\n",
       "\n",
       "    .dataframe thead tr th {\n",
       "        text-align: left;\n",
       "    }\n",
       "\n",
       "    .dataframe thead tr:last-of-type th {\n",
       "        text-align: right;\n",
       "    }\n",
       "</style>\n",
       "<table border=\"1\" class=\"dataframe\">\n",
       "  <thead>\n",
       "    <tr>\n",
       "      <th></th>\n",
       "      <th colspan=\"2\" halign=\"left\">Age</th>\n",
       "      <th colspan=\"2\" halign=\"left\">Fare</th>\n",
       "    </tr>\n",
       "    <tr>\n",
       "      <th></th>\n",
       "      <th>mean</th>\n",
       "      <th>median</th>\n",
       "      <th>mean</th>\n",
       "      <th>median</th>\n",
       "    </tr>\n",
       "    <tr>\n",
       "      <th>Sex</th>\n",
       "      <th></th>\n",
       "      <th></th>\n",
       "      <th></th>\n",
       "      <th></th>\n",
       "    </tr>\n",
       "  </thead>\n",
       "  <tbody>\n",
       "    <tr>\n",
       "      <th>female</th>\n",
       "      <td>27.9</td>\n",
       "      <td>27.0</td>\n",
       "      <td>44.5</td>\n",
       "      <td>23.0</td>\n",
       "    </tr>\n",
       "    <tr>\n",
       "      <th>male</th>\n",
       "      <td>30.7</td>\n",
       "      <td>29.0</td>\n",
       "      <td>25.5</td>\n",
       "      <td>10.5</td>\n",
       "    </tr>\n",
       "  </tbody>\n",
       "</table>\n",
       "</div>"
      ],
      "text/plain": [
       "         Age         Fare       \n",
       "        mean median  mean median\n",
       "Sex                             \n",
       "female  27.9   27.0  44.5   23.0\n",
       "male    30.7   29.0  25.5   10.5"
      ]
     },
     "execution_count": 159,
     "metadata": {},
     "output_type": "execute_result"
    }
   ],
   "source": [
    "# применим метода .agg() к нескольким столбцам\n",
    "# рассчитаем среднее арифметическое и медиану для столбцов Age и Fare\n",
    "titanic.groupby(\"Sex\")[[\"Age\", \"Fare\"]].agg([\"mean\", \"median\"]).round(1)"
   ]
  },
  {
   "cell_type": "code",
   "execution_count": null,
   "metadata": {
    "colab": {
     "base_uri": "https://localhost:8080/",
     "height": 175
    },
    "id": "cXyUqb857MQx",
    "outputId": "6e15dd90-3d5d-4ab1-d2bd-9e0042364ab8"
   },
   "outputs": [
    {
     "data": {
      "text/html": [
       "<div>\n",
       "<style scoped>\n",
       "    .dataframe tbody tr th:only-of-type {\n",
       "        vertical-align: middle;\n",
       "    }\n",
       "\n",
       "    .dataframe tbody tr th {\n",
       "        vertical-align: top;\n",
       "    }\n",
       "\n",
       "    .dataframe thead tr th {\n",
       "        text-align: left;\n",
       "    }\n",
       "\n",
       "    .dataframe thead tr:last-of-type th {\n",
       "        text-align: right;\n",
       "    }\n",
       "</style>\n",
       "<table border=\"1\" class=\"dataframe\">\n",
       "  <thead>\n",
       "    <tr>\n",
       "      <th></th>\n",
       "      <th colspan=\"2\" halign=\"left\">Survived</th>\n",
       "      <th colspan=\"2\" halign=\"left\">Pclass</th>\n",
       "      <th colspan=\"2\" halign=\"left\">Age</th>\n",
       "      <th colspan=\"2\" halign=\"left\">SibSp</th>\n",
       "      <th colspan=\"2\" halign=\"left\">Parch</th>\n",
       "      <th colspan=\"2\" halign=\"left\">Fare</th>\n",
       "    </tr>\n",
       "    <tr>\n",
       "      <th></th>\n",
       "      <th>mean</th>\n",
       "      <th>median</th>\n",
       "      <th>mean</th>\n",
       "      <th>median</th>\n",
       "      <th>mean</th>\n",
       "      <th>median</th>\n",
       "      <th>mean</th>\n",
       "      <th>median</th>\n",
       "      <th>mean</th>\n",
       "      <th>median</th>\n",
       "      <th>mean</th>\n",
       "      <th>median</th>\n",
       "    </tr>\n",
       "    <tr>\n",
       "      <th>Sex</th>\n",
       "      <th></th>\n",
       "      <th></th>\n",
       "      <th></th>\n",
       "      <th></th>\n",
       "      <th></th>\n",
       "      <th></th>\n",
       "      <th></th>\n",
       "      <th></th>\n",
       "      <th></th>\n",
       "      <th></th>\n",
       "      <th></th>\n",
       "      <th></th>\n",
       "    </tr>\n",
       "  </thead>\n",
       "  <tbody>\n",
       "    <tr>\n",
       "      <th>female</th>\n",
       "      <td>0.7</td>\n",
       "      <td>1.0</td>\n",
       "      <td>2.2</td>\n",
       "      <td>2.0</td>\n",
       "      <td>27.9</td>\n",
       "      <td>27.0</td>\n",
       "      <td>0.7</td>\n",
       "      <td>0.0</td>\n",
       "      <td>0.6</td>\n",
       "      <td>0.0</td>\n",
       "      <td>44.5</td>\n",
       "      <td>23.0</td>\n",
       "    </tr>\n",
       "    <tr>\n",
       "      <th>male</th>\n",
       "      <td>0.2</td>\n",
       "      <td>0.0</td>\n",
       "      <td>2.4</td>\n",
       "      <td>3.0</td>\n",
       "      <td>30.7</td>\n",
       "      <td>29.0</td>\n",
       "      <td>0.4</td>\n",
       "      <td>0.0</td>\n",
       "      <td>0.2</td>\n",
       "      <td>0.0</td>\n",
       "      <td>25.5</td>\n",
       "      <td>10.5</td>\n",
       "    </tr>\n",
       "  </tbody>\n",
       "</table>\n",
       "</div>"
      ],
      "text/plain": [
       "       Survived        Pclass          Age        SibSp        Parch         \\\n",
       "           mean median   mean median  mean median  mean median  mean median   \n",
       "Sex                                                                           \n",
       "female      0.7    1.0    2.2    2.0  27.9   27.0   0.7    0.0   0.6    0.0   \n",
       "male        0.2    0.0    2.4    3.0  30.7   29.0   0.4    0.0   0.2    0.0   \n",
       "\n",
       "        Fare         \n",
       "        mean median  \n",
       "Sex                  \n",
       "female  44.5   23.0  \n",
       "male    25.5   10.5  "
      ]
     },
     "execution_count": 160,
     "metadata": {},
     "output_type": "execute_result"
    }
   ],
   "source": [
    "# применим метод .agg() ко всем столбцам и для каждого рассчитаем среднее\n",
    "# арифметическое и медиану\n",
    "# категориальную переменную опять же придется удалить\n",
    "titanic.drop(columns=[\"Embarked\"]).groupby(\"Sex\").agg([\"mean\", \"median\"]).round(1)"
   ]
  },
  {
   "cell_type": "code",
   "execution_count": null,
   "metadata": {
    "colab": {
     "base_uri": "https://localhost:8080/",
     "height": 143
    },
    "id": "nVzKDGeoY_T3",
    "outputId": "0675c0b2-3a77-45a6-e045-9345360fbf0f"
   },
   "outputs": [
    {
     "data": {
      "text/html": [
       "<div>\n",
       "<style scoped>\n",
       "    .dataframe tbody tr th:only-of-type {\n",
       "        vertical-align: middle;\n",
       "    }\n",
       "\n",
       "    .dataframe tbody tr th {\n",
       "        vertical-align: top;\n",
       "    }\n",
       "\n",
       "    .dataframe thead th {\n",
       "        text-align: right;\n",
       "    }\n",
       "</style>\n",
       "<table border=\"1\" class=\"dataframe\">\n",
       "  <thead>\n",
       "    <tr style=\"text-align: right;\">\n",
       "      <th></th>\n",
       "      <th>max</th>\n",
       "      <th>mean</th>\n",
       "      <th>below29</th>\n",
       "    </tr>\n",
       "    <tr>\n",
       "      <th>Sex</th>\n",
       "      <th></th>\n",
       "      <th></th>\n",
       "      <th></th>\n",
       "    </tr>\n",
       "  </thead>\n",
       "  <tbody>\n",
       "    <tr>\n",
       "      <th>female</th>\n",
       "      <td>63.0</td>\n",
       "      <td>27.915709</td>\n",
       "      <td>True</td>\n",
       "    </tr>\n",
       "    <tr>\n",
       "      <th>male</th>\n",
       "      <td>80.0</td>\n",
       "      <td>30.726645</td>\n",
       "      <td>False</td>\n",
       "    </tr>\n",
       "  </tbody>\n",
       "</table>\n",
       "</div>"
      ],
      "text/plain": [
       "         max       mean  below29\n",
       "Sex                             \n",
       "female  63.0  27.915709     True\n",
       "male    80.0  30.726645    False"
      ]
     },
     "execution_count": 161,
     "metadata": {},
     "output_type": "execute_result"
    }
   ],
   "source": [
    "# объявим функцию, которая выдаст True, если средний возраст меньше 29 лет\n",
    "# и False в остальных случаях\n",
    "\n",
    "\n",
    "def below29(x: pd.Series) -> bool:\n",
    "    \"\"\"Return True if mean of x is below 29, False otherwise.\"\"\"\n",
    "    m = x.mean()\n",
    "    return True if m < 29 else False\n",
    "\n",
    "\n",
    "# применим эту функцию к группам female и male через метод .agg()\n",
    "titanic.groupby(\"Sex\").Age.agg([\"max\", \"mean\", below29])"
   ]
  },
  {
   "cell_type": "markdown",
   "metadata": {
    "id": "AStWQnZq7YYz"
   },
   "source": [
    "### Преобразование данных"
   ]
  },
  {
   "cell_type": "code",
   "execution_count": null,
   "metadata": {
    "id": "HUSlLqoz7cWT"
   },
   "outputs": [],
   "source": [
    "# объявим lambda-функцию, которая выполняет стандартизацию данных\n",
    "standardize = lambda x: (x - x.mean()) / x.std()"
   ]
  },
  {
   "cell_type": "markdown",
   "metadata": {
    "id": "3FkspJBDnTGN"
   },
   "source": [
    "Метод `.apply()`"
   ]
  },
  {
   "cell_type": "code",
   "execution_count": null,
   "metadata": {
    "colab": {
     "base_uri": "https://localhost:8080/",
     "height": 490
    },
    "id": "k0wPek-_dcGT",
    "outputId": "73bb88d3-3ea8-436c-a061-a047a04389cc"
   },
   "outputs": [
    {
     "data": {
      "text/plain": [
       "Sex        \n",
       "female  1      0.714684\n",
       "        2     -0.135768\n",
       "        3      0.502071\n",
       "        8     -0.064897\n",
       "        9     -0.986220\n",
       "                 ...   \n",
       "male    883   -0.185761\n",
       "        884   -0.390146\n",
       "        886   -0.253890\n",
       "        889   -0.322018\n",
       "        890    0.086751\n",
       "Name: Age, Length: 891, dtype: float64"
      ]
     },
     "execution_count": 163,
     "metadata": {},
     "output_type": "execute_result"
    }
   ],
   "source": [
    "# сгруппируем данные о возрасте по полу пассажиров и применим функцию\n",
    "# стандартизации\n",
    "titanic.groupby(\"Sex\").Age.apply(standardize)"
   ]
  },
  {
   "cell_type": "code",
   "execution_count": 164,
   "metadata": {
    "colab": {
     "base_uri": "https://localhost:8080/",
     "height": 175
    },
    "id": "KNv-x-R3pVsg",
    "outputId": "efe9d334-8408-4cc9-b3ad-c6457a55cf12"
   },
   "outputs": [
    {
     "data": {
      "text/html": [
       "<div>\n",
       "<style scoped>\n",
       "    .dataframe tbody tr th:only-of-type {\n",
       "        vertical-align: middle;\n",
       "    }\n",
       "\n",
       "    .dataframe tbody tr th {\n",
       "        vertical-align: top;\n",
       "    }\n",
       "\n",
       "    .dataframe thead th {\n",
       "        text-align: right;\n",
       "    }\n",
       "</style>\n",
       "<table border=\"1\" class=\"dataframe\">\n",
       "  <thead>\n",
       "    <tr style=\"text-align: right;\">\n",
       "      <th></th>\n",
       "      <th>Age</th>\n",
       "      <th>Fare</th>\n",
       "    </tr>\n",
       "    <tr>\n",
       "      <th>Pclass</th>\n",
       "      <th></th>\n",
       "      <th></th>\n",
       "    </tr>\n",
       "  </thead>\n",
       "  <tbody>\n",
       "    <tr>\n",
       "      <th>1</th>\n",
       "      <td>38.2</td>\n",
       "      <td>84.2</td>\n",
       "    </tr>\n",
       "    <tr>\n",
       "      <th>2</th>\n",
       "      <td>29.9</td>\n",
       "      <td>20.7</td>\n",
       "    </tr>\n",
       "    <tr>\n",
       "      <th>3</th>\n",
       "      <td>25.1</td>\n",
       "      <td>13.7</td>\n",
       "    </tr>\n",
       "  </tbody>\n",
       "</table>\n",
       "</div>"
      ],
      "text/plain": [
       "         Age  Fare\n",
       "Pclass            \n",
       "1       38.2  84.2\n",
       "2       29.9  20.7\n",
       "3       25.1  13.7"
      ]
     },
     "execution_count": 164,
     "metadata": {},
     "output_type": "execute_result"
    }
   ],
   "source": [
    "# сгруппируем данные по Pclass и найдем среднее в столбцах Age и Fare\n",
    "# метод .apply() выдаст уже агрегированные данные\n",
    "# для применения функции к столбцам укажем axis = 0\n",
    "titanic.groupby(\"Pclass\")[[\"Age\", \"Fare\"]].apply(np.mean, axis=0).round(1)"
   ]
  },
  {
   "cell_type": "code",
   "execution_count": 165,
   "metadata": {
    "colab": {
     "base_uri": "https://localhost:8080/",
     "height": 175
    },
    "id": "6kuhDUa_XN4e",
    "outputId": "9582d2e9-d0a3-4363-8847-e64ee06c4b5d"
   },
   "outputs": [
    {
     "data": {
      "text/html": [
       "<div>\n",
       "<style scoped>\n",
       "    .dataframe tbody tr th:only-of-type {\n",
       "        vertical-align: middle;\n",
       "    }\n",
       "\n",
       "    .dataframe tbody tr th {\n",
       "        vertical-align: top;\n",
       "    }\n",
       "\n",
       "    .dataframe thead th {\n",
       "        text-align: right;\n",
       "    }\n",
       "</style>\n",
       "<table border=\"1\" class=\"dataframe\">\n",
       "  <thead>\n",
       "    <tr style=\"text-align: right;\">\n",
       "      <th></th>\n",
       "      <th>Age</th>\n",
       "      <th>Fare</th>\n",
       "    </tr>\n",
       "    <tr>\n",
       "      <th>Pclass</th>\n",
       "      <th></th>\n",
       "      <th></th>\n",
       "    </tr>\n",
       "  </thead>\n",
       "  <tbody>\n",
       "    <tr>\n",
       "      <th>1</th>\n",
       "      <td>38.2</td>\n",
       "      <td>84.2</td>\n",
       "    </tr>\n",
       "    <tr>\n",
       "      <th>2</th>\n",
       "      <td>29.9</td>\n",
       "      <td>20.7</td>\n",
       "    </tr>\n",
       "    <tr>\n",
       "      <th>3</th>\n",
       "      <td>25.1</td>\n",
       "      <td>13.7</td>\n",
       "    </tr>\n",
       "  </tbody>\n",
       "</table>\n",
       "</div>"
      ],
      "text/plain": [
       "         Age  Fare\n",
       "Pclass            \n",
       "1       38.2  84.2\n",
       "2       29.9  20.7\n",
       "3       25.1  13.7"
      ]
     },
     "execution_count": 165,
     "metadata": {},
     "output_type": "execute_result"
    }
   ],
   "source": [
    "titanic.groupby(\"Pclass\")[[\"Age\", \"Fare\"]].apply(np.mean, axis=\"index\").round(1)"
   ]
  },
  {
   "cell_type": "markdown",
   "metadata": {
    "id": "gNtMvbXe7dcv"
   },
   "source": [
    "### Фильтрация"
   ]
  },
  {
   "cell_type": "code",
   "execution_count": 166,
   "metadata": {
    "colab": {
     "base_uri": "https://localhost:8080/",
     "height": 175
    },
    "id": "0WKXlyPb7rnC",
    "outputId": "c2d3b0b8-c75e-4819-bef5-f8ee948b4709"
   },
   "outputs": [
    {
     "data": {
      "text/html": [
       "<div>\n",
       "<style scoped>\n",
       "    .dataframe tbody tr th:only-of-type {\n",
       "        vertical-align: middle;\n",
       "    }\n",
       "\n",
       "    .dataframe tbody tr th {\n",
       "        vertical-align: top;\n",
       "    }\n",
       "\n",
       "    .dataframe thead th {\n",
       "        text-align: right;\n",
       "    }\n",
       "</style>\n",
       "<table border=\"1\" class=\"dataframe\">\n",
       "  <thead>\n",
       "    <tr style=\"text-align: right;\">\n",
       "      <th></th>\n",
       "      <th>Age</th>\n",
       "    </tr>\n",
       "    <tr>\n",
       "      <th>Pclass</th>\n",
       "      <th></th>\n",
       "    </tr>\n",
       "  </thead>\n",
       "  <tbody>\n",
       "    <tr>\n",
       "      <th>1</th>\n",
       "      <td>38.233441</td>\n",
       "    </tr>\n",
       "    <tr>\n",
       "      <th>2</th>\n",
       "      <td>29.877630</td>\n",
       "    </tr>\n",
       "    <tr>\n",
       "      <th>3</th>\n",
       "      <td>25.140620</td>\n",
       "    </tr>\n",
       "  </tbody>\n",
       "</table>\n",
       "</div>"
      ],
      "text/plain": [
       "              Age\n",
       "Pclass           \n",
       "1       38.233441\n",
       "2       29.877630\n",
       "3       25.140620"
      ]
     },
     "execution_count": 166,
     "metadata": {},
     "output_type": "execute_result"
    }
   ],
   "source": [
    "# найдем среднее арифметическое возраста внутри каждого из классов каюты\n",
    "titanic.groupby(\"Pclass\")[[\"Age\"]].mean()"
   ]
  },
  {
   "cell_type": "code",
   "execution_count": null,
   "metadata": {
    "colab": {
     "base_uri": "https://localhost:8080/",
     "height": 206
    },
    "id": "sNZVuW7-dwtZ",
    "outputId": "882c705d-6da6-4742-9b02-8b336522d6da"
   },
   "outputs": [
    {
     "data": {
      "text/html": [
       "<div>\n",
       "<style scoped>\n",
       "    .dataframe tbody tr th:only-of-type {\n",
       "        vertical-align: middle;\n",
       "    }\n",
       "\n",
       "    .dataframe tbody tr th {\n",
       "        vertical-align: top;\n",
       "    }\n",
       "\n",
       "    .dataframe thead th {\n",
       "        text-align: right;\n",
       "    }\n",
       "</style>\n",
       "<table border=\"1\" class=\"dataframe\">\n",
       "  <thead>\n",
       "    <tr style=\"text-align: right;\">\n",
       "      <th></th>\n",
       "      <th>Survived</th>\n",
       "      <th>Pclass</th>\n",
       "      <th>Sex</th>\n",
       "      <th>Age</th>\n",
       "      <th>SibSp</th>\n",
       "      <th>Parch</th>\n",
       "      <th>Fare</th>\n",
       "      <th>Embarked</th>\n",
       "    </tr>\n",
       "  </thead>\n",
       "  <tbody>\n",
       "    <tr>\n",
       "      <th>1</th>\n",
       "      <td>1</td>\n",
       "      <td>1</td>\n",
       "      <td>female</td>\n",
       "      <td>38.0</td>\n",
       "      <td>1</td>\n",
       "      <td>0</td>\n",
       "      <td>71.2833</td>\n",
       "      <td>C</td>\n",
       "    </tr>\n",
       "    <tr>\n",
       "      <th>3</th>\n",
       "      <td>1</td>\n",
       "      <td>1</td>\n",
       "      <td>female</td>\n",
       "      <td>35.0</td>\n",
       "      <td>1</td>\n",
       "      <td>0</td>\n",
       "      <td>53.1000</td>\n",
       "      <td>S</td>\n",
       "    </tr>\n",
       "    <tr>\n",
       "      <th>6</th>\n",
       "      <td>0</td>\n",
       "      <td>1</td>\n",
       "      <td>male</td>\n",
       "      <td>54.0</td>\n",
       "      <td>0</td>\n",
       "      <td>0</td>\n",
       "      <td>51.8625</td>\n",
       "      <td>S</td>\n",
       "    </tr>\n",
       "    <tr>\n",
       "      <th>9</th>\n",
       "      <td>1</td>\n",
       "      <td>2</td>\n",
       "      <td>female</td>\n",
       "      <td>14.0</td>\n",
       "      <td>1</td>\n",
       "      <td>0</td>\n",
       "      <td>30.0708</td>\n",
       "      <td>C</td>\n",
       "    </tr>\n",
       "    <tr>\n",
       "      <th>11</th>\n",
       "      <td>1</td>\n",
       "      <td>1</td>\n",
       "      <td>female</td>\n",
       "      <td>58.0</td>\n",
       "      <td>0</td>\n",
       "      <td>0</td>\n",
       "      <td>26.5500</td>\n",
       "      <td>S</td>\n",
       "    </tr>\n",
       "  </tbody>\n",
       "</table>\n",
       "</div>"
      ],
      "text/plain": [
       "    Survived  Pclass     Sex   Age  SibSp  Parch     Fare Embarked\n",
       "1          1       1  female  38.0      1      0  71.2833        C\n",
       "3          1       1  female  35.0      1      0  53.1000        S\n",
       "6          0       1    male  54.0      0      0  51.8625        S\n",
       "9          1       2  female  14.0      1      0  30.0708        C\n",
       "11         1       1  female  58.0      0      0  26.5500        S"
      ]
     },
     "execution_count": 167,
     "metadata": {},
     "output_type": "execute_result"
    }
   ],
   "source": [
    "# выберем только те классы кают, в которых среднегрупповой возраст не менее 26\n",
    "# лет\n",
    "# для этого применим метод .filter с lambda-функцией\n",
    "titanic.groupby(\"Pclass\").filter(lambda x: x[\"Age\"].mean() >= 26).head()"
   ]
  },
  {
   "cell_type": "code",
   "execution_count": null,
   "metadata": {
    "colab": {
     "base_uri": "https://localhost:8080/"
    },
    "id": "ZGuFJQyXHDfa",
    "outputId": "4f526d84-8931-4123-a7bc-46e8bed9c9e8"
   },
   "outputs": [
    {
     "data": {
      "text/plain": [
       "array([1, 2])"
      ]
     },
     "execution_count": 168,
     "metadata": {},
     "output_type": "execute_result"
    }
   ],
   "source": [
    "# убедимся, что у нас осталось только два класса\n",
    "# для этого из предыдущего результата возьмем столбец Pclass и применим метод .\n",
    "# unique()\n",
    "titanic.groupby(\"Pclass\").filter(lambda x: x[\"Age\"].mean() >= 26).Pclass.unique()"
   ]
  },
  {
   "cell_type": "markdown",
   "metadata": {
    "id": "x3SgfTQ8trnL"
   },
   "source": [
    "### Сводные таблицы"
   ]
  },
  {
   "cell_type": "code",
   "execution_count": 169,
   "metadata": {
    "colab": {
     "base_uri": "https://localhost:8080/",
     "height": 206
    },
    "id": "FfUfZQ6NtvPo",
    "outputId": "0178992a-f435-4db3-a5a7-702d0b478f78"
   },
   "outputs": [
    {
     "data": {
      "text/html": [
       "<div>\n",
       "<style scoped>\n",
       "    .dataframe tbody tr th:only-of-type {\n",
       "        vertical-align: middle;\n",
       "    }\n",
       "\n",
       "    .dataframe tbody tr th {\n",
       "        vertical-align: top;\n",
       "    }\n",
       "\n",
       "    .dataframe thead th {\n",
       "        text-align: right;\n",
       "    }\n",
       "</style>\n",
       "<table border=\"1\" class=\"dataframe\">\n",
       "  <thead>\n",
       "    <tr style=\"text-align: right;\">\n",
       "      <th></th>\n",
       "      <th>price</th>\n",
       "      <th>brand</th>\n",
       "      <th>model</th>\n",
       "      <th>year</th>\n",
       "      <th>title_status</th>\n",
       "      <th>mileage</th>\n",
       "      <th>color</th>\n",
       "      <th>state</th>\n",
       "      <th>country</th>\n",
       "    </tr>\n",
       "  </thead>\n",
       "  <tbody>\n",
       "    <tr>\n",
       "      <th>0</th>\n",
       "      <td>6300</td>\n",
       "      <td>toyota</td>\n",
       "      <td>cruiser</td>\n",
       "      <td>2008</td>\n",
       "      <td>clean vehicle</td>\n",
       "      <td>274117.0</td>\n",
       "      <td>black</td>\n",
       "      <td>new jersey</td>\n",
       "      <td>usa</td>\n",
       "    </tr>\n",
       "    <tr>\n",
       "      <th>1</th>\n",
       "      <td>2899</td>\n",
       "      <td>ford</td>\n",
       "      <td>se</td>\n",
       "      <td>2011</td>\n",
       "      <td>clean vehicle</td>\n",
       "      <td>190552.0</td>\n",
       "      <td>silver</td>\n",
       "      <td>tennessee</td>\n",
       "      <td>usa</td>\n",
       "    </tr>\n",
       "    <tr>\n",
       "      <th>2</th>\n",
       "      <td>5350</td>\n",
       "      <td>dodge</td>\n",
       "      <td>mpv</td>\n",
       "      <td>2018</td>\n",
       "      <td>clean vehicle</td>\n",
       "      <td>39590.0</td>\n",
       "      <td>silver</td>\n",
       "      <td>georgia</td>\n",
       "      <td>usa</td>\n",
       "    </tr>\n",
       "    <tr>\n",
       "      <th>3</th>\n",
       "      <td>25000</td>\n",
       "      <td>ford</td>\n",
       "      <td>door</td>\n",
       "      <td>2014</td>\n",
       "      <td>clean vehicle</td>\n",
       "      <td>64146.0</td>\n",
       "      <td>blue</td>\n",
       "      <td>virginia</td>\n",
       "      <td>usa</td>\n",
       "    </tr>\n",
       "    <tr>\n",
       "      <th>4</th>\n",
       "      <td>27700</td>\n",
       "      <td>chevrolet</td>\n",
       "      <td>1500</td>\n",
       "      <td>2018</td>\n",
       "      <td>clean vehicle</td>\n",
       "      <td>6654.0</td>\n",
       "      <td>red</td>\n",
       "      <td>florida</td>\n",
       "      <td>usa</td>\n",
       "    </tr>\n",
       "  </tbody>\n",
       "</table>\n",
       "</div>"
      ],
      "text/plain": [
       "   price      brand    model  year   title_status   mileage   color  \\\n",
       "0   6300     toyota  cruiser  2008  clean vehicle  274117.0   black   \n",
       "1   2899       ford       se  2011  clean vehicle  190552.0  silver   \n",
       "2   5350      dodge      mpv  2018  clean vehicle   39590.0  silver   \n",
       "3  25000       ford     door  2014  clean vehicle   64146.0    blue   \n",
       "4  27700  chevrolet     1500  2018  clean vehicle    6654.0     red   \n",
       "\n",
       "        state country  \n",
       "0  new jersey     usa  \n",
       "1   tennessee     usa  \n",
       "2     georgia     usa  \n",
       "3    virginia     usa  \n",
       "4     florida     usa  "
      ]
     },
     "execution_count": 169,
     "metadata": {},
     "output_type": "execute_result"
    }
   ],
   "source": [
    "# импортируем данные\n",
    "cars = pd.read_csv(\"../content/cars.csv\")\n",
    "\n",
    "# удалим столбцы, которые нам не понадобятся\n",
    "cars.drop(columns=[\"Unnamed: 0\", \"vin\", \"lot\", \"condition\"], inplace=True)\n",
    "\n",
    "# и посмотрим на результат\n",
    "cars.head()"
   ]
  },
  {
   "cell_type": "markdown",
   "metadata": {
    "id": "NRReiBQxmoTI"
   },
   "source": [
    "#### Группировка по строкам"
   ]
  },
  {
   "cell_type": "code",
   "execution_count": 170,
   "metadata": {
    "colab": {
     "base_uri": "https://localhost:8080/",
     "height": 394
    },
    "id": "J_83wAxXaVcm",
    "outputId": "61bbf25d-1a91-481e-d2bb-49a282d28a7f"
   },
   "outputs": [
    {
     "data": {
      "text/html": [
       "<div>\n",
       "<style scoped>\n",
       "    .dataframe tbody tr th:only-of-type {\n",
       "        vertical-align: middle;\n",
       "    }\n",
       "\n",
       "    .dataframe tbody tr th {\n",
       "        vertical-align: top;\n",
       "    }\n",
       "\n",
       "    .dataframe thead th {\n",
       "        text-align: right;\n",
       "    }\n",
       "</style>\n",
       "<table border=\"1\" class=\"dataframe\">\n",
       "  <thead>\n",
       "    <tr style=\"text-align: right;\">\n",
       "      <th></th>\n",
       "      <th>mileage</th>\n",
       "      <th>price</th>\n",
       "      <th>year</th>\n",
       "    </tr>\n",
       "    <tr>\n",
       "      <th>brand</th>\n",
       "      <th></th>\n",
       "      <th></th>\n",
       "      <th></th>\n",
       "    </tr>\n",
       "  </thead>\n",
       "  <tbody>\n",
       "    <tr>\n",
       "      <th>acura</th>\n",
       "      <td>120379.67</td>\n",
       "      <td>7266.67</td>\n",
       "      <td>2010.33</td>\n",
       "    </tr>\n",
       "    <tr>\n",
       "      <th>audi</th>\n",
       "      <td>118091.00</td>\n",
       "      <td>13981.25</td>\n",
       "      <td>2011.25</td>\n",
       "    </tr>\n",
       "    <tr>\n",
       "      <th>bmw</th>\n",
       "      <td>47846.41</td>\n",
       "      <td>26397.06</td>\n",
       "      <td>2014.47</td>\n",
       "    </tr>\n",
       "    <tr>\n",
       "      <th>buick</th>\n",
       "      <td>37926.85</td>\n",
       "      <td>19715.77</td>\n",
       "      <td>2016.00</td>\n",
       "    </tr>\n",
       "    <tr>\n",
       "      <th>cadillac</th>\n",
       "      <td>40195.90</td>\n",
       "      <td>24941.00</td>\n",
       "      <td>2014.90</td>\n",
       "    </tr>\n",
       "    <tr>\n",
       "      <th>chevrolet</th>\n",
       "      <td>65124.46</td>\n",
       "      <td>18669.95</td>\n",
       "      <td>2015.62</td>\n",
       "    </tr>\n",
       "    <tr>\n",
       "      <th>chrysler</th>\n",
       "      <td>73004.00</td>\n",
       "      <td>13686.11</td>\n",
       "      <td>2014.78</td>\n",
       "    </tr>\n",
       "    <tr>\n",
       "      <th>dodge</th>\n",
       "      <td>44184.86</td>\n",
       "      <td>17781.99</td>\n",
       "      <td>2017.29</td>\n",
       "    </tr>\n",
       "    <tr>\n",
       "      <th>ford</th>\n",
       "      <td>52084.30</td>\n",
       "      <td>21666.89</td>\n",
       "      <td>2016.76</td>\n",
       "    </tr>\n",
       "    <tr>\n",
       "      <th>gmc</th>\n",
       "      <td>58548.74</td>\n",
       "      <td>10657.38</td>\n",
       "      <td>2014.90</td>\n",
       "    </tr>\n",
       "  </tbody>\n",
       "</table>\n",
       "</div>"
      ],
      "text/plain": [
       "             mileage     price     year\n",
       "brand                                  \n",
       "acura      120379.67   7266.67  2010.33\n",
       "audi       118091.00  13981.25  2011.25\n",
       "bmw         47846.41  26397.06  2014.47\n",
       "buick       37926.85  19715.77  2016.00\n",
       "cadillac    40195.90  24941.00  2014.90\n",
       "chevrolet   65124.46  18669.95  2015.62\n",
       "chrysler    73004.00  13686.11  2014.78\n",
       "dodge       44184.86  17781.99  2017.29\n",
       "ford        52084.30  21666.89  2016.76\n",
       "gmc         58548.74  10657.38  2014.90"
      ]
     },
     "execution_count": 170,
     "metadata": {},
     "output_type": "execute_result"
    }
   ],
   "source": [
    "# для создания сводной таблицы необходимо указать данные\n",
    "pd.pivot_table(\n",
    "    cars,\n",
    "    # по какому признаку проводить группировку\n",
    "    index=\"brand\",\n",
    "    # и для каких признаков рассчитывать показатели\n",
    "    values=[\"mileage\", \"price\", \"year\"],\n",
    ").round(2).head(10)\n",
    "\n",
    "# по умолчанию будет рассчитано среднее арифметическое внутри каждой из групп"
   ]
  },
  {
   "cell_type": "code",
   "execution_count": 171,
   "metadata": {
    "colab": {
     "base_uri": "https://localhost:8080/",
     "height": 394
    },
    "id": "GQVKOMF1_fxf",
    "outputId": "8b7c4b4e-6abf-4081-9c60-7c539c900cf3"
   },
   "outputs": [
    {
     "data": {
      "text/html": [
       "<div>\n",
       "<style scoped>\n",
       "    .dataframe tbody tr th:only-of-type {\n",
       "        vertical-align: middle;\n",
       "    }\n",
       "\n",
       "    .dataframe tbody tr th {\n",
       "        vertical-align: top;\n",
       "    }\n",
       "\n",
       "    .dataframe thead th {\n",
       "        text-align: right;\n",
       "    }\n",
       "</style>\n",
       "<table border=\"1\" class=\"dataframe\">\n",
       "  <thead>\n",
       "    <tr style=\"text-align: right;\">\n",
       "      <th></th>\n",
       "      <th>mileage</th>\n",
       "      <th>price</th>\n",
       "    </tr>\n",
       "    <tr>\n",
       "      <th>brand</th>\n",
       "      <th></th>\n",
       "      <th></th>\n",
       "    </tr>\n",
       "  </thead>\n",
       "  <tbody>\n",
       "    <tr>\n",
       "      <th>acura</th>\n",
       "      <td>118250.0</td>\n",
       "      <td>3900.0</td>\n",
       "    </tr>\n",
       "    <tr>\n",
       "      <th>audi</th>\n",
       "      <td>121627.5</td>\n",
       "      <td>9762.5</td>\n",
       "    </tr>\n",
       "    <tr>\n",
       "      <th>bmw</th>\n",
       "      <td>33110.0</td>\n",
       "      <td>29400.0</td>\n",
       "    </tr>\n",
       "    <tr>\n",
       "      <th>buick</th>\n",
       "      <td>25434.0</td>\n",
       "      <td>20105.0</td>\n",
       "    </tr>\n",
       "    <tr>\n",
       "      <th>cadillac</th>\n",
       "      <td>34008.0</td>\n",
       "      <td>24052.5</td>\n",
       "    </tr>\n",
       "    <tr>\n",
       "      <th>chevrolet</th>\n",
       "      <td>46494.0</td>\n",
       "      <td>17100.0</td>\n",
       "    </tr>\n",
       "    <tr>\n",
       "      <th>chrysler</th>\n",
       "      <td>40189.0</td>\n",
       "      <td>18400.0</td>\n",
       "    </tr>\n",
       "    <tr>\n",
       "      <th>dodge</th>\n",
       "      <td>32548.5</td>\n",
       "      <td>16900.0</td>\n",
       "    </tr>\n",
       "    <tr>\n",
       "      <th>ford</th>\n",
       "      <td>34277.0</td>\n",
       "      <td>22000.0</td>\n",
       "    </tr>\n",
       "    <tr>\n",
       "      <th>gmc</th>\n",
       "      <td>32980.5</td>\n",
       "      <td>10585.0</td>\n",
       "    </tr>\n",
       "  </tbody>\n",
       "</table>\n",
       "</div>"
      ],
      "text/plain": [
       "            mileage    price\n",
       "brand                       \n",
       "acura      118250.0   3900.0\n",
       "audi       121627.5   9762.5\n",
       "bmw         33110.0  29400.0\n",
       "buick       25434.0  20105.0\n",
       "cadillac    34008.0  24052.5\n",
       "chevrolet   46494.0  17100.0\n",
       "chrysler    40189.0  18400.0\n",
       "dodge       32548.5  16900.0\n",
       "ford        34277.0  22000.0\n",
       "gmc         32980.5  10585.0"
      ]
     },
     "execution_count": 171,
     "metadata": {},
     "output_type": "execute_result"
    }
   ],
   "source": [
    "# добавим параметры values - по каким столбцам считать статистику группы\n",
    "# и пропишем aggfunc - какая именно статистика нас интересует\n",
    "pd.pivot_table(\n",
    "    cars,\n",
    "    # сгруппируем по марке\n",
    "    index=\"brand\",\n",
    "    # считать статистику будем по цене и пробегу\n",
    "    values=[\"price\", \"mileage\"],\n",
    "    # для каждой группы найдем медиану и выведем первые 10 марок\n",
    "    aggfunc=\"median\",\n",
    ").round(2).head(10)"
   ]
  },
  {
   "cell_type": "code",
   "execution_count": null,
   "metadata": {
    "id": "YyDNaCxObn6M"
   },
   "outputs": [],
   "source": [
    "# в качестве несложного примера пропишем функцию, которая возвращает среднее\n",
    "# арифметическое\n",
    "\n",
    "\n",
    "def custom_mean(x: list[float]) -> float:\n",
    "    \"\"\"Calculate arithmetic mean of input sequence.\"\"\"\n",
    "    return sum(x) / len(x)"
   ]
  },
  {
   "cell_type": "code",
   "execution_count": 173,
   "metadata": {
    "colab": {
     "base_uri": "https://localhost:8080/",
     "height": 426
    },
    "id": "Mn4dWOyUhreG",
    "outputId": "f9dcc2a7-9e20-489f-c769-32cefb90c8c9"
   },
   "outputs": [
    {
     "data": {
      "text/html": [
       "<div>\n",
       "<style scoped>\n",
       "    .dataframe tbody tr th:only-of-type {\n",
       "        vertical-align: middle;\n",
       "    }\n",
       "\n",
       "    .dataframe tbody tr th {\n",
       "        vertical-align: top;\n",
       "    }\n",
       "\n",
       "    .dataframe thead tr th {\n",
       "        text-align: left;\n",
       "    }\n",
       "\n",
       "    .dataframe thead tr:last-of-type th {\n",
       "        text-align: right;\n",
       "    }\n",
       "</style>\n",
       "<table border=\"1\" class=\"dataframe\">\n",
       "  <thead>\n",
       "    <tr>\n",
       "      <th></th>\n",
       "      <th>mean</th>\n",
       "      <th>custom_mean</th>\n",
       "    </tr>\n",
       "    <tr>\n",
       "      <th></th>\n",
       "      <th>price</th>\n",
       "      <th>price</th>\n",
       "    </tr>\n",
       "    <tr>\n",
       "      <th>brand</th>\n",
       "      <th></th>\n",
       "      <th></th>\n",
       "    </tr>\n",
       "  </thead>\n",
       "  <tbody>\n",
       "    <tr>\n",
       "      <th>acura</th>\n",
       "      <td>7266.67</td>\n",
       "      <td>7266.67</td>\n",
       "    </tr>\n",
       "    <tr>\n",
       "      <th>audi</th>\n",
       "      <td>13981.25</td>\n",
       "      <td>13981.25</td>\n",
       "    </tr>\n",
       "    <tr>\n",
       "      <th>bmw</th>\n",
       "      <td>26397.06</td>\n",
       "      <td>26397.06</td>\n",
       "    </tr>\n",
       "    <tr>\n",
       "      <th>buick</th>\n",
       "      <td>19715.77</td>\n",
       "      <td>19715.77</td>\n",
       "    </tr>\n",
       "    <tr>\n",
       "      <th>cadillac</th>\n",
       "      <td>24941.00</td>\n",
       "      <td>24941.00</td>\n",
       "    </tr>\n",
       "    <tr>\n",
       "      <th>chevrolet</th>\n",
       "      <td>18669.95</td>\n",
       "      <td>18669.95</td>\n",
       "    </tr>\n",
       "    <tr>\n",
       "      <th>chrysler</th>\n",
       "      <td>13686.11</td>\n",
       "      <td>13686.11</td>\n",
       "    </tr>\n",
       "    <tr>\n",
       "      <th>dodge</th>\n",
       "      <td>17781.99</td>\n",
       "      <td>17781.99</td>\n",
       "    </tr>\n",
       "    <tr>\n",
       "      <th>ford</th>\n",
       "      <td>21666.89</td>\n",
       "      <td>21666.89</td>\n",
       "    </tr>\n",
       "    <tr>\n",
       "      <th>gmc</th>\n",
       "      <td>10657.38</td>\n",
       "      <td>10657.38</td>\n",
       "    </tr>\n",
       "  </tbody>\n",
       "</table>\n",
       "</div>"
      ],
      "text/plain": [
       "               mean custom_mean\n",
       "              price       price\n",
       "brand                          \n",
       "acura       7266.67     7266.67\n",
       "audi       13981.25    13981.25\n",
       "bmw        26397.06    26397.06\n",
       "buick      19715.77    19715.77\n",
       "cadillac   24941.00    24941.00\n",
       "chevrolet  18669.95    18669.95\n",
       "chrysler   13686.11    13686.11\n",
       "dodge      17781.99    17781.99\n",
       "ford       21666.89    21666.89\n",
       "gmc        10657.38    10657.38"
      ]
     },
     "execution_count": 173,
     "metadata": {},
     "output_type": "execute_result"
    }
   ],
   "source": [
    "# применим как встроенную, так и собственную функцию к столбцу price\n",
    "pd.pivot_table(\n",
    "    cars, index=\"brand\", values=\"price\", aggfunc=[\"mean\", custom_mean]\n",
    ").round(2).head(10)"
   ]
  },
  {
   "cell_type": "code",
   "execution_count": 174,
   "metadata": {
    "colab": {
     "base_uri": "https://localhost:8080/",
     "height": 457
    },
    "id": "hRKGFjFKcDXF",
    "outputId": "410f3209-03f0-4714-bea0-7bbe15f8b133"
   },
   "outputs": [
    {
     "data": {
      "text/html": [
       "<div>\n",
       "<style scoped>\n",
       "    .dataframe tbody tr th:only-of-type {\n",
       "        vertical-align: middle;\n",
       "    }\n",
       "\n",
       "    .dataframe tbody tr th {\n",
       "        vertical-align: top;\n",
       "    }\n",
       "\n",
       "    .dataframe thead tr th {\n",
       "        text-align: left;\n",
       "    }\n",
       "\n",
       "    .dataframe thead tr:last-of-type th {\n",
       "        text-align: right;\n",
       "    }\n",
       "</style>\n",
       "<table border=\"1\" class=\"dataframe\">\n",
       "  <thead>\n",
       "    <tr>\n",
       "      <th></th>\n",
       "      <th></th>\n",
       "      <th>median</th>\n",
       "      <th>count</th>\n",
       "    </tr>\n",
       "    <tr>\n",
       "      <th></th>\n",
       "      <th></th>\n",
       "      <th>price</th>\n",
       "      <th>price</th>\n",
       "    </tr>\n",
       "    <tr>\n",
       "      <th>brand</th>\n",
       "      <th>color</th>\n",
       "      <th></th>\n",
       "      <th></th>\n",
       "    </tr>\n",
       "  </thead>\n",
       "  <tbody>\n",
       "    <tr>\n",
       "      <th rowspan=\"3\" valign=\"top\">acura</th>\n",
       "      <th>black</th>\n",
       "      <td>3900.0</td>\n",
       "      <td>1</td>\n",
       "    </tr>\n",
       "    <tr>\n",
       "      <th>gray</th>\n",
       "      <td>1000.0</td>\n",
       "      <td>1</td>\n",
       "    </tr>\n",
       "    <tr>\n",
       "      <th>silver</th>\n",
       "      <td>16900.0</td>\n",
       "      <td>1</td>\n",
       "    </tr>\n",
       "    <tr>\n",
       "      <th rowspan=\"2\" valign=\"top\">audi</th>\n",
       "      <th>black</th>\n",
       "      <td>25.0</td>\n",
       "      <td>3</td>\n",
       "    </tr>\n",
       "    <tr>\n",
       "      <th>blue</th>\n",
       "      <td>19500.0</td>\n",
       "      <td>1</td>\n",
       "    </tr>\n",
       "    <tr>\n",
       "      <th rowspan=\"6\" valign=\"top\">bmw</th>\n",
       "      <th>black</th>\n",
       "      <td>34200.0</td>\n",
       "      <td>4</td>\n",
       "    </tr>\n",
       "    <tr>\n",
       "      <th>blue</th>\n",
       "      <td>39000.0</td>\n",
       "      <td>5</td>\n",
       "    </tr>\n",
       "    <tr>\n",
       "      <th>gray</th>\n",
       "      <td>15350.0</td>\n",
       "      <td>4</td>\n",
       "    </tr>\n",
       "    <tr>\n",
       "      <th>no_color</th>\n",
       "      <td>29700.0</td>\n",
       "      <td>1</td>\n",
       "    </tr>\n",
       "    <tr>\n",
       "      <th>silver</th>\n",
       "      <td>15000.0</td>\n",
       "      <td>1</td>\n",
       "    </tr>\n",
       "    <tr>\n",
       "      <th>white</th>\n",
       "      <td>2375.0</td>\n",
       "      <td>2</td>\n",
       "    </tr>\n",
       "  </tbody>\n",
       "</table>\n",
       "</div>"
      ],
      "text/plain": [
       "                 median count\n",
       "                  price price\n",
       "brand color                  \n",
       "acura black      3900.0     1\n",
       "      gray       1000.0     1\n",
       "      silver    16900.0     1\n",
       "audi  black        25.0     3\n",
       "      blue      19500.0     1\n",
       "bmw   black     34200.0     4\n",
       "      blue      39000.0     5\n",
       "      gray      15350.0     4\n",
       "      no_color  29700.0     1\n",
       "      silver    15000.0     1\n",
       "      white      2375.0     2"
      ]
     },
     "execution_count": 174,
     "metadata": {},
     "output_type": "execute_result"
    }
   ],
   "source": [
    "# сгруппируем данные по марке, а затем по цвету кузова\n",
    "# для каждой подгруппы рассчитаем медиану и количество наблюдений (count)\n",
    "pd.pivot_table(\n",
    "    cars, index=[\"brand\", \"color\"], values=\"price\", aggfunc=[\"median\", \"count\"]\n",
    ").round(2).head(11)"
   ]
  },
  {
   "cell_type": "markdown",
   "metadata": {
    "id": "KNhXM1aUmx58"
   },
   "source": [
    "#### Группировка по строкам и столбцам"
   ]
  },
  {
   "cell_type": "code",
   "execution_count": 175,
   "metadata": {
    "colab": {
     "base_uri": "https://localhost:8080/",
     "height": 237
    },
    "id": "CWTx9Y5MnTH3",
    "outputId": "ce40b730-38df-41a0-a8c2-30b6b8c1f660"
   },
   "outputs": [
    {
     "data": {
      "text/html": [
       "<div>\n",
       "<style scoped>\n",
       "    .dataframe tbody tr th:only-of-type {\n",
       "        vertical-align: middle;\n",
       "    }\n",
       "\n",
       "    .dataframe tbody tr th {\n",
       "        vertical-align: top;\n",
       "    }\n",
       "\n",
       "    .dataframe thead th {\n",
       "        text-align: right;\n",
       "    }\n",
       "</style>\n",
       "<table border=\"1\" class=\"dataframe\">\n",
       "  <thead>\n",
       "    <tr style=\"text-align: right;\">\n",
       "      <th>title_status</th>\n",
       "      <th>clean vehicle</th>\n",
       "      <th>salvage insurance</th>\n",
       "    </tr>\n",
       "    <tr>\n",
       "      <th>brand</th>\n",
       "      <th></th>\n",
       "      <th></th>\n",
       "    </tr>\n",
       "  </thead>\n",
       "  <tbody>\n",
       "    <tr>\n",
       "      <th>acura</th>\n",
       "      <td>10400.0</td>\n",
       "      <td>1000.0</td>\n",
       "    </tr>\n",
       "    <tr>\n",
       "      <th>audi</th>\n",
       "      <td>27950.0</td>\n",
       "      <td>12.5</td>\n",
       "    </tr>\n",
       "    <tr>\n",
       "      <th>bmw</th>\n",
       "      <td>31600.0</td>\n",
       "      <td>1825.0</td>\n",
       "    </tr>\n",
       "    <tr>\n",
       "      <th>buick</th>\n",
       "      <td>20802.5</td>\n",
       "      <td>0.0</td>\n",
       "    </tr>\n",
       "    <tr>\n",
       "      <th>cadillac</th>\n",
       "      <td>24500.0</td>\n",
       "      <td>0.0</td>\n",
       "    </tr>\n",
       "  </tbody>\n",
       "</table>\n",
       "</div>"
      ],
      "text/plain": [
       "title_status  clean vehicle  salvage insurance\n",
       "brand                                         \n",
       "acura               10400.0             1000.0\n",
       "audi                27950.0               12.5\n",
       "bmw                 31600.0             1825.0\n",
       "buick               20802.5                0.0\n",
       "cadillac            24500.0                0.0"
      ]
     },
     "execution_count": 175,
     "metadata": {},
     "output_type": "execute_result"
    }
   ],
   "source": [
    "# найдем медианную цену для каждой марки с разбивкой по категориям title_status\n",
    "pd.pivot_table(\n",
    "    cars, index=\"brand\", columns=\"title_status\", values=\"price\", aggfunc=\"median\"\n",
    ").round(2).head()"
   ]
  },
  {
   "cell_type": "code",
   "execution_count": 176,
   "metadata": {
    "colab": {
     "base_uri": "https://localhost:8080/",
     "height": 206
    },
    "id": "btA0cRC5D7Pi",
    "outputId": "839cdf06-3e46-4e11-9dff-db4b53af7a8f"
   },
   "outputs": [
    {
     "data": {
      "text/html": [
       "<div>\n",
       "<style scoped>\n",
       "    .dataframe tbody tr th:only-of-type {\n",
       "        vertical-align: middle;\n",
       "    }\n",
       "\n",
       "    .dataframe tbody tr th {\n",
       "        vertical-align: top;\n",
       "    }\n",
       "\n",
       "    .dataframe thead th {\n",
       "        text-align: right;\n",
       "    }\n",
       "</style>\n",
       "<table border=\"1\" class=\"dataframe\">\n",
       "  <thead>\n",
       "    <tr style=\"text-align: right;\">\n",
       "      <th></th>\n",
       "      <th>brand</th>\n",
       "      <th>acura</th>\n",
       "      <th>audi</th>\n",
       "      <th>bmw</th>\n",
       "      <th>buick</th>\n",
       "      <th>cadillac</th>\n",
       "    </tr>\n",
       "    <tr>\n",
       "      <th></th>\n",
       "      <th>title_status</th>\n",
       "      <th></th>\n",
       "      <th></th>\n",
       "      <th></th>\n",
       "      <th></th>\n",
       "      <th></th>\n",
       "    </tr>\n",
       "  </thead>\n",
       "  <tbody>\n",
       "    <tr>\n",
       "      <th rowspan=\"2\" valign=\"top\">median</th>\n",
       "      <th>clean vehicle</th>\n",
       "      <td>10400.0</td>\n",
       "      <td>27950.0</td>\n",
       "      <td>31600.0</td>\n",
       "      <td>20802.0</td>\n",
       "      <td>24500.0</td>\n",
       "    </tr>\n",
       "    <tr>\n",
       "      <th>salvage insurance</th>\n",
       "      <td>1000.0</td>\n",
       "      <td>12.0</td>\n",
       "      <td>1825.0</td>\n",
       "      <td>0.0</td>\n",
       "      <td>0.0</td>\n",
       "    </tr>\n",
       "    <tr>\n",
       "      <th rowspan=\"2\" valign=\"top\">count</th>\n",
       "      <th>clean vehicle</th>\n",
       "      <td>2.0</td>\n",
       "      <td>2.0</td>\n",
       "      <td>14.0</td>\n",
       "      <td>12.0</td>\n",
       "      <td>9.0</td>\n",
       "    </tr>\n",
       "    <tr>\n",
       "      <th>salvage insurance</th>\n",
       "      <td>1.0</td>\n",
       "      <td>2.0</td>\n",
       "      <td>3.0</td>\n",
       "      <td>1.0</td>\n",
       "      <td>1.0</td>\n",
       "    </tr>\n",
       "  </tbody>\n",
       "</table>\n",
       "</div>"
      ],
      "text/plain": [
       "brand                       acura     audi      bmw    buick  cadillac\n",
       "       title_status                                                   \n",
       "median clean vehicle      10400.0  27950.0  31600.0  20802.0   24500.0\n",
       "       salvage insurance   1000.0     12.0   1825.0      0.0       0.0\n",
       "count  clean vehicle          2.0      2.0     14.0     12.0       9.0\n",
       "       salvage insurance      1.0      2.0      3.0      1.0       1.0"
      ]
     },
     "execution_count": 176,
     "metadata": {},
     "output_type": "execute_result"
    }
   ],
   "source": [
    "# добавим метрику count и\n",
    "# применим метод .transpose(), чтобы поменять строки и столбцы местами\n",
    "pd.pivot_table(\n",
    "    cars,\n",
    "    index=\"brand\",\n",
    "    columns=\"title_status\",\n",
    "    values=\"price\",\n",
    "    aggfunc=[\"median\", \"count\"],\n",
    ").round().head().transpose()"
   ]
  },
  {
   "cell_type": "markdown",
   "metadata": {
    "id": "pTG8M285nL0W"
   },
   "source": [
    "#### Дополнительные возможности"
   ]
  },
  {
   "cell_type": "code",
   "execution_count": 180,
   "metadata": {
    "colab": {
     "base_uri": "https://localhost:8080/",
     "height": 457
    },
    "id": "TKMooNjf_f90",
    "outputId": "8ecf18cf-3725-4966-f525-8930953dd66c"
   },
   "outputs": [
    {
     "data": {
      "text/html": [
       "<style type=\"text/css\">\n",
       "#T_1fcfa_row0_col0 {\n",
       "  background-color: #f0eaf4;\n",
       "  color: #000000;\n",
       "}\n",
       "#T_1fcfa_row0_col1, #T_1fcfa_row1_col1, #T_1fcfa_row2_col1, #T_1fcfa_row3_col0, #T_1fcfa_row4_col1, #T_1fcfa_row8_col1, #T_1fcfa_row9_col1 {\n",
       "  background-color: #fff7fb;\n",
       "  color: #000000;\n",
       "}\n",
       "#T_1fcfa_row1_col0 {\n",
       "  background-color: #fbf4f9;\n",
       "  color: #000000;\n",
       "}\n",
       "#T_1fcfa_row2_col0 {\n",
       "  background-color: #8fb4d6;\n",
       "  color: #000000;\n",
       "}\n",
       "#T_1fcfa_row3_col1 {\n",
       "  background-color: #73a9cf;\n",
       "  color: #f1f1f1;\n",
       "}\n",
       "#T_1fcfa_row4_col0 {\n",
       "  background-color: #75a9cf;\n",
       "  color: #f1f1f1;\n",
       "}\n",
       "#T_1fcfa_row5_col0 {\n",
       "  background-color: #04598c;\n",
       "  color: #f1f1f1;\n",
       "}\n",
       "#T_1fcfa_row5_col1, #T_1fcfa_row7_col1 {\n",
       "  background-color: #056faf;\n",
       "  color: #f1f1f1;\n",
       "}\n",
       "#T_1fcfa_row6_col0, #T_1fcfa_row6_col1 {\n",
       "  background-color: #023858;\n",
       "  color: #f1f1f1;\n",
       "}\n",
       "#T_1fcfa_row7_col0 {\n",
       "  background-color: #9fbad9;\n",
       "  color: #000000;\n",
       "}\n",
       "#T_1fcfa_row8_col0 {\n",
       "  background-color: #056ead;\n",
       "  color: #f1f1f1;\n",
       "}\n",
       "#T_1fcfa_row9_col0 {\n",
       "  background-color: #a2bcda;\n",
       "  color: #000000;\n",
       "}\n",
       "#T_1fcfa_row10_col0 {\n",
       "  background-color: #f6eff7;\n",
       "  color: #000000;\n",
       "}\n",
       "#T_1fcfa_row10_col1 {\n",
       "  background-color: #d0d1e6;\n",
       "  color: #000000;\n",
       "}\n",
       "</style>\n",
       "<table id=\"T_1fcfa\">\n",
       "  <thead>\n",
       "    <tr>\n",
       "      <th class=\"blank\" >&nbsp;</th>\n",
       "      <th class=\"blank level0\" >&nbsp;</th>\n",
       "      <th id=\"T_1fcfa_level0_col0\" class=\"col_heading level0 col0\" >median</th>\n",
       "      <th id=\"T_1fcfa_level0_col1\" class=\"col_heading level0 col1\" >count</th>\n",
       "    </tr>\n",
       "    <tr>\n",
       "      <th class=\"blank\" >&nbsp;</th>\n",
       "      <th class=\"blank level1\" >&nbsp;</th>\n",
       "      <th id=\"T_1fcfa_level1_col0\" class=\"col_heading level1 col0\" >price</th>\n",
       "      <th id=\"T_1fcfa_level1_col1\" class=\"col_heading level1 col1\" >price</th>\n",
       "    </tr>\n",
       "    <tr>\n",
       "      <th class=\"index_name level0\" >brand</th>\n",
       "      <th class=\"index_name level1\" >color</th>\n",
       "      <th class=\"blank col0\" >&nbsp;</th>\n",
       "      <th class=\"blank col1\" >&nbsp;</th>\n",
       "    </tr>\n",
       "  </thead>\n",
       "  <tbody>\n",
       "    <tr>\n",
       "      <th id=\"T_1fcfa_level0_row0\" class=\"row_heading level0 row0\" rowspan=\"3\">acura</th>\n",
       "      <th id=\"T_1fcfa_level1_row0\" class=\"row_heading level1 row0\" >black</th>\n",
       "      <td id=\"T_1fcfa_row0_col0\" class=\"data row0 col0\" >3900.000000</td>\n",
       "      <td id=\"T_1fcfa_row0_col1\" class=\"data row0 col1\" >1</td>\n",
       "    </tr>\n",
       "    <tr>\n",
       "      <th id=\"T_1fcfa_level1_row1\" class=\"row_heading level1 row1\" >gray</th>\n",
       "      <td id=\"T_1fcfa_row1_col0\" class=\"data row1 col0\" >1000.000000</td>\n",
       "      <td id=\"T_1fcfa_row1_col1\" class=\"data row1 col1\" >1</td>\n",
       "    </tr>\n",
       "    <tr>\n",
       "      <th id=\"T_1fcfa_level1_row2\" class=\"row_heading level1 row2\" >silver</th>\n",
       "      <td id=\"T_1fcfa_row2_col0\" class=\"data row2 col0\" >16900.000000</td>\n",
       "      <td id=\"T_1fcfa_row2_col1\" class=\"data row2 col1\" >1</td>\n",
       "    </tr>\n",
       "    <tr>\n",
       "      <th id=\"T_1fcfa_level0_row3\" class=\"row_heading level0 row3\" rowspan=\"2\">audi</th>\n",
       "      <th id=\"T_1fcfa_level1_row3\" class=\"row_heading level1 row3\" >black</th>\n",
       "      <td id=\"T_1fcfa_row3_col0\" class=\"data row3 col0\" >25.000000</td>\n",
       "      <td id=\"T_1fcfa_row3_col1\" class=\"data row3 col1\" >3</td>\n",
       "    </tr>\n",
       "    <tr>\n",
       "      <th id=\"T_1fcfa_level1_row4\" class=\"row_heading level1 row4\" >blue</th>\n",
       "      <td id=\"T_1fcfa_row4_col0\" class=\"data row4 col0\" >19500.000000</td>\n",
       "      <td id=\"T_1fcfa_row4_col1\" class=\"data row4 col1\" >1</td>\n",
       "    </tr>\n",
       "    <tr>\n",
       "      <th id=\"T_1fcfa_level0_row5\" class=\"row_heading level0 row5\" rowspan=\"6\">bmw</th>\n",
       "      <th id=\"T_1fcfa_level1_row5\" class=\"row_heading level1 row5\" >black</th>\n",
       "      <td id=\"T_1fcfa_row5_col0\" class=\"data row5 col0\" >34200.000000</td>\n",
       "      <td id=\"T_1fcfa_row5_col1\" class=\"data row5 col1\" >4</td>\n",
       "    </tr>\n",
       "    <tr>\n",
       "      <th id=\"T_1fcfa_level1_row6\" class=\"row_heading level1 row6\" >blue</th>\n",
       "      <td id=\"T_1fcfa_row6_col0\" class=\"data row6 col0\" >39000.000000</td>\n",
       "      <td id=\"T_1fcfa_row6_col1\" class=\"data row6 col1\" >5</td>\n",
       "    </tr>\n",
       "    <tr>\n",
       "      <th id=\"T_1fcfa_level1_row7\" class=\"row_heading level1 row7\" >gray</th>\n",
       "      <td id=\"T_1fcfa_row7_col0\" class=\"data row7 col0\" >15350.000000</td>\n",
       "      <td id=\"T_1fcfa_row7_col1\" class=\"data row7 col1\" >4</td>\n",
       "    </tr>\n",
       "    <tr>\n",
       "      <th id=\"T_1fcfa_level1_row8\" class=\"row_heading level1 row8\" >no_color</th>\n",
       "      <td id=\"T_1fcfa_row8_col0\" class=\"data row8 col0\" >29700.000000</td>\n",
       "      <td id=\"T_1fcfa_row8_col1\" class=\"data row8 col1\" >1</td>\n",
       "    </tr>\n",
       "    <tr>\n",
       "      <th id=\"T_1fcfa_level1_row9\" class=\"row_heading level1 row9\" >silver</th>\n",
       "      <td id=\"T_1fcfa_row9_col0\" class=\"data row9 col0\" >15000.000000</td>\n",
       "      <td id=\"T_1fcfa_row9_col1\" class=\"data row9 col1\" >1</td>\n",
       "    </tr>\n",
       "    <tr>\n",
       "      <th id=\"T_1fcfa_level1_row10\" class=\"row_heading level1 row10\" >white</th>\n",
       "      <td id=\"T_1fcfa_row10_col0\" class=\"data row10 col0\" >2375.000000</td>\n",
       "      <td id=\"T_1fcfa_row10_col1\" class=\"data row10 col1\" >2</td>\n",
       "    </tr>\n",
       "  </tbody>\n",
       "</table>\n"
      ],
      "text/plain": [
       "<pandas.io.formats.style.Styler at 0x2a962a99990>"
      ]
     },
     "execution_count": 180,
     "metadata": {},
     "output_type": "execute_result"
    }
   ],
   "source": [
    "# метод .style.background_gradient() позволяет добавить цветовую маркировку\n",
    "pd.pivot_table(\n",
    "    cars, index=[\"brand\", \"color\"], values=\"price\", aggfunc=[\"median\", \"count\"]\n",
    ").round(2).head(11).style.background_gradient()"
   ]
  },
  {
   "cell_type": "code",
   "execution_count": 181,
   "metadata": {
    "colab": {
     "base_uri": "https://localhost:8080/",
     "height": 426
    },
    "id": "tudK0wypV4q8",
    "outputId": "2caf9095-2d55-4eda-b50c-6574f7cfef81"
   },
   "outputs": [
    {
     "data": {
      "text/html": [
       "<style type=\"text/css\">\n",
       "#T_f7311_row10_col1 {\n",
       "  background-color: yellow;\n",
       "}\n",
       "</style>\n",
       "<table id=\"T_f7311\">\n",
       "  <thead>\n",
       "    <tr>\n",
       "      <th class=\"index_name level0\" >title_status</th>\n",
       "      <th id=\"T_f7311_level0_col0\" class=\"col_heading level0 col0\" >clean vehicle</th>\n",
       "      <th id=\"T_f7311_level0_col1\" class=\"col_heading level0 col1\" >salvage insurance</th>\n",
       "    </tr>\n",
       "    <tr>\n",
       "      <th class=\"index_name level0\" >brand</th>\n",
       "      <th class=\"blank col0\" >&nbsp;</th>\n",
       "      <th class=\"blank col1\" >&nbsp;</th>\n",
       "    </tr>\n",
       "  </thead>\n",
       "  <tbody>\n",
       "    <tr>\n",
       "      <th id=\"T_f7311_level0_row0\" class=\"row_heading level0 row0\" >acura</th>\n",
       "      <td id=\"T_f7311_row0_col0\" class=\"data row0 col0\" >10400.000000</td>\n",
       "      <td id=\"T_f7311_row0_col1\" class=\"data row0 col1\" >1000.000000</td>\n",
       "    </tr>\n",
       "    <tr>\n",
       "      <th id=\"T_f7311_level0_row1\" class=\"row_heading level0 row1\" >audi</th>\n",
       "      <td id=\"T_f7311_row1_col0\" class=\"data row1 col0\" >27950.000000</td>\n",
       "      <td id=\"T_f7311_row1_col1\" class=\"data row1 col1\" >12.500000</td>\n",
       "    </tr>\n",
       "    <tr>\n",
       "      <th id=\"T_f7311_level0_row2\" class=\"row_heading level0 row2\" >bmw</th>\n",
       "      <td id=\"T_f7311_row2_col0\" class=\"data row2 col0\" >31600.000000</td>\n",
       "      <td id=\"T_f7311_row2_col1\" class=\"data row2 col1\" >1825.000000</td>\n",
       "    </tr>\n",
       "    <tr>\n",
       "      <th id=\"T_f7311_level0_row3\" class=\"row_heading level0 row3\" >buick</th>\n",
       "      <td id=\"T_f7311_row3_col0\" class=\"data row3 col0\" >20802.500000</td>\n",
       "      <td id=\"T_f7311_row3_col1\" class=\"data row3 col1\" >0.000000</td>\n",
       "    </tr>\n",
       "    <tr>\n",
       "      <th id=\"T_f7311_level0_row4\" class=\"row_heading level0 row4\" >cadillac</th>\n",
       "      <td id=\"T_f7311_row4_col0\" class=\"data row4 col0\" >24500.000000</td>\n",
       "      <td id=\"T_f7311_row4_col1\" class=\"data row4 col1\" >0.000000</td>\n",
       "    </tr>\n",
       "    <tr>\n",
       "      <th id=\"T_f7311_level0_row5\" class=\"row_heading level0 row5\" >chevrolet</th>\n",
       "      <td id=\"T_f7311_row5_col0\" class=\"data row5 col0\" >18500.000000</td>\n",
       "      <td id=\"T_f7311_row5_col1\" class=\"data row5 col1\" >25.000000</td>\n",
       "    </tr>\n",
       "    <tr>\n",
       "      <th id=\"T_f7311_level0_row6\" class=\"row_heading level0 row6\" >chrysler</th>\n",
       "      <td id=\"T_f7311_row6_col0\" class=\"data row6 col0\" >18900.000000</td>\n",
       "      <td id=\"T_f7311_row6_col1\" class=\"data row6 col1\" >100.000000</td>\n",
       "    </tr>\n",
       "    <tr>\n",
       "      <th id=\"T_f7311_level0_row7\" class=\"row_heading level0 row7\" >dodge</th>\n",
       "      <td id=\"T_f7311_row7_col0\" class=\"data row7 col0\" >17000.000000</td>\n",
       "      <td id=\"T_f7311_row7_col1\" class=\"data row7 col1\" >1725.000000</td>\n",
       "    </tr>\n",
       "    <tr>\n",
       "      <th id=\"T_f7311_level0_row8\" class=\"row_heading level0 row8\" >ford</th>\n",
       "      <td id=\"T_f7311_row8_col0\" class=\"data row8 col0\" >22900.000000</td>\n",
       "      <td id=\"T_f7311_row8_col1\" class=\"data row8 col1\" >1500.000000</td>\n",
       "    </tr>\n",
       "    <tr>\n",
       "      <th id=\"T_f7311_level0_row9\" class=\"row_heading level0 row9\" >gmc</th>\n",
       "      <td id=\"T_f7311_row9_col0\" class=\"data row9 col0\" >12520.000000</td>\n",
       "      <td id=\"T_f7311_row9_col1\" class=\"data row9 col1\" >25.000000</td>\n",
       "    </tr>\n",
       "    <tr>\n",
       "      <th id=\"T_f7311_level0_row10\" class=\"row_heading level0 row10\" >harley-davidson</th>\n",
       "      <td id=\"T_f7311_row10_col0\" class=\"data row10 col0\" >54680.000000</td>\n",
       "      <td id=\"T_f7311_row10_col1\" class=\"data row10 col1\" >nan</td>\n",
       "    </tr>\n",
       "  </tbody>\n",
       "</table>\n"
      ],
      "text/plain": [
       "<pandas.io.formats.style.Styler at 0x2a962b90280>"
      ]
     },
     "execution_count": 181,
     "metadata": {},
     "output_type": "execute_result"
    }
   ],
   "source": [
    "# для выделения пропущенных значений используется метод .style.highlight_null()\n",
    "# цвет выбирается через параметр color\n",
    "pd.pivot_table(\n",
    "    cars, index=\"brand\", columns=\"title_status\", values=\"price\", aggfunc=\"median\"\n",
    ").round(2).head(11).style.highlight_null(color=\"yellow\")"
   ]
  },
  {
   "cell_type": "code",
   "execution_count": 182,
   "metadata": {
    "colab": {
     "base_uri": "https://localhost:8080/",
     "height": 535
    },
    "id": "I2pMP4gKjEOm",
    "outputId": "410ef193-93d5-46cb-d421-c9ec74dd69de"
   },
   "outputs": [
    {
     "data": {
      "image/png": "[encoded data removed]",
      "text/plain": [
       "<Figure size 1000x700 with 1 Axes>"
      ]
     },
     "metadata": {},
     "output_type": "display_data"
    }
   ],
   "source": [
    "# на основе сводных таблиц можно строить графики\n",
    "# например, можно посмотреть количество автомобилей (aggfunc = 'count')\n",
    "# со статусом clean и salvage (title_status),\n",
    "# сгруппированных по маркам (index)\n",
    "pd.pivot_table(\n",
    "    cars, index=\"brand\", columns=\"title_status\", values=\"price\", aggfunc=\"count\"\n",
    ").round(2).head(3).plot.barh(figsize=(10, 7), title=\"Clean vs. Salvage Counts\");"
   ]
  },
  {
   "cell_type": "code",
   "execution_count": null,
   "metadata": {
    "colab": {
     "base_uri": "https://localhost:8080/",
     "height": 429
    },
    "id": "7RqEeaHHOILt",
    "outputId": "52526047-e500-47b2-8623-4e4502f22ef0"
   },
   "outputs": [
    {
     "data": {
      "text/plain": [
       "title_status       brand   \n",
       "clean vehicle      acura       10400.0\n",
       "                   audi        27950.0\n",
       "                   bmw         31600.0\n",
       "                   buick       20802.5\n",
       "                   cadillac    24500.0\n",
       "salvage insurance  acura        1000.0\n",
       "                   audi           12.5\n",
       "                   bmw          1825.0\n",
       "                   buick           0.0\n",
       "                   cadillac        0.0\n",
       "dtype: float64"
      ]
     },
     "execution_count": 183,
     "metadata": {},
     "output_type": "execute_result"
    }
   ],
   "source": [
    "# метод .unstack() как бы убирает второе измерение\n",
    "# по сути, мы также группируем данные по нескольким признакам, но только по\n",
    "# строкам\n",
    "pd.pivot_table(\n",
    "    cars, index=\"brand\", columns=\"title_status\", values=\"price\", aggfunc=\"median\"\n",
    ").round(2).head().unstack()"
   ]
  },
  {
   "cell_type": "code",
   "execution_count": 185,
   "metadata": {
    "colab": {
     "base_uri": "https://localhost:8080/",
     "height": 206
    },
    "id": "Y23fw3ZAdH5a",
    "outputId": "f71c95f6-59b7-486d-b14c-47e272f647e5"
   },
   "outputs": [
    {
     "data": {
      "text/html": [
       "<div>\n",
       "<style scoped>\n",
       "    .dataframe tbody tr th:only-of-type {\n",
       "        vertical-align: middle;\n",
       "    }\n",
       "\n",
       "    .dataframe tbody tr th {\n",
       "        vertical-align: top;\n",
       "    }\n",
       "\n",
       "    .dataframe thead th {\n",
       "        text-align: right;\n",
       "    }\n",
       "</style>\n",
       "<table border=\"1\" class=\"dataframe\">\n",
       "  <thead>\n",
       "    <tr style=\"text-align: right;\">\n",
       "      <th></th>\n",
       "      <th>price</th>\n",
       "      <th>model</th>\n",
       "      <th>year</th>\n",
       "      <th>title_status</th>\n",
       "      <th>mileage</th>\n",
       "      <th>color</th>\n",
       "      <th>state</th>\n",
       "      <th>country</th>\n",
       "    </tr>\n",
       "  </thead>\n",
       "  <tbody>\n",
       "    <tr>\n",
       "      <th>0</th>\n",
       "      <td>29400</td>\n",
       "      <td>x3</td>\n",
       "      <td>2017</td>\n",
       "      <td>clean vehicle</td>\n",
       "      <td>23765.0</td>\n",
       "      <td>black</td>\n",
       "      <td>tennessee</td>\n",
       "      <td>usa</td>\n",
       "    </tr>\n",
       "    <tr>\n",
       "      <th>1</th>\n",
       "      <td>24500</td>\n",
       "      <td>door</td>\n",
       "      <td>2017</td>\n",
       "      <td>clean vehicle</td>\n",
       "      <td>17626.0</td>\n",
       "      <td>gray</td>\n",
       "      <td>michigan</td>\n",
       "      <td>usa</td>\n",
       "    </tr>\n",
       "    <tr>\n",
       "      <th>2</th>\n",
       "      <td>53500</td>\n",
       "      <td>m</td>\n",
       "      <td>2017</td>\n",
       "      <td>clean vehicle</td>\n",
       "      <td>29355.0</td>\n",
       "      <td>blue</td>\n",
       "      <td>michigan</td>\n",
       "      <td>usa</td>\n",
       "    </tr>\n",
       "    <tr>\n",
       "      <th>3</th>\n",
       "      <td>39000</td>\n",
       "      <td>series</td>\n",
       "      <td>2016</td>\n",
       "      <td>clean vehicle</td>\n",
       "      <td>39917.0</td>\n",
       "      <td>blue</td>\n",
       "      <td>michigan</td>\n",
       "      <td>usa</td>\n",
       "    </tr>\n",
       "    <tr>\n",
       "      <th>4</th>\n",
       "      <td>40000</td>\n",
       "      <td>series</td>\n",
       "      <td>2016</td>\n",
       "      <td>clean vehicle</td>\n",
       "      <td>31727.0</td>\n",
       "      <td>gray</td>\n",
       "      <td>michigan</td>\n",
       "      <td>usa</td>\n",
       "    </tr>\n",
       "  </tbody>\n",
       "</table>\n",
       "</div>"
      ],
      "text/plain": [
       "   price   model  year   title_status  mileage  color      state country\n",
       "0  29400      x3  2017  clean vehicle  23765.0  black  tennessee     usa\n",
       "1  24500    door  2017  clean vehicle  17626.0   gray   michigan     usa\n",
       "2  53500       m  2017  clean vehicle  29355.0   blue   michigan     usa\n",
       "3  39000  series  2016  clean vehicle  39917.0   blue   michigan     usa\n",
       "4  40000  series  2016  clean vehicle  31727.0   gray   michigan     usa"
      ]
     },
     "execution_count": 185,
     "metadata": {},
     "output_type": "execute_result"
    }
   ],
   "source": [
    "# создадим маску для автомобилей \"БМВ\" и сделаем копию датафрейма\n",
    "bmw = cars[cars[\"brand\"] == \"bmw\"].copy()\n",
    "# установим новый индекс, удалив при этом старый\n",
    "bmw.reset_index(drop=True, inplace=True)\n",
    "# удалим столбец brand, так как у нас осталась только одна марка\n",
    "bmw.drop(columns=\"brand\", inplace=True)\n",
    "# посмотрим на результат\n",
    "bmw.head()"
   ]
  },
  {
   "cell_type": "code",
   "execution_count": 186,
   "metadata": {
    "colab": {
     "base_uri": "https://localhost:8080/",
     "height": 488
    },
    "id": "H5n-ZFk1d6Bk",
    "outputId": "df43eb98-4857-41ff-f807-7c768cb9deb4"
   },
   "outputs": [
    {
     "data": {
      "text/html": [
       "<div>\n",
       "<style scoped>\n",
       "    .dataframe tbody tr th:only-of-type {\n",
       "        vertical-align: middle;\n",
       "    }\n",
       "\n",
       "    .dataframe tbody tr th {\n",
       "        vertical-align: top;\n",
       "    }\n",
       "\n",
       "    .dataframe thead th {\n",
       "        text-align: right;\n",
       "    }\n",
       "</style>\n",
       "<table border=\"1\" class=\"dataframe\">\n",
       "  <thead>\n",
       "    <tr style=\"text-align: right;\">\n",
       "      <th></th>\n",
       "      <th></th>\n",
       "      <th>price</th>\n",
       "    </tr>\n",
       "    <tr>\n",
       "      <th>state</th>\n",
       "      <th>year</th>\n",
       "      <th></th>\n",
       "    </tr>\n",
       "  </thead>\n",
       "  <tbody>\n",
       "    <tr>\n",
       "      <th rowspan=\"2\" valign=\"top\">california</th>\n",
       "      <th>2017</th>\n",
       "      <td>39800.0</td>\n",
       "    </tr>\n",
       "    <tr>\n",
       "      <th>2020</th>\n",
       "      <td>61200.0</td>\n",
       "    </tr>\n",
       "    <tr>\n",
       "      <th>florida</th>\n",
       "      <th>2013</th>\n",
       "      <td>2925.0</td>\n",
       "    </tr>\n",
       "    <tr>\n",
       "      <th>georgia</th>\n",
       "      <th>2008</th>\n",
       "      <td>1825.0</td>\n",
       "    </tr>\n",
       "    <tr>\n",
       "      <th>illinois</th>\n",
       "      <th>2014</th>\n",
       "      <td>15000.0</td>\n",
       "    </tr>\n",
       "    <tr>\n",
       "      <th rowspan=\"2\" valign=\"top\">michigan</th>\n",
       "      <th>2016</th>\n",
       "      <td>39000.0</td>\n",
       "    </tr>\n",
       "    <tr>\n",
       "      <th>2017</th>\n",
       "      <td>39000.0</td>\n",
       "    </tr>\n",
       "    <tr>\n",
       "      <th>new jersey</th>\n",
       "      <th>2014</th>\n",
       "      <td>13500.0</td>\n",
       "    </tr>\n",
       "    <tr>\n",
       "      <th>tennessee</th>\n",
       "      <th>2017</th>\n",
       "      <td>29400.0</td>\n",
       "    </tr>\n",
       "    <tr>\n",
       "      <th rowspan=\"2\" valign=\"top\">texas</th>\n",
       "      <th>2011</th>\n",
       "      <td>6200.0</td>\n",
       "    </tr>\n",
       "    <tr>\n",
       "      <th>2016</th>\n",
       "      <td>29700.0</td>\n",
       "    </tr>\n",
       "    <tr>\n",
       "      <th>utah</th>\n",
       "      <th>2000</th>\n",
       "      <td>0.0</td>\n",
       "    </tr>\n",
       "    <tr>\n",
       "      <th>wisconsin</th>\n",
       "      <th>2017</th>\n",
       "      <td>26600.0</td>\n",
       "    </tr>\n",
       "  </tbody>\n",
       "</table>\n",
       "</div>"
      ],
      "text/plain": [
       "                   price\n",
       "state      year         \n",
       "california 2017  39800.0\n",
       "           2020  61200.0\n",
       "florida    2013   2925.0\n",
       "georgia    2008   1825.0\n",
       "illinois   2014  15000.0\n",
       "michigan   2016  39000.0\n",
       "           2017  39000.0\n",
       "new jersey 2014  13500.0\n",
       "tennessee  2017  29400.0\n",
       "texas      2011   6200.0\n",
       "           2016  29700.0\n",
       "utah       2000      0.0\n",
       "wisconsin  2017  26600.0"
      ]
     },
     "execution_count": 186,
     "metadata": {},
     "output_type": "execute_result"
    }
   ],
   "source": [
    "# сгруппируем данные по штату и году выпуска, передав их в параметр index\n",
    "# и найдем медианну цену\n",
    "pd.pivot_table(bmw, index=[\"state\", \"year\"], values=\"price\", aggfunc=\"median\").round(2)"
   ]
  },
  {
   "cell_type": "code",
   "execution_count": 187,
   "metadata": {
    "colab": {
     "base_uri": "https://localhost:8080/",
     "height": 488
    },
    "id": "Oq2v_hdmAj2N",
    "outputId": "dc6540c7-34f7-4c35-8588-d1d8a4c11ed6"
   },
   "outputs": [
    {
     "data": {
      "text/html": [
       "<div>\n",
       "<style scoped>\n",
       "    .dataframe tbody tr th:only-of-type {\n",
       "        vertical-align: middle;\n",
       "    }\n",
       "\n",
       "    .dataframe tbody tr th {\n",
       "        vertical-align: top;\n",
       "    }\n",
       "\n",
       "    .dataframe thead th {\n",
       "        text-align: right;\n",
       "    }\n",
       "</style>\n",
       "<table border=\"1\" class=\"dataframe\">\n",
       "  <thead>\n",
       "    <tr style=\"text-align: right;\">\n",
       "      <th></th>\n",
       "      <th></th>\n",
       "      <th>price</th>\n",
       "    </tr>\n",
       "    <tr>\n",
       "      <th>state</th>\n",
       "      <th>year</th>\n",
       "      <th></th>\n",
       "    </tr>\n",
       "  </thead>\n",
       "  <tbody>\n",
       "    <tr>\n",
       "      <th rowspan=\"2\" valign=\"top\">california</th>\n",
       "      <th>2017</th>\n",
       "      <td>39800.0</td>\n",
       "    </tr>\n",
       "    <tr>\n",
       "      <th>2020</th>\n",
       "      <td>61200.0</td>\n",
       "    </tr>\n",
       "    <tr>\n",
       "      <th>florida</th>\n",
       "      <th>2013</th>\n",
       "      <td>2925.0</td>\n",
       "    </tr>\n",
       "    <tr>\n",
       "      <th>georgia</th>\n",
       "      <th>2008</th>\n",
       "      <td>1825.0</td>\n",
       "    </tr>\n",
       "    <tr>\n",
       "      <th>illinois</th>\n",
       "      <th>2014</th>\n",
       "      <td>15000.0</td>\n",
       "    </tr>\n",
       "    <tr>\n",
       "      <th rowspan=\"2\" valign=\"top\">michigan</th>\n",
       "      <th>2016</th>\n",
       "      <td>39000.0</td>\n",
       "    </tr>\n",
       "    <tr>\n",
       "      <th>2017</th>\n",
       "      <td>39000.0</td>\n",
       "    </tr>\n",
       "    <tr>\n",
       "      <th>new jersey</th>\n",
       "      <th>2014</th>\n",
       "      <td>13500.0</td>\n",
       "    </tr>\n",
       "    <tr>\n",
       "      <th>tennessee</th>\n",
       "      <th>2017</th>\n",
       "      <td>29400.0</td>\n",
       "    </tr>\n",
       "    <tr>\n",
       "      <th rowspan=\"2\" valign=\"top\">texas</th>\n",
       "      <th>2011</th>\n",
       "      <td>6200.0</td>\n",
       "    </tr>\n",
       "    <tr>\n",
       "      <th>2016</th>\n",
       "      <td>29700.0</td>\n",
       "    </tr>\n",
       "    <tr>\n",
       "      <th>utah</th>\n",
       "      <th>2000</th>\n",
       "      <td>0.0</td>\n",
       "    </tr>\n",
       "    <tr>\n",
       "      <th>wisconsin</th>\n",
       "      <th>2017</th>\n",
       "      <td>26600.0</td>\n",
       "    </tr>\n",
       "  </tbody>\n",
       "</table>\n",
       "</div>"
      ],
      "text/plain": [
       "                   price\n",
       "state      year         \n",
       "california 2017  39800.0\n",
       "           2020  61200.0\n",
       "florida    2013   2925.0\n",
       "georgia    2008   1825.0\n",
       "illinois   2014  15000.0\n",
       "michigan   2016  39000.0\n",
       "           2017  39000.0\n",
       "new jersey 2014  13500.0\n",
       "tennessee  2017  29400.0\n",
       "texas      2011   6200.0\n",
       "           2016  29700.0\n",
       "utah       2000      0.0\n",
       "wisconsin  2017  26600.0"
      ]
     },
     "execution_count": 187,
     "metadata": {},
     "output_type": "execute_result"
    }
   ],
   "source": [
    "# когда группировка выполняется только по строкам,\n",
    "# мы можем получить аналогичный результат с помощью метода .groupby()\n",
    "bmw.groupby(by=[\"state\", \"year\"])[[\"price\"]].agg(\"median\")"
   ]
  },
  {
   "cell_type": "code",
   "execution_count": 188,
   "metadata": {
    "colab": {
     "base_uri": "https://localhost:8080/",
     "height": 300
    },
    "id": "h9U9EGWuiO28",
    "outputId": "d02cbb37-e0f1-4553-da2a-1fb54d2a3028"
   },
   "outputs": [
    {
     "data": {
      "text/html": [
       "<div>\n",
       "<style scoped>\n",
       "    .dataframe tbody tr th:only-of-type {\n",
       "        vertical-align: middle;\n",
       "    }\n",
       "\n",
       "    .dataframe tbody tr th {\n",
       "        vertical-align: top;\n",
       "    }\n",
       "\n",
       "    .dataframe thead th {\n",
       "        text-align: right;\n",
       "    }\n",
       "</style>\n",
       "<table border=\"1\" class=\"dataframe\">\n",
       "  <thead>\n",
       "    <tr style=\"text-align: right;\">\n",
       "      <th></th>\n",
       "      <th></th>\n",
       "      <th>price</th>\n",
       "    </tr>\n",
       "    <tr>\n",
       "      <th>state</th>\n",
       "      <th>year</th>\n",
       "      <th></th>\n",
       "    </tr>\n",
       "  </thead>\n",
       "  <tbody>\n",
       "    <tr>\n",
       "      <th rowspan=\"2\" valign=\"top\">california</th>\n",
       "      <th>2017</th>\n",
       "      <td>39800.0</td>\n",
       "    </tr>\n",
       "    <tr>\n",
       "      <th>2020</th>\n",
       "      <td>61200.0</td>\n",
       "    </tr>\n",
       "    <tr>\n",
       "      <th rowspan=\"2\" valign=\"top\">michigan</th>\n",
       "      <th>2016</th>\n",
       "      <td>39000.0</td>\n",
       "    </tr>\n",
       "    <tr>\n",
       "      <th>2017</th>\n",
       "      <td>39000.0</td>\n",
       "    </tr>\n",
       "    <tr>\n",
       "      <th>tennessee</th>\n",
       "      <th>2017</th>\n",
       "      <td>29400.0</td>\n",
       "    </tr>\n",
       "    <tr>\n",
       "      <th>texas</th>\n",
       "      <th>2016</th>\n",
       "      <td>29700.0</td>\n",
       "    </tr>\n",
       "    <tr>\n",
       "      <th>wisconsin</th>\n",
       "      <th>2017</th>\n",
       "      <td>26600.0</td>\n",
       "    </tr>\n",
       "  </tbody>\n",
       "</table>\n",
       "</div>"
      ],
      "text/plain": [
       "                   price\n",
       "state      year         \n",
       "california 2017  39800.0\n",
       "           2020  61200.0\n",
       "michigan   2016  39000.0\n",
       "           2017  39000.0\n",
       "tennessee  2017  29400.0\n",
       "texas      2016  29700.0\n",
       "wisconsin  2017  26600.0"
      ]
     },
     "execution_count": 188,
     "metadata": {},
     "output_type": "execute_result"
    }
   ],
   "source": [
    "# метод .query() позволяет отфильтровать данные\n",
    "pd.pivot_table(bmw, index=[\"state\", \"year\"], values=\"price\", aggfunc=\"median\").round(\n",
    "    2\n",
    ").query(\"price > 20000\")"
   ]
  },
  {
   "cell_type": "code",
   "execution_count": null,
   "metadata": {
    "colab": {
     "base_uri": "https://localhost:8080/",
     "height": 488
    },
    "id": "ZC7cuQK1sKrO",
    "outputId": "aa7e3dad-e2fb-44a0-c0dd-0869aaaf41a1"
   },
   "outputs": [
    {
     "data": {
      "text/html": [
       "<style type=\"text/css\">\n",
       "#T_68d52_row0_col0 {\n",
       "  width: 10em;\n",
       "  background: linear-gradient(90deg, #d65f5f 65.0%, transparent 65.0%);\n",
       "}\n",
       "#T_68d52_row1_col0 {\n",
       "  width: 10em;\n",
       "  background: linear-gradient(90deg, #d65f5f 100.0%, transparent 100.0%);\n",
       "}\n",
       "#T_68d52_row2_col0 {\n",
       "  width: 10em;\n",
       "  background: linear-gradient(90deg, #d65f5f 4.8%, transparent 4.8%);\n",
       "}\n",
       "#T_68d52_row3_col0 {\n",
       "  width: 10em;\n",
       "  background: linear-gradient(90deg, #d65f5f 3.0%, transparent 3.0%);\n",
       "}\n",
       "#T_68d52_row4_col0 {\n",
       "  width: 10em;\n",
       "  background: linear-gradient(90deg, #d65f5f 24.5%, transparent 24.5%);\n",
       "}\n",
       "#T_68d52_row5_col0, #T_68d52_row6_col0 {\n",
       "  width: 10em;\n",
       "  background: linear-gradient(90deg, #d65f5f 63.7%, transparent 63.7%);\n",
       "}\n",
       "#T_68d52_row7_col0 {\n",
       "  width: 10em;\n",
       "  background: linear-gradient(90deg, #d65f5f 22.1%, transparent 22.1%);\n",
       "}\n",
       "#T_68d52_row8_col0 {\n",
       "  width: 10em;\n",
       "  background: linear-gradient(90deg, #d65f5f 48.0%, transparent 48.0%);\n",
       "}\n",
       "#T_68d52_row9_col0 {\n",
       "  width: 10em;\n",
       "  background: linear-gradient(90deg, #d65f5f 10.1%, transparent 10.1%);\n",
       "}\n",
       "#T_68d52_row10_col0 {\n",
       "  width: 10em;\n",
       "  background: linear-gradient(90deg, #d65f5f 48.5%, transparent 48.5%);\n",
       "}\n",
       "#T_68d52_row11_col0 {\n",
       "  width: 10em;\n",
       "}\n",
       "#T_68d52_row12_col0 {\n",
       "  width: 10em;\n",
       "  background: linear-gradient(90deg, #d65f5f 43.5%, transparent 43.5%);\n",
       "}\n",
       "</style>\n",
       "<table id=\"T_68d52\">\n",
       "  <thead>\n",
       "    <tr>\n",
       "      <th class=\"blank\" >&nbsp;</th>\n",
       "      <th class=\"blank level0\" >&nbsp;</th>\n",
       "      <th id=\"T_68d52_level0_col0\" class=\"col_heading level0 col0\" >price</th>\n",
       "    </tr>\n",
       "    <tr>\n",
       "      <th class=\"index_name level0\" >state</th>\n",
       "      <th class=\"index_name level1\" >year</th>\n",
       "      <th class=\"blank col0\" >&nbsp;</th>\n",
       "    </tr>\n",
       "  </thead>\n",
       "  <tbody>\n",
       "    <tr>\n",
       "      <th id=\"T_68d52_level0_row0\" class=\"row_heading level0 row0\" rowspan=\"2\">california</th>\n",
       "      <th id=\"T_68d52_level1_row0\" class=\"row_heading level1 row0\" >2017</th>\n",
       "      <td id=\"T_68d52_row0_col0\" class=\"data row0 col0\" >39800.000000</td>\n",
       "    </tr>\n",
       "    <tr>\n",
       "      <th id=\"T_68d52_level1_row1\" class=\"row_heading level1 row1\" >2020</th>\n",
       "      <td id=\"T_68d52_row1_col0\" class=\"data row1 col0\" >61200.000000</td>\n",
       "    </tr>\n",
       "    <tr>\n",
       "      <th id=\"T_68d52_level0_row2\" class=\"row_heading level0 row2\" >florida</th>\n",
       "      <th id=\"T_68d52_level1_row2\" class=\"row_heading level1 row2\" >2013</th>\n",
       "      <td id=\"T_68d52_row2_col0\" class=\"data row2 col0\" >2925.000000</td>\n",
       "    </tr>\n",
       "    <tr>\n",
       "      <th id=\"T_68d52_level0_row3\" class=\"row_heading level0 row3\" >georgia</th>\n",
       "      <th id=\"T_68d52_level1_row3\" class=\"row_heading level1 row3\" >2008</th>\n",
       "      <td id=\"T_68d52_row3_col0\" class=\"data row3 col0\" >1825.000000</td>\n",
       "    </tr>\n",
       "    <tr>\n",
       "      <th id=\"T_68d52_level0_row4\" class=\"row_heading level0 row4\" >illinois</th>\n",
       "      <th id=\"T_68d52_level1_row4\" class=\"row_heading level1 row4\" >2014</th>\n",
       "      <td id=\"T_68d52_row4_col0\" class=\"data row4 col0\" >15000.000000</td>\n",
       "    </tr>\n",
       "    <tr>\n",
       "      <th id=\"T_68d52_level0_row5\" class=\"row_heading level0 row5\" rowspan=\"2\">michigan</th>\n",
       "      <th id=\"T_68d52_level1_row5\" class=\"row_heading level1 row5\" >2016</th>\n",
       "      <td id=\"T_68d52_row5_col0\" class=\"data row5 col0\" >39000.000000</td>\n",
       "    </tr>\n",
       "    <tr>\n",
       "      <th id=\"T_68d52_level1_row6\" class=\"row_heading level1 row6\" >2017</th>\n",
       "      <td id=\"T_68d52_row6_col0\" class=\"data row6 col0\" >39000.000000</td>\n",
       "    </tr>\n",
       "    <tr>\n",
       "      <th id=\"T_68d52_level0_row7\" class=\"row_heading level0 row7\" >new jersey</th>\n",
       "      <th id=\"T_68d52_level1_row7\" class=\"row_heading level1 row7\" >2014</th>\n",
       "      <td id=\"T_68d52_row7_col0\" class=\"data row7 col0\" >13500.000000</td>\n",
       "    </tr>\n",
       "    <tr>\n",
       "      <th id=\"T_68d52_level0_row8\" class=\"row_heading level0 row8\" >tennessee</th>\n",
       "      <th id=\"T_68d52_level1_row8\" class=\"row_heading level1 row8\" >2017</th>\n",
       "      <td id=\"T_68d52_row8_col0\" class=\"data row8 col0\" >29400.000000</td>\n",
       "    </tr>\n",
       "    <tr>\n",
       "      <th id=\"T_68d52_level0_row9\" class=\"row_heading level0 row9\" rowspan=\"2\">texas</th>\n",
       "      <th id=\"T_68d52_level1_row9\" class=\"row_heading level1 row9\" >2011</th>\n",
       "      <td id=\"T_68d52_row9_col0\" class=\"data row9 col0\" >6200.000000</td>\n",
       "    </tr>\n",
       "    <tr>\n",
       "      <th id=\"T_68d52_level1_row10\" class=\"row_heading level1 row10\" >2016</th>\n",
       "      <td id=\"T_68d52_row10_col0\" class=\"data row10 col0\" >29700.000000</td>\n",
       "    </tr>\n",
       "    <tr>\n",
       "      <th id=\"T_68d52_level0_row11\" class=\"row_heading level0 row11\" >utah</th>\n",
       "      <th id=\"T_68d52_level1_row11\" class=\"row_heading level1 row11\" >2000</th>\n",
       "      <td id=\"T_68d52_row11_col0\" class=\"data row11 col0\" >0.000000</td>\n",
       "    </tr>\n",
       "    <tr>\n",
       "      <th id=\"T_68d52_level0_row12\" class=\"row_heading level0 row12\" >wisconsin</th>\n",
       "      <th id=\"T_68d52_level1_row12\" class=\"row_heading level1 row12\" >2017</th>\n",
       "      <td id=\"T_68d52_row12_col0\" class=\"data row12 col0\" >26600.000000</td>\n",
       "    </tr>\n",
       "  </tbody>\n",
       "</table>\n"
      ],
      "text/plain": [
       "<pandas.io.formats.style.Styler at 0x2a9629a67d0>"
      ]
     },
     "execution_count": 189,
     "metadata": {},
     "output_type": "execute_result"
    }
   ],
   "source": [
    "# применим метод .style.bar() и создадим встроенную горизонтальную столбчатую\n",
    "# диаграмму\n",
    "# цвет в параметр color можно, в частности, передавать в hex-формате\n",
    "pd.pivot_table(bmw, index=[\"state\", \"year\"], values=\"price\", aggfunc=\"median\").round(\n",
    "    2\n",
    ").style.bar(color=\"#d65f5f\")"
   ]
  },
  {
   "cell_type": "code",
   "execution_count": null,
   "metadata": {
    "id": "VIUb2KE2IoKj"
   },
   "outputs": [],
   "source": []
  }
 ],
 "metadata": {
  "colab": {
   "provenance": [],
   "toc_visible": true
  },
  "kernelspec": {
   "display_name": "Python 3",
   "language": "python",
   "name": "python3"
  },
  "language_info": {
   "codemirror_mode": {
    "name": "ipython",
    "version": 3
   },
   "file_extension": ".py",
   "mimetype": "text/x-python",
   "name": "python",
   "nbconvert_exporter": "python",
   "pygments_lexer": "ipython3",
   "version": "3.10.11"
  }
 },
 "nbformat": 4,
 "nbformat_minor": 0
}
