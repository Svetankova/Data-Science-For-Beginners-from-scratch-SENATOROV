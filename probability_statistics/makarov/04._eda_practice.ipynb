{
 "cells": [
  {
   "cell_type": "code",
   "execution_count": null,
   "metadata": {},
   "outputs": [],
   "source": [
    "\"\"\"4. EDA. Практика EDA.\"\"\""
   ]
  },
  {
   "cell_type": "markdown",
   "metadata": {
    "id": "wYXA1M10b_FC"
   },
   "source": [
    "# Практика EDA"
   ]
  },
  {
   "cell_type": "code",
   "execution_count": null,
   "metadata": {
    "id": "0eR0F2SnAwJZ"
   },
   "outputs": [],
   "source": [
    "# импортируем библиотеки\n",
    "import numpy as np\n",
    "import pandas as pd\n",
    "import matplotlib.pyplot as plt\n",
    "import seaborn as sns\n",
    "import plotly.express as px\n",
    "import plotly.io as pio\n",
    "\n",
    "pio.renderers.default = \"notebook\"\n",
    "# fmt: off\n",
    "# isort: skip_file        \n",
    "# pyupgrade: disable      \n",
    "# pylint: skip-file       \n",
    "# flake8: noqa           \n",
    "# mypy: ignore-errors     \n",
    "# codespell:disable"
   ]
  },
  {
   "cell_type": "markdown",
   "metadata": {
    "id": "PVN4xc9wadPL"
   },
   "source": [
    "## Подготовка данных"
   ]
  },
  {
   "cell_type": "markdown",
   "metadata": {
    "id": "-wYavbb6agz9"
   },
   "source": [
    "### Датасет \"Титаник\""
   ]
  },
  {
   "cell_type": "code",
   "execution_count": null,
   "metadata": {
    "colab": {
     "base_uri": "https://localhost:8080/",
     "height": 230
    },
    "id": "8oMckzEFSPQa",
    "outputId": "db20977c-7f65-4abf-b6eb-0de52bf115a4"
   },
   "outputs": [],
   "source": [
    "# для импорта используем функцию read_csv()\n",
    "titanic = pd.read_csv('../content/train.csv')\n",
    "\n",
    "# посмотрим на первые три записи\n",
    "# последние записи можно посмотреть с помощью метода .tail()\n",
    "titanic.head(3)"
   ]
  },
  {
   "cell_type": "code",
   "execution_count": null,
   "metadata": {
    "colab": {
     "base_uri": "https://localhost:8080/",
     "height": 310
    },
    "id": "qdgczJabDF0Q",
    "outputId": "0a5af8cf-616a-4735-886e-dd8e076ccb8b"
   },
   "outputs": [],
   "source": [
    "# иногда для получения более объективного представления о данных удобно использовать .sample()\n",
    "# в данном случае мы получаем пять случайных наблюдений\n",
    "titanic.sample(5)"
   ]
  },
  {
   "cell_type": "code",
   "execution_count": null,
   "metadata": {
    "colab": {
     "base_uri": "https://localhost:8080/"
    },
    "id": "OpngVpUW9nT4",
    "outputId": "a71566c1-7b8b-4f1a-89a2-dac683ff2dbe"
   },
   "outputs": [],
   "source": [
    "# посмотрим на количество непустых значений, тип данных,\n",
    "# статистику по типам данных и объем занимаемой памяти\n",
    "titanic.info()"
   ]
  },
  {
   "cell_type": "code",
   "execution_count": null,
   "metadata": {
    "colab": {
     "base_uri": "https://localhost:8080/",
     "height": 460
    },
    "id": "OCzeY-AqDSk6",
    "outputId": "8067a54c-4cf8-4878-d0d8-9bad2baf10c4"
   },
   "outputs": [],
   "source": [
    "# найдем пропуски в датафрейме и просуммируем их по столбцам\n",
    "titanic.isnull().sum()"
   ]
  },
  {
   "cell_type": "code",
   "execution_count": null,
   "metadata": {
    "colab": {
     "base_uri": "https://localhost:8080/"
    },
    "id": "aHqBPFPuyxP4",
    "outputId": "ad2da98b-d920-44d3-c7b7-2e4b646383b1"
   },
   "outputs": [],
   "source": [
    "# выполним простую обработку данных\n",
    "# в частности, избавимся от столбца Cabin\n",
    "titanic.drop(labels = 'Cabin', axis = 1, inplace = True)\n",
    "# заполним пропуски в столбце Age медианным значением\n",
    "titanic['Age'] = titanic.Age.fillna(titanic.Age.median())\n",
    "# два пропущенных значения в столбце Embarked заполним портом Southhampton\n",
    "titanic['Embarked'] = titanic.Embarked.fillna('S')\n",
    "# проверим результат (найдем общее количество пропусков сначала по столбцам, затем по строкам)\n",
    "titanic.isnull().sum().sum()"
   ]
  },
  {
   "cell_type": "markdown",
   "metadata": {
    "id": "XDUPWTpoaqWv"
   },
   "source": [
    "### Датасет Tips"
   ]
  },
  {
   "cell_type": "code",
   "execution_count": null,
   "metadata": {
    "colab": {
     "base_uri": "https://localhost:8080/",
     "height": 143
    },
    "id": "bRij9HGfagSM",
    "outputId": "42f17900-3e57-4b12-ec94-4bc7a35e3b72"
   },
   "outputs": [],
   "source": [
    "# для импорта воспользуемся функцией load_dataset() с параметром 'tips'\n",
    "tips = sns.load_dataset('tips')\n",
    "tips.head(3)"
   ]
  },
  {
   "cell_type": "code",
   "execution_count": null,
   "metadata": {
    "colab": {
     "base_uri": "https://localhost:8080/"
    },
    "id": "riKXJREda_A5",
    "outputId": "9443ea4f-acbd-4a32-e50c-93e0cf3c31f6"
   },
   "outputs": [],
   "source": [
    "tips.info()"
   ]
  },
  {
   "cell_type": "code",
   "execution_count": null,
   "metadata": {
    "colab": {
     "base_uri": "https://localhost:8080/",
     "height": 303
    },
    "id": "NOvKCz9bbHyt",
    "outputId": "e5bb8bd0-a29c-40ab-f045-033ef858e52e"
   },
   "outputs": [],
   "source": [
    "tips.isnull().sum()"
   ]
  },
  {
   "cell_type": "markdown",
   "metadata": {
    "id": "btjWPL4YdzDt"
   },
   "source": [
    "## Описание"
   ]
  },
  {
   "cell_type": "markdown",
   "metadata": {
    "id": "-ndE8mgUDgnN"
   },
   "source": [
    "### Категориальные данные"
   ]
  },
  {
   "cell_type": "markdown",
   "metadata": {
    "id": "fYCfmQmcH26V"
   },
   "source": [
    "#### Методы `.unique()` и `.value_counts()`"
   ]
  },
  {
   "cell_type": "markdown",
   "metadata": {
    "id": "NnzP8gCQg3wf"
   },
   "source": [
    "Методы ниже похожи на `np.unique(return_counts = True)`"
   ]
  },
  {
   "cell_type": "code",
   "execution_count": null,
   "metadata": {
    "colab": {
     "base_uri": "https://localhost:8080/"
    },
    "id": "_Oj6zuH0VVDm",
    "outputId": "64d3fa40-e759-424b-c726-dadb3b0aed05"
   },
   "outputs": [],
   "source": [
    "# применим метод библиотеки Numpy\n",
    "np.unique(titanic.Survived, return_counts = True)"
   ]
  },
  {
   "cell_type": "code",
   "execution_count": null,
   "metadata": {
    "colab": {
     "base_uri": "https://localhost:8080/"
    },
    "id": "H0erEvSacy86",
    "outputId": "1e4f4adc-ce10-4aef-d1c3-10d66d55eae3"
   },
   "outputs": [],
   "source": [
    "# теперь воспользуемся методами библиотеки Pandas\n",
    "# первый метод возращает только уникальные значения\n",
    "titanic.Survived.unique()"
   ]
  },
  {
   "cell_type": "code",
   "execution_count": null,
   "metadata": {
    "colab": {
     "base_uri": "https://localhost:8080/",
     "height": 178
    },
    "id": "XnoHExJxdeT8",
    "outputId": "99715422-e9d8-49db-b7ca-3731f044ff19"
   },
   "outputs": [],
   "source": [
    "# второй - уникальные значения и их частоту\n",
    "titanic.Survived.value_counts()"
   ]
  },
  {
   "cell_type": "code",
   "execution_count": null,
   "metadata": {
    "colab": {
     "base_uri": "https://localhost:8080/",
     "height": 178
    },
    "id": "2cvxEer1gxf6",
    "outputId": "b79a0c95-7448-4bb6-bf22-5d6c335c8692"
   },
   "outputs": [],
   "source": [
    "# для получения относительной частоты, делить на общее количество строк не нужно,\n",
    "# достаточно указать параметр normalize = True\n",
    "titanic.Survived.value_counts(normalize = True)"
   ]
  },
  {
   "cell_type": "code",
   "execution_count": null,
   "metadata": {
    "colab": {
     "base_uri": "https://localhost:8080/"
    },
    "id": "RBvqREJeZyXP",
    "outputId": "0233351c-bc91-4aa2-dc88-26dc875e3a47"
   },
   "outputs": [],
   "source": [
    "# короткое решение: различие можно увидеть и с помощью mean()\n",
    "titanic.Survived.mean().round(2)"
   ]
  },
  {
   "cell_type": "markdown",
   "metadata": {
    "id": "t0f77qbR9xZJ"
   },
   "source": [
    "#### `df.describe()`"
   ]
  },
  {
   "cell_type": "code",
   "execution_count": null,
   "metadata": {
    "colab": {
     "base_uri": "https://localhost:8080/",
     "height": 174
    },
    "id": "HXaOp0Dc9win",
    "outputId": "b117d009-8672-4114-def5-87a894adde68"
   },
   "outputs": [],
   "source": [
    "# подробное описание результатов вывода этого метода для категориальных данных\n",
    "# вы найдете на странице занятия\n",
    "titanic[['Sex', 'Embarked']].describe()"
   ]
  },
  {
   "cell_type": "markdown",
   "metadata": {
    "id": "woj17wYFWkw9"
   },
   "source": [
    "#### countplot и barplot"
   ]
  },
  {
   "cell_type": "markdown",
   "metadata": {
    "id": "taCK5nUr0V2-"
   },
   "source": [
    "Seaborn"
   ]
  },
  {
   "cell_type": "code",
   "execution_count": null,
   "metadata": {
    "colab": {
     "base_uri": "https://localhost:8080/",
     "height": 449
    },
    "id": "jHWEbZVvWYDe",
    "outputId": "5491646e-98ba-4928-a5c1-686bd8c23b5f"
   },
   "outputs": [],
   "source": [
    "# функция countplot() сама посчитает количество наблюдений в каждой из категорий\n",
    "sns.countplot(x = 'Survived', data = titanic);"
   ]
  },
  {
   "cell_type": "code",
   "execution_count": null,
   "metadata": {
    "colab": {
     "base_uri": "https://localhost:8080/",
     "height": 449
    },
    "id": "1btW-CaZviq2",
    "outputId": "38038495-ac84-4759-caff-8698426ff58d"
   },
   "outputs": [],
   "source": [
    "# для функции barplot() количество наблюдений можно посчитать\n",
    "# с помощью метода .value_counts()\n",
    "sns.barplot(x = titanic.Survived, y = titanic.Survived.value_counts());"
   ]
  },
  {
   "cell_type": "code",
   "execution_count": null,
   "metadata": {
    "colab": {
     "base_uri": "https://localhost:8080/",
     "height": 449
    },
    "id": "HkxHb0fgaBTh",
    "outputId": "4d106880-4aff-4fda-c1f5-8d71f1280ca0"
   },
   "outputs": [],
   "source": [
    "# относительное количество наблюдений удобно посчитать с параметром normalize = True\n",
    "sns.barplot(x = titanic.Survived,\n",
    "            y = titanic.Survived.value_counts(normalize = True));"
   ]
  },
  {
   "cell_type": "markdown",
   "metadata": {
    "id": "8ioxj7c10Smx"
   },
   "source": [
    "Matplotlib"
   ]
  },
  {
   "cell_type": "code",
   "execution_count": null,
   "metadata": {
    "colab": {
     "base_uri": "https://localhost:8080/",
     "height": 449
    },
    "id": "BSQ4mSwspJkO",
    "outputId": "64a53d8a-cd85-48b7-dbbc-4b1fb4a14b31"
   },
   "outputs": [],
   "source": [
    "# первым параметром (по оси x) передадим уникальные значения,\n",
    "# вторым параметром - количество наблюдений\n",
    "plt.bar(titanic.Survived.unique(),\n",
    "        titanic.Survived.value_counts(),\n",
    "        # кроме того, явно пропишем значения оси x\n",
    "        # (в противном случае будет указана просто числовая шкала)\n",
    "        tick_label = ['0', '1'])\n",
    "\n",
    "plt.xlabel('Survived')\n",
    "plt.ylabel('Count');"
   ]
  },
  {
   "cell_type": "code",
   "execution_count": null,
   "metadata": {
    "colab": {
     "base_uri": "https://localhost:8080/",
     "height": 449
    },
    "id": "KIx6M9r_mcw5",
    "outputId": "c48bc40a-a5fa-4c29-8e1b-c525e52df110"
   },
   "outputs": [],
   "source": [
    "# горизонтальная столбчатая диаграмма строится почти так же\n",
    "plt.barh(titanic.Survived.unique(),\n",
    "         titanic.Survived.value_counts(),\n",
    "         tick_label = ['0', '1'])\n",
    "\n",
    "plt.xlabel('Count')\n",
    "plt.ylabel('Survived');"
   ]
  },
  {
   "cell_type": "code",
   "execution_count": null,
   "metadata": {
    "colab": {
     "base_uri": "https://localhost:8080/",
     "height": 449
    },
    "id": "1grckSPVZoZU",
    "outputId": "68bbd962-6409-4c25-d7b2-06744963956e"
   },
   "outputs": [],
   "source": [
    "# найдем относительную частоту категорий с помощью параметра normalize = True\n",
    "plt.bar(titanic.Survived.unique(),\n",
    "        titanic.Survived.value_counts(normalize = True),\n",
    "        tick_label = ['0', '1'])\n",
    "\n",
    "plt.xlabel('Survived')\n",
    "plt.ylabel('Proportion');"
   ]
  },
  {
   "cell_type": "markdown",
   "metadata": {
    "id": "9FzLFL4n09d3"
   },
   "source": [
    "Pandas"
   ]
  },
  {
   "cell_type": "code",
   "execution_count": null,
   "metadata": {
    "colab": {
     "base_uri": "https://localhost:8080/",
     "height": 449
    },
    "id": "dSbMWuTm1lue",
    "outputId": "9ff6731f-0abd-43cb-b384-81da97ea4d99"
   },
   "outputs": [],
   "source": [
    "# перед применением метода .plot.bar() данные необходимо сгруппировать\n",
    "# параметр rot = 0 ставит деления шкалы по оси x вертикально\n",
    "titanic.groupby('Survived')['PassengerId'].count().plot.bar(rot = 0)\n",
    "plt.ylabel('count');"
   ]
  },
  {
   "cell_type": "code",
   "execution_count": null,
   "metadata": {
    "colab": {
     "base_uri": "https://localhost:8080/",
     "height": 449
    },
    "id": "wn7on-FSnM4n",
    "outputId": "c664094b-b86e-4756-d597-122fa6f49fd8"
   },
   "outputs": [],
   "source": [
    "# можно также сначала выбрать один столбец\n",
    "# и затем воспользоваться методом .value_counts()\n",
    "titanic.Survived.value_counts().plot.bar(rot = 0)\n",
    "plt.xlabel('Survived')\n",
    "plt.ylabel('count');"
   ]
  },
  {
   "cell_type": "markdown",
   "metadata": {
    "id": "aNcCgclGePES"
   },
   "source": [
    "### Количественные данные"
   ]
  },
  {
   "cell_type": "markdown",
   "metadata": {
    "id": "GGCqr-a1-fN5"
   },
   "source": [
    "#### `df.describe()`"
   ]
  },
  {
   "cell_type": "code",
   "execution_count": null,
   "metadata": {
    "colab": {
     "base_uri": "https://localhost:8080/",
     "height": 300
    },
    "id": "W72OcKn8XApA",
    "outputId": "d3ff61a3-2ec0-457c-a0e7-df4f10cc0fa1"
   },
   "outputs": [],
   "source": [
    "# применим метод .describe() к количественным признакам\n",
    "tips[['total_bill', 'tip']].describe().round(2)"
   ]
  },
  {
   "cell_type": "code",
   "execution_count": null,
   "metadata": {
    "colab": {
     "base_uri": "https://localhost:8080/",
     "height": 331
    },
    "id": "Gzwg4S-i-8Nr",
    "outputId": "130bef87-6121-4ce9-d010-233f2f265ef3"
   },
   "outputs": [],
   "source": [
    "# выведем второй и четвертый дециль, а также 99-й процентиль\n",
    "tips[['total_bill', 'tip']].describe(percentiles = [0.2, 0.4, 0.99]).round(2)"
   ]
  },
  {
   "cell_type": "markdown",
   "metadata": {
    "id": "O7HgD2RODyuZ"
   },
   "source": [
    "#### Гистограмма"
   ]
  },
  {
   "cell_type": "code",
   "execution_count": null,
   "metadata": {
    "colab": {
     "base_uri": "https://localhost:8080/",
     "height": 430
    },
    "id": "zLLCIkUJ_5x5",
    "outputId": "b8fc06b7-688c-462e-d607-07f9a47b33b8"
   },
   "outputs": [],
   "source": [
    "# гистограмма распределения размера чека с помощью библиотеки Matplotlib\n",
    "plt.hist(tips.total_bill, bins = 10);"
   ]
  },
  {
   "cell_type": "code",
   "execution_count": null,
   "metadata": {
    "colab": {
     "base_uri": "https://localhost:8080/",
     "height": 430
    },
    "id": "RIMyVG0eDJDX",
    "outputId": "5226c16f-3807-41d0-ac1a-bcc836f05e0c"
   },
   "outputs": [],
   "source": [
    "# такую же гистограмму можно построить с помощью Pandas\n",
    "tips.total_bill.plot.hist(bins = 10);"
   ]
  },
  {
   "cell_type": "code",
   "execution_count": null,
   "metadata": {
    "colab": {
     "base_uri": "https://localhost:8080/",
     "height": 450
    },
    "id": "ifA9LXE4DZLP",
    "outputId": "18795f85-c8b8-4f12-fc6c-349fe2d99369"
   },
   "outputs": [],
   "source": [
    "# в библиотеке Seaborn мы указываем источник данных,\n",
    "# что будет на оси x и количество интервалов\n",
    "# параметр kde = True добавляет кривую плотности распределения\n",
    "sns.histplot(data = tips, x = 'total_bill', bins = 10, kde = True);"
   ]
  },
  {
   "cell_type": "code",
   "execution_count": null,
   "metadata": {
    "colab": {
     "base_uri": "https://localhost:8080/",
     "height": 506
    },
    "id": "3PgGH7ShIDU_",
    "outputId": "64d8c734-1634-43f5-a26d-528ace5ef0e4"
   },
   "outputs": [],
   "source": [
    "# функция displot() - еще один способ построить гистограмму в Seaborn\n",
    "# для этого используется параметр по умолчанию kind = 'hist'\n",
    "sns.displot(data = tips, x = 'total_bill', kind = 'hist', bins = 10);"
   ]
  },
  {
   "cell_type": "code",
   "execution_count": null,
   "metadata": {
    "colab": {
     "base_uri": "https://localhost:8080/",
     "height": 542
    },
    "id": "8euNCvUCEP1j",
    "outputId": "19ac5fce-0518-46cf-814f-5e696d688614"
   },
   "outputs": [],
   "source": [
    "# Plotly, как уже было сказано, позволяет построить интерактивную гистограмму\n",
    "# параметр text_auto = True выводит количество наблюдений в каждом интервале\n",
    "px.histogram(tips, x = 'total_bill', nbins = 10, text_auto = True)"
   ]
  },
  {
   "cell_type": "markdown",
   "metadata": {
    "id": "mZS9gbSzIg-G"
   },
   "source": [
    "#### График плотности"
   ]
  },
  {
   "cell_type": "code",
   "execution_count": null,
   "metadata": {
    "colab": {
     "base_uri": "https://localhost:8080/",
     "height": 506
    },
    "id": "7-JNjN66IkCS",
    "outputId": "dd3e2d59-e0df-41c5-e38f-1af623515d1c"
   },
   "outputs": [],
   "source": [
    "# используем функцию displot(), которой передадим датафрейм tips,\n",
    "# какой признак вывести по оси x, тип графика kind = 'kde',\n",
    "# а также заполним график цветом через fill = True\n",
    "sns.displot(tips, x = 'total_bill', kind = 'kde', fill = True);"
   ]
  },
  {
   "cell_type": "markdown",
   "metadata": {
    "id": "7nn-4fewFzl3"
   },
   "source": [
    "#### boxplot"
   ]
  },
  {
   "cell_type": "markdown",
   "metadata": {
    "id": "nsWagY1MLP72"
   },
   "source": [
    "Seaborn"
   ]
  },
  {
   "cell_type": "code",
   "execution_count": null,
   "metadata": {
    "colab": {
     "base_uri": "https://localhost:8080/",
     "height": 450
    },
    "id": "zReUjIBXGnVZ",
    "outputId": "0a29797b-01da-4606-d456-eb30ea3e792b"
   },
   "outputs": [],
   "source": [
    "# функции boxplot() достаточно передать параметр x\n",
    "# с данными необходимого столбца\n",
    "sns.boxplot(x = tips.total_bill);"
   ]
  },
  {
   "cell_type": "markdown",
   "metadata": {
    "id": "ddZ-EcP5LaEo"
   },
   "source": [
    "Plotly"
   ]
  },
  {
   "cell_type": "code",
   "execution_count": null,
   "metadata": {
    "colab": {
     "base_uri": "https://localhost:8080/",
     "height": 542
    },
    "id": "m_7_WPjDG-MN",
    "outputId": "d1881e9e-dd73-4a1c-f4d7-13ef53b89aee"
   },
   "outputs": [],
   "source": [
    "# если передать нужный нам столбец в параметр x,\n",
    "# то мы получим горизонтальный boxplot\n",
    "px.box(tips, x = 'total_bill')"
   ]
  },
  {
   "cell_type": "code",
   "execution_count": null,
   "metadata": {
    "colab": {
     "base_uri": "https://localhost:8080/",
     "height": 542
    },
    "id": "vYHopO_LLmxi",
    "outputId": "88d2011c-1efa-410a-9f00-b6d031fc5b88"
   },
   "outputs": [],
   "source": [
    "# если в y, то вертикальный\n",
    "px.box(tips, y = 'total_bill')"
   ]
  },
  {
   "cell_type": "markdown",
   "metadata": {
    "id": "cuDrpFKKLl9Z"
   },
   "source": [
    "Matplotlib и Pandas"
   ]
  },
  {
   "cell_type": "code",
   "execution_count": null,
   "metadata": {
    "id": "3KhLYQ2vF8Gq"
   },
   "outputs": [],
   "source": [
    "# plt.boxplot(tips.total_bill);"
   ]
  },
  {
   "cell_type": "code",
   "execution_count": null,
   "metadata": {
    "id": "TBOCpj-RGY3q"
   },
   "outputs": [],
   "source": [
    "# tips.total_bill.plot.box();"
   ]
  },
  {
   "cell_type": "markdown",
   "metadata": {
    "id": "NIdXeQq3G5Fq"
   },
   "source": [
    "#### Гистограмма и boxplot"
   ]
  },
  {
   "cell_type": "markdown",
   "metadata": {
    "id": "MzeQGr07k08a"
   },
   "source": [
    "Matplotlib и Seaborn"
   ]
  },
  {
   "cell_type": "code",
   "execution_count": null,
   "metadata": {
    "colab": {
     "base_uri": "https://localhost:8080/",
     "height": 450
    },
    "id": "U57-OchFHnap",
    "outputId": "65ce4cda-742b-4158-a6a4-929d82a052f1"
   },
   "outputs": [],
   "source": [
    "# создадим два подграфика ax_box и ax_hist\n",
    "# кроме того, укажем, что нам нужны:\n",
    "fig, (ax_box, ax_hist) = plt.subplots(2, # две строки в сетке подграфиков,\n",
    "                                    sharex = True, # единая шкала по оси x и\n",
    "                                    gridspec_kw = {'height_ratios': (.15, .85)}) # пропорция 15/85 по высоте\n",
    "\n",
    "# затем создадим графики, указав через параметр ax в какой подграфик поместить каждый из них\n",
    "sns.boxplot(x = tips['total_bill'], ax = ax_box)\n",
    "sns.histplot(x = tips['total_bill'], ax = ax_hist, bins = 10, kde = True)\n",
    "\n",
    "# добавим подписи к каждому из графиков через метод .set()\n",
    "ax_box.set(xlabel = '') # пустые кавычки удаляют подпись (!)\n",
    "ax_hist.set(xlabel = 'total_bill')\n",
    "ax_hist.set(ylabel = 'count')\n",
    "\n",
    "# выведем результат\n",
    "plt.show()"
   ]
  },
  {
   "cell_type": "markdown",
   "metadata": {
    "id": "nWY3tvD_k48X"
   },
   "source": [
    "Plotly"
   ]
  },
  {
   "cell_type": "code",
   "execution_count": null,
   "metadata": {
    "colab": {
     "base_uri": "https://localhost:8080/",
     "height": 542
    },
    "id": "RL30FdIHLgeA",
    "outputId": "59cdbad6-054d-4586-c6c1-46d231c2560c"
   },
   "outputs": [],
   "source": [
    "# воспользуемся функцией histogram(),\n",
    "px.histogram(tips, # передав ей датафрейм,\n",
    "             x = 'total_bill', # конкретный столбец для построения данных,\n",
    "             nbins = 10, # количество интервалов в гистограмме\n",
    "             marginal = 'box') # и тип дополнительного графика"
   ]
  },
  {
   "cell_type": "markdown",
   "metadata": {
    "id": "8JDx7wmfESxk"
   },
   "source": [
    "## Нахождение отличий"
   ]
  },
  {
   "cell_type": "markdown",
   "metadata": {
    "id": "fUIe1gtnEaI-"
   },
   "source": [
    "### Два категориальных признака"
   ]
  },
  {
   "cell_type": "markdown",
   "metadata": {
    "id": "CVgCU-eBEjE7"
   },
   "source": [
    "#### countplot и barplot"
   ]
  },
  {
   "cell_type": "markdown",
   "metadata": {
    "id": "t7kUquYsit6H"
   },
   "source": [
    "Seaborn"
   ]
  },
  {
   "cell_type": "code",
   "execution_count": null,
   "metadata": {
    "colab": {
     "base_uri": "https://localhost:8080/",
     "height": 449
    },
    "id": "L4-BuYqgXtfR",
    "outputId": "6f5cd3fa-ffa4-4303-bed6-8b9fc3e95336"
   },
   "outputs": [],
   "source": [
    "# создадим grouped countplot, где по оси x будет класс, а по оси y - количество пассажиров\n",
    "# в каждом классе данные разделены на погибших (0) и выживших (1)\n",
    "sns.countplot(x = 'Pclass', hue = 'Survived', data = titanic);"
   ]
  },
  {
   "cell_type": "code",
   "execution_count": null,
   "metadata": {
    "colab": {
     "base_uri": "https://localhost:8080/",
     "height": 449
    },
    "id": "7XLWq8GKmN0i",
    "outputId": "c7f4a984-3f29-4cd7-b62e-693472adbfac"
   },
   "outputs": [],
   "source": [
    "# горизонтальный countplot получится,\n",
    "# если передать данные о классе пассажира в переменную y\n",
    "sns.countplot(y = 'Pclass', hue = 'Survived', data = titanic);"
   ]
  },
  {
   "cell_type": "code",
   "execution_count": null,
   "metadata": {
    "colab": {
     "base_uri": "https://localhost:8080/",
     "height": 507
    },
    "id": "5IJ44AR2hUPn",
    "outputId": "9a657d5c-d135-4ee9-c0a1-ca7ad77a4c49"
   },
   "outputs": [],
   "source": [
    "# передадим функции catplot() параметр kind = 'count' для создания графика countplot\n",
    "sns.catplot(x = 'Pclass', hue = 'Survived', data = titanic, kind = 'count');"
   ]
  },
  {
   "cell_type": "code",
   "execution_count": null,
   "metadata": {
    "colab": {
     "base_uri": "https://localhost:8080/",
     "height": 431
    },
    "id": "f_Wt6vlP8DvM",
    "outputId": "53f0af3a-8545-4fa3-ac2f-19f5fe1ae736"
   },
   "outputs": [],
   "source": [
    "# добавим еще один признак (пол) через параметр col\n",
    "sns.catplot(x = 'Pclass', hue = 'Survived',\n",
    "            col = 'Sex', kind = 'count', data = titanic);"
   ]
  },
  {
   "cell_type": "markdown",
   "metadata": {
    "id": "10izNNWy16kc"
   },
   "source": [
    "Plotly"
   ]
  },
  {
   "cell_type": "code",
   "execution_count": null,
   "metadata": {
    "colab": {
     "base_uri": "https://localhost:8080/",
     "height": 542
    },
    "id": "5uuG1I4Q1NdV",
    "outputId": "5d6a8efd-8c22-4187-aa72-c2149a22d5b0"
   },
   "outputs": [],
   "source": [
    "px.histogram(titanic, # возьмем данные\n",
    "             x = 'Pclass', # диаграмму будем строить по столбцу Pclass\n",
    "             color = 'Survived', # с разбивкой на выживших и погибших\n",
    "             barmode = 'group', # разделенные столбцы располагаются рядом друг с другом\n",
    "             text_auto = True, # выведем количество наблюдений в каждом столбце\n",
    "             title = 'Survival by class' # также добавим заголовок\n",
    "             )"
   ]
  },
  {
   "cell_type": "code",
   "execution_count": null,
   "metadata": {
    "colab": {
     "base_uri": "https://localhost:8080/",
     "height": 542
    },
    "id": "rp4btodN4ORS",
    "outputId": "a48b3ce8-f2dd-42d0-a846-828e444406b9"
   },
   "outputs": [],
   "source": [
    "# создадим объект fig, в который поместим столбчатую диаграмму\n",
    "fig = px.histogram(titanic,\n",
    "                   x = 'Pclass',\n",
    "                   color = 'Survived',\n",
    "                   barmode = 'stack', # каждый столбец класса будет разделен по признаку Survived\n",
    "                   text_auto = True)\n",
    "\n",
    "# применим метод .update_layout() к объекту fig\n",
    "fig.update_layout(\n",
    "    title_text = 'Survival by class', # заголовок\n",
    "    xaxis_title_text = 'Pclass', # подпись к оси x\n",
    "    yaxis_title_text = 'Count', # подпись к оси y\n",
    "    bargap = 0.2, # расстояние между столбцами\n",
    "\n",
    "    # подписи классов пассажиров на оси x\n",
    "    xaxis = dict(\n",
    "        tickmode = 'array',\n",
    "        tickvals = [1, 2, 3],\n",
    "        ticktext = ['Class 1', 'Class 2', 'Class 3']\n",
    "    )\n",
    ")"
   ]
  },
  {
   "cell_type": "code",
   "execution_count": null,
   "metadata": {
    "colab": {
     "base_uri": "https://localhost:8080/",
     "height": 542
    },
    "id": "gs7KNGc22ofi",
    "outputId": "29e70030-bacd-4915-fab6-dca9a25fc810"
   },
   "outputs": [],
   "source": [
    "# используем новый параметр facet_col = 'Sex'\n",
    "px.histogram(titanic,\n",
    "             x = 'Pclass',\n",
    "             color = 'Survived',\n",
    "             facet_col = 'Sex',\n",
    "             barmode = 'group',\n",
    "             text_auto = True,\n",
    "             title = 'Survival by class and gender')"
   ]
  },
  {
   "cell_type": "code",
   "execution_count": null,
   "metadata": {
    "colab": {
     "base_uri": "https://localhost:8080/",
     "height": 542
    },
    "id": "lJuu0-C63OOH",
    "outputId": "576c0111-bf9b-4a25-b577-da5cf325e743"
   },
   "outputs": [],
   "source": [
    "# используем одновременно параметры facet_col и facet_row\n",
    "px.histogram(titanic,\n",
    "             x = 'Pclass',\n",
    "             color = 'Survived',\n",
    "             facet_col = 'Embarked',\n",
    "             facet_row = 'Sex',\n",
    "             barmode = 'group',\n",
    "             text_auto = True,\n",
    "             title = 'Survival by class, gender and port of embarkation')"
   ]
  },
  {
   "cell_type": "markdown",
   "metadata": {
    "id": "JyrSM1Gi4w5n"
   },
   "source": [
    "#### Таблица сопряженности"
   ]
  },
  {
   "cell_type": "markdown",
   "metadata": {
    "id": "CX9nSX6h51Jy"
   },
   "source": [
    "Абсолютное количество наблюдений"
   ]
  },
  {
   "cell_type": "code",
   "execution_count": null,
   "metadata": {
    "colab": {
     "base_uri": "https://localhost:8080/",
     "height": 143
    },
    "id": "XkCQz0tD5d4W",
    "outputId": "9420ac01-0031-4481-8b1d-59c711e9aa91"
   },
   "outputs": [],
   "source": [
    "# создадим таблицу сопряженности\n",
    "# в параметр index мы передадим данные по классу, в columns - по выживаемости\n",
    "pclass_abs = pd.crosstab(index = titanic.Pclass, columns = titanic.Survived)\n",
    "\n",
    "# создадим названия категорий класса и выживаемости\n",
    "pclass_abs.index = ['Class 1', 'Class 2', 'Class 3']\n",
    "pclass_abs.columns = ['Not survived', 'Survived']\n",
    "\n",
    "# выведем результат\n",
    "pclass_abs"
   ]
  },
  {
   "cell_type": "code",
   "execution_count": null,
   "metadata": {
    "colab": {
     "base_uri": "https://localhost:8080/",
     "height": 430
    },
    "id": "Mv5c-SMU67p5",
    "outputId": "1e3a4b21-3d53-40e0-e161-dd93e91017e3"
   },
   "outputs": [],
   "source": [
    "# построим grouped barplot в библиотеке Pandas\n",
    "# rot = 0 делает подписи оси х вертикальными\n",
    "pclass_abs.plot.bar(rot = 0);"
   ]
  },
  {
   "cell_type": "code",
   "execution_count": null,
   "metadata": {
    "colab": {
     "base_uri": "https://localhost:8080/",
     "height": 430
    },
    "id": "q30AzboP7rcd",
    "outputId": "bf1cadb3-a921-4c92-bc7d-2fef8950ed51"
   },
   "outputs": [],
   "source": [
    "# параметр stacked = True делит каждый столбец класса на выживших и погибших\n",
    "pclass_abs.plot.bar(rot = 0, stacked = True);"
   ]
  },
  {
   "cell_type": "code",
   "execution_count": null,
   "metadata": {
    "colab": {
     "base_uri": "https://localhost:8080/",
     "height": 430
    },
    "id": "eGtk_jku6DQw",
    "outputId": "c2fb134e-4c55-4140-b1a6-0afba49dc8f4"
   },
   "outputs": [],
   "source": [
    "# в Matplotlib вначале создадим barplot для одной (нижней) категории\n",
    "plt.bar(pclass_abs.index, pclass_abs['Not survived'])\n",
    "# затем еще один barplot для второй (верхней), указав нижнуюю в параметре bottom\n",
    "plt.bar(pclass_abs.index, pclass_abs['Survived'], bottom = pclass_abs['Not survived']);"
   ]
  },
  {
   "cell_type": "markdown",
   "metadata": {
    "id": "Z4P8bn1A9ITM"
   },
   "source": [
    "Таблица сопряженности вместе с суммой"
   ]
  },
  {
   "cell_type": "code",
   "execution_count": null,
   "metadata": {
    "colab": {
     "base_uri": "https://localhost:8080/",
     "height": 174
    },
    "id": "K7WSvZjm9Ddd",
    "outputId": "704ddacf-0fa5-4641-e57e-d0f445fd03cb"
   },
   "outputs": [],
   "source": [
    "# для подсчета суммы по строкам и столбцам используется параметр margins = True\n",
    "pclass_abs = pd.crosstab(index = titanic.Pclass,\n",
    "                         columns = titanic.Survived,\n",
    "                         margins = True)\n",
    "\n",
    "# новой строке и новому столбцу с суммами необходимо дать название (например, Total)\n",
    "pclass_abs.index = ['Class 1', 'Class 2', 'Class 3', 'Total']\n",
    "pclass_abs.columns = ['Not survived', 'Survived', 'Total']\n",
    "pclass_abs"
   ]
  },
  {
   "cell_type": "markdown",
   "metadata": {
    "id": "1qWlPSSj56rR"
   },
   "source": [
    "Относительное количество наблюдений"
   ]
  },
  {
   "cell_type": "code",
   "execution_count": null,
   "metadata": {
    "colab": {
     "base_uri": "https://localhost:8080/",
     "height": 143
    },
    "id": "qsCCvKIE5uZX",
    "outputId": "45e1fabe-6f60-4104-82be-38c379ea3eab"
   },
   "outputs": [],
   "source": [
    "# так как нам важно понимать долю выживших и долю погибших, укажем normalize = 'index'\n",
    "# в этом случае каждое значение будет разделено на общее количество наблюдений в строке (!)\n",
    "pclass_rel = pd.crosstab(index = titanic.Pclass,\n",
    "                         columns = titanic.Survived,\n",
    "                         normalize = 'index')\n",
    "\n",
    "pclass_rel.index = ['Class 1', 'Class 2', 'Class 3']\n",
    "pclass_rel.columns = ['Not survived', 'Survived']\n",
    "pclass_rel"
   ]
  },
  {
   "cell_type": "code",
   "execution_count": null,
   "metadata": {
    "colab": {
     "base_uri": "https://localhost:8080/",
     "height": 125
    },
    "id": "OplY2XpBVXYB",
    "outputId": "9c5a5135-a814-40c0-dac4-d286c41184de"
   },
   "outputs": [],
   "source": [
    "# если бы в индексе (в строках) была выживаемость, а в столбцах - классы,\n",
    "# то логично было бы использовать параметр normalize = 'columns' для деления на сумму по столбцам\n",
    "pclass_rel_T = pd.crosstab(index = titanic.Survived,\n",
    "                           columns = titanic.Pclass,\n",
    "                           normalize = 'columns')\n",
    "\n",
    "pclass_rel_T.index = ['Not survived', 'Survived']\n",
    "pclass_rel_T.columns = ['Class 1', 'Class 2', 'Class 3']\n",
    "pclass_rel_T"
   ]
  },
  {
   "cell_type": "code",
   "execution_count": null,
   "metadata": {
    "colab": {
     "base_uri": "https://localhost:8080/",
     "height": 430
    },
    "id": "aJRfL9BoxgTa",
    "outputId": "0948420b-d5be-46d5-b6fb-453cf05552ec"
   },
   "outputs": [],
   "source": [
    "# теперь на stacked barplot мы видим доли выживших в каждом из классов\n",
    "pclass_rel.plot.bar(rot = 0, stacked = True).legend(loc = 'lower left');"
   ]
  },
  {
   "cell_type": "markdown",
   "metadata": {
    "id": "Kh8N26BIIn9u"
   },
   "source": [
    "### Количественный и категориальный признаки"
   ]
  },
  {
   "cell_type": "markdown",
   "metadata": {
    "id": "DCozxz-RZOtg"
   },
   "source": [
    "#### rcParams"
   ]
  },
  {
   "cell_type": "code",
   "execution_count": null,
   "metadata": {
    "colab": {
     "base_uri": "https://localhost:8080/"
    },
    "id": "EhrUHCZdY_MJ",
    "outputId": "129fba62-6875-4191-d083-4735cb4bde67"
   },
   "outputs": [],
   "source": [
    "# импортируем всю библиотеку Matplotlib\n",
    "import matplotlib\n",
    "\n",
    "# и посмотрим, какой размер графиков (ключ figure.figsize) установлен по умолчанию\n",
    "matplotlib.rcParams['figure.figsize']"
   ]
  },
  {
   "cell_type": "code",
   "execution_count": null,
   "metadata": {
    "colab": {
     "base_uri": "https://localhost:8080/"
    },
    "id": "xJUalM5GYy1f",
    "outputId": "9ad1af17-fa9a-4813-b39d-1cef0ba76093"
   },
   "outputs": [],
   "source": [
    "# обновим этот параметр через прямое внесение изменений в значение словаря\n",
    "matplotlib.rcParams['figure.figsize'] = (7, 5)\n",
    "matplotlib.rcParams['figure.figsize']"
   ]
  },
  {
   "cell_type": "code",
   "execution_count": null,
   "metadata": {
    "colab": {
     "base_uri": "https://localhost:8080/"
    },
    "id": "YbkYKOukXNN2",
    "outputId": "4d583136-5772-43fe-c9c9-8fc5326c0130"
   },
   "outputs": [],
   "source": [
    "# изменим размер обновив словарь в параметре rc функции sns.set()\n",
    "sns.set(rc = {'figure.figsize' : (8, 5)})\n",
    "\n",
    "# посмотрим на результат\n",
    "matplotlib.rcParams['figure.figsize']"
   ]
  },
  {
   "cell_type": "code",
   "execution_count": null,
   "metadata": {
    "id": "sfAljiVMwmr5"
   },
   "outputs": [],
   "source": [
    "# весь словарь с параметрами доступен по атрибуту rcParams\n",
    "# matplotlib.rcParams"
   ]
  },
  {
   "cell_type": "markdown",
   "metadata": {
    "id": "xaXe6WKXItW2"
   },
   "source": [
    "#### Гистограммы"
   ]
  },
  {
   "cell_type": "code",
   "execution_count": null,
   "metadata": {
    "colab": {
     "base_uri": "https://localhost:8080/",
     "height": 450
    },
    "id": "UZM2NZVcIyXH",
    "outputId": "26a9e355-ce02-4047-813e-a545c0b129c5"
   },
   "outputs": [],
   "source": [
    "# выведем две гистограммы на одном графике в библиотеке Matplotlib\n",
    "# отфильтруем данные по погибшим и выжившим и построим гистограммы по столбцу Age\n",
    "plt.hist(x = titanic[titanic['Survived'] == 0]['Age'])\n",
    "plt.hist(x = titanic[titanic['Survived'] == 1]['Age']);"
   ]
  },
  {
   "cell_type": "code",
   "execution_count": null,
   "metadata": {
    "colab": {
     "base_uri": "https://localhost:8080/",
     "height": 475
    },
    "id": "Ugt51FISYVKp",
    "outputId": "8ac50316-eac7-4692-d873-95164bd87965"
   },
   "outputs": [],
   "source": [
    "# сделаем то же самое в библиотеке Seaborn\n",
    "# в x мы поместим количественный признак, в hue - категориальный\n",
    "sns.histplot(x = 'Age', hue = 'Sex', data = titanic, bins = 10);"
   ]
  },
  {
   "cell_type": "code",
   "execution_count": null,
   "metadata": {
    "colab": {
     "base_uri": "https://localhost:8080/",
     "height": 542
    },
    "id": "0yYLBVEqYuFc",
    "outputId": "719e3269-1871-4621-8d62-f73a4a9787dc"
   },
   "outputs": [],
   "source": [
    "# в Plotly количественный признак помещается в x, категориальный - в color\n",
    "px.histogram(titanic, x = 'Age', color = 'Sex', nbins = 8, text_auto = True)"
   ]
  },
  {
   "cell_type": "markdown",
   "metadata": {
    "id": "ddw3rvLOY6ud"
   },
   "source": [
    "разное количество элементов в выборках"
   ]
  },
  {
   "cell_type": "code",
   "execution_count": null,
   "metadata": {
    "colab": {
     "base_uri": "https://localhost:8080/",
     "height": 178
    },
    "id": "6EwzjTVRW8eq",
    "outputId": "5e6b657d-107f-4998-a156-26850a989e43"
   },
   "outputs": [],
   "source": [
    "# сравним количество мужчин и женщин на борту\n",
    "titanic.Sex.value_counts()"
   ]
  },
  {
   "cell_type": "code",
   "execution_count": null,
   "metadata": {
    "colab": {
     "base_uri": "https://localhost:8080/",
     "height": 450
    },
    "id": "sO0HGXgrXjEq",
    "outputId": "bb74ef7e-55b2-4300-bf3e-79a3be3cfeef"
   },
   "outputs": [],
   "source": [
    "# создадим две гистограммы с параметров density = True\n",
    "# параметр alpha отвечает за прозрачность каждой из гистограмм\n",
    "plt.hist(x = titanic[titanic['Sex'] == 'male']['Age'], density = True, alpha = 0.5)\n",
    "plt.hist(x = titanic[titanic['Sex'] == 'female']['Age'], density = True, alpha = 0.5);"
   ]
  },
  {
   "cell_type": "markdown",
   "metadata": {
    "id": "jPA7QBiaIdxf"
   },
   "source": [
    "#### Графики плотности"
   ]
  },
  {
   "cell_type": "code",
   "execution_count": null,
   "metadata": {
    "colab": {
     "base_uri": "https://localhost:8080/",
     "height": 501
    },
    "id": "ljoChEqdIgg0",
    "outputId": "bdf712dc-f8be-4058-bfa3-3201befaa25c"
   },
   "outputs": [],
   "source": [
    "# построим графики плотности распределений суммы чека в обеденное и вечернее время\n",
    "sns.displot(tips, x = 'total_bill', hue = 'time', kind = 'kde');"
   ]
  },
  {
   "cell_type": "code",
   "execution_count": null,
   "metadata": {
    "colab": {
     "base_uri": "https://localhost:8080/",
     "height": 501
    },
    "id": "m2KEqluq0Koa",
    "outputId": "c3c491fb-a9ad-4940-9cc7-b895278bb034"
   },
   "outputs": [],
   "source": [
    "# зададим границы диапазона от 0 до 70 долларов через clip = (0, 70)\n",
    "# дополнительно заполним цветом пространство под кривой с помощью fill = True\n",
    "sns.displot(tips, x = 'total_bill', hue = 'time',\n",
    "            kind = 'kde', clip = (0, 70), fill = True);"
   ]
  },
  {
   "cell_type": "markdown",
   "metadata": {
    "id": "jLKLVdd2IyxZ"
   },
   "source": [
    "#### boxplots"
   ]
  },
  {
   "cell_type": "code",
   "execution_count": null,
   "metadata": {
    "colab": {
     "base_uri": "https://localhost:8080/",
     "height": 473
    },
    "id": "1RlEVJl2aRTI",
    "outputId": "508685eb-128e-4f0c-cb87-282a25a37889"
   },
   "outputs": [],
   "source": [
    "# посмотрим, как различается сумма чека по дням недели\n",
    "sns.boxplot(x = 'day', y = 'total_bill', data = tips);"
   ]
  },
  {
   "cell_type": "code",
   "execution_count": null,
   "metadata": {
    "colab": {
     "base_uri": "https://localhost:8080/",
     "height": 542
    },
    "id": "YA-N728pGtKE",
    "outputId": "ad01f5f1-41cd-4b53-eda0-d040ab7b3d63"
   },
   "outputs": [],
   "source": [
    "# а также в зависимости от того, обед это или ужин\n",
    "px.box(tips, x = 'time', y = 'total_bill', points = 'all')"
   ]
  },
  {
   "cell_type": "markdown",
   "metadata": {
    "id": "ThBpjpJuHqWf"
   },
   "source": [
    "#### Гистограммы и boxplots"
   ]
  },
  {
   "cell_type": "code",
   "execution_count": null,
   "metadata": {
    "colab": {
     "base_uri": "https://localhost:8080/",
     "height": 542
    },
    "id": "Dwg0wSriHp2l",
    "outputId": "a24be6e0-64be-4caa-f900-22b23226d6e4"
   },
   "outputs": [],
   "source": [
    "%%capture --no-display\n",
    "\n",
    "px.histogram(tips,\n",
    "             x = 'total_bill', # количественный признак\n",
    "             color = 'sex', # категориальный признак\n",
    "             marginal = 'box') # дополнительный график: boxplot"
   ]
  },
  {
   "cell_type": "markdown",
   "metadata": {
    "id": "_GBSM1c-Mmnl"
   },
   "source": [
    "#### stripplot, violinplot"
   ]
  },
  {
   "cell_type": "code",
   "execution_count": null,
   "metadata": {
    "colab": {
     "base_uri": "https://localhost:8080/",
     "height": 473
    },
    "id": "LlhtelOJMwdv",
    "outputId": "955d2d27-66de-46d2-ece6-28d411ae37b9"
   },
   "outputs": [],
   "source": [
    "# по сути, stripplot - это точечная диаграмма (scatterplot),\n",
    "# в которой одна из переменных категориальная\n",
    "sns.stripplot(x = 'day', y = 'total_bill', data = tips);"
   ]
  },
  {
   "cell_type": "code",
   "execution_count": null,
   "metadata": {
    "colab": {
     "base_uri": "https://localhost:8080/",
     "height": 424
    },
    "id": "WkdbtsL9NmvW",
    "outputId": "05203f9e-c49e-47a3-eb28-e8c4be227971"
   },
   "outputs": [],
   "source": [
    "# с помощью sns.catplot() мы можем вывести\n",
    "# распределение количественной переменной (total_bill)\n",
    "# в разрезе трех качественных: статуса курильщика, пола и времени приема пищи\n",
    "sns.catplot(x = 'sex', y = 'total_bill', hue = 'smoker',\n",
    "            col = 'time', data = tips, kind = 'strip');"
   ]
  },
  {
   "cell_type": "code",
   "execution_count": null,
   "metadata": {
    "colab": {
     "base_uri": "https://localhost:8080/",
     "height": 473
    },
    "id": "krP1r-D4NSqR",
    "outputId": "59279fbb-74e0-49a0-db74-fd04499b3dfe"
   },
   "outputs": [],
   "source": [
    "# построим violinplot для визуализации распределения суммы чека по дням недели\n",
    "sns.violinplot(x = 'day', y = 'total_bill', data = tips);"
   ]
  },
  {
   "cell_type": "markdown",
   "metadata": {
    "id": "Q9reHpnT74Fp"
   },
   "source": [
    "### Преобразование данных"
   ]
  },
  {
   "cell_type": "markdown",
   "metadata": {
    "id": "vJSj-sUZDVPW"
   },
   "source": [
    "#### Логарифмическая шкала"
   ]
  },
  {
   "cell_type": "code",
   "execution_count": null,
   "metadata": {
    "id": "bOsrcZo9B_ou"
   },
   "outputs": [],
   "source": [
    "# соберем данные о продажах\n",
    "products = ['Phone', 'TV', 'Laptop', 'Desktop', 'Tablet']\n",
    "sales = [800, 4, 550, 500, 3]"
   ]
  },
  {
   "cell_type": "code",
   "execution_count": null,
   "metadata": {
    "colab": {
     "base_uri": "https://localhost:8080/",
     "height": 472
    },
    "id": "6ZjG_NFfCrze",
    "outputId": "82f782b4-0cf0-479d-ba88-df50d90163ff"
   },
   "outputs": [],
   "source": [
    "# отразим продажи с помощью столбчатой диаграммы\n",
    "sns.barplot(x = products, y = sales)\n",
    "plt.title('Продажи в январе 2020 года');"
   ]
  },
  {
   "cell_type": "code",
   "execution_count": null,
   "metadata": {
    "colab": {
     "base_uri": "https://localhost:8080/",
     "height": 472
    },
    "id": "0Lqf_uBBurZk",
    "outputId": "9b14fad4-5231-4e0d-a8df-a23d6dec5816"
   },
   "outputs": [],
   "source": [
    "# теперь выведем эти же данные, но по логарифмической шкале\n",
    "sns.barplot(x = products, y = sales)\n",
    "plt.title('Продажи в январе 2020 года (log)')\n",
    "plt.yscale('log');"
   ]
  },
  {
   "cell_type": "markdown",
   "metadata": {
    "id": "ooJxGsX3I4KT"
   },
   "source": [
    "#### Границы по оси y"
   ]
  },
  {
   "cell_type": "code",
   "execution_count": null,
   "metadata": {
    "colab": {
     "base_uri": "https://localhost:8080/",
     "height": 472
    },
    "id": "U-f32OY2FAod",
    "outputId": "899e3166-0cc6-45f2-fb0a-0c4886e44918"
   },
   "outputs": [],
   "source": [
    "# код для получения этих значений вы найдете в блокноте\n",
    "# с анализом текучести кадров\n",
    "eval_left = [0.715473, 0.718113]\n",
    "\n",
    "# построим столбчатую диаграмму,\n",
    "# для оси x - выведем строковые категории,\n",
    "# для y - доли покинувших компанию сотрудников\n",
    "sns.barplot(x = ['0', '1'], y = eval_left)\n",
    "plt.title('Last evaluation vs. left');"
   ]
  },
  {
   "cell_type": "code",
   "execution_count": null,
   "metadata": {
    "colab": {
     "base_uri": "https://localhost:8080/",
     "height": 472
    },
    "id": "eIdHWd9XFWrE",
    "outputId": "3934983b-5589-43c2-94cc-ee503f8d1583"
   },
   "outputs": [],
   "source": [
    "sns.barplot(x = ['0', '1'], y = eval_left)\n",
    "plt.title('Last evaluation vs. left')\n",
    "\n",
    "# для ограничения значений по оси y можно использовать функцию plt.ylim()\n",
    "plt.ylim(0.7, 0.73);"
   ]
  },
  {
   "cell_type": "markdown",
   "metadata": {
    "id": "me1EGx8qIVeZ"
   },
   "source": [
    "## Выявление взаимосвязи"
   ]
  },
  {
   "cell_type": "markdown",
   "metadata": {
    "id": "8sb9r0PtPCgL"
   },
   "source": [
    "### Линейный график"
   ]
  },
  {
   "cell_type": "code",
   "execution_count": null,
   "metadata": {
    "colab": {
     "base_uri": "https://localhost:8080/",
     "height": 472
    },
    "id": "PCLhqhpy5QPF",
    "outputId": "5899ab64-c801-4bb3-f6de-d09d2210d9b0"
   },
   "outputs": [],
   "source": [
    "# создадим последовательность от -2пи до 2пи\n",
    "# с интервалом 0,1\n",
    "x = np.arange(-2*np.pi, 2*np.pi, 0.1)\n",
    "\n",
    "# сделаем эту последовательность значениями по оси x,\n",
    "# а по оси y выведем функцию косинуса\n",
    "plt.plot(x, np.cos(x))\n",
    "plt.title('cos(x)');"
   ]
  },
  {
   "cell_type": "markdown",
   "metadata": {
    "id": "fms4T2zyN21L"
   },
   "source": [
    "### Точечная диаграмма"
   ]
  },
  {
   "cell_type": "code",
   "execution_count": null,
   "metadata": {
    "colab": {
     "base_uri": "https://localhost:8080/",
     "height": 496
    },
    "id": "IecGYSFbN2LM",
    "outputId": "d434c02e-c71b-450d-8cf2-f44e023777f1"
   },
   "outputs": [],
   "source": [
    "# построим точечную диаграмму в библиотеке Matplotlib\n",
    "plt.scatter(tips.total_bill, tips.tip)\n",
    "plt.xlabel('total_bill')\n",
    "plt.ylabel('tip')\n",
    "plt.title('total_bill vs. tip');"
   ]
  },
  {
   "cell_type": "code",
   "execution_count": null,
   "metadata": {
    "colab": {
     "base_uri": "https://localhost:8080/",
     "height": 496
    },
    "id": "v9ccVl7dp0Cd",
    "outputId": "9d09f69e-2724-4b84-a58f-2306aefc7eb1"
   },
   "outputs": [],
   "source": [
    "# перед созданием этого графика в Pandas принудительно удалим\n",
    "# предупреждения и сообщения об ошибках\n",
    "# (в Colab появляется предупреждение, связанное с параметром c (color))\n",
    "from matplotlib.axes._axes import _log as matplotlib_axes_logger\n",
    "matplotlib_axes_logger.setLevel('ERROR')\n",
    "\n",
    "# воспользуемся методом .plot.scatter()\n",
    "tips.plot.scatter('total_bill','tip')\n",
    "plt.title('total_bill vs. tip');"
   ]
  },
  {
   "cell_type": "code",
   "execution_count": null,
   "metadata": {
    "colab": {
     "base_uri": "https://localhost:8080/",
     "height": 496
    },
    "id": "3nvmEoUdn3No",
    "outputId": "0336acb1-4633-406e-df9b-9c6dd1571c47"
   },
   "outputs": [],
   "source": [
    "# категориальный признак добавляется через параметр hue\n",
    "sns.scatterplot(data = tips, x = 'total_bill', y = 'tip', hue = 'time')\n",
    "plt.title('total_bill vs. tip by time');"
   ]
  },
  {
   "cell_type": "markdown",
   "metadata": {
    "id": "D6NeSPXqaUKp"
   },
   "source": [
    "### pairplot"
   ]
  },
  {
   "cell_type": "code",
   "execution_count": null,
   "metadata": {
    "colab": {
     "base_uri": "https://localhost:8080/",
     "height": 473
    },
    "id": "eApxkNZOqJfQ",
    "outputId": "da8d39aa-7aee-46ea-f420-7d242383b6ea"
   },
   "outputs": [],
   "source": [
    "# построим pairplot в библиотеке Pandas\n",
    "# в качестве данных возьмем столбцы total_bill и tip датасета tips\n",
    "pd.plotting.scatter_matrix(tips[['total_bill', 'tip']]);"
   ]
  },
  {
   "cell_type": "code",
   "execution_count": null,
   "metadata": {
    "colab": {
     "base_uri": "https://localhost:8080/",
     "height": 804
    },
    "id": "hYtWc1W44BON",
    "outputId": "6eff3107-976b-4f17-ad2a-f9a234e4a1d3"
   },
   "outputs": [],
   "source": [
    "# построим pairplot в библиотеке Seaborn\n",
    "# параметр height функции pairplot() задает высоту каждого графика в дюймах\n",
    "sns.pairplot(titanic[['Age', 'Fare']].sample(frac = 0.2, random_state = 42), height = 4);"
   ]
  },
  {
   "cell_type": "code",
   "execution_count": null,
   "metadata": {
    "colab": {
     "base_uri": "https://localhost:8080/",
     "height": 423
    },
    "id": "ROuQ7SLaYPcv",
    "outputId": "ec845992-ca0e-4ce2-fb70-e40013b87bb8"
   },
   "outputs": [],
   "source": [
    "# метод .sample() с параметром frac = 0.2 позволяет взять случайные 20% наблюдений\n",
    "# параметр random_state обеспечивает воспроизводимость результата\n",
    "titanic[['Age', 'Fare']].sample(frac = 0.2, random_state = 42)"
   ]
  },
  {
   "cell_type": "code",
   "execution_count": null,
   "metadata": {
    "colab": {
     "base_uri": "https://localhost:8080/",
     "height": 804
    },
    "id": "ZIBLuNAHbHtw",
    "outputId": "bc719983-3969-46d4-ab8f-59f4a4a39d24"
   },
   "outputs": [],
   "source": [
    "# при добавлении параметра hue (категориальной переменной) гистограмма\n",
    "# по умолчанию превращается в график плотности\n",
    "# обратите внимание, столбец Survived мы добавили\n",
    "# и в параметр hue, и в датафрейм с данными\n",
    "sns.pairplot(titanic[['Age', 'Fare', 'Survived']].sample(frac = 0.2, random_state = 42),\n",
    "             hue = 'Survived',\n",
    "             height = 4);"
   ]
  },
  {
   "cell_type": "code",
   "execution_count": null,
   "metadata": {
    "colab": {
     "base_uri": "https://localhost:8080/",
     "height": 823
    },
    "id": "Yg4AP01Kf3hF",
    "outputId": "d92a1237-6342-4841-d097-932078c13a38"
   },
   "outputs": [],
   "source": [
    "# создадим объект класса PairGrid, в качестве данных передадим ему\n",
    "# как количественные, так и категориальные переменные\n",
    "g = sns.PairGrid(tips[['total_bill', 'tip', 'time', 'smoker']],\n",
    "                 # передадим в hue категориальный признак, который мы будем различать цветом\n",
    "                 hue = 'time',\n",
    "                 # зададим размер каждого графика\n",
    "                 height = 5)\n",
    "\n",
    "# метод .map_diag() с параметром sns.histplot выдаст гистограммы на диагонали\n",
    "g.map_diag(sns.histplot)\n",
    "\n",
    "# в левом нижнем углу мы выведем точечные диаграммы и зададим\n",
    "# дополнительный категориальный признак smoker с помощью размера точек графика\n",
    "g.map_lower(sns.scatterplot, size = tips['smoker'])\n",
    "\n",
    "# в правом верхнем углу будет график плотности сразу двух количественных признаков\n",
    "g.map_upper(sns.kdeplot)\n",
    "\n",
    "# добавим легенду, adjust_subtitles = True делает текст легенды более аккуратным\n",
    "g.add_legend(title = '', adjust_subtitles = True);"
   ]
  },
  {
   "cell_type": "markdown",
   "metadata": {
    "id": "Q1TBOvTOl21G"
   },
   "source": [
    "### jointplot"
   ]
  },
  {
   "cell_type": "code",
   "execution_count": null,
   "metadata": {
    "colab": {
     "base_uri": "https://localhost:8080/",
     "height": 801
    },
    "id": "_AeExqqLoJnY",
    "outputId": "0f5332bb-7f79-4c47-9225-b1ac392dfd62"
   },
   "outputs": [],
   "source": [
    "# построим график плотности совместного распределения\n",
    "sns.jointplot(data = tips, # передадим данные\n",
    "              x = 'total_bill', # пропишем количественные признаки,\n",
    "              y = 'tip',\n",
    "              hue = 'time', # категориальный признак,\n",
    "              kind = 'kde', # тип графика\n",
    "              height = 8); # и его размер"
   ]
  },
  {
   "cell_type": "code",
   "execution_count": null,
   "metadata": {
    "colab": {
     "base_uri": "https://localhost:8080/",
     "height": 801
    },
    "id": "hKlLDnZVqEPJ",
    "outputId": "14d4e358-046c-4437-a69d-652b7cfbfd6d"
   },
   "outputs": [],
   "source": [
    "sns.jointplot(data = tips,\n",
    "              x = 'total_bill',\n",
    "              y = 'tip',\n",
    "              hue = 'time',\n",
    "              # построим точечную диаграмму\n",
    "              kind = 'scatter',\n",
    "              # дополнительно укажем размер точек\n",
    "              s = 100,\n",
    "              # и их прозрачность\n",
    "              alpha = 0.7,\n",
    "              height = 8);"
   ]
  },
  {
   "cell_type": "code",
   "execution_count": null,
   "metadata": {
    "colab": {
     "base_uri": "https://localhost:8080/",
     "height": 801
    },
    "id": "bVaIfTDRp8gh",
    "outputId": "30e11c1c-2c67-4820-a159-70c5d6313630"
   },
   "outputs": [],
   "source": [
    "# для построения линии регрессии на данных\n",
    "# используем параметр kind = 'reg'\n",
    "sns.jointplot(data = tips,\n",
    "              x = 'total_bill',\n",
    "              y = 'tip',\n",
    "              kind = 'reg',\n",
    "              height = 8);"
   ]
  },
  {
   "cell_type": "markdown",
   "metadata": {
    "id": "d_lTh5EWrqtF"
   },
   "source": [
    "### heatmap"
   ]
  },
  {
   "cell_type": "code",
   "execution_count": null,
   "metadata": {
    "colab": {
     "base_uri": "https://localhost:8080/",
     "height": 112
    },
    "id": "KvMkc0jAtbn4",
    "outputId": "1c7d85d6-ebb9-4f62-db70-9bf87b8a236f"
   },
   "outputs": [],
   "source": [
    "# выведем корреляционную матрицу между total_bill и tip\n",
    "tips[['total_bill', 'tip']].corr()"
   ]
  },
  {
   "cell_type": "code",
   "execution_count": null,
   "metadata": {
    "colab": {
     "base_uri": "https://localhost:8080/",
     "height": 457
    },
    "id": "Sh9m9y4GrtHV",
    "outputId": "28ba17ac-62e8-4e19-a2bc-bfc9b13f2d40"
   },
   "outputs": [],
   "source": [
    "# поместим корреляционную матрицу в функцию sns.heatmap()\n",
    "sns.heatmap(tips[['total_bill', 'tip']].corr(),\n",
    "            # дополнительно пропишем цветовую гамму\n",
    "            cmap= 'coolwarm',\n",
    "            # и зададим диапазон от -1 до 1\n",
    "            vmin = -1, vmax = 1);"
   ]
  },
  {
   "cell_type": "markdown",
   "metadata": {
    "id": "r-pbi1qDxMjw"
   },
   "source": [
    "## Sweetviz"
   ]
  },
  {
   "cell_type": "code",
   "execution_count": null,
   "metadata": {
    "colab": {
     "base_uri": "https://localhost:8080/"
    },
    "id": "Ak2M_PatvZCi",
    "outputId": "9bdf395c-014d-494d-b34c-e415ac05ddd1"
   },
   "outputs": [],
   "source": [
    "!pip install sweetviz"
   ]
  },
  {
   "cell_type": "code",
   "execution_count": null,
   "metadata": {
    "id": "LAN0er9cvmSM"
   },
   "outputs": [],
   "source": [
    "import sweetviz as sv"
   ]
  },
  {
   "cell_type": "code",
   "execution_count": null,
   "metadata": {
    "id": "hJf3ij4twbAo"
   },
   "outputs": [],
   "source": [
    "# импортируем обучающую и тестовую выборки\n",
    "train = pd.read_csv('../content/train.csv')\n",
    "test = pd.read_csv('../content/test.csv')"
   ]
  },
  {
   "cell_type": "code",
   "execution_count": null,
   "metadata": {
    "colab": {
     "base_uri": "https://localhost:8080/",
     "height": 49,
     "referenced_widgets": [
      "6e74db1201264aca935ddeb3389f2445",
      "b8f1ff3a4acd4fd8a21e0b4552625573",
      "e02ead66938b49aea4baf15a8edc38f0",
      "2266f49f9ca54ff39e3faf4cf4584785",
      "ab0412427ac84ea69deddf9d75058e30",
      "a6d16cd21735416fb02ceb72e2082340",
      "308cc19a4086463889b3731fe63e6f66",
      "8ddb4f6396cb4c4393cbd13cd601e160",
      "972259f9fd6b4048b8204f3ff0984b78",
      "b42fcd433881484d8329aa19faddbce5",
      "065ce79bd4734d25bea055f64052cafc"
     ]
    },
    "id": "MDJIq0kowqlK",
    "outputId": "b5907c34-a496-413e-d716-b457fbcbcd2b"
   },
   "outputs": [],
   "source": [
    "# передадим оба датасета в функцию sv.comparison()\n",
    "comparison = sv.compare(train, test)"
   ]
  },
  {
   "cell_type": "code",
   "execution_count": null,
   "metadata": {
    "colab": {
     "base_uri": "https://localhost:8080/"
    },
    "id": "AcF3Uhm-lJHa",
    "outputId": "87b102b2-a29f-412b-c15d-5b1669c5fca2"
   },
   "outputs": [],
   "source": [
    "# посмотрим на тип созданного объекта\n",
    "type(comparison)"
   ]
  },
  {
   "cell_type": "code",
   "execution_count": null,
   "metadata": {
    "colab": {
     "base_uri": "https://localhost:8080/",
     "height": 771
    },
    "id": "eItTx7k0wk1Y",
    "outputId": "b02d80e3-2d42-40c6-b8bf-e06b6160e923"
   },
   "outputs": [],
   "source": [
    "# применим метод .show_notebook()\n",
    "comparison.show_notebook()"
   ]
  },
  {
   "cell_type": "markdown",
   "metadata": {
    "id": "GPE8fy2Z7jcv"
   },
   "source": [
    "## График в Matplotlib"
   ]
  },
  {
   "cell_type": "markdown",
   "metadata": {
    "id": "ijB7CA88GYdV"
   },
   "source": [
    "### Стиль графика"
   ]
  },
  {
   "cell_type": "code",
   "execution_count": null,
   "metadata": {
    "id": "HU1Yr89KGC56"
   },
   "outputs": [],
   "source": [
    "# создадим последовательность для оси x\n",
    "x = np.linspace(0, 10, 100)"
   ]
  },
  {
   "cell_type": "code",
   "execution_count": null,
   "metadata": {
    "id": "3znH9SsTXDLb"
   },
   "outputs": [],
   "source": [
    "# снова зададим размеры графиков и одновременно установим стиль Seaborn\n",
    "sns.set(rc = {'figure.figsize' : (8, 5)})"
   ]
  },
  {
   "cell_type": "markdown",
   "metadata": {
    "id": "GPFpM6msAxZf"
   },
   "source": [
    "#### Цвет графика"
   ]
  },
  {
   "cell_type": "code",
   "execution_count": null,
   "metadata": {
    "colab": {
     "base_uri": "https://localhost:8080/",
     "height": 450
    },
    "id": "7FquQAaJ7l4V",
    "outputId": "52ca0137-2d5c-4e3d-805d-08a37591ab59"
   },
   "outputs": [],
   "source": [
    "# создадим несколько графиков функции косинуса со сдвигом\n",
    "# и зададим цвет каждого графика одним из доступных в Matplotlib способов\n",
    "plt.plot(x, np.cos(x - 0), color = 'blue')        # по названию\n",
    "plt.plot(x, np.cos(x - 1), color = 'g')           # по короткому названию (rgbcmyk)\n",
    "plt.plot(x, np.cos(x - 2), color = '0.75')        # оттенки серого от 0 до 1\n",
    "plt.plot(x, np.cos(x - 3), color = '#FFDD44')     # HEX код (RRGGBB от 00 до FF)\n",
    "plt.plot(x, np.cos(x - 4), color = (1.0,0.2,0.3)) # RGB кортеж, значения от 0 до 1\n",
    "plt.plot(x, np.cos(x - 5), color = 'chartreuse'); # CSS название цветов"
   ]
  },
  {
   "cell_type": "markdown",
   "metadata": {
    "id": "H1bgK7jsC-8G"
   },
   "source": [
    "#### Тип линии графика"
   ]
  },
  {
   "cell_type": "code",
   "execution_count": null,
   "metadata": {
    "colab": {
     "base_uri": "https://localhost:8080/",
     "height": 450
    },
    "id": "xaCBPu51FziM",
    "outputId": "2e5113f8-d15d-48b9-92e8-998d8cb02dd3"
   },
   "outputs": [],
   "source": [
    "# посмотрим на возможный тип линии графика\n",
    "plt.plot(x, x + 0, linestyle = 'solid', linewidth = 2)\n",
    "plt.plot(x, x + 1, linestyle = 'dashed', linewidth = 2)\n",
    "plt.plot(x, x + 2, linestyle = 'dashdot', linewidth = 2)\n",
    "plt.plot(x, x + 3, linestyle = 'dotted', linewidth = 2);"
   ]
  },
  {
   "cell_type": "code",
   "execution_count": null,
   "metadata": {
    "colab": {
     "base_uri": "https://localhost:8080/",
     "height": 450
    },
    "id": "civcB_rnGO2B",
    "outputId": "f6289614-7852-4733-c44f-e60942c516f7"
   },
   "outputs": [],
   "source": [
    "# создадим различные линии с помощью строки форматирования\n",
    "plt.plot(x, x + 0, '-b', linewidth = 2)  # сплошная синяя линия (по умолчанию)\n",
    "plt.plot(x, x + 1, '--c', linewidth = 2) # штриховая линия цвета морской волны (cyan)\n",
    "plt.plot(x, x + 2, '-.k', linewidth = 2) # черная (key) штрихпунктирная линия\n",
    "plt.plot(x, x + 3, ':r', linewidth = 2); # красная линия из точек"
   ]
  },
  {
   "cell_type": "markdown",
   "metadata": {
    "id": "yxLfS1NDGisq"
   },
   "source": [
    "#### Стиль точечной диаграммы"
   ]
  },
  {
   "cell_type": "code",
   "execution_count": null,
   "metadata": {
    "id": "RVObxIYRGlnU"
   },
   "outputs": [],
   "source": [
    "# зададим точку отсчета\n",
    "np.random.seed(42)\n",
    "# и последовательность из 10-ти случайных целых чисел от 0 до 10\n",
    "y = np.random.randint(10, size = 10)"
   ]
  },
  {
   "cell_type": "code",
   "execution_count": null,
   "metadata": {
    "colab": {
     "base_uri": "https://localhost:8080/",
     "height": 450
    },
    "id": "rja1meyVHTn1",
    "outputId": "a08b06b1-b779-45e4-9061-6f58816326a0"
   },
   "outputs": [],
   "source": [
    "# выведем первые 10 наблюдений в виде синих (b) кругов (o)\n",
    "plt.scatter(x[:10], y, c = 'b', marker = 'o')\n",
    "# выведем вторые 10 наблюдений в виде красных (r) треугольников (^)\n",
    "plt.scatter(x[10:20], y, c = 'r', marker = '^')\n",
    "# выведем третьи 10 наблюдений в виде серых (0.50) квадратов (s)\n",
    "# дополнительно укажем размер квадратов s = 100\n",
    "plt.scatter(x[20:30], y, c = '0.50', marker = 's', s = 100);"
   ]
  },
  {
   "cell_type": "markdown",
   "metadata": {
    "id": "_qUuUSPZPw4-"
   },
   "source": [
    "#### Стиль графика в целом"
   ]
  },
  {
   "cell_type": "code",
   "execution_count": null,
   "metadata": {
    "colab": {
     "base_uri": "https://localhost:8080/"
    },
    "id": "drx-Ti-SIsfd",
    "outputId": "fc1abf57-79f5-42f0-fbbf-5316fe0a13b9"
   },
   "outputs": [],
   "source": [
    "# посмотрим на доступные стили\n",
    "plt.style.available"
   ]
  },
  {
   "cell_type": "code",
   "execution_count": null,
   "metadata": {
    "colab": {
     "base_uri": "https://localhost:8080/",
     "height": 441
    },
    "id": "r5TSqbfeIt_S",
    "outputId": "90fc4b51-e243-4544-a586-21a043e268f5"
   },
   "outputs": [],
   "source": [
    "# применим стиль bmh\n",
    "plt.style.use('bmh')\n",
    "\n",
    "# и создадим точечную диаграмму с квадратными красными маркерами размера 100\n",
    "plt.scatter(x[20:30], y, s = 100, c = 'r', marker = 's');"
   ]
  },
  {
   "cell_type": "code",
   "execution_count": null,
   "metadata": {
    "colab": {
     "base_uri": "https://localhost:8080/"
    },
    "id": "0Jl6NNu0RAZu",
    "outputId": "1ea48fa6-f22f-4c5b-9e7f-6be728975680"
   },
   "outputs": [],
   "source": [
    "# вернем блокнот к \"заводским\" настройкам (стиль default)\n",
    "# такой стиль тоже есть, хотя он не указан в перечне plt.style.available\n",
    "plt.style.use('default')\n",
    "\n",
    "# дополнительно пропишем размер последующих графиков\n",
    "matplotlib.rcParams['figure.figsize'] = (5, 4)\n",
    "matplotlib.rcParams['figure.figsize']"
   ]
  },
  {
   "cell_type": "code",
   "execution_count": null,
   "metadata": {
    "colab": {
     "base_uri": "https://localhost:8080/",
     "height": 368
    },
    "id": "6JUYCybgbfwl",
    "outputId": "15f4e63d-27ed-4d9c-96bf-1017510ce57c"
   },
   "outputs": [],
   "source": [
    "# дополним белый прямоугольник сеткой и снова выведем график\n",
    "plt.grid()\n",
    "plt.scatter(x[20:30], y, s = 100, c = 'r', marker = 's');"
   ]
  },
  {
   "cell_type": "markdown",
   "metadata": {
    "id": "UsRqYRpVGcZK"
   },
   "source": [
    "### Пределы шкалы и деления осей графика"
   ]
  },
  {
   "cell_type": "markdown",
   "metadata": {
    "id": "CxFGB1Dtv09V"
   },
   "source": [
    "#### Пределы шкалы"
   ]
  },
  {
   "cell_type": "markdown",
   "metadata": {
    "id": "K9eewn8aGjKT"
   },
   "source": [
    "Способ 1. Функции `plt.xlim()` и `plt.ylim()`"
   ]
  },
  {
   "cell_type": "code",
   "execution_count": null,
   "metadata": {
    "colab": {
     "base_uri": "https://localhost:8080/",
     "height": 374
    },
    "id": "O7xslX0kGkwY",
    "outputId": "b1738107-85a0-46df-a07f-3b53986b772c"
   },
   "outputs": [],
   "source": [
    "# выведем график функции синуса\n",
    "plt.plot(x, np.sin(x))\n",
    "\n",
    "# пропишем пределы шкалы по обеим осям\n",
    "plt.xlim(-2, 12)\n",
    "plt.ylim(-1.5, 1.5);"
   ]
  },
  {
   "cell_type": "markdown",
   "metadata": {
    "id": "rgHPVP__Gk7z"
   },
   "source": [
    "Способ 2. Функция `plt.axis()`"
   ]
  },
  {
   "cell_type": "code",
   "execution_count": null,
   "metadata": {
    "colab": {
     "base_uri": "https://localhost:8080/",
     "height": 374
    },
    "id": "KDj7CW5MGmFS",
    "outputId": "57930db2-efac-4f35-ca5e-a454ed3710c4"
   },
   "outputs": [],
   "source": [
    "# выведем график функции синуса\n",
    "plt.plot(x, np.sin(x))\n",
    "\n",
    "# зададим пределы графика с помощью функции plt.axis()\n",
    "# передадим параметры в следующей очередности: xmin, xmax, ymin, ymax\n",
    "plt.axis([-2, 12, -1.5, 1.5]);"
   ]
  },
  {
   "cell_type": "markdown",
   "metadata": {
    "id": "8AyAolfLv39Q"
   },
   "source": [
    "#### Деления"
   ]
  },
  {
   "cell_type": "code",
   "execution_count": null,
   "metadata": {
    "colab": {
     "base_uri": "https://localhost:8080/",
     "height": 368
    },
    "id": "ZesfFQ6Iv6Gz",
    "outputId": "519b21d5-7a98-49ba-b1f0-653f2db7bab8"
   },
   "outputs": [],
   "source": [
    "# построим синусоиду и зададим график ее осей\n",
    "plt.plot(x, np.sin(x))\n",
    "plt.axis([-0.5, 11, -1.2, 1.2])\n",
    "\n",
    "# создадим последовательность от 0 до 10 с помощью функции np.arange()\n",
    "# и передадим ее в функцию plt.xticks()\n",
    "plt.xticks(np.arange(11))\n",
    "\n",
    "# в функцию plt.yticks() передадим созданный вручную список\n",
    "plt.yticks([-1, 0, 1]);"
   ]
  },
  {
   "cell_type": "markdown",
   "metadata": {
    "id": "GoAkkYZXHg7B"
   },
   "source": [
    "### Подписи, легенда и размеры графика"
   ]
  },
  {
   "cell_type": "code",
   "execution_count": null,
   "metadata": {
    "colab": {
     "base_uri": "https://localhost:8080/",
     "height": 498
    },
    "id": "6oS_6iePoZzw",
    "outputId": "c64a790f-04fa-4081-a46d-68aeaa8a6091"
   },
   "outputs": [],
   "source": [
    "# зададим размеры отдельного графика (лучше указывать в начале кода)\n",
    "plt.figure(figsize = (8,5))\n",
    "\n",
    "# добавим графики синуса и косинуса с подписями к кривым\n",
    "plt.plot(x, np.sin(x), label = 'sin(x)')\n",
    "plt.plot(x, np.cos(x), label = 'cos(x)')\n",
    "\n",
    "# выведем легенду (подписи к кривым) с указанием места на графике и размера шрифта\n",
    "plt.legend(loc = 'lower left', prop = {'size': 14})\n",
    "\n",
    "# добавим пределы шкал по обеим осям,\n",
    "plt.axis([-0.5, 10.5, -1.2, 1.2])\n",
    "\n",
    "# а также деления осей графика\n",
    "plt.xticks(np.arange(11))\n",
    "plt.yticks([-1, 0, 1])\n",
    "\n",
    "# добавим заголовок и подписи к осям с указанием размера шрифта\n",
    "plt.title('Функции y = sin(x) и y = cos(x)', fontsize = 18)\n",
    "plt.xlabel('x', fontsize = 16)\n",
    "plt.ylabel('y', fontsize = 16)\n",
    "\n",
    "# добавим сетку\n",
    "plt.grid()\n",
    "\n",
    "# выведем результат\n",
    "plt.show()"
   ]
  },
  {
   "cell_type": "markdown",
   "metadata": {
    "id": "-rCpnxXxH6fC"
   },
   "source": [
    "### `plt.figure()` и `plt.axes()`"
   ]
  },
  {
   "cell_type": "code",
   "execution_count": null,
   "metadata": {
    "id": "SjkGQZtDHwYm"
   },
   "outputs": [],
   "source": [
    "sns.set_style('whitegrid')"
   ]
  },
  {
   "cell_type": "code",
   "execution_count": null,
   "metadata": {
    "colab": {
     "base_uri": "https://localhost:8080/",
     "height": 374
    },
    "id": "4BkXsPNxHd_o",
    "outputId": "00f2129a-5062-4cde-ca65-3741ff5f67f8"
   },
   "outputs": [],
   "source": [
    "# создадим объект класса plt.figure()\n",
    "fig = plt.figure()\n",
    "\n",
    "# создадим объект класса plt.axes()\n",
    "ax = plt.axes()"
   ]
  },
  {
   "cell_type": "code",
   "execution_count": null,
   "metadata": {
    "colab": {
     "base_uri": "https://localhost:8080/",
     "height": 368
    },
    "id": "dC6cQUz0HlHc",
    "outputId": "746faa6c-2d48-4aa3-d989-ee97af1ad9bf"
   },
   "outputs": [],
   "source": [
    "# создадим объект класса plt.figure()\n",
    "fig = plt.figure()\n",
    "\n",
    "# создадим объект класса plt.axes()\n",
    "ax = plt.axes()\n",
    "\n",
    "# добавим синусоиду к объекту ax с помощью метода .plot()\n",
    "ax.plot(x, np.sin(x));"
   ]
  },
  {
   "cell_type": "code",
   "execution_count": null,
   "metadata": {
    "colab": {
     "base_uri": "https://localhost:8080/",
     "height": 410
    },
    "id": "JYMid_WQI7I2",
    "outputId": "9a3fedd7-5734-4130-d8b8-abb674defd1f"
   },
   "outputs": [],
   "source": [
    "fig = plt.figure()\n",
    "ax = plt.axes()\n",
    "ax.plot(x, np.sin(x))\n",
    "\n",
    "# используем методы класса plt.axes()\n",
    "ax.set_title('y = sin(x)')\n",
    "ax.set_xlabel('x')\n",
    "ax.set_ylabel('y');"
   ]
  },
  {
   "cell_type": "code",
   "execution_count": null,
   "metadata": {
    "colab": {
     "base_uri": "https://localhost:8080/",
     "height": 410
    },
    "id": "yTIMBJhZH-BB",
    "outputId": "c13296b5-164e-4fc7-ff0a-336e2ca61c0d"
   },
   "outputs": [],
   "source": [
    "fig = plt.figure()\n",
    "ax = plt.axes()\n",
    "ax.plot(x, np.sin(x))\n",
    "\n",
    "# применим метод .set() и укажем необходимые параметры\n",
    "ax.set(title = 'y = sin(x)',\n",
    "       xlabel='x', ylabel = 'y',\n",
    "       xlim = (-0.5, 10.5), ylim = (-1.2, 1.2),\n",
    "       xticks = (np.arange(11)),\n",
    "       yticks = [-1, 0, 1]);"
   ]
  },
  {
   "cell_type": "markdown",
   "metadata": {
    "id": "SxRrBHJYJXu8"
   },
   "source": [
    "### Построение подграфиков"
   ]
  },
  {
   "cell_type": "markdown",
   "metadata": {
    "id": "l5E-UPIdry6m"
   },
   "source": [
    "#### Создание вручную"
   ]
  },
  {
   "cell_type": "code",
   "execution_count": null,
   "metadata": {
    "colab": {
     "base_uri": "https://localhost:8080/",
     "height": 374
    },
    "id": "NWLzqD7arxOb",
    "outputId": "6ff97568-c17b-4702-ccd3-439b1cdd7175"
   },
   "outputs": [],
   "source": [
    "# создадим объект fig,\n",
    "fig = plt.figure()\n",
    "\n",
    "# стандартный подграфик\n",
    "ax1 = plt.axes()\n",
    "\n",
    "# и подграфик по следующим координатам и размерам\n",
    "ax2 = plt.axes([0.5, 0.5, 0.3, 0.3])\n",
    "\n",
    "# дополнительно покажем, как можно убрать деления на \"вложенном\" подграфике\n",
    "ax2.set(xticks = [], yticks = []);"
   ]
  },
  {
   "cell_type": "code",
   "execution_count": null,
   "metadata": {
    "colab": {
     "base_uri": "https://localhost:8080/",
     "height": 420
    },
    "id": "QAkPC_i0vwIV",
    "outputId": "6221ccd7-b1b2-4790-b365-9a7c3392372d"
   },
   "outputs": [],
   "source": [
    "# создадим объект класса plt.figure()\n",
    "fig = plt.figure()\n",
    "\n",
    "# зададим координаты угла [0.1, 0.6] и размеры [0.8, 0.4] верхнего подграфика,\n",
    "# дополнительно зададим пределы шкалы по оси y и уберем шкалу по оси x\n",
    "ax1 = fig.add_axes([0.1, 0.6, 0.8, 0.4],\n",
    "                   ylim = (-1.2, 1.2),\n",
    "                   xticklabels = [])\n",
    "\n",
    "# добавим координаты угла [[0.1, 0.1] и размеры [0.8, 0.4] нижнего подграфика\n",
    "ax2 = fig.add_axes([0.1, 0.1, 0.8, 0.4],\n",
    "                   ylim = (-1.2, 1.2))\n",
    "\n",
    "# выведем на них синусоиду и косинусоиду соответственно\n",
    "ax1.plot(np.sin(x))\n",
    "ax2.plot(np.cos(x));"
   ]
  },
  {
   "cell_type": "markdown",
   "metadata": {
    "id": "Esi3Zq5KS9jt"
   },
   "source": [
    "#### Метод `.add_subplot()`"
   ]
  },
  {
   "cell_type": "code",
   "execution_count": null,
   "metadata": {
    "colab": {
     "base_uri": "https://localhost:8080/",
     "height": 408
    },
    "id": "VSP52sGtS8vh",
    "outputId": "07315760-5bae-42e1-8877-1018327309a9"
   },
   "outputs": [],
   "source": [
    "# создаем объект figure, задаем размер объекта,\n",
    "fig = plt.figure(figsize = (8,4))\n",
    "# указываем общий заголовок через метод .suptitle()\n",
    "fig.suptitle('Заголовок объекта fig') # можно использовать plt.suptitle('Заголовок объекта fig')\n",
    "\n",
    "# внутри него создаем объект ax1, прописываем сетку из одной строки и двух столбцов\n",
    "# и положение (индекс) ax1 в сетке\n",
    "ax1 = fig.add_subplot(1, 2, 1)\n",
    "# используем метод .set_title() для создания заголовка объекта ax1\n",
    "ax1.set_title('Объект ax1')\n",
    "\n",
    "# создаем и наполняем объект ax2\n",
    "# запятые для значений сетки не обязательны, а заголовок можно передать параметром\n",
    "ax2 = fig.add_subplot(122, title = 'Объект ax2')\n",
    "\n",
    "plt.show()"
   ]
  },
  {
   "cell_type": "code",
   "execution_count": null,
   "metadata": {
    "colab": {
     "base_uri": "https://localhost:8080/",
     "height": 528
    },
    "id": "Vy_bu5N30ZHZ",
    "outputId": "023278f5-a9f1-439d-c568-23f2b371e663"
   },
   "outputs": [],
   "source": [
    "# создадим объект figure и зададим его размер\n",
    "fig = plt.figure(figsize = (9, 6))\n",
    "# укажем горизонтальное и вертикальное расстояние между графиками\n",
    "fig.subplots_adjust(hspace = 0.4, wspace = 0.4)\n",
    "\n",
    "# в цикле от 1 до 6 (так как у нас будет шесть подграфиков)\n",
    "for i in range(1, 7):\n",
    "  # поочередно создадим каждый подграфик\n",
    "  # первые два параметра задают сетку, в переменной i содержится индекс подграфика\n",
    "  ax = fig.add_subplot(2, 3, i)\n",
    "  # метод .text() позволяет написать текст в заданном месте подграфика\n",
    "  ax.text(0.5, 0.5,       # разместим текст в центре\n",
    "          str((2, 3, i)), # выведем параметры сетки и индекс графика\n",
    "          fontsize = 16,  # зададим размер текста\n",
    "          ha = 'center')  # сделаем выравнивание по центру"
   ]
  },
  {
   "cell_type": "markdown",
   "metadata": {
    "id": "a2f0DV54TsBg"
   },
   "source": [
    "#### Функция `plt.subplots()`"
   ]
  },
  {
   "cell_type": "code",
   "execution_count": null,
   "metadata": {
    "colab": {
     "base_uri": "https://localhost:8080/",
     "height": 607
    },
    "id": "7RskE0NmTirW",
    "outputId": "a6f93fb2-e72a-4052-cc5c-dfd9394c4ae3"
   },
   "outputs": [],
   "source": [
    "# создаем объекты fig и ax\n",
    "# в параметрах указываем число строк и столбцов, а также размер фигуры\n",
    "fig, ax = plt.subplots(nrows = 2, ncols = 2, figsize = (6,6))\n",
    "\n",
    "# с помощью индекса объекта ax заполним левый верхний график\n",
    "ax[0, 0].plot(x, np.sin(x))\n",
    "\n",
    "# через метод .set() задаем параметры графика\n",
    "ax[0, 0].set(title = 'y = sin(x)',\n",
    "             xlabel = 'x', ylabel = 'y',\n",
    "             xlim = (-0.5, 10.5), ylim = (-1.2, 1.2),\n",
    "             xticks = (np.arange(0, 11, 2)),\n",
    "             yticks = [-1, 0, 1])\n",
    "\n",
    "plt.tight_layout();"
   ]
  },
  {
   "cell_type": "code",
   "execution_count": null,
   "metadata": {
    "colab": {
     "base_uri": "https://localhost:8080/",
     "height": 607
    },
    "id": "A5dvmdRNV62J",
    "outputId": "5cd33dd7-f89c-459a-d223-155c8c655bfb"
   },
   "outputs": [],
   "source": [
    "# передадим подграфики в соответствующие переменные\n",
    "# в первых внутренних скобках - первая строка, во вторых - вторая\n",
    "fig, ((ax1, ax2), (ax3, ax4)) = plt.subplots(2, 2, figsize = (6, 6))\n",
    "\n",
    "# поместим функцию np.sin(x) во второй столбец первой строки\n",
    "ax2.plot(x, np.sin(x))\n",
    "ax2.set(title = 'y = sin(x)',\n",
    "        xlabel='x', ylabel = 'y',\n",
    "        xlim = (-0.5, 10.5), ylim = (-1.2, 1.2),\n",
    "        xticks = (np.arange(0, 11, 2)),\n",
    "        yticks = [-1, 0, 1])\n",
    "\n",
    "plt.tight_layout();"
   ]
  },
  {
   "cell_type": "code",
   "execution_count": null,
   "metadata": {
    "colab": {
     "base_uri": "https://localhost:8080/",
     "height": 394
    },
    "id": "5iiZcsil-aa7",
    "outputId": "6d002f9e-5d73-4e19-93a2-54e1980e7041"
   },
   "outputs": [],
   "source": [
    "# возьмем данные о продажах в четырех магазинах\n",
    "sales = pd.DataFrame({'year' :    [2000, 2001, 2002, 2003, 2004, 2005, 2006, 2007, 2008, 2009],\n",
    "                      'store 1' : [35, 43, 76, 31, 46, 33, 26, 22, 23, 35],\n",
    "                      'store 2' : [31, 40, 66, 25, 46, 34, 23, 22, 27, 35],\n",
    "                      'store 3' : [33, 41, 66, 35, 34, 37, 27, 28, 22, 38],\n",
    "                      'store 4' : [35, 45, 61, 27, 42, 38, 25, 29, 24, 31]\n",
    "                      })\n",
    "\n",
    "# сделаем столбец year индексом\n",
    "sales.set_index('year', inplace = True)\n",
    "\n",
    "# посмотрим на данные\n",
    "sales"
   ]
  },
  {
   "cell_type": "code",
   "execution_count": null,
   "metadata": {
    "colab": {
     "base_uri": "https://localhost:8080/",
     "height": 565
    },
    "id": "dhIA9DX34s6q",
    "outputId": "26ad4560-013e-4610-fda7-d0da784edea8"
   },
   "outputs": [],
   "source": [
    "# определимся с количеством строк и столбцов\n",
    "nrows, ncols = 2, 2\n",
    "# создадим счетчик для столбцов\n",
    "col = 0\n",
    "\n",
    "# создадим объекты fig и ax (в ax уже будет четыре подграфика)\n",
    "# дополнительно, помимо размера, зададим общую шкалу по обеим осям\n",
    "fig, ax = plt.subplots(nrows = nrows, ncols = ncols, figsize = (6,6), sharex = True, sharey = True)\n",
    "\n",
    "# в цикле пройдемся по строкам\n",
    "for i in range(nrows):\n",
    "  # затем во вложенном цикле - по столбцам\n",
    "  for j in range(ncols):\n",
    "    # для каждой комбинации i и j (координат подграфика) выведем столбчатую диаграмму Seaborn\n",
    "    # по оси x - годы, по оси y - соответстующий столбец (магазин)\n",
    "    # в параметр ax мы передадим текущий подграфик с координатами\n",
    "    sns.barplot(x = sales.index, y = sales.iloc[:, col], ax = ax[i, j])\n",
    "\n",
    "    # дополнительно в методе .set() зададим заголовок подграфика,\n",
    "    # уберем подпись к оси x и зададим единые для всех подграфиков пределы по оси y\n",
    "    ax[i, j].set(title = sales.columns[col], xlabel = '', ylim = (0, 80))\n",
    "    # укажем, количество делений шкалы (по сути, список от 1 до 10)\n",
    "    ax[i, j].set_xticks(list(range(1, len(sales.index)+1)))\n",
    "    # в качестве делений шкалы по оси x зададим годы и повернем их на 45 градусов\n",
    "    ax[i, j].set_xticklabels(sales.index, rotation = 45)\n",
    "\n",
    "    # общая шкала по осям предполагает общие деления, но не общую подпись,\n",
    "    # чтобы подпись оси y была только слева от первого столбца, выведем ее при j == 0\n",
    "    # (индекс j как раз отвечает за столбцы)\n",
    "    if j == 0:\n",
    "      ax[i, j].set_ylabel('продажи, млн. рублей')\n",
    "    # в противном случае выведем пустую подпись\n",
    "    else:\n",
    "      ax[i, j].set_ylabel('')\n",
    "\n",
    "    # обновим счетчик столбцов\n",
    "    col += 1\n",
    "\n",
    "# выведем результат\n",
    "plt.show()"
   ]
  },
  {
   "cell_type": "markdown",
   "metadata": {
    "id": "bJwIouDwzvfV"
   },
   "source": [
    "#### Метод `.plot()` библиотеки Pandas"
   ]
  },
  {
   "cell_type": "code",
   "execution_count": null,
   "metadata": {
    "colab": {
     "base_uri": "https://localhost:8080/",
     "height": 585
    },
    "id": "Zgi8vYsD1rTB",
    "outputId": "dd3f6d99-fdb9-4568-9ad0-2166a2d00b38"
   },
   "outputs": [],
   "source": [
    "# применим метод .plot() ко всем столбцам датафрейма\n",
    "sales.plot(subplots = True,   # укажем, что хотим создать подграфики\n",
    "           layout = (2,2),    # пропишем размерность сетки\n",
    "           kind = 'bar',      # укажем тип графика\n",
    "           figsize = (6,6),   # зададим размер фигуры\n",
    "           sharey = True,     # сделаем общую шкалу по оси y\n",
    "           ylim = (0, 80),    # зададим пределы по оси y\n",
    "           grid = False,      # уберем сетку\n",
    "           legend = False,    # уберем легенду\n",
    "           rot = 45);         # повернем подписи к делениям по оси x на 45 градусов"
   ]
  },
  {
   "cell_type": "code",
   "execution_count": null,
   "metadata": {
    "colab": {
     "base_uri": "https://localhost:8080/",
     "height": 565
    },
    "id": "pnm1m6vf10Gl",
    "outputId": "71443359-c62b-43aa-a960-11d1ca8a44dd"
   },
   "outputs": [],
   "source": [
    "# зададим размер строк и столбцов\n",
    "nrows, ncols = 2, 2\n",
    "\n",
    "ax = sales.plot(subplots = True,         # укажем, что хотим создать подграфики\n",
    "                layout = (nrows, ncols), # пропишем размерность сетки\n",
    "                kind = 'bar',            # укажем тип графика\n",
    "                figsize = (6,6),         # зададим размер фигуры\n",
    "                sharey = True,           # сделаем общую шкалу по оси y\n",
    "                ylim = (0, 80),          # зададим пределы по оси y\n",
    "                grid = False,            # уберем сетку\n",
    "                legend = False,          # уберем легенду\n",
    "                rot = 45);               # повернем подписи к делениям по оси x на 45 градусов\n",
    "\n",
    "# пройдемся по индексам столбцов и строк\n",
    "for i in range(nrows):\n",
    "  for j in range(ncols):\n",
    "\n",
    "    # удалим подписи к оси x\n",
    "    ax[i, j].set_xlabel('')\n",
    "\n",
    "    # сделаем подписи по оси y только к первому столбцу\n",
    "    if j == 0:\n",
    "      ax[i, j].set_ylabel('продажи, млн. рублей')\n",
    "    else:\n",
    "      ax[i, j].set_ylabel('')"
   ]
  },
  {
   "cell_type": "code",
   "execution_count": null,
   "metadata": {
    "colab": {
     "base_uri": "https://localhost:8080/"
    },
    "id": "dtLy4QTZdxce",
    "outputId": "01529520-a3f8-4931-f34c-cdb7f8072a1a"
   },
   "outputs": [],
   "source": [
    "# продемонстрируем, как выглядят индексы подграфиков\n",
    "# при использовании вложенных циклов\n",
    "for i in range(nrows):\n",
    "  for j in range(ncols):\n",
    "    print(i,j)"
   ]
  },
  {
   "cell_type": "markdown",
   "metadata": {
    "id": "OalNb-w84XPX"
   },
   "source": [
    "## Ответы на вопросы"
   ]
  },
  {
   "cell_type": "markdown",
   "metadata": {
    "id": "168Rj3qXs-Os"
   },
   "source": [
    "**Вопрос**. Как посмотреть, какая версия библиотеки используется в Google Colab?"
   ]
  },
  {
   "cell_type": "code",
   "execution_count": null,
   "metadata": {
    "colab": {
     "base_uri": "https://localhost:8080/",
     "height": 37
    },
    "id": "JpIfaPNRo0K_",
    "outputId": "7645f849-7c58-4d9b-8f78-fe10d9145d45"
   },
   "outputs": [],
   "source": [
    "# версию можно посмотрет так\n",
    "matplotlib.__version__"
   ]
  },
  {
   "cell_type": "code",
   "execution_count": null,
   "metadata": {
    "colab": {
     "base_uri": "https://localhost:8080/"
    },
    "id": "rolBqot-zI9P",
    "outputId": "dbaddf97-f183-4163-e6b7-ff33503d525b"
   },
   "outputs": [],
   "source": [
    "# обратимся к более подробной информации\n",
    "!pip show matplotlib"
   ]
  },
  {
   "cell_type": "code",
   "execution_count": null,
   "metadata": {
    "colab": {
     "base_uri": "https://localhost:8080/"
    },
    "id": "WUDCLktR4GVR",
    "outputId": "d140081d-94dd-4458-db98-cf5823407ed3"
   },
   "outputs": [],
   "source": [
    "# посмотрим, упоминается ли слово matplotlib в списке библиотек\n",
    "# и если да, выведем название библиотеки с этим словом и ее версию\n",
    "!pip list | grep matplotlib"
   ]
  },
  {
   "cell_type": "code",
   "execution_count": null,
   "metadata": {
    "id": "EOfZhoAjbTrO"
   },
   "outputs": [],
   "source": []
  }
 ],
 "metadata": {
  "colab": {
   "provenance": []
  },
  "kernelspec": {
   "display_name": "myenv",
   "language": "python",
   "name": "python3"
  },
  "language_info": {
   "codemirror_mode": {
    "name": "ipython",
    "version": 3
   },
   "file_extension": ".py",
   "mimetype": "text/x-python",
   "name": "python",
   "nbconvert_exporter": "python",
   "pygments_lexer": "ipython3",
   "version": "3.10.16"
  },
  "widgets": {
   "application/vnd.jupyter.widget-state+json": {
    "065ce79bd4734d25bea055f64052cafc": {
     "model_module": "@jupyter-widgets/controls",
     "model_module_version": "1.5.0",
     "model_name": "DescriptionStyleModel",
     "state": {
      "_model_module": "@jupyter-widgets/controls",
      "_model_module_version": "1.5.0",
      "_model_name": "DescriptionStyleModel",
      "_view_count": null,
      "_view_module": "@jupyter-widgets/base",
      "_view_module_version": "1.2.0",
      "_view_name": "StyleView",
      "description_width": ""
     }
    },
    "2266f49f9ca54ff39e3faf4cf4584785": {
     "model_module": "@jupyter-widgets/controls",
     "model_module_version": "1.5.0",
     "model_name": "HTMLModel",
     "state": {
      "_dom_classes": [],
      "_model_module": "@jupyter-widgets/controls",
      "_model_module_version": "1.5.0",
      "_model_name": "HTMLModel",
      "_view_count": null,
      "_view_module": "@jupyter-widgets/controls",
      "_view_module_version": "1.5.0",
      "_view_name": "HTMLView",
      "description": "",
      "description_tooltip": null,
      "layout": "IPY_MODEL_b42fcd433881484d8329aa19faddbce5",
      "placeholder": "​",
      "style": "IPY_MODEL_065ce79bd4734d25bea055f64052cafc",
      "value": " [100%]   00:02 -&gt; (00:00 left)"
     }
    },
    "308cc19a4086463889b3731fe63e6f66": {
     "model_module": "@jupyter-widgets/controls",
     "model_module_version": "1.5.0",
     "model_name": "DescriptionStyleModel",
     "state": {
      "_model_module": "@jupyter-widgets/controls",
      "_model_module_version": "1.5.0",
      "_model_name": "DescriptionStyleModel",
      "_view_count": null,
      "_view_module": "@jupyter-widgets/base",
      "_view_module_version": "1.2.0",
      "_view_name": "StyleView",
      "description_width": ""
     }
    },
    "6e74db1201264aca935ddeb3389f2445": {
     "model_module": "@jupyter-widgets/controls",
     "model_module_version": "1.5.0",
     "model_name": "HBoxModel",
     "state": {
      "_dom_classes": [],
      "_model_module": "@jupyter-widgets/controls",
      "_model_module_version": "1.5.0",
      "_model_name": "HBoxModel",
      "_view_count": null,
      "_view_module": "@jupyter-widgets/controls",
      "_view_module_version": "1.5.0",
      "_view_name": "HBoxView",
      "box_style": "",
      "children": [
       "IPY_MODEL_b8f1ff3a4acd4fd8a21e0b4552625573",
       "IPY_MODEL_e02ead66938b49aea4baf15a8edc38f0",
       "IPY_MODEL_2266f49f9ca54ff39e3faf4cf4584785"
      ],
      "layout": "IPY_MODEL_ab0412427ac84ea69deddf9d75058e30"
     }
    },
    "8ddb4f6396cb4c4393cbd13cd601e160": {
     "model_module": "@jupyter-widgets/base",
     "model_module_version": "1.2.0",
     "model_name": "LayoutModel",
     "state": {
      "_model_module": "@jupyter-widgets/base",
      "_model_module_version": "1.2.0",
      "_model_name": "LayoutModel",
      "_view_count": null,
      "_view_module": "@jupyter-widgets/base",
      "_view_module_version": "1.2.0",
      "_view_name": "LayoutView",
      "align_content": null,
      "align_items": null,
      "align_self": null,
      "border": null,
      "bottom": null,
      "display": null,
      "flex": "2",
      "flex_flow": null,
      "grid_area": null,
      "grid_auto_columns": null,
      "grid_auto_flow": null,
      "grid_auto_rows": null,
      "grid_column": null,
      "grid_gap": null,
      "grid_row": null,
      "grid_template_areas": null,
      "grid_template_columns": null,
      "grid_template_rows": null,
      "height": null,
      "justify_content": null,
      "justify_items": null,
      "left": null,
      "margin": null,
      "max_height": null,
      "max_width": null,
      "min_height": null,
      "min_width": null,
      "object_fit": null,
      "object_position": null,
      "order": null,
      "overflow": null,
      "overflow_x": null,
      "overflow_y": null,
      "padding": null,
      "right": null,
      "top": null,
      "visibility": null,
      "width": null
     }
    },
    "972259f9fd6b4048b8204f3ff0984b78": {
     "model_module": "@jupyter-widgets/controls",
     "model_module_version": "1.5.0",
     "model_name": "ProgressStyleModel",
     "state": {
      "_model_module": "@jupyter-widgets/controls",
      "_model_module_version": "1.5.0",
      "_model_name": "ProgressStyleModel",
      "_view_count": null,
      "_view_module": "@jupyter-widgets/base",
      "_view_module_version": "1.2.0",
      "_view_name": "StyleView",
      "bar_color": null,
      "description_width": ""
     }
    },
    "a6d16cd21735416fb02ceb72e2082340": {
     "model_module": "@jupyter-widgets/base",
     "model_module_version": "1.2.0",
     "model_name": "LayoutModel",
     "state": {
      "_model_module": "@jupyter-widgets/base",
      "_model_module_version": "1.2.0",
      "_model_name": "LayoutModel",
      "_view_count": null,
      "_view_module": "@jupyter-widgets/base",
      "_view_module_version": "1.2.0",
      "_view_name": "LayoutView",
      "align_content": null,
      "align_items": null,
      "align_self": null,
      "border": null,
      "bottom": null,
      "display": null,
      "flex": null,
      "flex_flow": null,
      "grid_area": null,
      "grid_auto_columns": null,
      "grid_auto_flow": null,
      "grid_auto_rows": null,
      "grid_column": null,
      "grid_gap": null,
      "grid_row": null,
      "grid_template_areas": null,
      "grid_template_columns": null,
      "grid_template_rows": null,
      "height": null,
      "justify_content": null,
      "justify_items": null,
      "left": null,
      "margin": null,
      "max_height": null,
      "max_width": null,
      "min_height": null,
      "min_width": null,
      "object_fit": null,
      "object_position": null,
      "order": null,
      "overflow": null,
      "overflow_x": null,
      "overflow_y": null,
      "padding": null,
      "right": null,
      "top": null,
      "visibility": null,
      "width": null
     }
    },
    "ab0412427ac84ea69deddf9d75058e30": {
     "model_module": "@jupyter-widgets/base",
     "model_module_version": "1.2.0",
     "model_name": "LayoutModel",
     "state": {
      "_model_module": "@jupyter-widgets/base",
      "_model_module_version": "1.2.0",
      "_model_name": "LayoutModel",
      "_view_count": null,
      "_view_module": "@jupyter-widgets/base",
      "_view_module_version": "1.2.0",
      "_view_name": "LayoutView",
      "align_content": null,
      "align_items": null,
      "align_self": null,
      "border": null,
      "bottom": null,
      "display": "inline-flex",
      "flex": null,
      "flex_flow": "row wrap",
      "grid_area": null,
      "grid_auto_columns": null,
      "grid_auto_flow": null,
      "grid_auto_rows": null,
      "grid_column": null,
      "grid_gap": null,
      "grid_row": null,
      "grid_template_areas": null,
      "grid_template_columns": null,
      "grid_template_rows": null,
      "height": null,
      "justify_content": null,
      "justify_items": null,
      "left": null,
      "margin": null,
      "max_height": null,
      "max_width": null,
      "min_height": null,
      "min_width": null,
      "object_fit": null,
      "object_position": null,
      "order": null,
      "overflow": null,
      "overflow_x": null,
      "overflow_y": null,
      "padding": null,
      "right": null,
      "top": null,
      "visibility": null,
      "width": "100%"
     }
    },
    "b42fcd433881484d8329aa19faddbce5": {
     "model_module": "@jupyter-widgets/base",
     "model_module_version": "1.2.0",
     "model_name": "LayoutModel",
     "state": {
      "_model_module": "@jupyter-widgets/base",
      "_model_module_version": "1.2.0",
      "_model_name": "LayoutModel",
      "_view_count": null,
      "_view_module": "@jupyter-widgets/base",
      "_view_module_version": "1.2.0",
      "_view_name": "LayoutView",
      "align_content": null,
      "align_items": null,
      "align_self": null,
      "border": null,
      "bottom": null,
      "display": null,
      "flex": null,
      "flex_flow": null,
      "grid_area": null,
      "grid_auto_columns": null,
      "grid_auto_flow": null,
      "grid_auto_rows": null,
      "grid_column": null,
      "grid_gap": null,
      "grid_row": null,
      "grid_template_areas": null,
      "grid_template_columns": null,
      "grid_template_rows": null,
      "height": null,
      "justify_content": null,
      "justify_items": null,
      "left": null,
      "margin": null,
      "max_height": null,
      "max_width": null,
      "min_height": null,
      "min_width": null,
      "object_fit": null,
      "object_position": null,
      "order": null,
      "overflow": null,
      "overflow_x": null,
      "overflow_y": null,
      "padding": null,
      "right": null,
      "top": null,
      "visibility": null,
      "width": null
     }
    },
    "b8f1ff3a4acd4fd8a21e0b4552625573": {
     "model_module": "@jupyter-widgets/controls",
     "model_module_version": "1.5.0",
     "model_name": "HTMLModel",
     "state": {
      "_dom_classes": [],
      "_model_module": "@jupyter-widgets/controls",
      "_model_module_version": "1.5.0",
      "_model_name": "HTMLModel",
      "_view_count": null,
      "_view_module": "@jupyter-widgets/controls",
      "_view_module_version": "1.5.0",
      "_view_name": "HTMLView",
      "description": "",
      "description_tooltip": null,
      "layout": "IPY_MODEL_a6d16cd21735416fb02ceb72e2082340",
      "placeholder": "​",
      "style": "IPY_MODEL_308cc19a4086463889b3731fe63e6f66",
      "value": "Done! Use &#x27;show&#x27; commands to display/save.   "
     }
    },
    "e02ead66938b49aea4baf15a8edc38f0": {
     "model_module": "@jupyter-widgets/controls",
     "model_module_version": "1.5.0",
     "model_name": "FloatProgressModel",
     "state": {
      "_dom_classes": [],
      "_model_module": "@jupyter-widgets/controls",
      "_model_module_version": "1.5.0",
      "_model_name": "FloatProgressModel",
      "_view_count": null,
      "_view_module": "@jupyter-widgets/controls",
      "_view_module_version": "1.5.0",
      "_view_name": "ProgressView",
      "bar_style": "success",
      "description": "",
      "description_tooltip": null,
      "layout": "IPY_MODEL_8ddb4f6396cb4c4393cbd13cd601e160",
      "max": 1,
      "min": 0,
      "orientation": "horizontal",
      "style": "IPY_MODEL_972259f9fd6b4048b8204f3ff0984b78",
      "value": 1
     }
    }
   }
  }
 },
 "nbformat": 4,
 "nbformat_minor": 0
}
