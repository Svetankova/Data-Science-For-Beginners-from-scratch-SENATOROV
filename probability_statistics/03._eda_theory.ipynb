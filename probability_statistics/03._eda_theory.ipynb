{
  "cells": [
    {
      "cell_type": "code",
      "execution_count": null,
      "metadata": {},
      "outputs": [],
      "source": [
        "\"\"\"3. EDA. Классификация данных и задачи EDA.\"\"\""
      ]
    },
    {
      "cell_type": "markdown",
      "metadata": {
        "id": "wYXA1M10b_FC"
      },
      "source": [
        "# Классификация данных и задачи EDA"
      ]
    },
    {
      "cell_type": "code",
      "execution_count": 1,
      "metadata": {
        "id": "0eR0F2SnAwJZ"
      },
      "outputs": [
        {
          "ename": "ModuleNotFoundError",
          "evalue": "No module named 'plotly'",
          "output_type": "error",
          "traceback": [
            "\u001b[1;31m---------------------------------------------------------------------------\u001b[0m",
            "\u001b[1;31mModuleNotFoundError\u001b[0m                       Traceback (most recent call last)",
            "Cell \u001b[1;32mIn[1], line 8\u001b[0m\n\u001b[0;32m      5\u001b[0m \u001b[38;5;28;01mimport\u001b[39;00m\u001b[38;5;250m \u001b[39m\u001b[38;5;21;01mseaborn\u001b[39;00m\u001b[38;5;250m \u001b[39m\u001b[38;5;28;01mas\u001b[39;00m\u001b[38;5;250m \u001b[39m\u001b[38;5;21;01msns\u001b[39;00m\n\u001b[0;32m      7\u001b[0m \u001b[38;5;66;03m# новая для нас библиотека Plotly Express обычно сокращается как px\u001b[39;00m\n\u001b[1;32m----> 8\u001b[0m \u001b[38;5;28;01mimport\u001b[39;00m\u001b[38;5;250m \u001b[39m\u001b[38;5;21;01mplotly\u001b[39;00m\u001b[38;5;21;01m.\u001b[39;00m\u001b[38;5;21;01mexpress\u001b[39;00m\u001b[38;5;250m \u001b[39m\u001b[38;5;28;01mas\u001b[39;00m\u001b[38;5;250m \u001b[39m\u001b[38;5;21;01mpx\u001b[39;00m\n\u001b[0;32m     10\u001b[0m \u001b[38;5;66;03m# fmt: off\u001b[39;00m\n\u001b[0;32m     11\u001b[0m \u001b[38;5;66;03m# isort: skip_file        \u001b[39;00m\n\u001b[0;32m     12\u001b[0m \u001b[38;5;66;03m# pyupgrade: disable      \u001b[39;00m\n\u001b[1;32m   (...)\u001b[0m\n\u001b[0;32m     15\u001b[0m \u001b[38;5;66;03m# mypy: ignore-errors     \u001b[39;00m\n\u001b[0;32m     16\u001b[0m \u001b[38;5;66;03m# codespell:disable    \u001b[39;00m\n",
            "\u001b[1;31mModuleNotFoundError\u001b[0m: No module named 'plotly'"
          ]
        }
      ],
      "source": [
        "# импортируем библиотеки\n",
        "import numpy as np\n",
        "import pandas as pd\n",
        "import matplotlib.pyplot as plt\n",
        "import seaborn as sns\n",
        "\n",
        "# новая для нас библиотека Plotly Express обычно сокращается как px\n",
        "import plotly.express as px\n",
        "\n",
        "# fmt: off\n",
        "# isort: skip_file        \n",
        "# pyupgrade: disable      \n",
        "# pylint: skip-file       \n",
        "# flake8: noqa           \n",
        "# mypy: ignore-errors     \n",
        "# codespell:disable    "
      ]
    },
    {
      "cell_type": "markdown",
      "metadata": {
        "id": "W97qpIT8duFK"
      },
      "source": [
        "## Категориальные и количественные данные\n",
        "\n"
      ]
    },
    {
      "cell_type": "markdown",
      "metadata": {
        "id": "ZMvdWkEtXoQ-"
      },
      "source": [
        "### Категориальные данные"
      ]
    },
    {
      "cell_type": "markdown",
      "metadata": {
        "id": "Ttd_agdTXayZ"
      },
      "source": [
        "#### Номинальные данные"
      ]
    },
    {
      "cell_type": "code",
      "execution_count": 8,
      "metadata": {
        "colab": {
          "base_uri": "https://localhost:8080/",
          "height": 175
        },
        "id": "JfrFgUk4dH_A",
        "outputId": "d4166e5f-73fb-4900-e9d5-3e61ffb7b2fc"
      },
      "outputs": [
        {
          "data": {
            "text/html": [
              "<div>\n",
              "<style scoped>\n",
              "    .dataframe tbody tr th:only-of-type {\n",
              "        vertical-align: middle;\n",
              "    }\n",
              "\n",
              "    .dataframe tbody tr th {\n",
              "        vertical-align: top;\n",
              "    }\n",
              "\n",
              "    .dataframe thead th {\n",
              "        text-align: right;\n",
              "    }\n",
              "</style>\n",
              "<table border=\"1\" class=\"dataframe\">\n",
              "  <thead>\n",
              "    <tr style=\"text-align: right;\">\n",
              "      <th></th>\n",
              "      <th>model</th>\n",
              "      <th>stock</th>\n",
              "    </tr>\n",
              "  </thead>\n",
              "  <tbody>\n",
              "    <tr>\n",
              "      <th>0</th>\n",
              "      <td>Renault</td>\n",
              "      <td>12</td>\n",
              "    </tr>\n",
              "    <tr>\n",
              "      <th>1</th>\n",
              "      <td>Hyundai</td>\n",
              "      <td>36</td>\n",
              "    </tr>\n",
              "    <tr>\n",
              "      <th>2</th>\n",
              "      <td>KIA</td>\n",
              "      <td>28</td>\n",
              "    </tr>\n",
              "    <tr>\n",
              "      <th>3</th>\n",
              "      <td>Toyota</td>\n",
              "      <td>32</td>\n",
              "    </tr>\n",
              "  </tbody>\n",
              "</table>\n",
              "</div>"
            ],
            "text/plain": [
              "     model  stock\n",
              "0  Renault     12\n",
              "1  Hyundai     36\n",
              "2      KIA     28\n",
              "3   Toyota     32"
            ]
          },
          "execution_count": 8,
          "metadata": {},
          "output_type": "execute_result"
        }
      ],
      "source": [
        "# поместим данные о количестве автомобилей различных марок в датафрейм\n",
        "cars = pd.DataFrame({'model' : ['Renault', 'Hyundai', 'KIA', 'Toyota'],\n",
        "                     'stock' : [12, 36, 28, 32]})\n",
        "\n",
        "cars"
      ]
    },
    {
      "cell_type": "code",
      "execution_count": 9,
      "metadata": {
        "colab": {
          "base_uri": "https://localhost:8080/",
          "height": 430
        },
        "id": "j6ArMcZeYyGM",
        "outputId": "3c4bbb52-4935-4f99-abf6-44b155ad95c1"
      },
      "outputs": [
        {
          "data": {
            "image/png": "[encoded data removed]",
            "text/plain": [
              "<Figure size 640x480 with 1 Axes>"
            ]
          },
          "metadata": {},
          "output_type": "display_data"
        }
      ],
      "source": [
        "# выведем данные с помощью столбчатой диаграммы\n",
        "# обратите внимание, что служебную информацию о графике можно убрать как с помощью plt.show(),\n",
        "# так и с помощью точки с запятой \";\"\n",
        "plt.bar(cars.model, cars.stock);"
      ]
    },
    {
      "cell_type": "markdown",
      "metadata": {
        "id": "jpyUZO47Xt8H"
      },
      "source": [
        "#### Порядковые данные"
      ]
    },
    {
      "cell_type": "code",
      "execution_count": 10,
      "metadata": {
        "colab": {
          "base_uri": "https://localhost:8080/",
          "height": 363
        },
        "id": "1vlxK3BBXMRv",
        "outputId": "28a76390-8009-403f-d09f-c34b6f13828f"
      },
      "outputs": [
        {
          "data": {
            "text/html": [
              "<div>\n",
              "<style scoped>\n",
              "    .dataframe tbody tr th:only-of-type {\n",
              "        vertical-align: middle;\n",
              "    }\n",
              "\n",
              "    .dataframe tbody tr th {\n",
              "        vertical-align: top;\n",
              "    }\n",
              "\n",
              "    .dataframe thead th {\n",
              "        text-align: right;\n",
              "    }\n",
              "</style>\n",
              "<table border=\"1\" class=\"dataframe\">\n",
              "  <thead>\n",
              "    <tr style=\"text-align: right;\">\n",
              "      <th></th>\n",
              "      <th>sat_level</th>\n",
              "    </tr>\n",
              "  </thead>\n",
              "  <tbody>\n",
              "    <tr>\n",
              "      <th>0</th>\n",
              "      <td>Good</td>\n",
              "    </tr>\n",
              "    <tr>\n",
              "      <th>1</th>\n",
              "      <td>Medium</td>\n",
              "    </tr>\n",
              "    <tr>\n",
              "      <th>2</th>\n",
              "      <td>Good</td>\n",
              "    </tr>\n",
              "    <tr>\n",
              "      <th>3</th>\n",
              "      <td>Medium</td>\n",
              "    </tr>\n",
              "    <tr>\n",
              "      <th>4</th>\n",
              "      <td>Bad</td>\n",
              "    </tr>\n",
              "    <tr>\n",
              "      <th>5</th>\n",
              "      <td>Medium</td>\n",
              "    </tr>\n",
              "    <tr>\n",
              "      <th>6</th>\n",
              "      <td>Good</td>\n",
              "    </tr>\n",
              "    <tr>\n",
              "      <th>7</th>\n",
              "      <td>Medium</td>\n",
              "    </tr>\n",
              "    <tr>\n",
              "      <th>8</th>\n",
              "      <td>Medium</td>\n",
              "    </tr>\n",
              "    <tr>\n",
              "      <th>9</th>\n",
              "      <td>Bad</td>\n",
              "    </tr>\n",
              "  </tbody>\n",
              "</table>\n",
              "</div>"
            ],
            "text/plain": [
              "  sat_level\n",
              "0      Good\n",
              "1    Medium\n",
              "2      Good\n",
              "3    Medium\n",
              "4       Bad\n",
              "5    Medium\n",
              "6      Good\n",
              "7    Medium\n",
              "8    Medium\n",
              "9       Bad"
            ]
          },
          "execution_count": 10,
          "metadata": {},
          "output_type": "execute_result"
        }
      ],
      "source": [
        "# соберем данные об уровне удовлетворенности десяти человек\n",
        "satisfaction = pd.DataFrame({'sat_level': ['Good', 'Medium', 'Good', 'Medium', 'Bad', 'Medium', 'Good', 'Medium', 'Medium', 'Bad']})\n",
        "\n",
        "satisfaction"
      ]
    },
    {
      "cell_type": "code",
      "execution_count": 11,
      "metadata": {
        "colab": {
          "base_uri": "https://localhost:8080/",
          "height": 450
        },
        "id": "u1wwPqoxY7-G",
        "outputId": "4e9e636a-d7a9-4981-a5ab-26194f7f67bc"
      },
      "outputs": [
        {
          "data": {
            "image/png": "[encoded data removed]",
            "text/plain": [
              "<Figure size 640x480 with 1 Axes>"
            ]
          },
          "metadata": {},
          "output_type": "display_data"
        }
      ],
      "source": [
        "# переведем данные в тип categorical\n",
        "satisfaction.sat_level = pd.Categorical(satisfaction.sat_level,\n",
        "                                        categories = ['Bad', 'Medium', 'Good'],\n",
        "                                        ordered = True)\n",
        "\n",
        "# построим столбчатую диаграмму типа countplot\n",
        "# с количеством оценок в каждой из категорий\n",
        "sns.countplot(x = 'sat_level', data = satisfaction);"
      ]
    },
    {
      "cell_type": "markdown",
      "metadata": {
        "id": "awcIJo7QZckM"
      },
      "source": [
        "### Количественные данные"
      ]
    },
    {
      "cell_type": "markdown",
      "metadata": {
        "id": "NDInW5woZkXO"
      },
      "source": [
        "#### Дискретные данные"
      ]
    },
    {
      "cell_type": "markdown",
      "metadata": {
        "id": "DrMZ3FYp4FmW"
      },
      "source": [
        "Распределение Пуассона"
      ]
    },
    {
      "cell_type": "code",
      "execution_count": 12,
      "metadata": {
        "colab": {
          "base_uri": "https://localhost:8080/"
        },
        "id": "xuWaQZgaZ2mo",
        "outputId": "39df5a8d-55f0-4fce-880e-59df17266c2e"
      },
      "outputs": [
        {
          "data": {
            "text/plain": [
              "array([4, 2, 2, 2, 0, 4, 4, 3, 3, 2], dtype=int32)"
            ]
          },
          "execution_count": 12,
          "metadata": {},
          "output_type": "execute_result"
        }
      ],
      "source": [
        "# смоделируем количество поступающих в колл-центр звонков,\n",
        "# передав матожидание (lam) и желаемое количество экспериментов (size)\n",
        "res = np.random.poisson(lam = 3, size = 1000)\n",
        "\n",
        "# посмотрим на первые 10 значений\n",
        "res[:10]"
      ]
    },
    {
      "cell_type": "code",
      "execution_count": 13,
      "metadata": {
        "colab": {
          "base_uri": "https://localhost:8080/"
        },
        "id": "Q7NZvUFIzmOV",
        "outputId": "737b8803-4c6b-4af5-90bf-6ac95a259557"
      },
      "outputs": [
        {
          "data": {
            "text/plain": [
              "(array([0, 1, 2, 3, 4, 5, 6, 7, 8, 9], dtype=int32),\n",
              " array([ 52, 157, 222, 213, 171, 103,  52,  18,   8,   4]))"
            ]
          },
          "execution_count": 13,
          "metadata": {},
          "output_type": "execute_result"
        }
      ],
      "source": [
        "# получим количество звонков в минуту (unique) и соответствующую им частоту (counts)\n",
        "unique, counts = np.unique(res, return_counts = True)\n",
        "unique, counts"
      ]
    },
    {
      "cell_type": "code",
      "execution_count": 14,
      "metadata": {
        "colab": {
          "base_uri": "https://localhost:8080/",
          "height": 497
        },
        "id": "C4FZOU4O3_VX",
        "outputId": "c9a18a0d-c5be-4ddf-8ebb-ef58025c2595"
      },
      "outputs": [
        {
          "data": {
            "image/png": "[encoded data removed]",
            "text/plain": [
              "<Figure size 1000x600 with 1 Axes>"
            ]
          },
          "metadata": {},
          "output_type": "display_data"
        }
      ],
      "source": [
        "# выведем абсолютные значения распределения количества звонков в минуту\n",
        "plt.figure(figsize = (10,6))\n",
        "plt.bar([str(x) for x in unique], counts, width = 0.95)\n",
        "plt.title('Абсолютное распределение количества звонков в минуту', fontsize = 16)\n",
        "plt.xlabel('количество звонков в минуту', fontsize = 16)\n",
        "plt.ylabel('частота', fontsize = 16);"
      ]
    },
    {
      "cell_type": "code",
      "execution_count": 15,
      "metadata": {
        "colab": {
          "base_uri": "https://localhost:8080/",
          "height": 494
        },
        "id": "bW69wAn13J7q",
        "outputId": "85384367-be56-4a02-d12a-43adde743c7b"
      },
      "outputs": [
        {
          "data": {
            "image/png": "[encoded data removed]",
            "text/plain": [
              "<Figure size 1000x600 with 1 Axes>"
            ]
          },
          "metadata": {},
          "output_type": "display_data"
        }
      ],
      "source": [
        "plt.figure(figsize = (10,6))\n",
        "# теперь посмотрим на относительное распределение количества звонков в минуту\n",
        "# для этого просто разделим количество звонков в каждом из столбцов на общее число звонков\n",
        "plt.bar([str(x) for x in unique], counts / len(res), width = 0.95)\n",
        "plt.title('Относительное распределение количества звонков в минуту', fontsize = 16)\n",
        "plt.xlabel('количество звонков в минуту', fontsize = 16)\n",
        "plt.ylabel('относительная частота', fontsize = 16);"
      ]
    },
    {
      "cell_type": "code",
      "execution_count": 16,
      "metadata": {
        "colab": {
          "base_uri": "https://localhost:8080/"
        },
        "id": "dk1gzVqhA-XU",
        "outputId": "384aab40-3aaa-431e-f1b1-609c05c3be4c"
      },
      "outputs": [
        {
          "data": {
            "text/plain": [
              "np.float64(0.03)"
            ]
          },
          "execution_count": 16,
          "metadata": {},
          "output_type": "execute_result"
        }
      ],
      "source": [
        "# рассчитаем вероятность получить более шести звонков в минуту\n",
        "np.round(len(res[res > 6])/len(res), 3)"
      ]
    },
    {
      "cell_type": "code",
      "execution_count": 17,
      "metadata": {
        "colab": {
          "base_uri": "https://localhost:8080/"
        },
        "id": "h-mMIv2CB3zJ",
        "outputId": "d60d1b13-91f2-47af-c071-0e70ac82c324"
      },
      "outputs": [
        {
          "data": {
            "text/plain": [
              "np.float64(0.761)"
            ]
          },
          "execution_count": 17,
          "metadata": {},
          "output_type": "execute_result"
        }
      ],
      "source": [
        "# рассчитаем вероятность получить от двух до шести звонков в минуту включительно\n",
        "np.round(len(res[res <= 6])/len(res) - len(res[res < 2])/len(res), 3)"
      ]
    },
    {
      "cell_type": "code",
      "execution_count": 18,
      "metadata": {
        "colab": {
          "base_uri": "https://localhost:8080/",
          "height": 494
        },
        "id": "05cnqhGPEnRf",
        "outputId": "ff009119-a4e8-4fb1-fad6-6776227ea6ba"
      },
      "outputs": [
        {
          "data": {
            "image/png": "[encoded data removed]",
            "text/plain": [
              "<Figure size 1000x600 with 1 Axes>"
            ]
          },
          "metadata": {},
          "output_type": "display_data"
        }
      ],
      "source": [
        "# построим график теоретической вероятности\n",
        "from scipy.stats import poisson\n",
        "\n",
        "# создадим последовательность целых чисел от 0 до 14\n",
        "x = np.arange(15)\n",
        "# передадим их в функцию poisson.pmf()\n",
        "# mu в данном случае это матожидание (lambda из формулы)\n",
        "f = poisson.pmf(x, mu = 3)\n",
        "\n",
        "# построим график теоретического распределения, изменив для наглядности его цвет\n",
        "plt.figure(figsize = (10,6))\n",
        "plt.bar([str(x) for x in x], f, width = 0.95, color = 'green')\n",
        "plt.title('Теоретическое распределение количества звонков в минуту', fontsize = 16)\n",
        "plt.xlabel('количество звонков в минуту', fontsize = 16)\n",
        "plt.ylabel('относительная частота', fontsize = 16);"
      ]
    },
    {
      "cell_type": "code",
      "execution_count": 19,
      "metadata": {
        "colab": {
          "base_uri": "https://localhost:8080/"
        },
        "id": "RxNzfMn-On11",
        "outputId": "948c7ea8-08be-46d3-b987-d3800d148be1"
      },
      "outputs": [
        {
          "data": {
            "text/plain": [
              "np.float64(0.199)"
            ]
          },
          "execution_count": 19,
          "metadata": {},
          "output_type": "execute_result"
        }
      ],
      "source": [
        "# рассчитаем вероятность получения нуля звонков или одного звонка в час\n",
        "poisson.cdf(1, 3).round(3)"
      ]
    },
    {
      "cell_type": "code",
      "execution_count": 20,
      "metadata": {
        "colab": {
          "base_uri": "https://localhost:8080/"
        },
        "id": "GFuQ3ZxEG2FT",
        "outputId": "308bf5ce-1981-4376-a8f0-d80adbe80d2b"
      },
      "outputs": [
        {
          "data": {
            "text/plain": [
              "np.float64(0.034)"
            ]
          },
          "execution_count": 20,
          "metadata": {},
          "output_type": "execute_result"
        }
      ],
      "source": [
        "# найдем площадь столбцов до шести звонков в минуту включительно\n",
        "# и вычтем результат из единицы\n",
        "np.round(1 - poisson.cdf(6, 3), 3)"
      ]
    },
    {
      "cell_type": "code",
      "execution_count": 21,
      "metadata": {
        "colab": {
          "base_uri": "https://localhost:8080/"
        },
        "id": "Vfgp_qFaHXhE",
        "outputId": "f14ce8fa-1f48-41e4-feed-ddcc16efe6b3"
      },
      "outputs": [
        {
          "data": {
            "text/plain": [
              "np.float64(0.767)"
            ]
          },
          "execution_count": 21,
          "metadata": {},
          "output_type": "execute_result"
        }
      ],
      "source": [
        "# для выполнения второго задания вычтем площадь столбцов ноль и один\n",
        "# из площади столбцов до шестого включительно\n",
        "np.round(poisson.cdf(6, 3) - poisson.cdf(1, 3), 3)"
      ]
    },
    {
      "cell_type": "markdown",
      "metadata": {
        "id": "WRJzIlArZyJg"
      },
      "source": [
        "#### Непрерывные данные"
      ]
    },
    {
      "cell_type": "markdown",
      "metadata": {
        "id": "ZDpWYRv_D5ht"
      },
      "source": [
        "См. пример [нормального распределения](https://www.dmitrymakarov.ru/python/random-11-03/#6-normalnoe-raspredelenie) непрерывных данных в занятии по модулю random."
      ]
    },
    {
      "cell_type": "markdown",
      "metadata": {
        "id": "NKaRI577d3PD"
      },
      "source": [
        "## Перекрестные данные, временные ряды и панельные данные"
      ]
    },
    {
      "cell_type": "markdown",
      "metadata": {
        "id": "Wex6gZHlBIcJ"
      },
      "source": [
        "### Перекрестные данные"
      ]
    },
    {
      "cell_type": "code",
      "execution_count": 22,
      "metadata": {
        "colab": {
          "base_uri": "https://localhost:8080/",
          "height": 143
        },
        "id": "y74qPzDvd9Y-",
        "outputId": "9853943e-d52f-4d67-a9a2-a99fb6aafa02"
      },
      "outputs": [
        {
          "data": {
            "text/html": [
              "<div>\n",
              "<style scoped>\n",
              "    .dataframe tbody tr th:only-of-type {\n",
              "        vertical-align: middle;\n",
              "    }\n",
              "\n",
              "    .dataframe tbody tr th {\n",
              "        vertical-align: top;\n",
              "    }\n",
              "\n",
              "    .dataframe thead th {\n",
              "        text-align: right;\n",
              "    }\n",
              "</style>\n",
              "<table border=\"1\" class=\"dataframe\">\n",
              "  <thead>\n",
              "    <tr style=\"text-align: right;\">\n",
              "      <th></th>\n",
              "      <th>countries</th>\n",
              "      <th>healthcare</th>\n",
              "      <th>education</th>\n",
              "    </tr>\n",
              "  </thead>\n",
              "  <tbody>\n",
              "    <tr>\n",
              "      <th>0</th>\n",
              "      <td>France</td>\n",
              "      <td>4492</td>\n",
              "      <td>9210</td>\n",
              "    </tr>\n",
              "    <tr>\n",
              "      <th>1</th>\n",
              "      <td>Belgium</td>\n",
              "      <td>5428</td>\n",
              "      <td>10869</td>\n",
              "    </tr>\n",
              "    <tr>\n",
              "      <th>2</th>\n",
              "      <td>Spain</td>\n",
              "      <td>3616</td>\n",
              "      <td>6498</td>\n",
              "    </tr>\n",
              "  </tbody>\n",
              "</table>\n",
              "</div>"
            ],
            "text/plain": [
              "  countries  healthcare  education\n",
              "0    France        4492       9210\n",
              "1   Belgium        5428      10869\n",
              "2     Spain        3616       6498"
            ]
          },
          "execution_count": 22,
          "metadata": {},
          "output_type": "execute_result"
        }
      ],
      "source": [
        "# создадим датафрейм с данными по Франции, Бельгии и Испании\n",
        "csect = pd.DataFrame({'countries' : ['France', 'Belgium', 'Spain'],\n",
        "                      'healthcare' : [4492, 5428, 3616],\n",
        "                      'education': [9210, 10869, 6498]})\n",
        "\n",
        "# посмотрим на результат\n",
        "csect"
      ]
    },
    {
      "cell_type": "code",
      "execution_count": 23,
      "metadata": {
        "colab": {
          "base_uri": "https://localhost:8080/",
          "height": 382
        },
        "id": "tqEpEdP29I3i",
        "outputId": "152c9207-8060-4838-e61b-0f561660fc58"
      },
      "outputs": [
        {
          "data": {
            "image/png": "[encoded data removed]",
            "text/plain": [
              "<Figure size 1200x500 with 2 Axes>"
            ]
          },
          "metadata": {},
          "output_type": "display_data"
        }
      ],
      "source": [
        "# зададим размер фигуры для обоих графиков\n",
        "plt.figure(figsize = (12,5))\n",
        "\n",
        "# используем функцию plt.subplot() для создания первого графика (index = 1)\n",
        "# передаваемые параметры: nrows, ncols, index\n",
        "plt.subplot(1, 2, 1)\n",
        "# построим столбчатую диаграмму для здравоохранения\n",
        "plt.bar(csect.countries, csect.healthcare)\n",
        "plt.title('Здравоохранение', fontsize = 14)\n",
        "plt.xlabel('Страны', fontsize = 12)\n",
        "plt.ylabel('Доллары США на душу населения', fontsize = 12)\n",
        "\n",
        "# создадим второй график (index = 2)\n",
        "# параметры можно передать одним числом\n",
        "plt.subplot(122)\n",
        "# построим столбчатую диаграмму для образования\n",
        "plt.bar(csect.countries, csect.education, color = 'orange')\n",
        "plt.title('Образование', fontsize = 14)\n",
        "plt.xlabel('Страны', fontsize = 12)\n",
        "plt.ylabel('Евро на одного учащегося', fontsize = 12)\n",
        "\n",
        "# отрегулируем пространство между графиками\n",
        "plt.subplots_adjust(wspace = 0.4)\n",
        "\n",
        "# зададим общий график\n",
        "plt.suptitle('Расходы на здравоохранение и образование в 2019 году ', fontsize = 16)\n",
        "\n",
        "# выведем результат\n",
        "plt.show()"
      ]
    },
    {
      "cell_type": "markdown",
      "metadata": {
        "id": "UuNjoRfkBKb-"
      },
      "source": [
        "### Временные ряды"
      ]
    },
    {
      "cell_type": "code",
      "execution_count": 24,
      "metadata": {
        "colab": {
          "base_uri": "https://localhost:8080/",
          "height": 394
        },
        "id": "DFZPgESjBNGo",
        "outputId": "859f9efb-26a6-49e2-9248-456c26c8a891"
      },
      "outputs": [
        {
          "data": {
            "text/html": [
              "<div>\n",
              "<style scoped>\n",
              "    .dataframe tbody tr th:only-of-type {\n",
              "        vertical-align: middle;\n",
              "    }\n",
              "\n",
              "    .dataframe tbody tr th {\n",
              "        vertical-align: top;\n",
              "    }\n",
              "\n",
              "    .dataframe thead th {\n",
              "        text-align: right;\n",
              "    }\n",
              "</style>\n",
              "<table border=\"1\" class=\"dataframe\">\n",
              "  <thead>\n",
              "    <tr style=\"text-align: right;\">\n",
              "      <th></th>\n",
              "      <th>healthcare</th>\n",
              "    </tr>\n",
              "    <tr>\n",
              "      <th>year</th>\n",
              "      <th></th>\n",
              "    </tr>\n",
              "  </thead>\n",
              "  <tbody>\n",
              "    <tr>\n",
              "      <th>2010-01-01</th>\n",
              "      <td>4598</td>\n",
              "    </tr>\n",
              "    <tr>\n",
              "      <th>2011-01-01</th>\n",
              "      <td>4939</td>\n",
              "    </tr>\n",
              "    <tr>\n",
              "      <th>2012-01-01</th>\n",
              "      <td>4651</td>\n",
              "    </tr>\n",
              "    <tr>\n",
              "      <th>2013-01-01</th>\n",
              "      <td>4902</td>\n",
              "    </tr>\n",
              "    <tr>\n",
              "      <th>2014-01-01</th>\n",
              "      <td>4999</td>\n",
              "    </tr>\n",
              "    <tr>\n",
              "      <th>2015-01-01</th>\n",
              "      <td>4208</td>\n",
              "    </tr>\n",
              "    <tr>\n",
              "      <th>2016-01-01</th>\n",
              "      <td>4268</td>\n",
              "    </tr>\n",
              "    <tr>\n",
              "      <th>2017-01-01</th>\n",
              "      <td>4425</td>\n",
              "    </tr>\n",
              "    <tr>\n",
              "      <th>2018-01-01</th>\n",
              "      <td>4690</td>\n",
              "    </tr>\n",
              "    <tr>\n",
              "      <th>2019-01-01</th>\n",
              "      <td>4492</td>\n",
              "    </tr>\n",
              "  </tbody>\n",
              "</table>\n",
              "</div>"
            ],
            "text/plain": [
              "            healthcare\n",
              "year                  \n",
              "2010-01-01        4598\n",
              "2011-01-01        4939\n",
              "2012-01-01        4651\n",
              "2013-01-01        4902\n",
              "2014-01-01        4999\n",
              "2015-01-01        4208\n",
              "2016-01-01        4268\n",
              "2017-01-01        4425\n",
              "2018-01-01        4690\n",
              "2019-01-01        4492"
            ]
          },
          "execution_count": 24,
          "metadata": {},
          "output_type": "execute_result"
        }
      ],
      "source": [
        "# создадим временной ряд расходов на здравоохранение во Франции с 2010 по 2019 годы\n",
        "tseries = pd.DataFrame({'year' :       [2010, 2011, 2012, 2013, 2014, 2015, 2016, 2017, 2018, 2019],\n",
        "                        'healthcare' : [4598, 4939, 4651, 4902, 4999, 4208, 4268, 4425, 4690, 4492]})\n",
        "\n",
        "# превратим год в объект datetime\n",
        "tseries.year = pd.to_datetime(tseries.year, format = '%Y')\n",
        "# и сделаем этот столбец индексом\n",
        "tseries.set_index('year', drop = True, inplace = True)\n",
        "\n",
        "# посмотрим на результат\n",
        "tseries"
      ]
    },
    {
      "cell_type": "code",
      "execution_count": 25,
      "metadata": {
        "colab": {
          "base_uri": "https://localhost:8080/",
          "height": 362
        },
        "id": "4L-kQ4MrE8C4",
        "outputId": "c01b56d5-aec5-46fe-b42a-99e063a1a229"
      },
      "outputs": [
        {
          "data": {
            "image/png": "[encoded data removed]",
            "text/plain": [
              "<Figure size 1200x500 with 1 Axes>"
            ]
          },
          "metadata": {},
          "output_type": "display_data"
        }
      ],
      "source": [
        "# выведем эти данные с помощью линейного графика\n",
        "plt.figure(figsize = (12,5))\n",
        "# дополнительно укажем цвет, толщину линии и вид маркера\n",
        "plt.plot(tseries, color = 'green', linewidth = 2, marker = 'o')\n",
        "\n",
        "# добавим подписи к осям и заголовок\n",
        "plt.xlabel('Годы', fontsize = 14)\n",
        "plt.ylabel('Доллары США', fontsize = 14)\n",
        "plt.title('Расходы на здравоохранение на душу населения во Франции с 2010 по 2019 год', fontsize = 14)\n",
        "\n",
        "# выведем результат\n",
        "plt.show()"
      ]
    },
    {
      "cell_type": "markdown",
      "metadata": {
        "id": "RIP6iqO_BNnz"
      },
      "source": [
        "### Панельные данные"
      ]
    },
    {
      "cell_type": "markdown",
      "metadata": {
        "id": "lNe3UWz9hOrS"
      },
      "source": [
        "Создание датафрейма с панельными данными с помощью иерархического индекса"
      ]
    },
    {
      "cell_type": "code",
      "execution_count": 26,
      "metadata": {
        "id": "BK-00MaFBRaT"
      },
      "outputs": [],
      "source": [
        "# вначале создадим датафрейм с данными расходов на душу населения на здравоохранение трех стран с 2015 по 2019 годы\n",
        "# первые пять цифр относятся к Франции, вторые пять - к Бельгии, третьи пять - к Испании\n",
        "pdata = pd.DataFrame({'healthcare' : [4208, 4268, 4425, 4690, 4492, 4290, 4323, 4618, 4913, 4960, 2349, 2377, 2523, 2736, 2542]})"
      ]
    },
    {
      "cell_type": "code",
      "execution_count": 27,
      "metadata": {
        "colab": {
          "base_uri": "https://localhost:8080/",
          "height": 551
        },
        "id": "kZGSIsMnJB5o",
        "outputId": "a99f1f08-6078-4aae-d6b0-e5666e580cf4"
      },
      "outputs": [
        {
          "data": {
            "text/html": [
              "<div>\n",
              "<style scoped>\n",
              "    .dataframe tbody tr th:only-of-type {\n",
              "        vertical-align: middle;\n",
              "    }\n",
              "\n",
              "    .dataframe tbody tr th {\n",
              "        vertical-align: top;\n",
              "    }\n",
              "\n",
              "    .dataframe thead th {\n",
              "        text-align: right;\n",
              "    }\n",
              "</style>\n",
              "<table border=\"1\" class=\"dataframe\">\n",
              "  <thead>\n",
              "    <tr style=\"text-align: right;\">\n",
              "      <th></th>\n",
              "      <th></th>\n",
              "      <th>healthcare</th>\n",
              "    </tr>\n",
              "    <tr>\n",
              "      <th>country</th>\n",
              "      <th>year</th>\n",
              "      <th></th>\n",
              "    </tr>\n",
              "  </thead>\n",
              "  <tbody>\n",
              "    <tr>\n",
              "      <th rowspan=\"5\" valign=\"top\">France</th>\n",
              "      <th>2015</th>\n",
              "      <td>4208</td>\n",
              "    </tr>\n",
              "    <tr>\n",
              "      <th>2016</th>\n",
              "      <td>4268</td>\n",
              "    </tr>\n",
              "    <tr>\n",
              "      <th>2017</th>\n",
              "      <td>4425</td>\n",
              "    </tr>\n",
              "    <tr>\n",
              "      <th>2018</th>\n",
              "      <td>4690</td>\n",
              "    </tr>\n",
              "    <tr>\n",
              "      <th>2019</th>\n",
              "      <td>4492</td>\n",
              "    </tr>\n",
              "    <tr>\n",
              "      <th rowspan=\"5\" valign=\"top\">Belgium</th>\n",
              "      <th>2015</th>\n",
              "      <td>4290</td>\n",
              "    </tr>\n",
              "    <tr>\n",
              "      <th>2016</th>\n",
              "      <td>4323</td>\n",
              "    </tr>\n",
              "    <tr>\n",
              "      <th>2017</th>\n",
              "      <td>4618</td>\n",
              "    </tr>\n",
              "    <tr>\n",
              "      <th>2018</th>\n",
              "      <td>4913</td>\n",
              "    </tr>\n",
              "    <tr>\n",
              "      <th>2019</th>\n",
              "      <td>4960</td>\n",
              "    </tr>\n",
              "    <tr>\n",
              "      <th rowspan=\"5\" valign=\"top\">Spain</th>\n",
              "      <th>2015</th>\n",
              "      <td>2349</td>\n",
              "    </tr>\n",
              "    <tr>\n",
              "      <th>2016</th>\n",
              "      <td>2377</td>\n",
              "    </tr>\n",
              "    <tr>\n",
              "      <th>2017</th>\n",
              "      <td>2523</td>\n",
              "    </tr>\n",
              "    <tr>\n",
              "      <th>2018</th>\n",
              "      <td>2736</td>\n",
              "    </tr>\n",
              "    <tr>\n",
              "      <th>2019</th>\n",
              "      <td>2542</td>\n",
              "    </tr>\n",
              "  </tbody>\n",
              "</table>\n",
              "</div>"
            ],
            "text/plain": [
              "              healthcare\n",
              "country year            \n",
              "France  2015        4208\n",
              "        2016        4268\n",
              "        2017        4425\n",
              "        2018        4690\n",
              "        2019        4492\n",
              "Belgium 2015        4290\n",
              "        2016        4323\n",
              "        2017        4618\n",
              "        2018        4913\n",
              "        2019        4960\n",
              "Spain   2015        2349\n",
              "        2016        2377\n",
              "        2017        2523\n",
              "        2018        2736\n",
              "        2019        2542"
            ]
          },
          "execution_count": 27,
          "metadata": {},
          "output_type": "execute_result"
        }
      ],
      "source": [
        "# создадим кортежи для иерархического индекса\n",
        "rows = [('France', '2015'),\n",
        "        ('France', '2016'),\n",
        "        ('France', '2017'),\n",
        "        ('France', '2018'),\n",
        "        ('France', '2019'),\n",
        "        ('Belgium', '2015'),\n",
        "        ('Belgium', '2016'),\n",
        "        ('Belgium', '2017'),\n",
        "        ('Belgium', '2018'),\n",
        "        ('Belgium', '2019'),\n",
        "        ('Spain', '2015'),\n",
        "        ('Spain', '2016'),\n",
        "        ('Spain', '2017'),\n",
        "        ('Spain', '2018'),\n",
        "        ('Spain', '2019')]\n",
        "\n",
        "# передадим кортежи в функцию pd.MultiIndex.from_tuples(),\n",
        "# указав названия уровней индекса\n",
        "custom_multindex = pd.MultiIndex.from_tuples(rows, names = ['country', 'year'])\n",
        "\n",
        "# сделаем custom_multindex индексом датафрейма с панельными данными\n",
        "pdata.index = custom_multindex\n",
        "\n",
        "# посмотрим на результат\n",
        "pdata"
      ]
    },
    {
      "cell_type": "markdown",
      "metadata": {
        "id": "KY0amWhrhaBX"
      },
      "source": [
        "Визуализация панельных данных"
      ]
    },
    {
      "cell_type": "code",
      "execution_count": 28,
      "metadata": {
        "colab": {
          "base_uri": "https://localhost:8080/",
          "height": 237
        },
        "id": "CUDqKUXhOiJ6",
        "outputId": "5cbf33b1-897d-429a-e3ad-a9344c3fa2cc"
      },
      "outputs": [
        {
          "data": {
            "text/html": [
              "<div>\n",
              "<style scoped>\n",
              "    .dataframe tbody tr th:only-of-type {\n",
              "        vertical-align: middle;\n",
              "    }\n",
              "\n",
              "    .dataframe tbody tr th {\n",
              "        vertical-align: top;\n",
              "    }\n",
              "\n",
              "    .dataframe thead th {\n",
              "        text-align: right;\n",
              "    }\n",
              "</style>\n",
              "<table border=\"1\" class=\"dataframe\">\n",
              "  <thead>\n",
              "    <tr style=\"text-align: right;\">\n",
              "      <th>country</th>\n",
              "      <th>Belgium</th>\n",
              "      <th>France</th>\n",
              "      <th>Spain</th>\n",
              "    </tr>\n",
              "    <tr>\n",
              "      <th>year</th>\n",
              "      <th></th>\n",
              "      <th></th>\n",
              "      <th></th>\n",
              "    </tr>\n",
              "  </thead>\n",
              "  <tbody>\n",
              "    <tr>\n",
              "      <th>2015</th>\n",
              "      <td>4290</td>\n",
              "      <td>4208</td>\n",
              "      <td>2349</td>\n",
              "    </tr>\n",
              "    <tr>\n",
              "      <th>2016</th>\n",
              "      <td>4323</td>\n",
              "      <td>4268</td>\n",
              "      <td>2377</td>\n",
              "    </tr>\n",
              "    <tr>\n",
              "      <th>2017</th>\n",
              "      <td>4618</td>\n",
              "      <td>4425</td>\n",
              "      <td>2523</td>\n",
              "    </tr>\n",
              "    <tr>\n",
              "      <th>2018</th>\n",
              "      <td>4913</td>\n",
              "      <td>4690</td>\n",
              "      <td>2736</td>\n",
              "    </tr>\n",
              "    <tr>\n",
              "      <th>2019</th>\n",
              "      <td>4960</td>\n",
              "      <td>4492</td>\n",
              "      <td>2542</td>\n",
              "    </tr>\n",
              "  </tbody>\n",
              "</table>\n",
              "</div>"
            ],
            "text/plain": [
              "country  Belgium  France  Spain\n",
              "year                           \n",
              "2015        4290    4208   2349\n",
              "2016        4323    4268   2377\n",
              "2017        4618    4425   2523\n",
              "2018        4913    4690   2736\n",
              "2019        4960    4492   2542"
            ]
          },
          "execution_count": 28,
          "metadata": {},
          "output_type": "execute_result"
        }
      ],
      "source": [
        "# сделаем данные по странам (index level = 0) отдельными столбцами\n",
        "pdata_unstacked = pdata.healthcare.unstack(level = 0)\n",
        "\n",
        "# метод .unstack() выстроит столбцы в алфавитном порядке\n",
        "pdata_unstacked"
      ]
    },
    {
      "cell_type": "code",
      "execution_count": 29,
      "metadata": {
        "colab": {
          "base_uri": "https://localhost:8080/",
          "height": 345
        },
        "id": "LrqivUvrgfqB",
        "outputId": "716e6e71-3416-45cb-8df1-315215651834"
      },
      "outputs": [
        {
          "data": {
            "image/png": "[encoded data removed]",
            "text/plain": [
              "<Figure size 1000x500 with 1 Axes>"
            ]
          },
          "metadata": {},
          "output_type": "display_data"
        }
      ],
      "source": [
        "# зададим размер графика\n",
        "plt.figure(figsize = (10,5))\n",
        "\n",
        "# построим три кривые\n",
        "pdata_unstacked.Belgium.plot(linewidth = 2, marker = 'o', label = 'Бельгия')\n",
        "pdata_unstacked.France.plot(linewidth = 2, marker = 'o', label = 'Франция')\n",
        "pdata_unstacked.Spain.plot(linewidth = 2, marker = 'o', label = 'Испания')\n",
        "\n",
        "# дополним подписями к осям, заголовком и легендой\n",
        "plt.xlabel('Годы', fontsize = 14)\n",
        "plt.ylabel('Доллары США', fontsize = 14)\n",
        "plt.title('Расходы на здравоохранение на душу населения в Бельгии, Франции и Испании с 2015 по 2019 годы', fontsize = 14)\n",
        "plt.legend(loc = 'center left', prop = {'size': 14})\n",
        "\n",
        "plt.show()"
      ]
    },
    {
      "cell_type": "code",
      "execution_count": 30,
      "metadata": {
        "colab": {
          "base_uri": "https://localhost:8080/",
          "height": 341
        },
        "id": "Ah5QY1kCPmnm",
        "outputId": "cbb64ce5-19ce-4b0d-fa07-3ac30c562a4e"
      },
      "outputs": [
        {
          "data": {
            "image/png": "[encoded data removed]",
            "text/plain": [
              "<Figure size 1300x500 with 3 Axes>"
            ]
          },
          "metadata": {},
          "output_type": "display_data"
        }
      ],
      "source": [
        "pdata_unstacked.plot(kind = 'bar', # создадим столбчатые диаграммы,\n",
        "                     subplots = True, # которые разместим на подграфиках\n",
        "                     layout = (1, 3), # на сетке из одной строки и трех столбцов\n",
        "                     rot = 0, # сделаем подписи по оси x горизонтальными\n",
        "                     figsize = (13, 5), # зададим внешний размер для трех графиков\n",
        "                     sharey = True, # важно иметь одинаковую шкалу по оси y для сравнения расходов\n",
        "                     fontsize = 11, # зададим размер шрифта единиц измерения по обеим шкалам и\n",
        "                     width = 0.8, # ширину столбцов\n",
        "                     xlabel = '', # кроме того, уберем подписи к годам\n",
        "                     ylabel = 'доллары США', # поставим подпись по оси y\n",
        "                     legend = None, # уберем легенду\n",
        "                     title = ['Бельгия', 'Франция', 'Испания']) # пропишем названия столбцов по-русски\n",
        "\n",
        "# отрегулируем ширину между графиками\n",
        "plt.subplots_adjust(wspace = 0.1)\n",
        "\n",
        "# добавим общий заголовок\n",
        "plt.suptitle('Расходы на здравоохранение с 2015 по 2019 годы', fontsize = 16);"
      ]
    },
    {
      "cell_type": "markdown",
      "metadata": {
        "id": "fUWHqYfod97z"
      },
      "source": [
        "## Одномерный и многомерный анализ"
      ]
    },
    {
      "cell_type": "markdown",
      "metadata": {
        "id": "jD1f10KXqUP_"
      },
      "source": [
        "#### Многомерный временной ряд"
      ]
    },
    {
      "cell_type": "code",
      "execution_count": 31,
      "metadata": {
        "colab": {
          "base_uri": "https://localhost:8080/",
          "height": 394
        },
        "id": "oHFWfJ3geFXP",
        "outputId": "b665dace-2575-4ce2-a3f2-2a552cbfdc65"
      },
      "outputs": [
        {
          "data": {
            "text/html": [
              "<div>\n",
              "<style scoped>\n",
              "    .dataframe tbody tr th:only-of-type {\n",
              "        vertical-align: middle;\n",
              "    }\n",
              "\n",
              "    .dataframe tbody tr th {\n",
              "        vertical-align: top;\n",
              "    }\n",
              "\n",
              "    .dataframe thead th {\n",
              "        text-align: right;\n",
              "    }\n",
              "</style>\n",
              "<table border=\"1\" class=\"dataframe\">\n",
              "  <thead>\n",
              "    <tr style=\"text-align: right;\">\n",
              "      <th></th>\n",
              "      <th>healthcare</th>\n",
              "      <th>education</th>\n",
              "    </tr>\n",
              "    <tr>\n",
              "      <th>year</th>\n",
              "      <th></th>\n",
              "      <th></th>\n",
              "    </tr>\n",
              "  </thead>\n",
              "  <tbody>\n",
              "    <tr>\n",
              "      <th>2010-01-01</th>\n",
              "      <td>4598</td>\n",
              "      <td>5.69</td>\n",
              "    </tr>\n",
              "    <tr>\n",
              "      <th>2011-01-01</th>\n",
              "      <td>4939</td>\n",
              "      <td>5.52</td>\n",
              "    </tr>\n",
              "    <tr>\n",
              "      <th>2012-01-01</th>\n",
              "      <td>4651</td>\n",
              "      <td>5.46</td>\n",
              "    </tr>\n",
              "    <tr>\n",
              "      <th>2013-01-01</th>\n",
              "      <td>4902</td>\n",
              "      <td>5.50</td>\n",
              "    </tr>\n",
              "    <tr>\n",
              "      <th>2014-01-01</th>\n",
              "      <td>4999</td>\n",
              "      <td>5.51</td>\n",
              "    </tr>\n",
              "    <tr>\n",
              "      <th>2015-01-01</th>\n",
              "      <td>4208</td>\n",
              "      <td>5.46</td>\n",
              "    </tr>\n",
              "    <tr>\n",
              "      <th>2016-01-01</th>\n",
              "      <td>4268</td>\n",
              "      <td>5.48</td>\n",
              "    </tr>\n",
              "    <tr>\n",
              "      <th>2017-01-01</th>\n",
              "      <td>4425</td>\n",
              "      <td>5.45</td>\n",
              "    </tr>\n",
              "    <tr>\n",
              "      <th>2018-01-01</th>\n",
              "      <td>4690</td>\n",
              "      <td>5.41</td>\n",
              "    </tr>\n",
              "    <tr>\n",
              "      <th>2019-01-01</th>\n",
              "      <td>4492</td>\n",
              "      <td>6.62</td>\n",
              "    </tr>\n",
              "  </tbody>\n",
              "</table>\n",
              "</div>"
            ],
            "text/plain": [
              "            healthcare  education\n",
              "year                             \n",
              "2010-01-01        4598       5.69\n",
              "2011-01-01        4939       5.52\n",
              "2012-01-01        4651       5.46\n",
              "2013-01-01        4902       5.50\n",
              "2014-01-01        4999       5.51\n",
              "2015-01-01        4208       5.46\n",
              "2016-01-01        4268       5.48\n",
              "2017-01-01        4425       5.45\n",
              "2018-01-01        4690       5.41\n",
              "2019-01-01        4492       6.62"
            ]
          },
          "execution_count": 31,
          "metadata": {},
          "output_type": "execute_result"
        }
      ],
      "source": [
        "# создадим временной ряд расходов на здравоохранение во Франции на душу населения в долларах с 2010 по 2019 годы\n",
        "# и приведем процент ВВП, потраченный на образование, за аналогичный период\n",
        "tseries_mult = pd.DataFrame({'year' :       [2010, 2011, 2012, 2013, 2014, 2015, 2016, 2017, 2018, 2019],\n",
        "                             'healthcare' : [4598, 4939, 4651, 4902, 4999, 4208, 4268, 4425, 4690, 4492],\n",
        "                             'education' :  [5.69, 5.52, 5.46, 5.50, 5.51, 5.46, 5.48, 5.45, 5.41, 6.62]})\n",
        "\n",
        "# превратим год в объект datetime\n",
        "tseries_mult.year = pd.to_datetime(tseries_mult.year, format = '%Y')\n",
        "# и сделаем этот столбец индексом\n",
        "tseries_mult.set_index('year', drop = True, inplace = True)\n",
        "\n",
        "# посмотрим на результат\n",
        "tseries_mult"
      ]
    },
    {
      "cell_type": "markdown",
      "metadata": {
        "id": "_eSM3aFLqXMn"
      },
      "source": [
        "#### Многомерные панельные данные"
      ]
    },
    {
      "cell_type": "code",
      "execution_count": 32,
      "metadata": {
        "colab": {
          "base_uri": "https://localhost:8080/",
          "height": 551
        },
        "id": "M8qNCiJIqaz2",
        "outputId": "865f6932-97c3-40ac-fd29-99c08b2137ee"
      },
      "outputs": [
        {
          "data": {
            "text/html": [
              "<div>\n",
              "<style scoped>\n",
              "    .dataframe tbody tr th:only-of-type {\n",
              "        vertical-align: middle;\n",
              "    }\n",
              "\n",
              "    .dataframe tbody tr th {\n",
              "        vertical-align: top;\n",
              "    }\n",
              "\n",
              "    .dataframe thead th {\n",
              "        text-align: right;\n",
              "    }\n",
              "</style>\n",
              "<table border=\"1\" class=\"dataframe\">\n",
              "  <thead>\n",
              "    <tr style=\"text-align: right;\">\n",
              "      <th></th>\n",
              "      <th></th>\n",
              "      <th>healthcare, per capita</th>\n",
              "      <th>education, % of GDP</th>\n",
              "    </tr>\n",
              "    <tr>\n",
              "      <th>country</th>\n",
              "      <th>year</th>\n",
              "      <th></th>\n",
              "      <th></th>\n",
              "    </tr>\n",
              "  </thead>\n",
              "  <tbody>\n",
              "    <tr>\n",
              "      <th rowspan=\"5\" valign=\"top\">France</th>\n",
              "      <th>2015</th>\n",
              "      <td>4208</td>\n",
              "      <td>5.46</td>\n",
              "    </tr>\n",
              "    <tr>\n",
              "      <th>2016</th>\n",
              "      <td>4268</td>\n",
              "      <td>5.48</td>\n",
              "    </tr>\n",
              "    <tr>\n",
              "      <th>2017</th>\n",
              "      <td>4425</td>\n",
              "      <td>5.45</td>\n",
              "    </tr>\n",
              "    <tr>\n",
              "      <th>2018</th>\n",
              "      <td>4690</td>\n",
              "      <td>5.41</td>\n",
              "    </tr>\n",
              "    <tr>\n",
              "      <th>2019</th>\n",
              "      <td>4492</td>\n",
              "      <td>6.62</td>\n",
              "    </tr>\n",
              "    <tr>\n",
              "      <th rowspan=\"5\" valign=\"top\">Belgium</th>\n",
              "      <th>2015</th>\n",
              "      <td>4290</td>\n",
              "      <td>6.45</td>\n",
              "    </tr>\n",
              "    <tr>\n",
              "      <th>2016</th>\n",
              "      <td>4323</td>\n",
              "      <td>6.46</td>\n",
              "    </tr>\n",
              "    <tr>\n",
              "      <th>2017</th>\n",
              "      <td>4618</td>\n",
              "      <td>6.43</td>\n",
              "    </tr>\n",
              "    <tr>\n",
              "      <th>2018</th>\n",
              "      <td>4913</td>\n",
              "      <td>6.38</td>\n",
              "    </tr>\n",
              "    <tr>\n",
              "      <th>2019</th>\n",
              "      <td>4960</td>\n",
              "      <td>6.40</td>\n",
              "    </tr>\n",
              "    <tr>\n",
              "      <th rowspan=\"5\" valign=\"top\">Spain</th>\n",
              "      <th>2015</th>\n",
              "      <td>2349</td>\n",
              "      <td>4.29</td>\n",
              "    </tr>\n",
              "    <tr>\n",
              "      <th>2016</th>\n",
              "      <td>2377</td>\n",
              "      <td>4.23</td>\n",
              "    </tr>\n",
              "    <tr>\n",
              "      <th>2017</th>\n",
              "      <td>2523</td>\n",
              "      <td>4.21</td>\n",
              "    </tr>\n",
              "    <tr>\n",
              "      <th>2018</th>\n",
              "      <td>2736</td>\n",
              "      <td>4.18</td>\n",
              "    </tr>\n",
              "    <tr>\n",
              "      <th>2019</th>\n",
              "      <td>2542</td>\n",
              "      <td>4.26</td>\n",
              "    </tr>\n",
              "  </tbody>\n",
              "</table>\n",
              "</div>"
            ],
            "text/plain": [
              "              healthcare, per capita  education, % of GDP\n",
              "country year                                             \n",
              "France  2015                    4208                 5.46\n",
              "        2016                    4268                 5.48\n",
              "        2017                    4425                 5.45\n",
              "        2018                    4690                 5.41\n",
              "        2019                    4492                 6.62\n",
              "Belgium 2015                    4290                 6.45\n",
              "        2016                    4323                 6.46\n",
              "        2017                    4618                 6.43\n",
              "        2018                    4913                 6.38\n",
              "        2019                    4960                 6.40\n",
              "Spain   2015                    2349                 4.29\n",
              "        2016                    2377                 4.23\n",
              "        2017                    2523                 4.21\n",
              "        2018                    2736                 4.18\n",
              "        2019                    2542                 4.26"
            ]
          },
          "execution_count": 32,
          "metadata": {},
          "output_type": "execute_result"
        }
      ],
      "source": [
        "# вначале создадим датафрейм с данными расходов на здравоохранение и образование трех стран с 2015 по 2019 годы\n",
        "pdata_mult = pd.DataFrame({'healthcare, per capita' : [4208, 4268, 4425, 4690, 4492, 4290, 4323, 4618, 4913, 4960, 2349, 2377, 2523, 2736, 2542],\n",
        "                           'education, % of GDP'  : [5.46, 5.48, 5.45, 5.41, 6.62, 6.45, 6.46, 6.43, 6.38, 6.40, 4.29, 4.23, 4.21, 4.18, 4.26]})\n",
        "\n",
        "# создадим кортежи для иерархического индекса\n",
        "rows = [('France', '2015'),\n",
        "        ('France', '2016'),\n",
        "        ('France', '2017'),\n",
        "        ('France', '2018'),\n",
        "        ('France', '2019'),\n",
        "        ('Belgium', '2015'),\n",
        "        ('Belgium', '2016'),\n",
        "        ('Belgium', '2017'),\n",
        "        ('Belgium', '2018'),\n",
        "        ('Belgium', '2019'),\n",
        "        ('Spain', '2015'),\n",
        "        ('Spain', '2016'),\n",
        "        ('Spain', '2017'),\n",
        "        ('Spain', '2018'),\n",
        "        ('Spain', '2019')]\n",
        "\n",
        "# передадим кортежи в функцию pd.MultiIndex.from_tuples(),\n",
        "# указав названия уровней индекса\n",
        "custom_multindex = pd.MultiIndex.from_tuples(rows, names = ['country', 'year'])\n",
        "\n",
        "# сделаем custom_multindex индексом датафрейма с панельными данными\n",
        "pdata_mult.index = custom_multindex\n",
        "\n",
        "# посмотрим на результат\n",
        "pdata_mult"
      ]
    },
    {
      "cell_type": "markdown",
      "metadata": {
        "id": "mUn-jI2oAvyv"
      },
      "source": [
        "## Библиотеки"
      ]
    },
    {
      "cell_type": "markdown",
      "metadata": {
        "id": "gIE_rABDAyaZ"
      },
      "source": [
        "### Matplotlib"
      ]
    },
    {
      "cell_type": "markdown",
      "metadata": {
        "id": "Bssz7gBv56sU"
      },
      "source": [
        "#### Стиль MATLAB"
      ]
    },
    {
      "cell_type": "code",
      "execution_count": 33,
      "metadata": {
        "colab": {
          "base_uri": "https://localhost:8080/",
          "height": 472
        },
        "id": "oXro_v2hAxsa",
        "outputId": "9fd43d68-1651-455a-b656-9ff71a64cdf5"
      },
      "outputs": [
        {
          "data": {
            "image/png": "[encoded data removed]",
            "text/plain": [
              "<Figure size 640x480 with 1 Axes>"
            ]
          },
          "metadata": {},
          "output_type": "display_data"
        }
      ],
      "source": [
        "# зададим последовательность от -5 до 5 с шагом 0,1\n",
        "x = np.arange(-5, 5, 0.1)\n",
        "\n",
        "# построим график синусоиды\n",
        "plt.plot(x, np.sin(x))\n",
        "\n",
        "# зададим заголовок, подписи к осям и сетку\n",
        "plt.title('sin(x)')\n",
        "plt.xlabel('x')\n",
        "plt.ylabel('y')\n",
        "plt.grid();"
      ]
    },
    {
      "cell_type": "markdown",
      "metadata": {
        "id": "oNay1BtY6EPh"
      },
      "source": [
        "#### Подход ООП"
      ]
    },
    {
      "cell_type": "code",
      "execution_count": 34,
      "metadata": {
        "colab": {
          "base_uri": "https://localhost:8080/",
          "height": 52
        },
        "id": "-V4SfrY61aDc",
        "outputId": "7a94b93f-54e5-43a2-dbe5-395a6638efa8"
      },
      "outputs": [
        {
          "name": "stdout",
          "output_type": "stream",
          "text": [
            "<class 'matplotlib.figure.Figure'>\n"
          ]
        },
        {
          "data": {
            "text/plain": [
              "<Figure size 640x480 with 0 Axes>"
            ]
          },
          "metadata": {},
          "output_type": "display_data"
        }
      ],
      "source": [
        "# создадим объект класса figure\n",
        "fig = plt.figure()\n",
        "\n",
        "# и посмотрим на его тип\n",
        "print(type(fig))"
      ]
    },
    {
      "cell_type": "code",
      "execution_count": 35,
      "metadata": {
        "colab": {
          "base_uri": "https://localhost:8080/"
        },
        "id": "qI1zBac44Nqz",
        "outputId": "8327c221-2ecd-432d-ac99-97563bd4459c"
      },
      "outputs": [
        {
          "name": "stdout",
          "output_type": "stream",
          "text": [
            "<class 'matplotlib.axes._axes.Axes'>\n"
          ]
        }
      ],
      "source": [
        "# применим метод .add_subplot() для создания подграфика (объекта ax)\n",
        "# напомню, что первые два параметра задают количество строк и столбцов,\n",
        "# третий параметр - это индекс (порядковый номер подграфика)\n",
        "ax = fig.add_subplot(2, 1, 1)\n",
        "\n",
        "# посмотрим на тип этого объекта\n",
        "print(type(ax))"
      ]
    },
    {
      "cell_type": "code",
      "execution_count": 36,
      "metadata": {
        "colab": {
          "base_uri": "https://localhost:8080/"
        },
        "id": "9CIE_u0nNXoi",
        "outputId": "8a228d99-8c22-4547-f601-af8e624f0175"
      },
      "outputs": [
        {
          "data": {
            "text/plain": [
              "1"
            ]
          },
          "execution_count": 36,
          "metadata": {},
          "output_type": "execute_result"
        }
      ],
      "source": [
        "fig.number"
      ]
    },
    {
      "cell_type": "code",
      "execution_count": 37,
      "metadata": {
        "colab": {
          "base_uri": "https://localhost:8080/",
          "height": 330
        },
        "id": "qMLU5bZu4oqA",
        "outputId": "f635ccac-1cd2-4285-ed63-deea243bf6f5"
      },
      "outputs": [
        {
          "data": {
            "image/png": "[encoded data removed]",
            "text/plain": [
              "<Figure size 800x600 with 2 Axes>"
            ]
          },
          "metadata": {},
          "output_type": "display_data"
        }
      ],
      "source": [
        "# вначале создаем объект figure, указываем размер объекта\n",
        "fig = plt.figure(figsize = (8,6))\n",
        "# и его заголовок с помощью метода .suptitle()\n",
        "fig.suptitle('Figure object')\n",
        "# можно и plt.suptitle('Figure object')\n",
        "\n",
        "# внутри него создаем первый объекта класса axes\n",
        "ax1 = fig.add_subplot(2, 2 ,1)\n",
        "# к этому объекту можно применять различные методы\n",
        "ax1.set_title('Axes object 1')\n",
        "\n",
        "# и второй (напомню, параметры можно передать без запятых)\n",
        "ax2 = fig.add_subplot(2, 2, 2)\n",
        "ax2.set_title('Axes object 2')\n",
        "\n",
        "# выведем результат\n",
        "plt.show()"
      ]
    },
    {
      "cell_type": "markdown",
      "metadata": {
        "id": "aK6zplQKA2I3"
      },
      "source": [
        "### Pandas"
      ]
    },
    {
      "cell_type": "code",
      "execution_count": 38,
      "metadata": {
        "colab": {
          "base_uri": "https://localhost:8080/",
          "height": 636
        },
        "id": "6HutBTdLbMeV",
        "outputId": "55776eec-4dd7-4326-94ed-1fc54130293f"
      },
      "outputs": [
        {
          "data": {
            "text/plain": [
              "matplotlib.axes._axes.Axes"
            ]
          },
          "execution_count": 38,
          "metadata": {},
          "output_type": "execute_result"
        },
        {
          "data": {
            "image/png": "[encoded data removed]",
            "text/plain": [
              "<Figure size 640x480 with 1 Axes>"
            ]
          },
          "metadata": {},
          "output_type": "display_data"
        }
      ],
      "source": [
        "# \"под капотом\" для построения графиков\n",
        "# библиотека Pandas использует объекты библиотеки matplotilb\n",
        "# в этом несложно убедиться с помощью функции type()\n",
        "type(tseries.plot())"
      ]
    },
    {
      "cell_type": "markdown",
      "metadata": {
        "id": "sYyK-p-MA5GP"
      },
      "source": [
        "### Seaborn"
      ]
    },
    {
      "cell_type": "code",
      "execution_count": 39,
      "metadata": {
        "id": "n0qryFz2A7n1"
      },
      "outputs": [],
      "source": [
        "# см. примеры выше"
      ]
    },
    {
      "cell_type": "markdown",
      "metadata": {
        "id": "gl1EdmjAA9kG"
      },
      "source": [
        "### Plotly Express"
      ]
    },
    {
      "cell_type": "code",
      "execution_count": 40,
      "metadata": {
        "colab": {
          "base_uri": "https://localhost:8080/",
          "height": 542
        },
        "id": "b1CW7BSaBAw8",
        "outputId": "30951341-4ec3-4268-ec36-85ee855bd7a8"
      },
      "outputs": [
        {
          "ename": "ValueError",
          "evalue": "Mime type rendering requires nbformat>=4.2.0 but it is not installed",
          "output_type": "error",
          "traceback": [
            "\u001b[1;31m---------------------------------------------------------------------------\u001b[0m",
            "\u001b[1;31mValueError\u001b[0m                                Traceback (most recent call last)",
            "File \u001b[1;32mc:\\Users\\Maryia_Krauchanka\\AppData\\Local\\miniconda3\\envs\\myenv\\lib\\site-packages\\IPython\\core\\formatters.py:984\u001b[0m, in \u001b[0;36mIPythonDisplayFormatter.__call__\u001b[1;34m(self, obj)\u001b[0m\n\u001b[0;32m    982\u001b[0m method \u001b[38;5;241m=\u001b[39m get_real_method(obj, \u001b[38;5;28mself\u001b[39m\u001b[38;5;241m.\u001b[39mprint_method)\n\u001b[0;32m    983\u001b[0m \u001b[38;5;28;01mif\u001b[39;00m method \u001b[38;5;129;01mis\u001b[39;00m \u001b[38;5;129;01mnot\u001b[39;00m \u001b[38;5;28;01mNone\u001b[39;00m:\n\u001b[1;32m--> 984\u001b[0m     \u001b[43mmethod\u001b[49m\u001b[43m(\u001b[49m\u001b[43m)\u001b[49m\n\u001b[0;32m    985\u001b[0m     \u001b[38;5;28;01mreturn\u001b[39;00m \u001b[38;5;28;01mTrue\u001b[39;00m\n",
            "File \u001b[1;32mc:\\Users\\Maryia_Krauchanka\\AppData\\Local\\miniconda3\\envs\\myenv\\lib\\site-packages\\plotly\\basedatatypes.py:833\u001b[0m, in \u001b[0;36mBaseFigure._ipython_display_\u001b[1;34m(self)\u001b[0m\n\u001b[0;32m    830\u001b[0m \u001b[38;5;28;01mimport\u001b[39;00m\u001b[38;5;250m \u001b[39m\u001b[38;5;21;01mplotly\u001b[39;00m\u001b[38;5;21;01m.\u001b[39;00m\u001b[38;5;21;01mio\u001b[39;00m\u001b[38;5;250m \u001b[39m\u001b[38;5;28;01mas\u001b[39;00m\u001b[38;5;250m \u001b[39m\u001b[38;5;21;01mpio\u001b[39;00m\n\u001b[0;32m    832\u001b[0m \u001b[38;5;28;01mif\u001b[39;00m pio\u001b[38;5;241m.\u001b[39mrenderers\u001b[38;5;241m.\u001b[39mrender_on_display \u001b[38;5;129;01mand\u001b[39;00m pio\u001b[38;5;241m.\u001b[39mrenderers\u001b[38;5;241m.\u001b[39mdefault:\n\u001b[1;32m--> 833\u001b[0m     \u001b[43mpio\u001b[49m\u001b[38;5;241;43m.\u001b[39;49m\u001b[43mshow\u001b[49m\u001b[43m(\u001b[49m\u001b[38;5;28;43mself\u001b[39;49m\u001b[43m)\u001b[49m\n\u001b[0;32m    834\u001b[0m \u001b[38;5;28;01melse\u001b[39;00m:\n\u001b[0;32m    835\u001b[0m     \u001b[38;5;28mprint\u001b[39m(\u001b[38;5;28mrepr\u001b[39m(\u001b[38;5;28mself\u001b[39m))\n",
            "File \u001b[1;32mc:\\Users\\Maryia_Krauchanka\\AppData\\Local\\miniconda3\\envs\\myenv\\lib\\site-packages\\plotly\\io\\_renderers.py:425\u001b[0m, in \u001b[0;36mshow\u001b[1;34m(fig, renderer, validate, **kwargs)\u001b[0m\n\u001b[0;32m    420\u001b[0m     \u001b[38;5;28;01mraise\u001b[39;00m \u001b[38;5;167;01mValueError\u001b[39;00m(\n\u001b[0;32m    421\u001b[0m         \u001b[38;5;124m\"\u001b[39m\u001b[38;5;124mMime type rendering requires ipython but it is not installed\u001b[39m\u001b[38;5;124m\"\u001b[39m\n\u001b[0;32m    422\u001b[0m     )\n\u001b[0;32m    424\u001b[0m \u001b[38;5;28;01mif\u001b[39;00m \u001b[38;5;129;01mnot\u001b[39;00m nbformat \u001b[38;5;129;01mor\u001b[39;00m Version(nbformat\u001b[38;5;241m.\u001b[39m__version__) \u001b[38;5;241m<\u001b[39m Version(\u001b[38;5;124m\"\u001b[39m\u001b[38;5;124m4.2.0\u001b[39m\u001b[38;5;124m\"\u001b[39m):\n\u001b[1;32m--> 425\u001b[0m     \u001b[38;5;28;01mraise\u001b[39;00m \u001b[38;5;167;01mValueError\u001b[39;00m(\n\u001b[0;32m    426\u001b[0m         \u001b[38;5;124m\"\u001b[39m\u001b[38;5;124mMime type rendering requires nbformat>=4.2.0 but it is not installed\u001b[39m\u001b[38;5;124m\"\u001b[39m\n\u001b[0;32m    427\u001b[0m     )\n\u001b[0;32m    429\u001b[0m display_jupyter_version_warnings()\n\u001b[0;32m    431\u001b[0m ipython_display\u001b[38;5;241m.\u001b[39mdisplay(bundle, raw\u001b[38;5;241m=\u001b[39m\u001b[38;5;28;01mTrue\u001b[39;00m)\n",
            "\u001b[1;31mValueError\u001b[0m: Mime type rendering requires nbformat>=4.2.0 but it is not installed"
          ]
        },
        {
          "data": {
            "application/vnd.plotly.v1+json": {
              "config": {
                "plotlyServerURL": "https://plot.ly"
              },
              "data": [
                {
                  "alignmentgroup": "True",
                  "hovertemplate": "variable=healthcare<br>countries=%{x}<br>value=%{y}<extra></extra>",
                  "legendgroup": "healthcare",
                  "marker": {
                    "color": "#636efa",
                    "pattern": {
                      "shape": ""
                    }
                  },
                  "name": "healthcare",
                  "offsetgroup": "healthcare",
                  "orientation": "v",
                  "showlegend": true,
                  "textposition": "auto",
                  "type": "bar",
                  "x": [
                    "France",
                    "Belgium",
                    "Spain"
                  ],
                  "xaxis": "x",
                  "y": {
                    "bdata": "jBE0FSAO",
                    "dtype": "i2"
                  },
                  "yaxis": "y"
                },
                {
                  "alignmentgroup": "True",
                  "hovertemplate": "variable=education<br>countries=%{x}<br>value=%{y}<extra></extra>",
                  "legendgroup": "education",
                  "marker": {
                    "color": "#EF553B",
                    "pattern": {
                      "shape": ""
                    }
                  },
                  "name": "education",
                  "offsetgroup": "education",
                  "orientation": "v",
                  "showlegend": true,
                  "textposition": "auto",
                  "type": "bar",
                  "x": [
                    "France",
                    "Belgium",
                    "Spain"
                  ],
                  "xaxis": "x",
                  "y": {
                    "bdata": "+iN1KmIZ",
                    "dtype": "i2"
                  },
                  "yaxis": "y"
                }
              ],
              "layout": {
                "barmode": "group",
                "legend": {
                  "title": {
                    "text": "variable"
                  },
                  "tracegroupgap": 0
                },
                "margin": {
                  "t": 60
                },
                "template": {
                  "data": {
                    "bar": [
                      {
                        "error_x": {
                          "color": "#2a3f5f"
                        },
                        "error_y": {
                          "color": "#2a3f5f"
                        },
                        "marker": {
                          "line": {
                            "color": "#E5ECF6",
                            "width": 0.5
                          },
                          "pattern": {
                            "fillmode": "overlay",
                            "size": 10,
                            "solidity": 0.2
                          }
                        },
                        "type": "bar"
                      }
                    ],
                    "barpolar": [
                      {
                        "marker": {
                          "line": {
                            "color": "#E5ECF6",
                            "width": 0.5
                          },
                          "pattern": {
                            "fillmode": "overlay",
                            "size": 10,
                            "solidity": 0.2
                          }
                        },
                        "type": "barpolar"
                      }
                    ],
                    "carpet": [
                      {
                        "aaxis": {
                          "endlinecolor": "#2a3f5f",
                          "gridcolor": "white",
                          "linecolor": "white",
                          "minorgridcolor": "white",
                          "startlinecolor": "#2a3f5f"
                        },
                        "baxis": {
                          "endlinecolor": "#2a3f5f",
                          "gridcolor": "white",
                          "linecolor": "white",
                          "minorgridcolor": "white",
                          "startlinecolor": "#2a3f5f"
                        },
                        "type": "carpet"
                      }
                    ],
                    "choropleth": [
                      {
                        "colorbar": {
                          "outlinewidth": 0,
                          "ticks": ""
                        },
                        "type": "choropleth"
                      }
                    ],
                    "contour": [
                      {
                        "colorbar": {
                          "outlinewidth": 0,
                          "ticks": ""
                        },
                        "colorscale": [
                          [
                            0,
                            "#0d0887"
                          ],
                          [
                            0.1111111111111111,
                            "#46039f"
                          ],
                          [
                            0.2222222222222222,
                            "#7201a8"
                          ],
                          [
                            0.3333333333333333,
                            "#9c179e"
                          ],
                          [
                            0.4444444444444444,
                            "#bd3786"
                          ],
                          [
                            0.5555555555555556,
                            "#d8576b"
                          ],
                          [
                            0.6666666666666666,
                            "#ed7953"
                          ],
                          [
                            0.7777777777777778,
                            "#fb9f3a"
                          ],
                          [
                            0.8888888888888888,
                            "#fdca26"
                          ],
                          [
                            1,
                            "#f0f921"
                          ]
                        ],
                        "type": "contour"
                      }
                    ],
                    "contourcarpet": [
                      {
                        "colorbar": {
                          "outlinewidth": 0,
                          "ticks": ""
                        },
                        "type": "contourcarpet"
                      }
                    ],
                    "heatmap": [
                      {
                        "colorbar": {
                          "outlinewidth": 0,
                          "ticks": ""
                        },
                        "colorscale": [
                          [
                            0,
                            "#0d0887"
                          ],
                          [
                            0.1111111111111111,
                            "#46039f"
                          ],
                          [
                            0.2222222222222222,
                            "#7201a8"
                          ],
                          [
                            0.3333333333333333,
                            "#9c179e"
                          ],
                          [
                            0.4444444444444444,
                            "#bd3786"
                          ],
                          [
                            0.5555555555555556,
                            "#d8576b"
                          ],
                          [
                            0.6666666666666666,
                            "#ed7953"
                          ],
                          [
                            0.7777777777777778,
                            "#fb9f3a"
                          ],
                          [
                            0.8888888888888888,
                            "#fdca26"
                          ],
                          [
                            1,
                            "#f0f921"
                          ]
                        ],
                        "type": "heatmap"
                      }
                    ],
                    "histogram": [
                      {
                        "marker": {
                          "pattern": {
                            "fillmode": "overlay",
                            "size": 10,
                            "solidity": 0.2
                          }
                        },
                        "type": "histogram"
                      }
                    ],
                    "histogram2d": [
                      {
                        "colorbar": {
                          "outlinewidth": 0,
                          "ticks": ""
                        },
                        "colorscale": [
                          [
                            0,
                            "#0d0887"
                          ],
                          [
                            0.1111111111111111,
                            "#46039f"
                          ],
                          [
                            0.2222222222222222,
                            "#7201a8"
                          ],
                          [
                            0.3333333333333333,
                            "#9c179e"
                          ],
                          [
                            0.4444444444444444,
                            "#bd3786"
                          ],
                          [
                            0.5555555555555556,
                            "#d8576b"
                          ],
                          [
                            0.6666666666666666,
                            "#ed7953"
                          ],
                          [
                            0.7777777777777778,
                            "#fb9f3a"
                          ],
                          [
                            0.8888888888888888,
                            "#fdca26"
                          ],
                          [
                            1,
                            "#f0f921"
                          ]
                        ],
                        "type": "histogram2d"
                      }
                    ],
                    "histogram2dcontour": [
                      {
                        "colorbar": {
                          "outlinewidth": 0,
                          "ticks": ""
                        },
                        "colorscale": [
                          [
                            0,
                            "#0d0887"
                          ],
                          [
                            0.1111111111111111,
                            "#46039f"
                          ],
                          [
                            0.2222222222222222,
                            "#7201a8"
                          ],
                          [
                            0.3333333333333333,
                            "#9c179e"
                          ],
                          [
                            0.4444444444444444,
                            "#bd3786"
                          ],
                          [
                            0.5555555555555556,
                            "#d8576b"
                          ],
                          [
                            0.6666666666666666,
                            "#ed7953"
                          ],
                          [
                            0.7777777777777778,
                            "#fb9f3a"
                          ],
                          [
                            0.8888888888888888,
                            "#fdca26"
                          ],
                          [
                            1,
                            "#f0f921"
                          ]
                        ],
                        "type": "histogram2dcontour"
                      }
                    ],
                    "mesh3d": [
                      {
                        "colorbar": {
                          "outlinewidth": 0,
                          "ticks": ""
                        },
                        "type": "mesh3d"
                      }
                    ],
                    "parcoords": [
                      {
                        "line": {
                          "colorbar": {
                            "outlinewidth": 0,
                            "ticks": ""
                          }
                        },
                        "type": "parcoords"
                      }
                    ],
                    "pie": [
                      {
                        "automargin": true,
                        "type": "pie"
                      }
                    ],
                    "scatter": [
                      {
                        "fillpattern": {
                          "fillmode": "overlay",
                          "size": 10,
                          "solidity": 0.2
                        },
                        "type": "scatter"
                      }
                    ],
                    "scatter3d": [
                      {
                        "line": {
                          "colorbar": {
                            "outlinewidth": 0,
                            "ticks": ""
                          }
                        },
                        "marker": {
                          "colorbar": {
                            "outlinewidth": 0,
                            "ticks": ""
                          }
                        },
                        "type": "scatter3d"
                      }
                    ],
                    "scattercarpet": [
                      {
                        "marker": {
                          "colorbar": {
                            "outlinewidth": 0,
                            "ticks": ""
                          }
                        },
                        "type": "scattercarpet"
                      }
                    ],
                    "scattergeo": [
                      {
                        "marker": {
                          "colorbar": {
                            "outlinewidth": 0,
                            "ticks": ""
                          }
                        },
                        "type": "scattergeo"
                      }
                    ],
                    "scattergl": [
                      {
                        "marker": {
                          "colorbar": {
                            "outlinewidth": 0,
                            "ticks": ""
                          }
                        },
                        "type": "scattergl"
                      }
                    ],
                    "scattermap": [
                      {
                        "marker": {
                          "colorbar": {
                            "outlinewidth": 0,
                            "ticks": ""
                          }
                        },
                        "type": "scattermap"
                      }
                    ],
                    "scattermapbox": [
                      {
                        "marker": {
                          "colorbar": {
                            "outlinewidth": 0,
                            "ticks": ""
                          }
                        },
                        "type": "scattermapbox"
                      }
                    ],
                    "scatterpolar": [
                      {
                        "marker": {
                          "colorbar": {
                            "outlinewidth": 0,
                            "ticks": ""
                          }
                        },
                        "type": "scatterpolar"
                      }
                    ],
                    "scatterpolargl": [
                      {
                        "marker": {
                          "colorbar": {
                            "outlinewidth": 0,
                            "ticks": ""
                          }
                        },
                        "type": "scatterpolargl"
                      }
                    ],
                    "scatterternary": [
                      {
                        "marker": {
                          "colorbar": {
                            "outlinewidth": 0,
                            "ticks": ""
                          }
                        },
                        "type": "scatterternary"
                      }
                    ],
                    "surface": [
                      {
                        "colorbar": {
                          "outlinewidth": 0,
                          "ticks": ""
                        },
                        "colorscale": [
                          [
                            0,
                            "#0d0887"
                          ],
                          [
                            0.1111111111111111,
                            "#46039f"
                          ],
                          [
                            0.2222222222222222,
                            "#7201a8"
                          ],
                          [
                            0.3333333333333333,
                            "#9c179e"
                          ],
                          [
                            0.4444444444444444,
                            "#bd3786"
                          ],
                          [
                            0.5555555555555556,
                            "#d8576b"
                          ],
                          [
                            0.6666666666666666,
                            "#ed7953"
                          ],
                          [
                            0.7777777777777778,
                            "#fb9f3a"
                          ],
                          [
                            0.8888888888888888,
                            "#fdca26"
                          ],
                          [
                            1,
                            "#f0f921"
                          ]
                        ],
                        "type": "surface"
                      }
                    ],
                    "table": [
                      {
                        "cells": {
                          "fill": {
                            "color": "#EBF0F8"
                          },
                          "line": {
                            "color": "white"
                          }
                        },
                        "header": {
                          "fill": {
                            "color": "#C8D4E3"
                          },
                          "line": {
                            "color": "white"
                          }
                        },
                        "type": "table"
                      }
                    ]
                  },
                  "layout": {
                    "annotationdefaults": {
                      "arrowcolor": "#2a3f5f",
                      "arrowhead": 0,
                      "arrowwidth": 1
                    },
                    "autotypenumbers": "strict",
                    "coloraxis": {
                      "colorbar": {
                        "outlinewidth": 0,
                        "ticks": ""
                      }
                    },
                    "colorscale": {
                      "diverging": [
                        [
                          0,
                          "#8e0152"
                        ],
                        [
                          0.1,
                          "#c51b7d"
                        ],
                        [
                          0.2,
                          "#de77ae"
                        ],
                        [
                          0.3,
                          "#f1b6da"
                        ],
                        [
                          0.4,
                          "#fde0ef"
                        ],
                        [
                          0.5,
                          "#f7f7f7"
                        ],
                        [
                          0.6,
                          "#e6f5d0"
                        ],
                        [
                          0.7,
                          "#b8e186"
                        ],
                        [
                          0.8,
                          "#7fbc41"
                        ],
                        [
                          0.9,
                          "#4d9221"
                        ],
                        [
                          1,
                          "#276419"
                        ]
                      ],
                      "sequential": [
                        [
                          0,
                          "#0d0887"
                        ],
                        [
                          0.1111111111111111,
                          "#46039f"
                        ],
                        [
                          0.2222222222222222,
                          "#7201a8"
                        ],
                        [
                          0.3333333333333333,
                          "#9c179e"
                        ],
                        [
                          0.4444444444444444,
                          "#bd3786"
                        ],
                        [
                          0.5555555555555556,
                          "#d8576b"
                        ],
                        [
                          0.6666666666666666,
                          "#ed7953"
                        ],
                        [
                          0.7777777777777778,
                          "#fb9f3a"
                        ],
                        [
                          0.8888888888888888,
                          "#fdca26"
                        ],
                        [
                          1,
                          "#f0f921"
                        ]
                      ],
                      "sequentialminus": [
                        [
                          0,
                          "#0d0887"
                        ],
                        [
                          0.1111111111111111,
                          "#46039f"
                        ],
                        [
                          0.2222222222222222,
                          "#7201a8"
                        ],
                        [
                          0.3333333333333333,
                          "#9c179e"
                        ],
                        [
                          0.4444444444444444,
                          "#bd3786"
                        ],
                        [
                          0.5555555555555556,
                          "#d8576b"
                        ],
                        [
                          0.6666666666666666,
                          "#ed7953"
                        ],
                        [
                          0.7777777777777778,
                          "#fb9f3a"
                        ],
                        [
                          0.8888888888888888,
                          "#fdca26"
                        ],
                        [
                          1,
                          "#f0f921"
                        ]
                      ]
                    },
                    "colorway": [
                      "#636efa",
                      "#EF553B",
                      "#00cc96",
                      "#ab63fa",
                      "#FFA15A",
                      "#19d3f3",
                      "#FF6692",
                      "#B6E880",
                      "#FF97FF",
                      "#FECB52"
                    ],
                    "font": {
                      "color": "#2a3f5f"
                    },
                    "geo": {
                      "bgcolor": "white",
                      "lakecolor": "white",
                      "landcolor": "#E5ECF6",
                      "showlakes": true,
                      "showland": true,
                      "subunitcolor": "white"
                    },
                    "hoverlabel": {
                      "align": "left"
                    },
                    "hovermode": "closest",
                    "mapbox": {
                      "style": "light"
                    },
                    "paper_bgcolor": "white",
                    "plot_bgcolor": "#E5ECF6",
                    "polar": {
                      "angularaxis": {
                        "gridcolor": "white",
                        "linecolor": "white",
                        "ticks": ""
                      },
                      "bgcolor": "#E5ECF6",
                      "radialaxis": {
                        "gridcolor": "white",
                        "linecolor": "white",
                        "ticks": ""
                      }
                    },
                    "scene": {
                      "xaxis": {
                        "backgroundcolor": "#E5ECF6",
                        "gridcolor": "white",
                        "gridwidth": 2,
                        "linecolor": "white",
                        "showbackground": true,
                        "ticks": "",
                        "zerolinecolor": "white"
                      },
                      "yaxis": {
                        "backgroundcolor": "#E5ECF6",
                        "gridcolor": "white",
                        "gridwidth": 2,
                        "linecolor": "white",
                        "showbackground": true,
                        "ticks": "",
                        "zerolinecolor": "white"
                      },
                      "zaxis": {
                        "backgroundcolor": "#E5ECF6",
                        "gridcolor": "white",
                        "gridwidth": 2,
                        "linecolor": "white",
                        "showbackground": true,
                        "ticks": "",
                        "zerolinecolor": "white"
                      }
                    },
                    "shapedefaults": {
                      "line": {
                        "color": "#2a3f5f"
                      }
                    },
                    "ternary": {
                      "aaxis": {
                        "gridcolor": "white",
                        "linecolor": "white",
                        "ticks": ""
                      },
                      "baxis": {
                        "gridcolor": "white",
                        "linecolor": "white",
                        "ticks": ""
                      },
                      "bgcolor": "#E5ECF6",
                      "caxis": {
                        "gridcolor": "white",
                        "linecolor": "white",
                        "ticks": ""
                      }
                    },
                    "title": {
                      "x": 0.05
                    },
                    "xaxis": {
                      "automargin": true,
                      "gridcolor": "white",
                      "linecolor": "white",
                      "ticks": "",
                      "title": {
                        "standoff": 15
                      },
                      "zerolinecolor": "white",
                      "zerolinewidth": 2
                    },
                    "yaxis": {
                      "automargin": true,
                      "gridcolor": "white",
                      "linecolor": "white",
                      "ticks": "",
                      "title": {
                        "standoff": 15
                      },
                      "zerolinecolor": "white",
                      "zerolinewidth": 2
                    }
                  }
                },
                "xaxis": {
                  "anchor": "y",
                  "domain": [
                    0,
                    1
                  ],
                  "title": {
                    "text": "countries"
                  }
                },
                "yaxis": {
                  "anchor": "x",
                  "domain": [
                    0,
                    1
                  ],
                  "title": {
                    "text": "value"
                  }
                }
              }
            },
            "text/html": [
              "<div>                        <script type=\"text/javascript\">window.PlotlyConfig = {MathJaxConfig: 'local'};</script>\n",
              "        <script charset=\"utf-8\" src=\"https://cdn.plot.ly/plotly-3.0.1.min.js\"></script>                <div id=\"9b3fadd6-583a-48ba-b7bb-caa04998a578\" class=\"plotly-graph-div\" style=\"height:100%; width:100%;\"></div>            <script type=\"text/javascript\">                window.PLOTLYENV=window.PLOTLYENV || {};                                if (document.getElementById(\"9b3fadd6-583a-48ba-b7bb-caa04998a578\")) {                    Plotly.newPlot(                        \"9b3fadd6-583a-48ba-b7bb-caa04998a578\",                        [{\"alignmentgroup\":\"True\",\"hovertemplate\":\"variable=healthcare\\u003cbr\\u003ecountries=%{x}\\u003cbr\\u003evalue=%{y}\\u003cextra\\u003e\\u003c\\u002fextra\\u003e\",\"legendgroup\":\"healthcare\",\"marker\":{\"color\":\"#636efa\",\"pattern\":{\"shape\":\"\"}},\"name\":\"healthcare\",\"offsetgroup\":\"healthcare\",\"orientation\":\"v\",\"showlegend\":true,\"textposition\":\"auto\",\"x\":[\"France\",\"Belgium\",\"Spain\"],\"xaxis\":\"x\",\"y\":{\"dtype\":\"i2\",\"bdata\":\"jBE0FSAO\"},\"yaxis\":\"y\",\"type\":\"bar\"},{\"alignmentgroup\":\"True\",\"hovertemplate\":\"variable=education\\u003cbr\\u003ecountries=%{x}\\u003cbr\\u003evalue=%{y}\\u003cextra\\u003e\\u003c\\u002fextra\\u003e\",\"legendgroup\":\"education\",\"marker\":{\"color\":\"#EF553B\",\"pattern\":{\"shape\":\"\"}},\"name\":\"education\",\"offsetgroup\":\"education\",\"orientation\":\"v\",\"showlegend\":true,\"textposition\":\"auto\",\"x\":[\"France\",\"Belgium\",\"Spain\"],\"xaxis\":\"x\",\"y\":{\"dtype\":\"i2\",\"bdata\":\"+iN1KmIZ\"},\"yaxis\":\"y\",\"type\":\"bar\"}],                        {\"template\":{\"data\":{\"histogram2dcontour\":[{\"type\":\"histogram2dcontour\",\"colorbar\":{\"outlinewidth\":0,\"ticks\":\"\"},\"colorscale\":[[0.0,\"#0d0887\"],[0.1111111111111111,\"#46039f\"],[0.2222222222222222,\"#7201a8\"],[0.3333333333333333,\"#9c179e\"],[0.4444444444444444,\"#bd3786\"],[0.5555555555555556,\"#d8576b\"],[0.6666666666666666,\"#ed7953\"],[0.7777777777777778,\"#fb9f3a\"],[0.8888888888888888,\"#fdca26\"],[1.0,\"#f0f921\"]]}],\"choropleth\":[{\"type\":\"choropleth\",\"colorbar\":{\"outlinewidth\":0,\"ticks\":\"\"}}],\"histogram2d\":[{\"type\":\"histogram2d\",\"colorbar\":{\"outlinewidth\":0,\"ticks\":\"\"},\"colorscale\":[[0.0,\"#0d0887\"],[0.1111111111111111,\"#46039f\"],[0.2222222222222222,\"#7201a8\"],[0.3333333333333333,\"#9c179e\"],[0.4444444444444444,\"#bd3786\"],[0.5555555555555556,\"#d8576b\"],[0.6666666666666666,\"#ed7953\"],[0.7777777777777778,\"#fb9f3a\"],[0.8888888888888888,\"#fdca26\"],[1.0,\"#f0f921\"]]}],\"heatmap\":[{\"type\":\"heatmap\",\"colorbar\":{\"outlinewidth\":0,\"ticks\":\"\"},\"colorscale\":[[0.0,\"#0d0887\"],[0.1111111111111111,\"#46039f\"],[0.2222222222222222,\"#7201a8\"],[0.3333333333333333,\"#9c179e\"],[0.4444444444444444,\"#bd3786\"],[0.5555555555555556,\"#d8576b\"],[0.6666666666666666,\"#ed7953\"],[0.7777777777777778,\"#fb9f3a\"],[0.8888888888888888,\"#fdca26\"],[1.0,\"#f0f921\"]]}],\"contourcarpet\":[{\"type\":\"contourcarpet\",\"colorbar\":{\"outlinewidth\":0,\"ticks\":\"\"}}],\"contour\":[{\"type\":\"contour\",\"colorbar\":{\"outlinewidth\":0,\"ticks\":\"\"},\"colorscale\":[[0.0,\"#0d0887\"],[0.1111111111111111,\"#46039f\"],[0.2222222222222222,\"#7201a8\"],[0.3333333333333333,\"#9c179e\"],[0.4444444444444444,\"#bd3786\"],[0.5555555555555556,\"#d8576b\"],[0.6666666666666666,\"#ed7953\"],[0.7777777777777778,\"#fb9f3a\"],[0.8888888888888888,\"#fdca26\"],[1.0,\"#f0f921\"]]}],\"surface\":[{\"type\":\"surface\",\"colorbar\":{\"outlinewidth\":0,\"ticks\":\"\"},\"colorscale\":[[0.0,\"#0d0887\"],[0.1111111111111111,\"#46039f\"],[0.2222222222222222,\"#7201a8\"],[0.3333333333333333,\"#9c179e\"],[0.4444444444444444,\"#bd3786\"],[0.5555555555555556,\"#d8576b\"],[0.6666666666666666,\"#ed7953\"],[0.7777777777777778,\"#fb9f3a\"],[0.8888888888888888,\"#fdca26\"],[1.0,\"#f0f921\"]]}],\"mesh3d\":[{\"type\":\"mesh3d\",\"colorbar\":{\"outlinewidth\":0,\"ticks\":\"\"}}],\"scatter\":[{\"fillpattern\":{\"fillmode\":\"overlay\",\"size\":10,\"solidity\":0.2},\"type\":\"scatter\"}],\"parcoords\":[{\"type\":\"parcoords\",\"line\":{\"colorbar\":{\"outlinewidth\":0,\"ticks\":\"\"}}}],\"scatterpolargl\":[{\"type\":\"scatterpolargl\",\"marker\":{\"colorbar\":{\"outlinewidth\":0,\"ticks\":\"\"}}}],\"bar\":[{\"error_x\":{\"color\":\"#2a3f5f\"},\"error_y\":{\"color\":\"#2a3f5f\"},\"marker\":{\"line\":{\"color\":\"#E5ECF6\",\"width\":0.5},\"pattern\":{\"fillmode\":\"overlay\",\"size\":10,\"solidity\":0.2}},\"type\":\"bar\"}],\"scattergeo\":[{\"type\":\"scattergeo\",\"marker\":{\"colorbar\":{\"outlinewidth\":0,\"ticks\":\"\"}}}],\"scatterpolar\":[{\"type\":\"scatterpolar\",\"marker\":{\"colorbar\":{\"outlinewidth\":0,\"ticks\":\"\"}}}],\"histogram\":[{\"marker\":{\"pattern\":{\"fillmode\":\"overlay\",\"size\":10,\"solidity\":0.2}},\"type\":\"histogram\"}],\"scattergl\":[{\"type\":\"scattergl\",\"marker\":{\"colorbar\":{\"outlinewidth\":0,\"ticks\":\"\"}}}],\"scatter3d\":[{\"type\":\"scatter3d\",\"line\":{\"colorbar\":{\"outlinewidth\":0,\"ticks\":\"\"}},\"marker\":{\"colorbar\":{\"outlinewidth\":0,\"ticks\":\"\"}}}],\"scattermap\":[{\"type\":\"scattermap\",\"marker\":{\"colorbar\":{\"outlinewidth\":0,\"ticks\":\"\"}}}],\"scattermapbox\":[{\"type\":\"scattermapbox\",\"marker\":{\"colorbar\":{\"outlinewidth\":0,\"ticks\":\"\"}}}],\"scatterternary\":[{\"type\":\"scatterternary\",\"marker\":{\"colorbar\":{\"outlinewidth\":0,\"ticks\":\"\"}}}],\"scattercarpet\":[{\"type\":\"scattercarpet\",\"marker\":{\"colorbar\":{\"outlinewidth\":0,\"ticks\":\"\"}}}],\"carpet\":[{\"aaxis\":{\"endlinecolor\":\"#2a3f5f\",\"gridcolor\":\"white\",\"linecolor\":\"white\",\"minorgridcolor\":\"white\",\"startlinecolor\":\"#2a3f5f\"},\"baxis\":{\"endlinecolor\":\"#2a3f5f\",\"gridcolor\":\"white\",\"linecolor\":\"white\",\"minorgridcolor\":\"white\",\"startlinecolor\":\"#2a3f5f\"},\"type\":\"carpet\"}],\"table\":[{\"cells\":{\"fill\":{\"color\":\"#EBF0F8\"},\"line\":{\"color\":\"white\"}},\"header\":{\"fill\":{\"color\":\"#C8D4E3\"},\"line\":{\"color\":\"white\"}},\"type\":\"table\"}],\"barpolar\":[{\"marker\":{\"line\":{\"color\":\"#E5ECF6\",\"width\":0.5},\"pattern\":{\"fillmode\":\"overlay\",\"size\":10,\"solidity\":0.2}},\"type\":\"barpolar\"}],\"pie\":[{\"automargin\":true,\"type\":\"pie\"}]},\"layout\":{\"autotypenumbers\":\"strict\",\"colorway\":[\"#636efa\",\"#EF553B\",\"#00cc96\",\"#ab63fa\",\"#FFA15A\",\"#19d3f3\",\"#FF6692\",\"#B6E880\",\"#FF97FF\",\"#FECB52\"],\"font\":{\"color\":\"#2a3f5f\"},\"hovermode\":\"closest\",\"hoverlabel\":{\"align\":\"left\"},\"paper_bgcolor\":\"white\",\"plot_bgcolor\":\"#E5ECF6\",\"polar\":{\"bgcolor\":\"#E5ECF6\",\"angularaxis\":{\"gridcolor\":\"white\",\"linecolor\":\"white\",\"ticks\":\"\"},\"radialaxis\":{\"gridcolor\":\"white\",\"linecolor\":\"white\",\"ticks\":\"\"}},\"ternary\":{\"bgcolor\":\"#E5ECF6\",\"aaxis\":{\"gridcolor\":\"white\",\"linecolor\":\"white\",\"ticks\":\"\"},\"baxis\":{\"gridcolor\":\"white\",\"linecolor\":\"white\",\"ticks\":\"\"},\"caxis\":{\"gridcolor\":\"white\",\"linecolor\":\"white\",\"ticks\":\"\"}},\"coloraxis\":{\"colorbar\":{\"outlinewidth\":0,\"ticks\":\"\"}},\"colorscale\":{\"sequential\":[[0.0,\"#0d0887\"],[0.1111111111111111,\"#46039f\"],[0.2222222222222222,\"#7201a8\"],[0.3333333333333333,\"#9c179e\"],[0.4444444444444444,\"#bd3786\"],[0.5555555555555556,\"#d8576b\"],[0.6666666666666666,\"#ed7953\"],[0.7777777777777778,\"#fb9f3a\"],[0.8888888888888888,\"#fdca26\"],[1.0,\"#f0f921\"]],\"sequentialminus\":[[0.0,\"#0d0887\"],[0.1111111111111111,\"#46039f\"],[0.2222222222222222,\"#7201a8\"],[0.3333333333333333,\"#9c179e\"],[0.4444444444444444,\"#bd3786\"],[0.5555555555555556,\"#d8576b\"],[0.6666666666666666,\"#ed7953\"],[0.7777777777777778,\"#fb9f3a\"],[0.8888888888888888,\"#fdca26\"],[1.0,\"#f0f921\"]],\"diverging\":[[0,\"#8e0152\"],[0.1,\"#c51b7d\"],[0.2,\"#de77ae\"],[0.3,\"#f1b6da\"],[0.4,\"#fde0ef\"],[0.5,\"#f7f7f7\"],[0.6,\"#e6f5d0\"],[0.7,\"#b8e186\"],[0.8,\"#7fbc41\"],[0.9,\"#4d9221\"],[1,\"#276419\"]]},\"xaxis\":{\"gridcolor\":\"white\",\"linecolor\":\"white\",\"ticks\":\"\",\"title\":{\"standoff\":15},\"zerolinecolor\":\"white\",\"automargin\":true,\"zerolinewidth\":2},\"yaxis\":{\"gridcolor\":\"white\",\"linecolor\":\"white\",\"ticks\":\"\",\"title\":{\"standoff\":15},\"zerolinecolor\":\"white\",\"automargin\":true,\"zerolinewidth\":2},\"scene\":{\"xaxis\":{\"backgroundcolor\":\"#E5ECF6\",\"gridcolor\":\"white\",\"linecolor\":\"white\",\"showbackground\":true,\"ticks\":\"\",\"zerolinecolor\":\"white\",\"gridwidth\":2},\"yaxis\":{\"backgroundcolor\":\"#E5ECF6\",\"gridcolor\":\"white\",\"linecolor\":\"white\",\"showbackground\":true,\"ticks\":\"\",\"zerolinecolor\":\"white\",\"gridwidth\":2},\"zaxis\":{\"backgroundcolor\":\"#E5ECF6\",\"gridcolor\":\"white\",\"linecolor\":\"white\",\"showbackground\":true,\"ticks\":\"\",\"zerolinecolor\":\"white\",\"gridwidth\":2}},\"shapedefaults\":{\"line\":{\"color\":\"#2a3f5f\"}},\"annotationdefaults\":{\"arrowcolor\":\"#2a3f5f\",\"arrowhead\":0,\"arrowwidth\":1},\"geo\":{\"bgcolor\":\"white\",\"landcolor\":\"#E5ECF6\",\"subunitcolor\":\"white\",\"showland\":true,\"showlakes\":true,\"lakecolor\":\"white\"},\"title\":{\"x\":0.05},\"mapbox\":{\"style\":\"light\"}}},\"xaxis\":{\"anchor\":\"y\",\"domain\":[0.0,1.0],\"title\":{\"text\":\"countries\"}},\"yaxis\":{\"anchor\":\"x\",\"domain\":[0.0,1.0],\"title\":{\"text\":\"value\"}},\"legend\":{\"title\":{\"text\":\"variable\"},\"tracegroupgap\":0},\"margin\":{\"t\":60},\"barmode\":\"group\"},                        {\"responsive\": true}                    )                };            </script>        </div>"
            ],
            "text/plain": [
              "Figure({\n",
              "    'data': [{'alignmentgroup': 'True',\n",
              "              'hovertemplate': 'variable=healthcare<br>countries=%{x}<br>value=%{y}<extra></extra>',\n",
              "              'legendgroup': 'healthcare',\n",
              "              'marker': {'color': '#636efa', 'pattern': {'shape': ''}},\n",
              "              'name': 'healthcare',\n",
              "              'offsetgroup': 'healthcare',\n",
              "              'orientation': 'v',\n",
              "              'showlegend': True,\n",
              "              'textposition': 'auto',\n",
              "              'type': 'bar',\n",
              "              'x': array(['France', 'Belgium', 'Spain'], dtype=object),\n",
              "              'xaxis': 'x',\n",
              "              'y': {'bdata': 'jBE0FSAO', 'dtype': 'i2'},\n",
              "              'yaxis': 'y'},\n",
              "             {'alignmentgroup': 'True',\n",
              "              'hovertemplate': 'variable=education<br>countries=%{x}<br>value=%{y}<extra></extra>',\n",
              "              'legendgroup': 'education',\n",
              "              'marker': {'color': '#EF553B', 'pattern': {'shape': ''}},\n",
              "              'name': 'education',\n",
              "              'offsetgroup': 'education',\n",
              "              'orientation': 'v',\n",
              "              'showlegend': True,\n",
              "              'textposition': 'auto',\n",
              "              'type': 'bar',\n",
              "              'x': array(['France', 'Belgium', 'Spain'], dtype=object),\n",
              "              'xaxis': 'x',\n",
              "              'y': {'bdata': '+iN1KmIZ', 'dtype': 'i2'},\n",
              "              'yaxis': 'y'}],\n",
              "    'layout': {'barmode': 'group',\n",
              "               'legend': {'title': {'text': 'variable'}, 'tracegroupgap': 0},\n",
              "               'margin': {'t': 60},\n",
              "               'template': '...',\n",
              "               'xaxis': {'anchor': 'y', 'domain': [0.0, 1.0], 'title': {'text': 'countries'}},\n",
              "               'yaxis': {'anchor': 'x', 'domain': [0.0, 1.0], 'title': {'text': 'value'}}}\n",
              "})"
            ]
          },
          "execution_count": 40,
          "metadata": {},
          "output_type": "execute_result"
        }
      ],
      "source": [
        "# по оси x разместим страны, по оси y - признаки\n",
        "# параметр barmode = 'group' указывает,\n",
        "# что столбцы образования и здравоохранения нужно разместить рядом,\n",
        "# а не внутри одного столбца (stacked)\n",
        "px.bar(csect,\n",
        "       x = 'countries',\n",
        "       y = ['healthcare', 'education'],\n",
        "       barmode = 'group')"
      ]
    },
    {
      "cell_type": "code",
      "execution_count": null,
      "metadata": {
        "id": "MFWLSIH74WvV"
      },
      "outputs": [],
      "source": []
    }
  ],
  "metadata": {
    "colab": {
      "provenance": [],
      "toc_visible": true
    },
    "kernelspec": {
      "display_name": "Python 3",
      "language": "python",
      "name": "python3"
    },
    "language_info": {
      "codemirror_mode": {
        "name": "ipython",
        "version": 3
      },
      "file_extension": ".py",
      "mimetype": "text/x-python",
      "name": "python",
      "nbconvert_exporter": "python",
      "pygments_lexer": "ipython3",
      "version": "3.10.11"
    }
  },
  "nbformat": 4,
  "nbformat_minor": 0
}
